{
 "metadata": {
  "language_info": {
   "codemirror_mode": {
    "name": "ipython",
    "version": 3
   },
   "file_extension": ".py",
   "mimetype": "text/x-python",
   "name": "python",
   "nbconvert_exporter": "python",
   "pygments_lexer": "ipython3",
   "version": "3.6.10-final"
  },
  "orig_nbformat": 2,
  "kernelspec": {
   "name": "Python 3.6.10 64-bit ('Python36': conda)",
   "display_name": "Python 3.6.10 64-bit ('Python36': conda)",
   "metadata": {
    "interpreter": {
     "hash": "23508edb48211c585617c619e9f1b5e8d4b0a27eebe8bdb1b05c1cca5979f0c4"
    }
   }
  }
 },
 "nbformat": 4,
 "nbformat_minor": 2,
 "cells": [
  {
   "cell_type": "code",
   "execution_count": 1,
   "metadata": {},
   "outputs": [],
   "source": [
    "import pandas as pd"
   ]
  },
  {
   "cell_type": "code",
   "execution_count": 2,
   "metadata": {},
   "outputs": [],
   "source": [
    "import json\n",
    "filePath = r\"C:\\\\Users\\\\Pat\\\\Desktop\\\\Projects\\\\LoLAramPredictor\\\\Game Info\\\\\""
   ]
  },
  {
   "cell_type": "code",
   "execution_count": 3,
   "metadata": {
    "tags": []
   },
   "outputs": [
    {
     "output_type": "execute_result",
     "data": {
      "text/plain": [
       "               name attack defense magic difficulty primaryClass  \\\n",
       "championId                                                         \n",
       "266          Aatrox      8       4     3          4      Fighter   \n",
       "103            Ahri      3       4     8          5         Mage   \n",
       "84            Akali      5       3     8          7     Assassin   \n",
       "12          Alistar      6       9     5          7         Tank   \n",
       "32            Amumu      2       6     8          3         Tank   \n",
       "...             ...    ...     ...   ...        ...          ...   \n",
       "238             Zed      9       2     1          7     Assassin   \n",
       "115           Ziggs      2       4     9          4         Mage   \n",
       "26           Zilean      2       5     8          6      Support   \n",
       "142             Zoe      1       7     8          5         Mage   \n",
       "143            Zyra      4       3     8          7         Mage   \n",
       "\n",
       "           secondaryClass     partype      hp hpperlevel  ... hpregen  \\\n",
       "championId                                                ...           \n",
       "266                  Tank  Blood Well     580         90  ...       3   \n",
       "103              Assassin        Mana     526         92  ...     5.5   \n",
       "84                   None      Energy     575         95  ...       8   \n",
       "12                Support        Mana     600        106  ...     8.5   \n",
       "32                   Mage        Mana  613.12         84  ...       9   \n",
       "...                   ...         ...     ...        ...  ...     ...   \n",
       "238                  None      Energy     584         85  ...       7   \n",
       "115                  None        Mana     536         92  ...     6.5   \n",
       "26                   Mage        Mana     504         82  ...     5.5   \n",
       "142               Support        Mana     560         92  ...     6.5   \n",
       "143               Support        Mana     504         79  ...     5.5   \n",
       "\n",
       "           hpregenperlevel mpregen mpregenperlevel  crit  critperlevel  \\\n",
       "championId                                                               \n",
       "266                      1       0               0     0             0   \n",
       "103                    0.6       8             0.8     0             0   \n",
       "84                     0.5      50               0     0             0   \n",
       "12                    0.85     8.5             0.8     0             0   \n",
       "32                    0.85   7.382           0.525     0             0   \n",
       "...                    ...     ...             ...   ...           ...   \n",
       "238                   0.65      50               0     0             0   \n",
       "115                    0.6       8             0.8     0             0   \n",
       "26                     0.5  11.335             0.8     0             0   \n",
       "142                    0.6       8            0.65     0             0   \n",
       "143                    0.5      13             0.4     0             0   \n",
       "\n",
       "            attackdamage attackdamageperlevel attackspeedperlevel attackspeed  \n",
       "championId                                                                     \n",
       "266                   60                    5               2.500       0.651  \n",
       "103                53.04                    3               2.000       0.668  \n",
       "84                  62.4                  3.3               3.200       0.625  \n",
       "12                    62                 3.75               2.125       0.625  \n",
       "32                 53.38                  3.8               2.180       0.736  \n",
       "...                  ...                  ...                 ...         ...  \n",
       "238                   63                  3.4               3.300       0.651  \n",
       "115               54.208                  3.1               2.000       0.656  \n",
       "26                 51.64                    3               2.130       0.625  \n",
       "142                   58                  3.3               2.500       0.625  \n",
       "143               53.376                  3.2               2.110       0.625  \n",
       "\n",
       "[151 rows x 28 columns]"
      ],
      "text/html": "<div>\n<style scoped>\n    .dataframe tbody tr th:only-of-type {\n        vertical-align: middle;\n    }\n\n    .dataframe tbody tr th {\n        vertical-align: top;\n    }\n\n    .dataframe thead th {\n        text-align: right;\n    }\n</style>\n<table border=\"1\" class=\"dataframe\">\n  <thead>\n    <tr style=\"text-align: right;\">\n      <th></th>\n      <th>name</th>\n      <th>attack</th>\n      <th>defense</th>\n      <th>magic</th>\n      <th>difficulty</th>\n      <th>primaryClass</th>\n      <th>secondaryClass</th>\n      <th>partype</th>\n      <th>hp</th>\n      <th>hpperlevel</th>\n      <th>...</th>\n      <th>hpregen</th>\n      <th>hpregenperlevel</th>\n      <th>mpregen</th>\n      <th>mpregenperlevel</th>\n      <th>crit</th>\n      <th>critperlevel</th>\n      <th>attackdamage</th>\n      <th>attackdamageperlevel</th>\n      <th>attackspeedperlevel</th>\n      <th>attackspeed</th>\n    </tr>\n    <tr>\n      <th>championId</th>\n      <th></th>\n      <th></th>\n      <th></th>\n      <th></th>\n      <th></th>\n      <th></th>\n      <th></th>\n      <th></th>\n      <th></th>\n      <th></th>\n      <th></th>\n      <th></th>\n      <th></th>\n      <th></th>\n      <th></th>\n      <th></th>\n      <th></th>\n      <th></th>\n      <th></th>\n      <th></th>\n      <th></th>\n    </tr>\n  </thead>\n  <tbody>\n    <tr>\n      <th>266</th>\n      <td>Aatrox</td>\n      <td>8</td>\n      <td>4</td>\n      <td>3</td>\n      <td>4</td>\n      <td>Fighter</td>\n      <td>Tank</td>\n      <td>Blood Well</td>\n      <td>580</td>\n      <td>90</td>\n      <td>...</td>\n      <td>3</td>\n      <td>1</td>\n      <td>0</td>\n      <td>0</td>\n      <td>0</td>\n      <td>0</td>\n      <td>60</td>\n      <td>5</td>\n      <td>2.500</td>\n      <td>0.651</td>\n    </tr>\n    <tr>\n      <th>103</th>\n      <td>Ahri</td>\n      <td>3</td>\n      <td>4</td>\n      <td>8</td>\n      <td>5</td>\n      <td>Mage</td>\n      <td>Assassin</td>\n      <td>Mana</td>\n      <td>526</td>\n      <td>92</td>\n      <td>...</td>\n      <td>5.5</td>\n      <td>0.6</td>\n      <td>8</td>\n      <td>0.8</td>\n      <td>0</td>\n      <td>0</td>\n      <td>53.04</td>\n      <td>3</td>\n      <td>2.000</td>\n      <td>0.668</td>\n    </tr>\n    <tr>\n      <th>84</th>\n      <td>Akali</td>\n      <td>5</td>\n      <td>3</td>\n      <td>8</td>\n      <td>7</td>\n      <td>Assassin</td>\n      <td>None</td>\n      <td>Energy</td>\n      <td>575</td>\n      <td>95</td>\n      <td>...</td>\n      <td>8</td>\n      <td>0.5</td>\n      <td>50</td>\n      <td>0</td>\n      <td>0</td>\n      <td>0</td>\n      <td>62.4</td>\n      <td>3.3</td>\n      <td>3.200</td>\n      <td>0.625</td>\n    </tr>\n    <tr>\n      <th>12</th>\n      <td>Alistar</td>\n      <td>6</td>\n      <td>9</td>\n      <td>5</td>\n      <td>7</td>\n      <td>Tank</td>\n      <td>Support</td>\n      <td>Mana</td>\n      <td>600</td>\n      <td>106</td>\n      <td>...</td>\n      <td>8.5</td>\n      <td>0.85</td>\n      <td>8.5</td>\n      <td>0.8</td>\n      <td>0</td>\n      <td>0</td>\n      <td>62</td>\n      <td>3.75</td>\n      <td>2.125</td>\n      <td>0.625</td>\n    </tr>\n    <tr>\n      <th>32</th>\n      <td>Amumu</td>\n      <td>2</td>\n      <td>6</td>\n      <td>8</td>\n      <td>3</td>\n      <td>Tank</td>\n      <td>Mage</td>\n      <td>Mana</td>\n      <td>613.12</td>\n      <td>84</td>\n      <td>...</td>\n      <td>9</td>\n      <td>0.85</td>\n      <td>7.382</td>\n      <td>0.525</td>\n      <td>0</td>\n      <td>0</td>\n      <td>53.38</td>\n      <td>3.8</td>\n      <td>2.180</td>\n      <td>0.736</td>\n    </tr>\n    <tr>\n      <th>...</th>\n      <td>...</td>\n      <td>...</td>\n      <td>...</td>\n      <td>...</td>\n      <td>...</td>\n      <td>...</td>\n      <td>...</td>\n      <td>...</td>\n      <td>...</td>\n      <td>...</td>\n      <td>...</td>\n      <td>...</td>\n      <td>...</td>\n      <td>...</td>\n      <td>...</td>\n      <td>...</td>\n      <td>...</td>\n      <td>...</td>\n      <td>...</td>\n      <td>...</td>\n      <td>...</td>\n    </tr>\n    <tr>\n      <th>238</th>\n      <td>Zed</td>\n      <td>9</td>\n      <td>2</td>\n      <td>1</td>\n      <td>7</td>\n      <td>Assassin</td>\n      <td>None</td>\n      <td>Energy</td>\n      <td>584</td>\n      <td>85</td>\n      <td>...</td>\n      <td>7</td>\n      <td>0.65</td>\n      <td>50</td>\n      <td>0</td>\n      <td>0</td>\n      <td>0</td>\n      <td>63</td>\n      <td>3.4</td>\n      <td>3.300</td>\n      <td>0.651</td>\n    </tr>\n    <tr>\n      <th>115</th>\n      <td>Ziggs</td>\n      <td>2</td>\n      <td>4</td>\n      <td>9</td>\n      <td>4</td>\n      <td>Mage</td>\n      <td>None</td>\n      <td>Mana</td>\n      <td>536</td>\n      <td>92</td>\n      <td>...</td>\n      <td>6.5</td>\n      <td>0.6</td>\n      <td>8</td>\n      <td>0.8</td>\n      <td>0</td>\n      <td>0</td>\n      <td>54.208</td>\n      <td>3.1</td>\n      <td>2.000</td>\n      <td>0.656</td>\n    </tr>\n    <tr>\n      <th>26</th>\n      <td>Zilean</td>\n      <td>2</td>\n      <td>5</td>\n      <td>8</td>\n      <td>6</td>\n      <td>Support</td>\n      <td>Mage</td>\n      <td>Mana</td>\n      <td>504</td>\n      <td>82</td>\n      <td>...</td>\n      <td>5.5</td>\n      <td>0.5</td>\n      <td>11.335</td>\n      <td>0.8</td>\n      <td>0</td>\n      <td>0</td>\n      <td>51.64</td>\n      <td>3</td>\n      <td>2.130</td>\n      <td>0.625</td>\n    </tr>\n    <tr>\n      <th>142</th>\n      <td>Zoe</td>\n      <td>1</td>\n      <td>7</td>\n      <td>8</td>\n      <td>5</td>\n      <td>Mage</td>\n      <td>Support</td>\n      <td>Mana</td>\n      <td>560</td>\n      <td>92</td>\n      <td>...</td>\n      <td>6.5</td>\n      <td>0.6</td>\n      <td>8</td>\n      <td>0.65</td>\n      <td>0</td>\n      <td>0</td>\n      <td>58</td>\n      <td>3.3</td>\n      <td>2.500</td>\n      <td>0.625</td>\n    </tr>\n    <tr>\n      <th>143</th>\n      <td>Zyra</td>\n      <td>4</td>\n      <td>3</td>\n      <td>8</td>\n      <td>7</td>\n      <td>Mage</td>\n      <td>Support</td>\n      <td>Mana</td>\n      <td>504</td>\n      <td>79</td>\n      <td>...</td>\n      <td>5.5</td>\n      <td>0.5</td>\n      <td>13</td>\n      <td>0.4</td>\n      <td>0</td>\n      <td>0</td>\n      <td>53.376</td>\n      <td>3.2</td>\n      <td>2.110</td>\n      <td>0.625</td>\n    </tr>\n  </tbody>\n</table>\n<p>151 rows × 28 columns</p>\n</div>"
     },
     "metadata": {},
     "execution_count": 3
    }
   ],
   "source": [
    "with open(filePath+'champion.json', encoding='utf8') as f:\n",
    "    championData = json.load(f)\n",
    "\n",
    "champions = pd.DataFrame(columns = ['championId', 'name', 'attack', 'defense', 'magic', 'difficulty', 'primaryClass', 'secondaryClass', 'partype', 'hp', 'hpperlevel', 'mp', 'mpperlevel', 'movespeed', 'armor', 'armorperlevel', 'spellblock', 'spellblockperlevel', 'attackrange', 'hpregen', 'hpregenperlevel', 'mpregen', 'mpregenperlevel', 'crit', 'critperlevel', 'attackdamage', 'attackdamageperlevel', 'attackspeedperlevel', 'attackspeed'])\n",
    "\n",
    "for k, v in championData['data'].items():\n",
    "    champions = champions.append({'championId': int(v['key']),\n",
    "                        'name': v['name'], \n",
    "                        'attack': v['info']['attack'], \n",
    "                        'defense': v['info']['defense'], \n",
    "                        'magic': v['info']['magic'], \n",
    "                        'difficulty': v['info']['difficulty'], \n",
    "                        'primaryClass': v['tags'][0], \n",
    "                        'secondaryClass': v['tags'][1] if len(v['tags']) > 1 else 'None', \n",
    "                        'partype': v['partype'], \n",
    "                        'hp': v['stats']['hp'], \n",
    "                        'hpperlevel': v['stats']['hpperlevel'], \n",
    "                        'mp': v['stats']['mp'], \n",
    "                        'mpperlevel': v['stats']['mpperlevel'], \n",
    "                        'movespeed': v['stats']['movespeed'], \n",
    "                        'armor': v['stats']['armor'], \n",
    "                        'armorperlevel': v['stats']['armorperlevel'], \n",
    "                        'spellblock': v['stats']['spellblock'], \n",
    "                        'spellblockperlevel': v['stats']['spellblockperlevel'], \n",
    "                        'attackrange': v['stats']['attackrange'], \n",
    "                        'hpregen': v['stats']['hpregen'], \n",
    "                        'hpregenperlevel': v['stats']['hpregenperlevel'], \n",
    "                        'mpregen': v['stats']['mpregen'], \n",
    "                        'mpregenperlevel': v['stats']['mpregenperlevel'], \n",
    "                        'crit': v['stats']['crit'], \n",
    "                        'critperlevel': v['stats']['critperlevel'], \n",
    "                        'attackdamage': v['stats']['attackdamage'], \n",
    "                        'attackdamageperlevel': v['stats']['attackdamageperlevel'], \n",
    "                        'attackspeedperlevel': v['stats']['attackspeedperlevel'], \n",
    "                        'attackspeed': v['stats']['attackspeed']}, ignore_index=True)\n",
    "\n",
    "champions.set_index('championId', inplace=True)\n",
    "champions"
   ]
  },
  {
   "cell_type": "code",
   "execution_count": null,
   "metadata": {
    "tags": []
   },
   "outputs": [],
   "source": [
    "import asyncpg\n",
    "import nest_asyncio\n",
    "import asyncio\n",
    "from config import dbConfig\n",
    "\n",
    "nest_asyncio.apply()\n",
    "loop = asyncio.get_event_loop()"
   ]
  },
  {
   "cell_type": "code",
   "execution_count": null,
   "metadata": {},
   "outputs": [],
   "source": [
    "async def fetch_as_dataframe(con: asyncpg.Connection, query: str, *args):\n",
    "    stmt = await con.prepare(query)\n",
    "    columns = [a.name for a in stmt.get_attributes()]\n",
    "    data = await stmt.fetch()\n",
    "    return pd.DataFrame(data, columns=columns)\n",
    "\n",
    "async def run():\n",
    "    connection = await asyncpg.connect(user=dbConfig['user'],\n",
    "                                password=dbConfig['password'],\n",
    "                                host=dbConfig['host'],\n",
    "                                port=dbConfig['port'],\n",
    "                                database=dbConfig['database'])\n",
    "    async with connection.transaction():\n",
    "        # allGamesQuery = f'SELECT \"gameVersion\", \"gameMode\", COUNT(1) \\\n",
    "        #                 FROM \"Matches\" \\\n",
    "        #                 GROUP BY \"gameVersion\", \"gameMode\"\\\n",
    "        #                 ORDER BY \"gameVersion\" ASC;'\n",
    "        patchCountQuery = f'SELECT (string_to_array(\"gameVersion\", \\'.\\'))[1] || \\'.\\' || (string_to_array(\"gameVersion\", \\'.\\'))[2] AS patch, \"gameMode\" , COUNT(1) \\\n",
    "                        FROM \"Matches\" \\\n",
    "                        GROUP BY patch, \"gameMode\" \\\n",
    "                        ORDER BY \"gameMode\", patch;'\n",
    "        patchCount_df = await fetch_as_dataframe(connection, patchCountQuery)\n",
    "\n",
    "    return patchCount_df\n",
    "\n",
    "patchCount_df = loop.run_until_complete(run())\n",
    "patchCount_df.head(50)"
   ]
  },
  {
   "cell_type": "code",
   "execution_count": null,
   "metadata": {},
   "outputs": [],
   "source": [
    "async def fetch_as_dataframe(con: asyncpg.Connection, query: str, *args):\n",
    "    stmt = await con.prepare(query)\n",
    "    columns = [a.name for a in stmt.get_attributes()]\n",
    "    data = await stmt.fetch()\n",
    "    return pd.DataFrame(data, columns=columns)\n",
    "\n",
    "async def run():\n",
    "    connection = await asyncpg.connect(user=dbConfig['user'],\n",
    "                                password=dbConfig['password'],\n",
    "                                host=dbConfig['host'],\n",
    "                                port=dbConfig['port'],\n",
    "                                database=dbConfig['database'])\n",
    "    async with connection.transaction():\n",
    "        rankQuery = f'SELECT \"highestAchievedSeasonTier\", COUNT(1) \\\n",
    "                        FROM \"Participant_Stats\"\\\n",
    "                        GROUP BY \"highestAchievedSeasonTier\" \\\n",
    "                        ORDER BY \"highestAchievedSeasonTier\" ASC;'\n",
    "        rank_df = await fetch_as_dataframe(connection, rankQuery)\n",
    "\n",
    "    return rank_df\n",
    "\n",
    "rank_df = loop.run_until_complete(run())\n",
    "rank_df.head(10)"
   ]
  },
  {
   "cell_type": "code",
   "execution_count": null,
   "metadata": {},
   "outputs": [],
   "source": [
    "# async def fetch_as_dataframe(con: asyncpg.Connection, query: str, *args):\n",
    "#     stmt = await con.prepare(query)\n",
    "#     columns = [a.name for a in stmt.get_attributes()]\n",
    "#     data = await stmt.fetch()\n",
    "#     return pd.DataFrame(data, columns=columns)\n",
    "\n",
    "# async def run():\n",
    "#     connection = await asyncpg.connect(user=dbConfig['user'],\n",
    "#                                 password=dbConfig['password'],\n",
    "#                                 host=dbConfig['host'],\n",
    "#                                 port=dbConfig['port'],\n",
    "#                                 database=dbConfig['database'])\n",
    "#     async with connection.transaction():\n",
    "#         allGamesQuery = f'SELECT p1.\"gameId\"\\\n",
    "#         , MAX(CASE p2.Ranking WHEN 1 THEN p2.\"championId\" END) AS champ_1 \\\n",
    "#         , MAX(CASE p2.Ranking WHEN 2 THEN p2.\"championId\" END) AS champ_2 \\\n",
    "#         , MAX(CASE p2.Ranking WHEN 3 THEN p2.\"championId\" END) AS champ_3 \\\n",
    "#         , MAX(CASE p2.Ranking WHEN 4 THEN p2.\"championId\" END) AS champ_4 \\\n",
    "#         , MAX(CASE p2.Ranking WHEN 5 THEN p2.\"championId\" END) AS champ_5 \\\n",
    "#         , MAX(CASE p2.Ranking WHEN 6 THEN p2.\"championId\" END) AS champ_6 \\\n",
    "#         , MAX(CASE p2.Ranking WHEN 7 THEN p2.\"championId\" END) AS champ_7 \\\n",
    "#         , MAX(CASE p2.Ranking WHEN 8 THEN p2.\"championId\" END) AS champ_8 \\\n",
    "#         , MAX(CASE p2.Ranking WHEN 9 THEN p2.\"championId\" END) AS champ_9 \\\n",
    "#         , MAX(CASE p2.Ranking WHEN 10 THEN p2.\"championId\" END) AS champ_10 \\\n",
    "#         , MAX(CASE p2.Ranking WHEN 1 THEN p1.\"tier\" END) AS \"tier_1\" \\\n",
    "#         , MAX(CASE p2.Ranking WHEN 2 THEN p1.\"tier\" END) AS \"tier_2\" \\\n",
    "#         , MAX(CASE p2.Ranking WHEN 3 THEN p1.\"tier\" END) AS \"tier_3\" \\\n",
    "#         , MAX(CASE p2.Ranking WHEN 4 THEN p1.\"tier\" END) AS \"tier_4\" \\\n",
    "#         , MAX(CASE p2.Ranking WHEN 5 THEN p1.\"tier\" END) AS \"tier_5\" \\\n",
    "#         , MAX(CASE p2.Ranking WHEN 6 THEN p1.\"tier\" END) AS \"tier_6\" \\\n",
    "#         , MAX(CASE p2.Ranking WHEN 7 THEN p1.\"tier\" END) AS \"tier_7\" \\\n",
    "#         , MAX(CASE p2.Ranking WHEN 8 THEN p1.\"tier\" END) AS \"tier_8\" \\\n",
    "#         , MAX(CASE p2.Ranking WHEN 9 THEN p1.\"tier\" END) AS \"tier_9\" \\\n",
    "#         , MAX(CASE p2.Ranking WHEN 10 THEN p1.\"tier\" END) AS \"tier_10\" \\\n",
    "#         , MAX(CASE p2.Ranking WHEN 1 THEN p1.\"rank\" END) AS \"rank_1\" \\\n",
    "#         , MAX(CASE p2.Ranking WHEN 2 THEN p1.\"rank\" END) AS \"rank_2\" \\\n",
    "#         , MAX(CASE p2.Ranking WHEN 3 THEN p1.\"rank\" END) AS \"rank_3\" \\\n",
    "#         , MAX(CASE p2.Ranking WHEN 4 THEN p1.\"rank\" END) AS \"rank_4\" \\\n",
    "#         , MAX(CASE p2.Ranking WHEN 5 THEN p1.\"rank\" END) AS \"rank_5\" \\\n",
    "#         , MAX(CASE p2.Ranking WHEN 6 THEN p1.\"rank\" END) AS \"rank_6\" \\\n",
    "#         , MAX(CASE p2.Ranking WHEN 7 THEN p1.\"rank\" END) AS \"rank_7\" \\\n",
    "#         , MAX(CASE p2.Ranking WHEN 8 THEN p1.\"rank\" END) AS \"rank_8\" \\\n",
    "#         , MAX(CASE p2.Ranking WHEN 9 THEN p1.\"rank\" END) AS \"rank_9\" \\\n",
    "#         , MAX(CASE p2.Ranking WHEN 10 THEN p1.\"rank\" END) AS \"rank_10\" \\\n",
    "#         , MAX(CASE p2.Ranking WHEN 1 THEN p1.\"rankWins\" END) AS \"rankWins_1\" \\\n",
    "#         , MAX(CASE p2.Ranking WHEN 2 THEN p1.\"rankWins\" END) AS \"rankWins_2\" \\\n",
    "#         , MAX(CASE p2.Ranking WHEN 3 THEN p1.\"rankWins\" END) AS \"rankWins_3\" \\\n",
    "#         , MAX(CASE p2.Ranking WHEN 4 THEN p1.\"rankWins\" END) AS \"rankWins_4\" \\\n",
    "#         , MAX(CASE p2.Ranking WHEN 5 THEN p1.\"rankWins\" END) AS \"rankWins_5\" \\\n",
    "#         , MAX(CASE p2.Ranking WHEN 6 THEN p1.\"rankWins\" END) AS \"rankWins_6\" \\\n",
    "#         , MAX(CASE p2.Ranking WHEN 7 THEN p1.\"rankWins\" END) AS \"rankWins_7\" \\\n",
    "#         , MAX(CASE p2.Ranking WHEN 8 THEN p1.\"rankWins\" END) AS \"rankWins_8\" \\\n",
    "#         , MAX(CASE p2.Ranking WHEN 9 THEN p1.\"rankWins\" END) AS \"rankWins_9\" \\\n",
    "#         , MAX(CASE p2.Ranking WHEN 10 THEN p1.\"rankWins\" END) AS \"rankWins_10\" \\\n",
    "#         , MAX(CASE p2.Ranking WHEN 1 THEN p1.\"rankLosses\" END) AS \"rankLosses_1\" \\\n",
    "#         , MAX(CASE p2.Ranking WHEN 2 THEN p1.\"rankLosses\" END) AS \"rankLosses_2\" \\\n",
    "#         , MAX(CASE p2.Ranking WHEN 3 THEN p1.\"rankLosses\" END) AS \"rankLosses_3\" \\\n",
    "#         , MAX(CASE p2.Ranking WHEN 4 THEN p1.\"rankLosses\" END) AS \"rankLosses_4\" \\\n",
    "#         , MAX(CASE p2.Ranking WHEN 5 THEN p1.\"rankLosses\" END) AS \"rankLosses_5\" \\\n",
    "#         , MAX(CASE p2.Ranking WHEN 6 THEN p1.\"rankLosses\" END) AS \"rankLosses_6\" \\\n",
    "#         , MAX(CASE p2.Ranking WHEN 7 THEN p1.\"rankLosses\" END) AS \"rankLosses_7\" \\\n",
    "#         , MAX(CASE p2.Ranking WHEN 8 THEN p1.\"rankLosses\" END) AS \"rankLosses_8\" \\\n",
    "#         , MAX(CASE p2.Ranking WHEN 9 THEN p1.\"rankLosses\" END) AS \"rankLosses_9\" \\\n",
    "#         , MAX(CASE p2.Ranking WHEN 10 THEN p1.\"rankLosses\" END) AS \"rankLosses_10\" \\\n",
    "#         , MAX(CASE p2.Ranking WHEN 1 THEN p1.\"championPoints\" END) AS \"champPts_1\" \\\n",
    "#         , MAX(CASE p2.Ranking WHEN 2 THEN p1.\"championPoints\" END) AS \"champPts_2\" \\\n",
    "#         , MAX(CASE p2.Ranking WHEN 3 THEN p1.\"championPoints\" END) AS \"champPts_3\" \\\n",
    "#         , MAX(CASE p2.Ranking WHEN 4 THEN p1.\"championPoints\" END) AS \"champPts_4\" \\\n",
    "#         , MAX(CASE p2.Ranking WHEN 5 THEN p1.\"championPoints\" END) AS \"champPts_5\" \\\n",
    "#         , MAX(CASE p2.Ranking WHEN 6 THEN p1.\"championPoints\" END) AS \"champPts_6\" \\\n",
    "#         , MAX(CASE p2.Ranking WHEN 7 THEN p1.\"championPoints\" END) AS \"champPts_7\" \\\n",
    "#         , MAX(CASE p2.Ranking WHEN 8 THEN p1.\"championPoints\" END) AS \"champPts_8\" \\\n",
    "#         , MAX(CASE p2.Ranking WHEN 9 THEN p1.\"championPoints\" END) AS \"champPts_9\" \\\n",
    "#         , MAX(CASE p2.Ranking WHEN 10 THEN p1.\"championPoints\" END) AS \"champPts_10\" \\\n",
    "#         , MAX(CASE p2.Ranking WHEN 1 THEN p2.\"spell1Id\" END) AS \"spell1Id_1\" \\\n",
    "#         , MAX(CASE p2.Ranking WHEN 2 THEN p2.\"spell1Id\" END) AS \"spell1Id_2\" \\\n",
    "#         , MAX(CASE p2.Ranking WHEN 3 THEN p2.\"spell1Id\" END) AS \"spell1Id_3\" \\\n",
    "#         , MAX(CASE p2.Ranking WHEN 4 THEN p2.\"spell1Id\" END) AS \"spell1Id_4\" \\\n",
    "#         , MAX(CASE p2.Ranking WHEN 5 THEN p2.\"spell1Id\" END) AS \"spell1Id_5\" \\\n",
    "#         , MAX(CASE p2.Ranking WHEN 6 THEN p2.\"spell1Id\" END) AS \"spell1Id_6\" \\\n",
    "#         , MAX(CASE p2.Ranking WHEN 7 THEN p2.\"spell1Id\" END) AS \"spell1Id_7\" \\\n",
    "#         , MAX(CASE p2.Ranking WHEN 8 THEN p2.\"spell1Id\" END) AS \"spell1Id_8\" \\\n",
    "#         , MAX(CASE p2.Ranking WHEN 9 THEN p2.\"spell1Id\" END) AS \"spell1Id_9\" \\\n",
    "#         , MAX(CASE p2.Ranking WHEN 10 THEN p2.\"spell1Id\" END) AS \"spell1Id_10\" \\\n",
    "#         , MAX(CASE p2.Ranking WHEN 1 THEN p2.\"spell2Id\" END) AS \"spell2Id_1\" \\\n",
    "#         , MAX(CASE p2.Ranking WHEN 2 THEN p2.\"spell2Id\" END) AS \"spell2Id_2\" \\\n",
    "#         , MAX(CASE p2.Ranking WHEN 3 THEN p2.\"spell2Id\" END) AS \"spell2Id_3\" \\\n",
    "#         , MAX(CASE p2.Ranking WHEN 4 THEN p2.\"spell2Id\" END) AS \"spell2Id_4\" \\\n",
    "#         , MAX(CASE p2.Ranking WHEN 5 THEN p2.\"spell2Id\" END) AS \"spell2Id_5\" \\\n",
    "#         , MAX(CASE p2.Ranking WHEN 6 THEN p2.\"spell2Id\" END) AS \"spell2Id_6\" \\\n",
    "#         , MAX(CASE p2.Ranking WHEN 7 THEN p2.\"spell2Id\" END) AS \"spell2Id_7\" \\\n",
    "#         , MAX(CASE p2.Ranking WHEN 8 THEN p2.\"spell2Id\" END) AS \"spell2Id_8\" \\\n",
    "#         , MAX(CASE p2.Ranking WHEN 9 THEN p2.\"spell2Id\" END) AS \"spell2Id_9\" \\\n",
    "#         , MAX(CASE p2.Ranking WHEN 10 THEN p2.\"spell2Id\" END) AS \"spell2Id_10\" \\\n",
    "#         , MAX(CASE p2.Ranking WHEN 1 THEN p2.\"perk0\" END) AS perk0_1 \\\n",
    "#         , MAX(CASE p2.Ranking WHEN 2 THEN p2.\"perk0\" END) AS perk0_2 \\\n",
    "#         , MAX(CASE p2.Ranking WHEN 3 THEN p2.\"perk0\" END) AS perk0_3 \\\n",
    "#         , MAX(CASE p2.Ranking WHEN 4 THEN p2.\"perk0\" END) AS perk0_4 \\\n",
    "#         , MAX(CASE p2.Ranking WHEN 5 THEN p2.\"perk0\" END) AS perk0_5 \\\n",
    "#         , MAX(CASE p2.Ranking WHEN 6 THEN p2.\"perk0\" END) AS perk0_6 \\\n",
    "#         , MAX(CASE p2.Ranking WHEN 7 THEN p2.\"perk0\" END) AS perk0_7 \\\n",
    "#         , MAX(CASE p2.Ranking WHEN 8 THEN p2.\"perk0\" END) AS perk0_8 \\\n",
    "#         , MAX(CASE p2.Ranking WHEN 9 THEN p2.\"perk0\" END) AS perk0_9 \\\n",
    "#         , MAX(CASE p2.Ranking WHEN 10 THEN p2.\"perk0\" END) AS perk0_10 \\\n",
    "#         , MAX(CASE p2.Ranking WHEN 1 THEN p2.\"perk1\" END) AS perk1_1 \\\n",
    "#         , MAX(CASE p2.Ranking WHEN 2 THEN p2.\"perk1\" END) AS perk1_2 \\\n",
    "#         , MAX(CASE p2.Ranking WHEN 3 THEN p2.\"perk1\" END) AS perk1_3 \\\n",
    "#         , MAX(CASE p2.Ranking WHEN 4 THEN p2.\"perk1\" END) AS perk1_4 \\\n",
    "#         , MAX(CASE p2.Ranking WHEN 5 THEN p2.\"perk1\" END) AS perk1_5 \\\n",
    "#         , MAX(CASE p2.Ranking WHEN 6 THEN p2.\"perk1\" END) AS perk1_6 \\\n",
    "#         , MAX(CASE p2.Ranking WHEN 7 THEN p2.\"perk1\" END) AS perk1_7 \\\n",
    "#         , MAX(CASE p2.Ranking WHEN 8 THEN p2.\"perk1\" END) AS perk1_8 \\\n",
    "#         , MAX(CASE p2.Ranking WHEN 9 THEN p2.\"perk1\" END) AS perk1_9 \\\n",
    "#         , MAX(CASE p2.Ranking WHEN 10 THEN p2.\"perk1\" END) AS perk1_10 \\\n",
    "#         , MAX(CASE p2.Ranking WHEN 1 THEN p2.\"perk2\" END) AS perk2_1 \\\n",
    "#         , MAX(CASE p2.Ranking WHEN 2 THEN p2.\"perk2\" END) AS perk2_2 \\\n",
    "#         , MAX(CASE p2.Ranking WHEN 3 THEN p2.\"perk2\" END) AS perk2_3 \\\n",
    "#         , MAX(CASE p2.Ranking WHEN 4 THEN p2.\"perk2\" END) AS perk2_4 \\\n",
    "#         , MAX(CASE p2.Ranking WHEN 5 THEN p2.\"perk2\" END) AS perk2_5 \\\n",
    "#         , MAX(CASE p2.Ranking WHEN 6 THEN p2.\"perk2\" END) AS perk2_6 \\\n",
    "#         , MAX(CASE p2.Ranking WHEN 7 THEN p2.\"perk2\" END) AS perk2_7 \\\n",
    "#         , MAX(CASE p2.Ranking WHEN 8 THEN p2.\"perk2\" END) AS perk2_8 \\\n",
    "#         , MAX(CASE p2.Ranking WHEN 9 THEN p2.\"perk2\" END) AS perk2_9 \\\n",
    "#         , MAX(CASE p2.Ranking WHEN 10 THEN p2.\"perk2\" END) AS perk2_10 \\\n",
    "#         , MAX(CASE p2.Ranking WHEN 1 THEN p2.\"perk3\" END) AS perk3_1 \\\n",
    "#         , MAX(CASE p2.Ranking WHEN 2 THEN p2.\"perk3\" END) AS perk3_2 \\\n",
    "#         , MAX(CASE p2.Ranking WHEN 3 THEN p2.\"perk3\" END) AS perk3_3 \\\n",
    "#         , MAX(CASE p2.Ranking WHEN 4 THEN p2.\"perk3\" END) AS perk3_4 \\\n",
    "#         , MAX(CASE p2.Ranking WHEN 5 THEN p2.\"perk3\" END) AS perk3_5 \\\n",
    "#         , MAX(CASE p2.Ranking WHEN 6 THEN p2.\"perk3\" END) AS perk3_6 \\\n",
    "#         , MAX(CASE p2.Ranking WHEN 7 THEN p2.\"perk3\" END) AS perk3_7 \\\n",
    "#         , MAX(CASE p2.Ranking WHEN 8 THEN p2.\"perk3\" END) AS perk3_8 \\\n",
    "#         , MAX(CASE p2.Ranking WHEN 9 THEN p2.\"perk3\" END) AS perk3_9 \\\n",
    "#         , MAX(CASE p2.Ranking WHEN 10 THEN p2.\"perk3\" END) AS perk3_10 \\\n",
    "#         , MAX(CASE p2.Ranking WHEN 1 THEN p2.\"perk4\" END) AS perk4_1 \\\n",
    "#         , MAX(CASE p2.Ranking WHEN 2 THEN p2.\"perk4\" END) AS perk4_2 \\\n",
    "#         , MAX(CASE p2.Ranking WHEN 3 THEN p2.\"perk4\" END) AS perk4_3 \\\n",
    "#         , MAX(CASE p2.Ranking WHEN 4 THEN p2.\"perk4\" END) AS perk4_4 \\\n",
    "#         , MAX(CASE p2.Ranking WHEN 5 THEN p2.\"perk4\" END) AS perk4_5 \\\n",
    "#         , MAX(CASE p2.Ranking WHEN 6 THEN p2.\"perk4\" END) AS perk4_6 \\\n",
    "#         , MAX(CASE p2.Ranking WHEN 7 THEN p2.\"perk4\" END) AS perk4_7 \\\n",
    "#         , MAX(CASE p2.Ranking WHEN 8 THEN p2.\"perk4\" END) AS perk4_8 \\\n",
    "#         , MAX(CASE p2.Ranking WHEN 9 THEN p2.\"perk4\" END) AS perk4_9 \\\n",
    "#         , MAX(CASE p2.Ranking WHEN 10 THEN p2.\"perk4\" END) AS perk4_10 \\\n",
    "#         , MAX(CASE p2.Ranking WHEN 1 THEN p2.\"perk5\" END) AS perk5_1 \\\n",
    "#         , MAX(CASE p2.Ranking WHEN 2 THEN p2.\"perk5\" END) AS perk5_2 \\\n",
    "#         , MAX(CASE p2.Ranking WHEN 3 THEN p2.\"perk5\" END) AS perk5_3 \\\n",
    "#         , MAX(CASE p2.Ranking WHEN 4 THEN p2.\"perk5\" END) AS perk5_4 \\\n",
    "#         , MAX(CASE p2.Ranking WHEN 5 THEN p2.\"perk5\" END) AS perk5_5 \\\n",
    "#         , MAX(CASE p2.Ranking WHEN 6 THEN p2.\"perk5\" END) AS perk5_6 \\\n",
    "#         , MAX(CASE p2.Ranking WHEN 7 THEN p2.\"perk5\" END) AS perk5_7 \\\n",
    "#         , MAX(CASE p2.Ranking WHEN 8 THEN p2.\"perk5\" END) AS perk5_8 \\\n",
    "#         , MAX(CASE p2.Ranking WHEN 9 THEN p2.\"perk5\" END) AS perk5_9 \\\n",
    "#         , MAX(CASE p2.Ranking WHEN 10 THEN p2.\"perk5\" END) AS perk5_10 \\\n",
    "#         , MAX(p1.\"gameMode\") AS \"gameMode\" \\\n",
    "#         , MAX(p1.\"gameVersion\") AS \"gameVersion\" \\\n",
    "#         , BOOL_OR(CASE p2.Ranking WHEN 1 THEN p2.\"win\" END) AS \"blueTeamWin\" \\\n",
    "#     FROM (SELECT p.\"gameId\", p.\"teamColor\", p.\"championId\", c.\"championPoints\", r.\"tier\", r.\"rank\", r.\"wins\" AS \"rankWins\", r.\"losses\" AS \"rankLosses\", p.\"spell1Id\", p.\"spell2Id\", p.\"perk0\", p.\"perk1\", p.\"perk2\", p.\"perk3\", p.\"perk4\", p.\"perk5\", m.\"gameMode\", m.\"gameVersion\", p.\"win\" \\\n",
    "#                         FROM \"Participant_Stats\" AS p \\\n",
    "#                         LEFT JOIN \"Matches\" AS m \\\n",
    "#                         ON p.\"gameId\" = m.\"gameId\" \\\n",
    "#                         LEFT JOIN \"Champion_Mastery\" AS c \\\n",
    "#                         ON p.\"summonerName\" = c.\"summonerName\" AND p.\"championId\" = c.\"championId\" \\\n",
    "#                         LEFT JOIN (SELECT \"summonerName\", \"queueType\", \"tier\", \"rank\", \"wins\", losses \\\n",
    "#                             FROM \"Rank\" \\\n",
    "#                             WHERE \"queueType\" = \\'RANKED_SOLO_5x5\\') AS r \\\n",
    "#                         ON p.\"summonerName\" = r.\"summonerName\") AS p1 \\\n",
    "#     LEFT JOIN ( \\\n",
    "#         SELECT *, ROW_NUMBER() OVER (PARTITION by \"gameId\" ORDER BY \"teamColor\", \"championId\") AS Ranking \\\n",
    "#         FROM \"Participant_Stats\" \\\n",
    "#     ) AS p2 ON p2.\"gameId\"= p1.\"gameId\" AND p2.\"championId\" = p1.\"championId\"\\\n",
    "#     WHERE \"gameMode\" = \\'ARAM\\' \\\n",
    "#     GROUP BY p1.\"gameId\";'\n",
    "#         groupGames_df = await fetch_as_dataframe(connection, allGamesQuery)\n",
    "\n",
    "#     return groupGames_df\n",
    "\n",
    "# groupGames_df = loop.run_until_complete(run())\n",
    "# groupGames_df.head(10)"
   ]
  },
  {
   "cell_type": "code",
   "execution_count": null,
   "metadata": {
    "tags": []
   },
   "outputs": [],
   "source": [
    "# print(groupGames_df[['gameId', 'champ_1', 'tier_1', 'rank_1', 'rankWins_1', 'rankLosses_1', 'champPts_1', 'spell1Id_1', 'spell2Id_1', 'perk0_1', 'perk1_1', 'perk2_1', 'perk3_1', 'perk4_1', 'perk5_1', 'gameMode', 'gameVersion', 'blueTeamWin']].head(50))"
   ]
  },
  {
   "cell_type": "code",
   "execution_count": null,
   "metadata": {
    "tags": []
   },
   "outputs": [],
   "source": [
    "# print(groupGames_df[['gameId', 'champ_1', 'tier_1', 'rank_1', 'rankWins_1', 'rankLosses_1', 'champPts_1', 'spell1Id_1', 'spell2Id_1', 'perk0_1', 'perk1_1', 'perk2_1', 'perk3_1', 'perk4_1', 'perk5_1', 'gameMode', 'gameVersion', 'blueTeamWin']].tail(50))"
   ]
  },
  {
   "cell_type": "code",
   "execution_count": null,
   "metadata": {},
   "outputs": [],
   "source": [
    "async def run():\n",
    "    connection = await asyncpg.connect(user=dbConfig['user'],\n",
    "                                password=dbConfig['password'],\n",
    "                                host=dbConfig['host'],\n",
    "                                port=dbConfig['port'],\n",
    "                                database=dbConfig['database'])\n",
    "    async with connection.transaction():\n",
    "        refreshQuery = f'REFRESH MATERIALIZED VIEW \"games_mat_view\";'\n",
    "        status = await connection.execute(refreshQuery)\n",
    "    return status\n",
    "\n",
    "status = loop.run_until_complete(run())\n",
    "print(status)"
   ]
  },
  {
   "cell_type": "code",
   "execution_count": null,
   "metadata": {},
   "outputs": [],
   "source": [
    "async def fetch_as_dataframe(con: asyncpg.Connection, query: str, *args):\n",
    "    stmt = await con.prepare(query)\n",
    "    columns = [a.name for a in stmt.get_attributes()]\n",
    "    data = await stmt.fetch()\n",
    "    return pd.DataFrame(data, columns=columns)\n",
    "\n",
    "async def run():\n",
    "    connection = await asyncpg.connect(user=dbConfig['user'],\n",
    "                                password=dbConfig['password'],\n",
    "                                host=dbConfig['host'],\n",
    "                                port=dbConfig['port'],\n",
    "                                database=dbConfig['database'])\n",
    "    async with connection.transaction():\n",
    "        matViewQuery = f'SELECT * FROM \"games_mat_view\" ORDER BY \"gameId\" DESC'\n",
    "        df = await fetch_as_dataframe(connection, matViewQuery)\n",
    "\n",
    "    return df.drop(columns=['gameMode'])\n",
    "\n",
    "df = loop.run_until_complete(run())\n",
    "df.head(10)"
   ]
  },
  {
   "cell_type": "code",
   "execution_count": null,
   "metadata": {},
   "outputs": [],
   "source": [
    "print(df.head(10))\n",
    "print(df.columns.to_list())"
   ]
  },
  {
   "cell_type": "code",
   "execution_count": null,
   "metadata": {},
   "outputs": [],
   "source": [
    "df.info(verbose=True, null_counts=True)"
   ]
  },
  {
   "cell_type": "code",
   "execution_count": null,
   "metadata": {},
   "outputs": [],
   "source": [
    "df1 = df\n",
    "df1 = df1.dropna(axis=0, subset=['gameId', 'champ_1', 'champ_2', 'champ_3', 'champ_4', 'champ_5', 'champ_6', 'champ_7', 'champ_8', 'champ_9', 'champ_10', 'spell1Id_1', 'spell1Id_2', 'spell1Id_3', 'spell1Id_4', 'spell1Id_5', 'spell1Id_6', 'spell1Id_7', 'spell1Id_8', 'spell1Id_9', 'spell1Id_10', 'spell2Id_1', 'spell2Id_2', 'spell2Id_3', 'spell2Id_4', 'spell2Id_5', 'spell2Id_6', 'spell2Id_7', 'spell2Id_8', 'spell2Id_9', 'spell2Id_10', 'perk0_1', 'perk0_2', 'perk0_3', 'perk0_4', 'perk0_5', 'perk0_6', 'perk0_7', 'perk0_8', 'perk0_9', 'perk0_10', 'perk1_1', 'perk1_2', 'perk1_3', 'perk1_4', 'perk1_5', 'perk1_6', 'perk1_7', 'perk1_8', 'perk1_9', 'perk1_10', 'perk2_1', 'perk2_2', 'perk2_3', 'perk2_4', 'perk2_5', 'perk2_6', 'perk2_7', 'perk2_8', 'perk2_9', 'perk2_10', 'perk3_1', 'perk3_2', 'perk3_3', 'perk3_4', 'perk3_5', 'perk3_6', 'perk3_7', 'perk3_8', 'perk3_9', 'perk3_10', 'perk4_1', 'perk4_2', 'perk4_3', 'perk4_4', 'perk4_5', 'perk4_6', 'perk4_7', 'perk4_8', 'perk4_9', 'perk4_10', 'perk5_1', 'perk5_2', 'perk5_3', 'perk5_4', 'perk5_5', 'perk5_6', 'perk5_7', 'perk5_8', 'perk5_9', 'perk5_10', 'gameVersion', 'blueTeamWin'], how='any')"
   ]
  },
  {
   "cell_type": "code",
   "execution_count": null,
   "metadata": {},
   "outputs": [],
   "source": [
    "df1 = df1.astype({'gameId': 'uint64', 'champ_1': 'uint16', 'champ_2': 'uint16', 'champ_3': 'uint16', 'champ_4': 'uint16', 'champ_5': 'uint16', 'champ_6': 'uint16', 'champ_7': 'uint16', 'champ_8': 'uint16', 'champ_9': 'uint16', 'champ_10': 'uint16', 'tier_1': 'str', 'tier_2': 'str', 'tier_3': 'str', 'tier_4': 'str', 'tier_5': 'str', 'tier_6': 'str', 'tier_7': 'str', 'tier_8': 'str', 'tier_9': 'str', 'tier_10': 'str', 'rank_1': 'str', 'rank_2': 'str', 'rank_3': 'str', 'rank_4': 'str', 'rank_5': 'str', 'rank_6': 'str', 'rank_7': 'str', 'rank_8': 'str', 'rank_9': 'str', 'rank_10': 'str', 'rankWins_1': 'uint32', 'rankWins_2': 'uint32', 'rankWins_3': 'uint32', 'rankWins_4': 'uint32', 'rankWins_5': 'uint32', 'rankWins_6': 'uint32', 'rankWins_7': 'uint32', 'rankWins_8': 'uint32', 'rankWins_9': 'uint32', 'rankWins_10': 'uint32', 'rankLosses_1': 'uint32', 'rankLosses_2': 'uint32', 'rankLosses_3': 'uint32', 'rankLosses_4': 'uint32', 'rankLosses_5': 'uint32', 'rankLosses_6': 'uint32', 'rankLosses_7': 'uint32', 'rankLosses_8': 'uint32', 'rankLosses_9': 'uint32', 'rankLosses_10': 'uint32', 'champPts_1': 'uint64', 'champPts_2': 'uint64', 'champPts_3': 'uint64', 'champPts_4': 'uint64', 'champPts_5': 'uint64', 'champPts_6': 'uint64', 'champPts_7': 'uint64', 'champPts_8': 'uint64', 'champPts_9': 'uint64', 'champPts_10': 'uint64', 'spell1Id_1': 'uint8', 'spell1Id_2': 'uint8', 'spell1Id_3': 'uint8', 'spell1Id_4': 'uint8', 'spell1Id_5': 'uint8', 'spell1Id_6': 'uint8', 'spell1Id_7': 'uint8', 'spell1Id_8': 'uint8', 'spell1Id_9': 'uint8', 'spell1Id_10': 'uint8', 'spell2Id_1': 'uint8', 'spell2Id_2': 'uint8', 'spell2Id_3': 'uint8', 'spell2Id_4': 'uint8', 'spell2Id_5': 'uint8', 'spell2Id_6': 'uint8', 'spell2Id_7': 'uint8', 'spell2Id_8': 'uint8', 'spell2Id_9': 'uint8', 'spell2Id_10': 'uint8', 'perk0_1': 'uint16', 'perk0_2': 'uint16', 'perk0_3': 'uint16', 'perk0_4': 'uint16', 'perk0_5': 'uint16', 'perk0_6': 'uint16', 'perk0_7': 'uint16', 'perk0_8': 'uint16', 'perk0_9': 'uint16', 'perk0_10': 'uint16', 'perk1_1': 'uint16', 'perk1_2': 'uint16', 'perk1_3': 'uint16', 'perk1_4': 'uint16', 'perk1_5': 'uint16', 'perk1_6': 'uint16', 'perk1_7': 'uint16', 'perk1_8': 'uint16', 'perk1_9': 'uint16', 'perk1_10': 'uint16', 'perk2_1': 'uint16', 'perk2_2': 'uint16', 'perk2_3': 'uint16', 'perk2_4': 'uint16', 'perk2_5': 'uint16', 'perk2_6': 'uint16', 'perk2_7': 'uint16', 'perk2_8': 'uint16', 'perk2_9': 'uint16', 'perk2_10': 'uint16', 'perk3_1': 'uint16', 'perk3_2': 'uint16', 'perk3_3': 'uint16', 'perk3_4': 'uint16', 'perk3_5': 'uint16', 'perk3_6': 'uint16', 'perk3_7': 'uint16', 'perk3_8': 'uint16', 'perk3_9': 'uint16', 'perk3_10': 'uint16', 'perk4_1': 'uint16', 'perk4_2': 'uint16', 'perk4_3': 'uint16', 'perk4_4': 'uint16', 'perk4_5': 'uint16', 'perk4_6': 'uint16', 'perk4_7': 'uint16', 'perk4_8': 'uint16', 'perk4_9': 'uint16', 'perk4_10': 'uint16', 'perk5_1': 'uint16', 'perk5_2': 'uint16', 'perk5_3': 'uint16', 'perk5_4': 'uint16', 'perk5_5': 'uint16', 'perk5_6': 'uint16', 'perk5_7': 'uint16', 'perk5_8': 'uint16', 'perk5_9': 'uint16', 'perk5_10': 'uint16', 'gameVersion': 'category', 'blueTeamWin': 'bool'})"
   ]
  },
  {
   "cell_type": "code",
   "execution_count": null,
   "metadata": {},
   "outputs": [],
   "source": [
    "df1.info(verbose=True, null_counts=True)"
   ]
  },
  {
   "cell_type": "code",
   "execution_count": null,
   "metadata": {},
   "outputs": [],
   "source": [
    "# df1.to_pickle('game_data_clean.pkl')"
   ]
  },
  {
   "cell_type": "code",
   "execution_count": 4,
   "metadata": {},
   "outputs": [],
   "source": [
    "import pandas as pd\n",
    "# df1 = pd.read_pickle('game_data.pkl')\n",
    "df1 = pd.read_pickle('game_data_clean.pkl')"
   ]
  },
  {
   "cell_type": "code",
   "execution_count": 5,
   "metadata": {},
   "outputs": [],
   "source": [
    "df1.fillna(value={'tier_1': 'UNRANKED', 'tier_2': 'UNRANKED', 'tier_3': 'UNRANKED', 'tier_4': 'UNRANKED', 'tier_5': 'UNRANKED', 'tier_6': 'UNRANKED', 'tier_7': 'UNRANKED', 'tier_8': 'UNRANKED', 'tier_9': 'UNRANKED', 'tier_10': 'UNRANKED', 'rank_1': 'UNRANKED', 'rank_2': 'UNRANKED', 'rank_3': 'UNRANKED', 'rank_4': 'UNRANKED', 'rank_5': 'UNRANKED', 'rank_6': 'UNRANKED', 'rank_7': 'UNRANKED', 'rank_8': 'UNRANKED', 'rank_9': 'UNRANKED', 'rank_10': 'UNRANKED', 'rankWins_1': 0, 'rankWins_2': 0, 'rankWins_3': 0, 'rankWins_4': 0, 'rankWins_5': 0, 'rankWins_6': 0, 'rankWins_7': 0, 'rankWins_8': 0, 'rankWins_9': 0, 'rankWins_10': 0, 'rankLosses_1': 0, 'rankLosses_2': 0, 'rankLosses_3': 0, 'rankLosses_4': 0, 'rankLosses_5': 0, 'rankLosses_6': 0, 'rankLosses_7': 0, 'rankLosses_8': 0, 'rankLosses_9': 0, 'rankLosses_10': 0, 'champPts_1': 0, 'champPts_2': 0, 'champPts_3': 0, 'champPts_4': 0, 'champPts_5': 0, 'champPts_6': 0, 'champPts_7': 0, 'champPts_8': 0, 'champPts_9': 0, 'champPts_10': 0}, inplace=True)"
   ]
  },
  {
   "cell_type": "code",
   "execution_count": 6,
   "metadata": {},
   "outputs": [],
   "source": [
    "for r in ['rank_1', 'rank_2', 'rank_3', 'rank_4', 'rank_5', 'rank_6', 'rank_7', 'rank_8', 'rank_9', 'rank_10']:\n",
    "    if r == 'rank_10':\n",
    "        df1.loc[df1[r] != 'UNRANKED', r] = df1.loc[df1[r] != 'UNRANKED', f'tier_10'].astype(str) + ' ' + df1.loc[df1[r] != 'UNRANKED', r].astype(str)\n",
    "    else:\n",
    "        df1.loc[df1[r] != 'UNRANKED', r] = df1.loc[df1[r] != 'UNRANKED', f'tier_{r[-1]}'].astype(str) + ' ' + df1.loc[df1[r] != 'UNRANKED', r].astype(str)\n",
    "    df1[r] = pd.Categorical(df1[r], ['UNRANKED', 'IRON IV', 'IRON III', 'IRON II', 'IRON I', 'BRONZE IV', 'BRONZE III', 'BRONZE II', 'BRONZE I', 'SILVER IV', 'SILVER III', 'SILVER II', 'SILVER I', 'GOLD IV', 'GOLD III', 'GOLD II', 'GOLD I', 'PLATINUM IV', 'PLATINUM III', 'PLATINUM II', 'PLATINUM I', 'DIAMOND IV', 'DIAMOND III', 'DIAMOND II', 'DIAMOND I', 'MASTER I', 'GRANDMASTER I', 'CHALLENGER I'], ordered=True) "
   ]
  },
  {
   "cell_type": "code",
   "execution_count": 7,
   "metadata": {},
   "outputs": [],
   "source": [
    "for c in ['champ_1', 'champ_2', 'champ_3', 'champ_4', 'champ_5', 'champ_6', 'champ_7', 'champ_8', 'champ_9', 'champ_10']:\n",
    "    if c == 'champ_10':\n",
    "        suffix = f'_10'\n",
    "    else:\n",
    "        suffix = f'_{c[-1]}'\n",
    "    df1 = pd.merge(df1, champions[['primaryClass', 'secondaryClass']].add_suffix(suffix), how='left', left_on=[c], right_on=['championId'], left_index=False, right_index=True)"
   ]
  },
  {
   "cell_type": "code",
   "execution_count": 8,
   "metadata": {},
   "outputs": [],
   "source": [
    "df1 = df1.drop(['tier_1', 'tier_2', 'tier_3', 'tier_4', 'tier_5', 'tier_6', 'tier_7', 'tier_8', 'tier_9', 'tier_10'], axis=1)"
   ]
  },
  {
   "cell_type": "code",
   "execution_count": 9,
   "metadata": {},
   "outputs": [],
   "source": [
    "df1 = df1.astype({'gameId': 'uint64', 'champ_1': 'category', 'champ_2': 'category', 'champ_3': 'category', 'champ_4': 'category', 'champ_5': 'category', 'champ_6': 'category', 'champ_7': 'category', 'champ_8': 'category', 'champ_9': 'category', 'champ_10': 'category', 'rank_1': 'category', 'rank_2': 'category', 'rank_3': 'category', 'rank_4': 'category', 'rank_5': 'category', 'rank_6': 'category', 'rank_7': 'category', 'rank_8': 'category', 'rank_9': 'category', 'rank_10': 'category', 'rankWins_1': 'uint32', 'rankWins_2': 'uint32', 'rankWins_3': 'uint32', 'rankWins_4': 'uint32', 'rankWins_5': 'uint32', 'rankWins_6': 'uint32', 'rankWins_7': 'uint32', 'rankWins_8': 'uint32', 'rankWins_9': 'uint32', 'rankWins_10': 'uint32', 'rankLosses_1': 'uint32', 'rankLosses_2': 'uint32', 'rankLosses_3': 'uint32', 'rankLosses_4': 'uint32', 'rankLosses_5': 'uint32', 'rankLosses_6': 'uint32', 'rankLosses_7': 'uint32', 'rankLosses_8': 'uint32', 'rankLosses_9': 'uint32', 'rankLosses_10': 'uint32', 'champPts_1': 'uint64', 'champPts_2': 'uint64', 'champPts_3': 'uint64', 'champPts_4': 'uint64', 'champPts_5': 'uint64', 'champPts_6': 'uint64', 'champPts_7': 'uint64', 'champPts_8': 'uint64', 'champPts_9': 'uint64', 'champPts_10': 'uint64', 'spell1Id_1': 'category', 'spell1Id_2': 'category', 'spell1Id_3': 'category', 'spell1Id_4': 'category', 'spell1Id_5': 'category', 'spell1Id_6': 'category', 'spell1Id_7': 'category', 'spell1Id_8': 'category', 'spell1Id_9': 'category', 'spell1Id_10': 'category', 'spell2Id_1': 'category', 'spell2Id_2': 'category', 'spell2Id_3': 'category', 'spell2Id_4': 'category', 'spell2Id_5': 'category', 'spell2Id_6': 'category', 'spell2Id_7': 'category', 'spell2Id_8': 'category', 'spell2Id_9': 'category', 'spell2Id_10': 'category', 'perk0_1': 'category', 'perk0_2': 'category', 'perk0_3': 'category', 'perk0_4': 'category', 'perk0_5': 'category', 'perk0_6': 'category', 'perk0_7': 'category', 'perk0_8': 'category', 'perk0_9': 'category', 'perk0_10': 'category', 'perk1_1': 'category', 'perk1_2': 'category', 'perk1_3': 'category', 'perk1_4': 'category', 'perk1_5': 'category', 'perk1_6': 'category', 'perk1_7': 'category', 'perk1_8': 'category', 'perk1_9': 'category', 'perk1_10': 'category', 'perk2_1': 'category', 'perk2_2': 'category', 'perk2_3': 'category', 'perk2_4': 'category', 'perk2_5': 'category', 'perk2_6': 'category', 'perk2_7': 'category', 'perk2_8': 'category', 'perk2_9': 'category', 'perk2_10': 'category', 'perk3_1': 'category', 'perk3_2': 'category', 'perk3_3': 'category', 'perk3_4': 'category', 'perk3_5': 'category', 'perk3_6': 'category', 'perk3_7': 'category', 'perk3_8': 'category', 'perk3_9': 'category', 'perk3_10': 'category', 'perk4_1': 'category', 'perk4_2': 'category', 'perk4_3': 'category', 'perk4_4': 'category', 'perk4_5': 'category', 'perk4_6': 'category', 'perk4_7': 'category', 'perk4_8': 'category', 'perk4_9': 'category', 'perk4_10': 'category', 'perk5_1': 'category', 'perk5_2': 'category', 'perk5_3': 'category', 'perk5_4': 'category', 'perk5_5': 'category', 'perk5_6': 'category', 'perk5_7': 'category', 'perk5_8': 'category', 'perk5_9': 'category', 'perk5_10': 'category', 'gameVersion': 'category', 'blueTeamWin': 'bool', 'primaryClass_1': 'category', 'secondaryClass_1': 'category', 'primaryClass_2': 'category', 'secondaryClass_2': 'category', 'primaryClass_3': 'category', 'secondaryClass_3': 'category',  'primaryClass_4': 'category', 'secondaryClass_4': 'category', 'primaryClass_5': 'category', 'secondaryClass_5': 'category', 'primaryClass_6': 'category', 'secondaryClass_6': 'category', 'primaryClass_7': 'category', 'secondaryClass_7': 'category','primaryClass_8': 'category', 'secondaryClass_8': 'category', 'primaryClass_9': 'category', 'secondaryClass_9': 'category', 'primaryClass_10': 'category', 'secondaryClass_10': 'category'})"
   ]
  },
  {
   "cell_type": "code",
   "execution_count": null,
   "metadata": {},
   "outputs": [],
   "source": [
    "df1.info(verbose=True, null_counts=True)"
   ]
  },
  {
   "cell_type": "code",
   "execution_count": 10,
   "metadata": {},
   "outputs": [],
   "source": [
    "rankMap = dict(enumerate(df1['rank_1'].cat.categories))"
   ]
  },
  {
   "cell_type": "code",
   "execution_count": 11,
   "metadata": {},
   "outputs": [],
   "source": [
    "df1['avgRank1'] = ((df1['rank_1'].cat.codes.astype(int) + df1['rank_2'].cat.codes.astype(int) + df1['rank_3'].cat.codes.astype(int) + df1['rank_4'].cat.codes.astype(int) + df1['rank_5'].cat.codes.astype(int)) // (df1['rank_1'].cat.codes.astype(bool).astype(int) + df1['rank_2'].cat.codes.astype(bool).astype(int) + df1['rank_3'].cat.codes.astype(bool).astype(int) + df1['rank_4'].cat.codes.astype(bool).astype(int) + df1['rank_5'].cat.codes.astype(bool).astype(int))).replace(rankMap)\n",
    "df1['avgRank2'] = ((df1['rank_6'].cat.codes.astype(int) + df1['rank_7'].cat.codes.astype(int) + df1['rank_8'].cat.codes.astype(int) + df1['rank_9'].cat.codes.astype(int) + df1['rank_10'].cat.codes.astype(int)) // (df1['rank_6'].cat.codes.astype(bool).astype(int) + df1['rank_7'].cat.codes.astype(bool).astype(int) + df1['rank_8'].cat.codes.astype(bool).astype(int) + df1['rank_9'].cat.codes.astype(bool).astype(int) + df1['rank_10'].cat.codes.astype(bool).astype(int))).replace(rankMap)"
   ]
  },
  {
   "cell_type": "code",
   "execution_count": 12,
   "metadata": {},
   "outputs": [],
   "source": [
    "df1['avgRank1'] = pd.Categorical(df1['avgRank1'], ['UNRANKED', 'IRON IV', 'IRON III', 'IRON II', 'IRON I', 'BRONZE IV', 'BRONZE III', 'BRONZE II', 'BRONZE I', 'SILVER IV', 'SILVER III', 'SILVER II', 'SILVER I', 'GOLD IV', 'GOLD III', 'GOLD II', 'GOLD I', 'PLATINUM IV', 'PLATINUM III', 'PLATINUM II', 'PLATINUM I', 'DIAMOND IV', 'DIAMOND III', 'DIAMOND II', 'DIAMOND I', 'MASTER I', 'GRANDMASTER I', 'CHALLENGER I'], ordered=True)\n",
    "df1['avgRank2'] = pd.Categorical(df1['avgRank2'], ['UNRANKED', 'IRON IV', 'IRON III', 'IRON II', 'IRON I', 'BRONZE IV', 'BRONZE III', 'BRONZE II', 'BRONZE I', 'SILVER IV', 'SILVER III', 'SILVER II', 'SILVER I', 'GOLD IV', 'GOLD III', 'GOLD II', 'GOLD I', 'PLATINUM IV', 'PLATINUM III', 'PLATINUM II', 'PLATINUM I', 'DIAMOND IV', 'DIAMOND III', 'DIAMOND II', 'DIAMOND I', 'MASTER I', 'GRANDMASTER I', 'CHALLENGER I'], ordered=True)"
   ]
  },
  {
   "cell_type": "code",
   "execution_count": 13,
   "metadata": {},
   "outputs": [],
   "source": [
    "df1.fillna(value={'avgRank1': 'UNRANKED', 'avgRank2': 'UNRANKED'}, inplace=True)"
   ]
  },
  {
   "cell_type": "code",
   "execution_count": 14,
   "metadata": {},
   "outputs": [],
   "source": [
    "for r in ['rank_1', 'rank_2', 'rank_3', 'rank_4', 'rank_5']:\n",
    "    df1.loc[df1[r] == 'UNRANKED', r] = df1.loc[df1[r] == 'UNRANKED', 'avgRank1']\n",
    "for r in ['rank_6', 'rank_7', 'rank_8', 'rank_9', 'rank_10']:\n",
    "    df1.loc[df1[r] == 'UNRANKED', r] = df1.loc[df1[r] == 'UNRANKED', 'avgRank2']"
   ]
  },
  {
   "cell_type": "code",
   "execution_count": null,
   "metadata": {
    "tags": []
   },
   "outputs": [],
   "source": [
    "columns = ['champ_1', 'champ_2', 'champ_3', 'champ_4', 'champ_5', 'champ_6', 'champ_7', 'champ_8', 'champ_9', 'champ_10', 'rank_1', 'rank_2', 'rank_3', 'rank_4', 'rank_5', 'rank_6', 'rank_7', 'rank_8', 'rank_9', 'rank_10', 'rankWins_1', 'rankWins_2', 'rankWins_3', 'rankWins_4', 'rankWins_5', 'rankWins_6', 'rankWins_7', 'rankWins_8', 'rankWins_9', 'rankWins_10', 'rankLosses_1', 'rankLosses_2', 'rankLosses_3', 'rankLosses_4', 'rankLosses_5', 'rankLosses_6', 'rankLosses_7', 'rankLosses_8', 'rankLosses_9', 'rankLosses_10', 'champPts_1', 'champPts_2', 'champPts_3', 'champPts_4', 'champPts_5', 'champPts_6', 'champPts_7', 'champPts_8', 'champPts_9', 'champPts_10', 'spell1Id_1', 'spell1Id_2', 'spell1Id_3', 'spell1Id_4', 'spell1Id_5', 'spell1Id_6', 'spell1Id_7', 'spell1Id_8', 'spell1Id_9', 'spell1Id_10', 'spell2Id_1', 'spell2Id_2', 'spell2Id_3', 'spell2Id_4', 'spell2Id_5', 'spell2Id_6', 'spell2Id_7', 'spell2Id_8', 'spell2Id_9', 'spell2Id_10', 'perk0_1', 'perk0_2', 'perk0_3', 'perk0_4', 'perk0_5', 'perk0_6', 'perk0_7', 'perk0_8', 'perk0_9', 'perk0_10', 'perk1_1', 'perk1_2', 'perk1_3', 'perk1_4', 'perk1_5', 'perk1_6', 'perk1_7', 'perk1_8', 'perk1_9', 'perk1_10', 'perk2_1', 'perk2_2', 'perk2_3', 'perk2_4', 'perk2_5', 'perk2_6', 'perk2_7', 'perk2_8', 'perk2_9', 'perk2_10', 'perk3_1', 'perk3_2', 'perk3_3', 'perk3_4', 'perk3_5', 'perk3_6', 'perk3_7', 'perk3_8', 'perk3_9', 'perk3_10', 'perk4_1', 'perk4_2', 'perk4_3', 'perk4_4', 'perk4_5', 'perk4_6', 'perk4_7', 'perk4_8', 'perk4_9', 'perk4_10', 'perk5_1', 'perk5_2', 'perk5_3', 'perk5_4', 'perk5_5', 'perk5_6', 'perk5_7', 'perk5_8', 'perk5_9', 'perk5_10', 'gameVersion', 'blueTeamWin']\n",
    "for c in columns:\n",
    "    print(f\"---- {c} ---\")\n",
    "    print(df1[c].value_counts())"
   ]
  },
  {
   "cell_type": "code",
   "execution_count": null,
   "metadata": {},
   "outputs": [],
   "source": [
    "# Target/Frequency Encoding\n",
    "# Tree Based: CatBoost, Random Forest\n",
    "# Natural groupings/bins"
   ]
  },
  {
   "cell_type": "code",
   "execution_count": 15,
   "metadata": {},
   "outputs": [],
   "source": [
    "from sklearn.model_selection import train_test_split\n",
    "from sklearn.preprocessing import LabelEncoder\n",
    "# from sklearn.ensemble import RandomForestClassifier\n",
    "from sklearn.metrics import accuracy_score"
   ]
  },
  {
   "cell_type": "code",
   "execution_count": null,
   "metadata": {},
   "outputs": [],
   "source": [
    "# categorical_col = ['gameVersion']\n",
    "categorical_col = ['rank_1', 'rank_2', 'rank_3', 'rank_4', 'rank_5', 'rank_6', 'rank_7', 'rank_8', 'rank_9', 'rank_10', 'spell1Id_1', 'spell1Id_2', 'spell1Id_3', 'spell1Id_4', 'spell1Id_5', 'spell1Id_6', 'spell1Id_7', 'spell1Id_8', 'spell1Id_9', 'spell1Id_10', 'spell2Id_1', 'spell2Id_2', 'spell2Id_3', 'spell2Id_4', 'spell2Id_5', 'spell2Id_6', 'spell2Id_7', 'spell2Id_8', 'spell2Id_9', 'spell2Id_10', 'perk0_1', 'perk0_2', 'perk0_3', 'perk0_4', 'perk0_5', 'perk0_6', 'perk0_7', 'perk0_8', 'perk0_9', 'perk0_10', 'perk1_1', 'perk1_2', 'perk1_3', 'perk1_4', 'perk1_5', 'perk1_6', 'perk1_7', 'perk1_8', 'perk1_9', 'perk1_10', 'perk2_1', 'perk2_2', 'perk2_3', 'perk2_4', 'perk2_5', 'perk2_6', 'perk2_7', 'perk2_8', 'perk2_9', 'perk2_10', 'perk3_1', 'perk3_2', 'perk3_3', 'perk3_4', 'perk3_5', 'perk3_6', 'perk3_7', 'perk3_8', 'perk3_9', 'perk3_10', 'perk4_1', 'perk4_2', 'perk4_3', 'perk4_4', 'perk4_5', 'perk4_6', 'perk4_7', 'perk4_8', 'perk4_9', 'perk4_10', 'perk5_1', 'perk5_2', 'perk5_3', 'perk5_4', 'perk5_5', 'perk5_6', 'perk5_7', 'perk5_8', 'perk5_9', 'perk5_10', 'gameVersion', 'avgRank1', 'avgRank2', 'primaryClass_1', 'secondaryClass_1', 'primaryClass_2', 'secondaryClass_2', 'primaryClass_3', 'secondaryClass_3',  'primaryClass_4', 'secondaryClass_4', 'primaryClass_5', 'secondaryClass_5', 'primaryClass_6', 'secondaryClass_6', 'primaryClass_7', 'secondaryClass_7','primaryClass_8', 'secondaryClass_8', 'primaryClass_9', 'secondaryClass_9', 'primaryClass_10', 'secondaryClass_10']"
   ]
  },
  {
   "cell_type": "code",
   "execution_count": null,
   "metadata": {},
   "outputs": [],
   "source": [
    "le = LabelEncoder()\n",
    "for column in categorical_col:\n",
    "    df1[column] = le.fit_transform(df1[column])"
   ]
  },
  {
   "cell_type": "code",
   "execution_count": 16,
   "metadata": {},
   "outputs": [],
   "source": [
    "for c in ['rank_1', 'rank_2', 'rank_3', 'rank_4', 'rank_5', 'rank_6', 'rank_7', 'rank_8', 'rank_9', 'rank_10', 'spell1Id_1', 'spell1Id_2', 'spell1Id_3', 'spell1Id_4', 'spell1Id_5', 'spell1Id_6', 'spell1Id_7', 'spell1Id_8', 'spell1Id_9', 'spell1Id_10', 'spell2Id_1', 'spell2Id_2', 'spell2Id_3', 'spell2Id_4', 'spell2Id_5', 'spell2Id_6', 'spell2Id_7', 'spell2Id_8', 'spell2Id_9', 'spell2Id_10', 'perk0_1', 'perk0_2', 'perk0_3', 'perk0_4', 'perk0_5', 'perk0_6', 'perk0_7', 'perk0_8', 'perk0_9', 'perk0_10', 'perk1_1', 'perk1_2', 'perk1_3', 'perk1_4', 'perk1_5', 'perk1_6', 'perk1_7', 'perk1_8', 'perk1_9', 'perk1_10', 'perk2_1', 'perk2_2', 'perk2_3', 'perk2_4', 'perk2_5', 'perk2_6', 'perk2_7', 'perk2_8', 'perk2_9', 'perk2_10', 'perk3_1', 'perk3_2', 'perk3_3', 'perk3_4', 'perk3_5', 'perk3_6', 'perk3_7', 'perk3_8', 'perk3_9', 'perk3_10', 'perk4_1', 'perk4_2', 'perk4_3', 'perk4_4', 'perk4_5', 'perk4_6', 'perk4_7', 'perk4_8', 'perk4_9', 'perk4_10', 'perk5_1', 'perk5_2', 'perk5_3', 'perk5_4', 'perk5_5', 'perk5_6', 'perk5_7', 'perk5_8', 'perk5_9', 'perk5_10', 'gameVersion', 'avgRank1', 'avgRank2', 'primaryClass_1', 'secondaryClass_1', 'primaryClass_2', 'secondaryClass_2', 'primaryClass_3', 'secondaryClass_3',  'primaryClass_4', 'secondaryClass_4', 'primaryClass_5', 'secondaryClass_5', 'primaryClass_6', 'secondaryClass_6', 'primaryClass_7', 'secondaryClass_7','primaryClass_8', 'secondaryClass_8', 'primaryClass_9', 'secondaryClass_9', 'primaryClass_10', 'secondaryClass_10']:\n",
    "    df1[c] = df1[c].cat.codes\n",
    "df1['blueTeamWin'] = df1['blueTeamWin'].astype(int)"
   ]
  },
  {
   "cell_type": "code",
   "execution_count": 17,
   "metadata": {},
   "outputs": [],
   "source": [
    "X = df1.drop(['gameId', 'blueTeamWin'], axis=1)\n",
    "y = df1['blueTeamWin']"
   ]
  },
  {
   "cell_type": "code",
   "execution_count": 18,
   "metadata": {},
   "outputs": [],
   "source": [
    "X_train, X_test, y_train, y_test = train_test_split(X, y, test_size=0.20, random_state=2)"
   ]
  },
  {
   "cell_type": "code",
   "execution_count": 19,
   "metadata": {},
   "outputs": [],
   "source": [
    "# del c\n",
    "# del columns\n",
    "# del categorical_col\n",
    "# del column\n",
    "del df1\n",
    "del champions\n",
    "# del X\n",
    "# del y"
   ]
  },
  {
   "cell_type": "code",
   "execution_count": 20,
   "metadata": {},
   "outputs": [
    {
     "output_type": "execute_result",
     "data": {
      "text/plain": [
       "0"
      ]
     },
     "metadata": {},
     "execution_count": 20
    }
   ],
   "source": [
    "import gc\n",
    "gc.collect()\n",
    "# gc.collect()"
   ]
  },
  {
   "cell_type": "code",
   "execution_count": 21,
   "metadata": {},
   "outputs": [
    {
     "output_type": "stream",
     "name": "stderr",
     "text": [
      "Using TensorFlow backend.\n"
     ]
    }
   ],
   "source": [
    "from keras.models import Sequential\n",
    "from keras.layers import Dense, Activation, Dropout\n",
    "from keras.optimizers import SGD\n",
    "from keras.layers.normalization import BatchNormalization"
   ]
  },
  {
   "cell_type": "code",
   "execution_count": 22,
   "metadata": {},
   "outputs": [
    {
     "output_type": "stream",
     "name": "stdout",
     "text": [
      "Model: \"sequential_1\"\n_________________________________________________________________\nLayer (type)                 Output Shape              Param #   \n=================================================================\ndense_1 (Dense)              (None, 128)               19584     \n_________________________________________________________________\nbatch_normalization_1 (Batch (None, 128)               512       \n_________________________________________________________________\nactivation_1 (Activation)    (None, 128)               0         \n_________________________________________________________________\ndropout_1 (Dropout)          (None, 128)               0         \n_________________________________________________________________\ndense_2 (Dense)              (None, 64)                8256      \n_________________________________________________________________\nbatch_normalization_2 (Batch (None, 64)                256       \n_________________________________________________________________\nactivation_2 (Activation)    (None, 64)                0         \n_________________________________________________________________\ndropout_2 (Dropout)          (None, 64)                0         \n_________________________________________________________________\ndense_3 (Dense)              (None, 32)                2080      \n_________________________________________________________________\nbatch_normalization_3 (Batch (None, 32)                128       \n_________________________________________________________________\nactivation_3 (Activation)    (None, 32)                0         \n_________________________________________________________________\ndropout_3 (Dropout)          (None, 32)                0         \n_________________________________________________________________\ndense_4 (Dense)              (None, 16)                528       \n_________________________________________________________________\nbatch_normalization_4 (Batch (None, 16)                64        \n_________________________________________________________________\nactivation_4 (Activation)    (None, 16)                0         \n_________________________________________________________________\ndropout_4 (Dropout)          (None, 16)                0         \n_________________________________________________________________\ndense_5 (Dense)              (None, 1)                 17        \n=================================================================\nTotal params: 31,425\nTrainable params: 30,945\nNon-trainable params: 480\n_________________________________________________________________\n"
     ]
    }
   ],
   "source": [
    "model = Sequential()\n",
    "model.add(Dense(128, use_bias=False, input_shape = (X_train.shape[1],)))\n",
    "model.add(BatchNormalization())\n",
    "model.add(Activation(\"relu\"))\n",
    "model.add(Dropout(0.2))\n",
    "model.add(Dense(64))\n",
    "model.add(BatchNormalization())\n",
    "model.add(Activation(\"relu\"))\n",
    "model.add(Dropout(0.2))\n",
    "model.add(Dense(32))\n",
    "model.add(BatchNormalization())\n",
    "model.add(Activation(\"relu\"))\n",
    "model.add(Dropout(0.2))\n",
    "model.add(Dense(16))\n",
    "model.add(BatchNormalization())\n",
    "model.add(Activation(\"relu\"))\n",
    "model.add(Dropout(0.2))\n",
    "model.add(Dense(1, activation=\"sigmoid\"))\n",
    "model.summary()"
   ]
  },
  {
   "cell_type": "code",
   "execution_count": null,
   "metadata": {},
   "outputs": [],
   "source": [
    "model = Sequential()\n",
    "model.add(Dense(128, activation=\"relu\", input_shape = (X_train.shape[1],)))\n",
    "model.add(BatchNormalization())\n",
    "model.add(Dropout(0.2))\n",
    "model.add(Dense(64, activation=\"relu\"))\n",
    "model.add(Dropout(0.2))\n",
    "\n",
    "model.add(Dense(32, activation=\"relu\"))\n",
    "model.add(Dropout(0.2))\n",
    "\n",
    "model.add(Dense(16, activation=\"relu\"))\n",
    "model.add(Dropout(0.2))\n",
    "\n",
    "model.add(Dense(1, activation=\"sigmoid\"))\n",
    "\n",
    "model.summary()"
   ]
  },
  {
   "cell_type": "code",
   "execution_count": 23,
   "metadata": {},
   "outputs": [],
   "source": [
    "# opt = SGD(lr=0.0001)\n",
    "model.compile(optimizer='adam', loss = \"binary_crossentropy\", metrics = ['accuracy'])"
   ]
  },
  {
   "cell_type": "code",
   "execution_count": 24,
   "metadata": {},
   "outputs": [
    {
     "output_type": "stream",
     "name": "stdout",
     "text": [
      "Epoch 1/50\n",
      "1709575/1709575 [==============================] - 305s 178us/step - loss: 0.6832 - accuracy: 0.5607\n",
      "Epoch 2/50\n",
      "1709575/1709575 [==============================] - 301s 176us/step - loss: 0.6808 - accuracy: 0.5658\n",
      "Epoch 3/50\n",
      "1709575/1709575 [==============================] - 299s 175us/step - loss: 0.6806 - accuracy: 0.5666\n",
      "Epoch 4/50\n",
      "1709575/1709575 [==============================] - 301s 176us/step - loss: 0.6802 - accuracy: 0.5672\n",
      "Epoch 5/50\n",
      "  80256/1709575 [>.............................] - ETA: 4:51 - loss: 0.6807 - accuracy: 0.5645"
     ]
    },
    {
     "output_type": "error",
     "ename": "KeyboardInterrupt",
     "evalue": "",
     "traceback": [
      "\u001b[1;31m---------------------------------------------------------------------------\u001b[0m",
      "\u001b[1;31mKeyboardInterrupt\u001b[0m                         Traceback (most recent call last)",
      "\u001b[1;32m<ipython-input-24-c7600e5707f8>\u001b[0m in \u001b[0;36m<module>\u001b[1;34m\u001b[0m\n\u001b[1;32m----> 1\u001b[1;33m \u001b[0mmodel\u001b[0m\u001b[1;33m.\u001b[0m\u001b[0mfit\u001b[0m\u001b[1;33m(\u001b[0m\u001b[0mX_train\u001b[0m\u001b[1;33m,\u001b[0m \u001b[0my_train\u001b[0m\u001b[1;33m,\u001b[0m \u001b[0mbatch_size\u001b[0m\u001b[1;33m=\u001b[0m\u001b[1;36m32\u001b[0m\u001b[1;33m,\u001b[0m \u001b[0mepochs\u001b[0m\u001b[1;33m=\u001b[0m\u001b[1;36m50\u001b[0m\u001b[1;33m)\u001b[0m\u001b[1;33m\u001b[0m\u001b[1;33m\u001b[0m\u001b[0m\n\u001b[0m",
      "\u001b[1;32m~\\anaconda3\\envs\\Python36\\lib\\site-packages\\keras\\engine\\training.py\u001b[0m in \u001b[0;36mfit\u001b[1;34m(self, x, y, batch_size, epochs, verbose, callbacks, validation_split, validation_data, shuffle, class_weight, sample_weight, initial_epoch, steps_per_epoch, validation_steps, validation_freq, max_queue_size, workers, use_multiprocessing, **kwargs)\u001b[0m\n\u001b[0;32m   1237\u001b[0m                                         \u001b[0msteps_per_epoch\u001b[0m\u001b[1;33m=\u001b[0m\u001b[0msteps_per_epoch\u001b[0m\u001b[1;33m,\u001b[0m\u001b[1;33m\u001b[0m\u001b[1;33m\u001b[0m\u001b[0m\n\u001b[0;32m   1238\u001b[0m                                         \u001b[0mvalidation_steps\u001b[0m\u001b[1;33m=\u001b[0m\u001b[0mvalidation_steps\u001b[0m\u001b[1;33m,\u001b[0m\u001b[1;33m\u001b[0m\u001b[1;33m\u001b[0m\u001b[0m\n\u001b[1;32m-> 1239\u001b[1;33m                                         validation_freq=validation_freq)\n\u001b[0m\u001b[0;32m   1240\u001b[0m \u001b[1;33m\u001b[0m\u001b[0m\n\u001b[0;32m   1241\u001b[0m     def evaluate(self,\n",
      "\u001b[1;32m~\\anaconda3\\envs\\Python36\\lib\\site-packages\\keras\\engine\\training_arrays.py\u001b[0m in \u001b[0;36mfit_loop\u001b[1;34m(model, fit_function, fit_inputs, out_labels, batch_size, epochs, verbose, callbacks, val_function, val_inputs, shuffle, initial_epoch, steps_per_epoch, validation_steps, validation_freq)\u001b[0m\n\u001b[0;32m    194\u001b[0m                     \u001b[0mins_batch\u001b[0m\u001b[1;33m[\u001b[0m\u001b[0mi\u001b[0m\u001b[1;33m]\u001b[0m \u001b[1;33m=\u001b[0m \u001b[0mins_batch\u001b[0m\u001b[1;33m[\u001b[0m\u001b[0mi\u001b[0m\u001b[1;33m]\u001b[0m\u001b[1;33m.\u001b[0m\u001b[0mtoarray\u001b[0m\u001b[1;33m(\u001b[0m\u001b[1;33m)\u001b[0m\u001b[1;33m\u001b[0m\u001b[1;33m\u001b[0m\u001b[0m\n\u001b[0;32m    195\u001b[0m \u001b[1;33m\u001b[0m\u001b[0m\n\u001b[1;32m--> 196\u001b[1;33m                 \u001b[0mouts\u001b[0m \u001b[1;33m=\u001b[0m \u001b[0mfit_function\u001b[0m\u001b[1;33m(\u001b[0m\u001b[0mins_batch\u001b[0m\u001b[1;33m)\u001b[0m\u001b[1;33m\u001b[0m\u001b[1;33m\u001b[0m\u001b[0m\n\u001b[0m\u001b[0;32m    197\u001b[0m                 \u001b[0mouts\u001b[0m \u001b[1;33m=\u001b[0m \u001b[0mto_list\u001b[0m\u001b[1;33m(\u001b[0m\u001b[0mouts\u001b[0m\u001b[1;33m)\u001b[0m\u001b[1;33m\u001b[0m\u001b[1;33m\u001b[0m\u001b[0m\n\u001b[0;32m    198\u001b[0m                 \u001b[1;32mfor\u001b[0m \u001b[0ml\u001b[0m\u001b[1;33m,\u001b[0m \u001b[0mo\u001b[0m \u001b[1;32min\u001b[0m \u001b[0mzip\u001b[0m\u001b[1;33m(\u001b[0m\u001b[0mout_labels\u001b[0m\u001b[1;33m,\u001b[0m \u001b[0mouts\u001b[0m\u001b[1;33m)\u001b[0m\u001b[1;33m:\u001b[0m\u001b[1;33m\u001b[0m\u001b[1;33m\u001b[0m\u001b[0m\n",
      "\u001b[1;32m~\\anaconda3\\envs\\Python36\\lib\\site-packages\\tensorflow_core\\python\\keras\\backend.py\u001b[0m in \u001b[0;36m__call__\u001b[1;34m(self, inputs)\u001b[0m\n\u001b[0;32m   3725\u001b[0m         \u001b[0mvalue\u001b[0m \u001b[1;33m=\u001b[0m \u001b[0mmath_ops\u001b[0m\u001b[1;33m.\u001b[0m\u001b[0mcast\u001b[0m\u001b[1;33m(\u001b[0m\u001b[0mvalue\u001b[0m\u001b[1;33m,\u001b[0m \u001b[0mtensor\u001b[0m\u001b[1;33m.\u001b[0m\u001b[0mdtype\u001b[0m\u001b[1;33m)\u001b[0m\u001b[1;33m\u001b[0m\u001b[1;33m\u001b[0m\u001b[0m\n\u001b[0;32m   3726\u001b[0m       \u001b[0mconverted_inputs\u001b[0m\u001b[1;33m.\u001b[0m\u001b[0mappend\u001b[0m\u001b[1;33m(\u001b[0m\u001b[0mvalue\u001b[0m\u001b[1;33m)\u001b[0m\u001b[1;33m\u001b[0m\u001b[1;33m\u001b[0m\u001b[0m\n\u001b[1;32m-> 3727\u001b[1;33m     \u001b[0moutputs\u001b[0m \u001b[1;33m=\u001b[0m \u001b[0mself\u001b[0m\u001b[1;33m.\u001b[0m\u001b[0m_graph_fn\u001b[0m\u001b[1;33m(\u001b[0m\u001b[1;33m*\u001b[0m\u001b[0mconverted_inputs\u001b[0m\u001b[1;33m)\u001b[0m\u001b[1;33m\u001b[0m\u001b[1;33m\u001b[0m\u001b[0m\n\u001b[0m\u001b[0;32m   3728\u001b[0m \u001b[1;33m\u001b[0m\u001b[0m\n\u001b[0;32m   3729\u001b[0m     \u001b[1;31m# EagerTensor.numpy() will often make a copy to ensure memory safety.\u001b[0m\u001b[1;33m\u001b[0m\u001b[1;33m\u001b[0m\u001b[1;33m\u001b[0m\u001b[0m\n",
      "\u001b[1;32m~\\anaconda3\\envs\\Python36\\lib\\site-packages\\tensorflow_core\\python\\eager\\function.py\u001b[0m in \u001b[0;36m__call__\u001b[1;34m(self, *args, **kwargs)\u001b[0m\n\u001b[0;32m   1549\u001b[0m       \u001b[0mTypeError\u001b[0m\u001b[1;33m:\u001b[0m \u001b[0mFor\u001b[0m \u001b[0minvalid\u001b[0m \u001b[0mpositional\u001b[0m\u001b[1;33m/\u001b[0m\u001b[0mkeyword\u001b[0m \u001b[0margument\u001b[0m \u001b[0mcombinations\u001b[0m\u001b[1;33m.\u001b[0m\u001b[1;33m\u001b[0m\u001b[1;33m\u001b[0m\u001b[0m\n\u001b[0;32m   1550\u001b[0m     \"\"\"\n\u001b[1;32m-> 1551\u001b[1;33m     \u001b[1;32mreturn\u001b[0m \u001b[0mself\u001b[0m\u001b[1;33m.\u001b[0m\u001b[0m_call_impl\u001b[0m\u001b[1;33m(\u001b[0m\u001b[0margs\u001b[0m\u001b[1;33m,\u001b[0m \u001b[0mkwargs\u001b[0m\u001b[1;33m)\u001b[0m\u001b[1;33m\u001b[0m\u001b[1;33m\u001b[0m\u001b[0m\n\u001b[0m\u001b[0;32m   1552\u001b[0m \u001b[1;33m\u001b[0m\u001b[0m\n\u001b[0;32m   1553\u001b[0m   \u001b[1;32mdef\u001b[0m \u001b[0m_call_impl\u001b[0m\u001b[1;33m(\u001b[0m\u001b[0mself\u001b[0m\u001b[1;33m,\u001b[0m \u001b[0margs\u001b[0m\u001b[1;33m,\u001b[0m \u001b[0mkwargs\u001b[0m\u001b[1;33m,\u001b[0m \u001b[0mcancellation_manager\u001b[0m\u001b[1;33m=\u001b[0m\u001b[1;32mNone\u001b[0m\u001b[1;33m)\u001b[0m\u001b[1;33m:\u001b[0m\u001b[1;33m\u001b[0m\u001b[1;33m\u001b[0m\u001b[0m\n",
      "\u001b[1;32m~\\anaconda3\\envs\\Python36\\lib\\site-packages\\tensorflow_core\\python\\eager\\function.py\u001b[0m in \u001b[0;36m_call_impl\u001b[1;34m(self, args, kwargs, cancellation_manager)\u001b[0m\n\u001b[0;32m   1589\u001b[0m       raise TypeError(\"Keyword arguments {} unknown. Expected {}.\".format(\n\u001b[0;32m   1590\u001b[0m           list(kwargs.keys()), list(self._arg_keywords)))\n\u001b[1;32m-> 1591\u001b[1;33m     \u001b[1;32mreturn\u001b[0m \u001b[0mself\u001b[0m\u001b[1;33m.\u001b[0m\u001b[0m_call_flat\u001b[0m\u001b[1;33m(\u001b[0m\u001b[0margs\u001b[0m\u001b[1;33m,\u001b[0m \u001b[0mself\u001b[0m\u001b[1;33m.\u001b[0m\u001b[0mcaptured_inputs\u001b[0m\u001b[1;33m,\u001b[0m \u001b[0mcancellation_manager\u001b[0m\u001b[1;33m)\u001b[0m\u001b[1;33m\u001b[0m\u001b[1;33m\u001b[0m\u001b[0m\n\u001b[0m\u001b[0;32m   1592\u001b[0m \u001b[1;33m\u001b[0m\u001b[0m\n\u001b[0;32m   1593\u001b[0m   \u001b[1;32mdef\u001b[0m \u001b[0m_filtered_call\u001b[0m\u001b[1;33m(\u001b[0m\u001b[0mself\u001b[0m\u001b[1;33m,\u001b[0m \u001b[0margs\u001b[0m\u001b[1;33m,\u001b[0m \u001b[0mkwargs\u001b[0m\u001b[1;33m)\u001b[0m\u001b[1;33m:\u001b[0m\u001b[1;33m\u001b[0m\u001b[1;33m\u001b[0m\u001b[0m\n",
      "\u001b[1;32m~\\anaconda3\\envs\\Python36\\lib\\site-packages\\tensorflow_core\\python\\eager\\function.py\u001b[0m in \u001b[0;36m_call_flat\u001b[1;34m(self, args, captured_inputs, cancellation_manager)\u001b[0m\n\u001b[0;32m   1690\u001b[0m       \u001b[1;31m# No tape is watching; skip to running the function.\u001b[0m\u001b[1;33m\u001b[0m\u001b[1;33m\u001b[0m\u001b[1;33m\u001b[0m\u001b[0m\n\u001b[0;32m   1691\u001b[0m       return self._build_call_outputs(self._inference_function.call(\n\u001b[1;32m-> 1692\u001b[1;33m           ctx, args, cancellation_manager=cancellation_manager))\n\u001b[0m\u001b[0;32m   1693\u001b[0m     forward_backward = self._select_forward_and_backward_functions(\n\u001b[0;32m   1694\u001b[0m         \u001b[0margs\u001b[0m\u001b[1;33m,\u001b[0m\u001b[1;33m\u001b[0m\u001b[1;33m\u001b[0m\u001b[0m\n",
      "\u001b[1;32m~\\anaconda3\\envs\\Python36\\lib\\site-packages\\tensorflow_core\\python\\eager\\function.py\u001b[0m in \u001b[0;36mcall\u001b[1;34m(self, ctx, args, cancellation_manager)\u001b[0m\n\u001b[0;32m    543\u001b[0m               \u001b[0minputs\u001b[0m\u001b[1;33m=\u001b[0m\u001b[0margs\u001b[0m\u001b[1;33m,\u001b[0m\u001b[1;33m\u001b[0m\u001b[1;33m\u001b[0m\u001b[0m\n\u001b[0;32m    544\u001b[0m               \u001b[0mattrs\u001b[0m\u001b[1;33m=\u001b[0m\u001b[1;33m(\u001b[0m\u001b[1;34m\"executor_type\"\u001b[0m\u001b[1;33m,\u001b[0m \u001b[0mexecutor_type\u001b[0m\u001b[1;33m,\u001b[0m \u001b[1;34m\"config_proto\"\u001b[0m\u001b[1;33m,\u001b[0m \u001b[0mconfig\u001b[0m\u001b[1;33m)\u001b[0m\u001b[1;33m,\u001b[0m\u001b[1;33m\u001b[0m\u001b[1;33m\u001b[0m\u001b[0m\n\u001b[1;32m--> 545\u001b[1;33m               ctx=ctx)\n\u001b[0m\u001b[0;32m    546\u001b[0m         \u001b[1;32melse\u001b[0m\u001b[1;33m:\u001b[0m\u001b[1;33m\u001b[0m\u001b[1;33m\u001b[0m\u001b[0m\n\u001b[0;32m    547\u001b[0m           outputs = execute.execute_with_cancellation(\n",
      "\u001b[1;32m~\\anaconda3\\envs\\Python36\\lib\\site-packages\\tensorflow_core\\python\\eager\\execute.py\u001b[0m in \u001b[0;36mquick_execute\u001b[1;34m(op_name, num_outputs, inputs, attrs, ctx, name)\u001b[0m\n\u001b[0;32m     59\u001b[0m     tensors = pywrap_tensorflow.TFE_Py_Execute(ctx._handle, device_name,\n\u001b[0;32m     60\u001b[0m                                                \u001b[0mop_name\u001b[0m\u001b[1;33m,\u001b[0m \u001b[0minputs\u001b[0m\u001b[1;33m,\u001b[0m \u001b[0mattrs\u001b[0m\u001b[1;33m,\u001b[0m\u001b[1;33m\u001b[0m\u001b[1;33m\u001b[0m\u001b[0m\n\u001b[1;32m---> 61\u001b[1;33m                                                num_outputs)\n\u001b[0m\u001b[0;32m     62\u001b[0m   \u001b[1;32mexcept\u001b[0m \u001b[0mcore\u001b[0m\u001b[1;33m.\u001b[0m\u001b[0m_NotOkStatusException\u001b[0m \u001b[1;32mas\u001b[0m \u001b[0me\u001b[0m\u001b[1;33m:\u001b[0m\u001b[1;33m\u001b[0m\u001b[1;33m\u001b[0m\u001b[0m\n\u001b[0;32m     63\u001b[0m     \u001b[1;32mif\u001b[0m \u001b[0mname\u001b[0m \u001b[1;32mis\u001b[0m \u001b[1;32mnot\u001b[0m \u001b[1;32mNone\u001b[0m\u001b[1;33m:\u001b[0m\u001b[1;33m\u001b[0m\u001b[1;33m\u001b[0m\u001b[0m\n",
      "\u001b[1;31mKeyboardInterrupt\u001b[0m: "
     ]
    }
   ],
   "source": [
    "model.fit(X_train, y_train, batch_size=32, epochs=50)"
   ]
  },
  {
   "cell_type": "code",
   "execution_count": null,
   "metadata": {},
   "outputs": [],
   "source": [
    "validation_loss, validation_accuracy = model.evaluate(X_test, y_test, batch_size=32)\n",
    "print(\"Loss: \"+ str(validation_loss))\n",
    "print(\"Accuracy: \"+ str(validation_accuracy))"
   ]
  },
  {
   "cell_type": "code",
   "execution_count": null,
   "metadata": {},
   "outputs": [],
   "source": [
    "y_prob = model.predict_proba(X_test)"
   ]
  },
  {
   "cell_type": "code",
   "execution_count": null,
   "metadata": {},
   "outputs": [],
   "source": [
    "y_prob"
   ]
  },
  {
   "cell_type": "code",
   "execution_count": null,
   "metadata": {},
   "outputs": [],
   "source": [
    "y_pred = model.predict(X_test)"
   ]
  },
  {
   "cell_type": "code",
   "execution_count": null,
   "metadata": {},
   "outputs": [],
   "source": [
    "y_pred"
   ]
  },
  {
   "cell_type": "code",
   "execution_count": null,
   "metadata": {},
   "outputs": [],
   "source": [
    "y_pred1 = model.predict(X_train)\n",
    "print('Model accuracy score with 100 decision-trees : {0:0.4f}'. format(accuracy_score(y_train, y_pred1)))\n",
    "y_pred2 = model.predict(X_test)\n",
    "print('Model accuracy score with 100 decision-trees : {0:0.4f}'. format(accuracy_score(y_test, y_pred2)))"
   ]
  },
  {
   "cell_type": "code",
   "execution_count": null,
   "metadata": {},
   "outputs": [],
   "source": []
  }
 ]
}