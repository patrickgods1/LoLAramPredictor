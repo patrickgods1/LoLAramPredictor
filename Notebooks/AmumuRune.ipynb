{
 "metadata": {
  "language_info": {
   "codemirror_mode": {
    "name": "ipython",
    "version": 3
   },
   "file_extension": ".py",
   "mimetype": "text/x-python",
   "name": "python",
   "nbconvert_exporter": "python",
   "pygments_lexer": "ipython3",
   "version": "3.6.10-final"
  },
  "orig_nbformat": 2,
  "kernelspec": {
   "name": "python_defaultSpec_1600574353996",
   "display_name": "Python 3.6.10 64-bit ('Python36': conda)"
  }
 },
 "nbformat": 4,
 "nbformat_minor": 2,
 "cells": [
  {
   "cell_type": "code",
   "execution_count": 1,
   "metadata": {},
   "outputs": [],
   "source": [
    "import pandas as pd\n",
    "import json\n",
    "filePath = r\"C:\\\\Users\\\\Pat\\\\Desktop\\\\Projects\\\\LoLAramPredictor\\\\Game Info\\\\\""
   ]
  },
  {
   "cell_type": "code",
   "execution_count": 2,
   "metadata": {
    "tags": []
   },
   "outputs": [
    {
     "output_type": "execute_result",
     "data": {
      "text/plain": "    championId     name attack defense magic difficulty primaryClass  \\\n0          266   Aatrox      8       4     3          4      Fighter   \n1          103     Ahri      3       4     8          5         Mage   \n2           84    Akali      5       3     8          7     Assassin   \n3           12  Alistar      6       9     5          7         Tank   \n4           32    Amumu      2       6     8          3         Tank   \n..         ...      ...    ...     ...   ...        ...          ...   \n145        238      Zed      9       2     1          7     Assassin   \n146        115    Ziggs      2       4     9          4         Mage   \n147         26   Zilean      2       5     8          6      Support   \n148        142      Zoe      1       7     8          5         Mage   \n149        143     Zyra      4       3     8          7         Mage   \n\n    secondaryClass     partype      hp  ... hpregen hpregenperlevel mpregen  \\\n0             Tank  Blood Well     580  ...       3               1       0   \n1         Assassin        Mana     526  ...     6.5             0.6       8   \n2             None      Energy     575  ...       8             0.5      50   \n3          Support        Mana     600  ...     8.5            0.85     8.5   \n4             Mage        Mana  613.12  ...       9            0.85   7.382   \n..             ...         ...     ...  ...     ...             ...     ...   \n145           None      Energy     584  ...       7            0.65      50   \n146           None        Mana     536  ...     6.5             0.6       8   \n147           Mage        Mana     504  ...     5.5             0.5  11.335   \n148        Support        Mana     560  ...     6.5             0.6       8   \n149        Support        Mana     504  ...     5.5             0.5      13   \n\n    mpregenperlevel crit  critperlevel  attackdamage  attackdamageperlevel  \\\n0                 0    0             0            60                     5   \n1               0.8    0             0         53.04                     3   \n2                 0    0             0          62.4                   3.3   \n3               0.8    0             0            62                  3.75   \n4             0.525    0             0         53.38                   3.8   \n..              ...  ...           ...           ...                   ...   \n145               0    0             0            63                   3.4   \n146             0.8    0             0        54.208                   3.1   \n147             0.8    0             0         51.64                     3   \n148            0.65    0             0            58                   3.3   \n149             0.4    0             0        53.376                   3.2   \n\n    attackspeedperlevel attackspeed  \n0                 2.500       0.651  \n1                 2.000       0.668  \n2                 3.200       0.625  \n3                 2.125       0.625  \n4                 2.180       0.736  \n..                  ...         ...  \n145               3.300       0.651  \n146               2.000       0.656  \n147               2.130       0.625  \n148               2.500       0.625  \n149               2.110       0.625  \n\n[150 rows x 29 columns]",
      "text/html": "<div>\n<style scoped>\n    .dataframe tbody tr th:only-of-type {\n        vertical-align: middle;\n    }\n\n    .dataframe tbody tr th {\n        vertical-align: top;\n    }\n\n    .dataframe thead th {\n        text-align: right;\n    }\n</style>\n<table border=\"1\" class=\"dataframe\">\n  <thead>\n    <tr style=\"text-align: right;\">\n      <th></th>\n      <th>championId</th>\n      <th>name</th>\n      <th>attack</th>\n      <th>defense</th>\n      <th>magic</th>\n      <th>difficulty</th>\n      <th>primaryClass</th>\n      <th>secondaryClass</th>\n      <th>partype</th>\n      <th>hp</th>\n      <th>...</th>\n      <th>hpregen</th>\n      <th>hpregenperlevel</th>\n      <th>mpregen</th>\n      <th>mpregenperlevel</th>\n      <th>crit</th>\n      <th>critperlevel</th>\n      <th>attackdamage</th>\n      <th>attackdamageperlevel</th>\n      <th>attackspeedperlevel</th>\n      <th>attackspeed</th>\n    </tr>\n  </thead>\n  <tbody>\n    <tr>\n      <th>0</th>\n      <td>266</td>\n      <td>Aatrox</td>\n      <td>8</td>\n      <td>4</td>\n      <td>3</td>\n      <td>4</td>\n      <td>Fighter</td>\n      <td>Tank</td>\n      <td>Blood Well</td>\n      <td>580</td>\n      <td>...</td>\n      <td>3</td>\n      <td>1</td>\n      <td>0</td>\n      <td>0</td>\n      <td>0</td>\n      <td>0</td>\n      <td>60</td>\n      <td>5</td>\n      <td>2.500</td>\n      <td>0.651</td>\n    </tr>\n    <tr>\n      <th>1</th>\n      <td>103</td>\n      <td>Ahri</td>\n      <td>3</td>\n      <td>4</td>\n      <td>8</td>\n      <td>5</td>\n      <td>Mage</td>\n      <td>Assassin</td>\n      <td>Mana</td>\n      <td>526</td>\n      <td>...</td>\n      <td>6.5</td>\n      <td>0.6</td>\n      <td>8</td>\n      <td>0.8</td>\n      <td>0</td>\n      <td>0</td>\n      <td>53.04</td>\n      <td>3</td>\n      <td>2.000</td>\n      <td>0.668</td>\n    </tr>\n    <tr>\n      <th>2</th>\n      <td>84</td>\n      <td>Akali</td>\n      <td>5</td>\n      <td>3</td>\n      <td>8</td>\n      <td>7</td>\n      <td>Assassin</td>\n      <td>None</td>\n      <td>Energy</td>\n      <td>575</td>\n      <td>...</td>\n      <td>8</td>\n      <td>0.5</td>\n      <td>50</td>\n      <td>0</td>\n      <td>0</td>\n      <td>0</td>\n      <td>62.4</td>\n      <td>3.3</td>\n      <td>3.200</td>\n      <td>0.625</td>\n    </tr>\n    <tr>\n      <th>3</th>\n      <td>12</td>\n      <td>Alistar</td>\n      <td>6</td>\n      <td>9</td>\n      <td>5</td>\n      <td>7</td>\n      <td>Tank</td>\n      <td>Support</td>\n      <td>Mana</td>\n      <td>600</td>\n      <td>...</td>\n      <td>8.5</td>\n      <td>0.85</td>\n      <td>8.5</td>\n      <td>0.8</td>\n      <td>0</td>\n      <td>0</td>\n      <td>62</td>\n      <td>3.75</td>\n      <td>2.125</td>\n      <td>0.625</td>\n    </tr>\n    <tr>\n      <th>4</th>\n      <td>32</td>\n      <td>Amumu</td>\n      <td>2</td>\n      <td>6</td>\n      <td>8</td>\n      <td>3</td>\n      <td>Tank</td>\n      <td>Mage</td>\n      <td>Mana</td>\n      <td>613.12</td>\n      <td>...</td>\n      <td>9</td>\n      <td>0.85</td>\n      <td>7.382</td>\n      <td>0.525</td>\n      <td>0</td>\n      <td>0</td>\n      <td>53.38</td>\n      <td>3.8</td>\n      <td>2.180</td>\n      <td>0.736</td>\n    </tr>\n    <tr>\n      <th>...</th>\n      <td>...</td>\n      <td>...</td>\n      <td>...</td>\n      <td>...</td>\n      <td>...</td>\n      <td>...</td>\n      <td>...</td>\n      <td>...</td>\n      <td>...</td>\n      <td>...</td>\n      <td>...</td>\n      <td>...</td>\n      <td>...</td>\n      <td>...</td>\n      <td>...</td>\n      <td>...</td>\n      <td>...</td>\n      <td>...</td>\n      <td>...</td>\n      <td>...</td>\n      <td>...</td>\n    </tr>\n    <tr>\n      <th>145</th>\n      <td>238</td>\n      <td>Zed</td>\n      <td>9</td>\n      <td>2</td>\n      <td>1</td>\n      <td>7</td>\n      <td>Assassin</td>\n      <td>None</td>\n      <td>Energy</td>\n      <td>584</td>\n      <td>...</td>\n      <td>7</td>\n      <td>0.65</td>\n      <td>50</td>\n      <td>0</td>\n      <td>0</td>\n      <td>0</td>\n      <td>63</td>\n      <td>3.4</td>\n      <td>3.300</td>\n      <td>0.651</td>\n    </tr>\n    <tr>\n      <th>146</th>\n      <td>115</td>\n      <td>Ziggs</td>\n      <td>2</td>\n      <td>4</td>\n      <td>9</td>\n      <td>4</td>\n      <td>Mage</td>\n      <td>None</td>\n      <td>Mana</td>\n      <td>536</td>\n      <td>...</td>\n      <td>6.5</td>\n      <td>0.6</td>\n      <td>8</td>\n      <td>0.8</td>\n      <td>0</td>\n      <td>0</td>\n      <td>54.208</td>\n      <td>3.1</td>\n      <td>2.000</td>\n      <td>0.656</td>\n    </tr>\n    <tr>\n      <th>147</th>\n      <td>26</td>\n      <td>Zilean</td>\n      <td>2</td>\n      <td>5</td>\n      <td>8</td>\n      <td>6</td>\n      <td>Support</td>\n      <td>Mage</td>\n      <td>Mana</td>\n      <td>504</td>\n      <td>...</td>\n      <td>5.5</td>\n      <td>0.5</td>\n      <td>11.335</td>\n      <td>0.8</td>\n      <td>0</td>\n      <td>0</td>\n      <td>51.64</td>\n      <td>3</td>\n      <td>2.130</td>\n      <td>0.625</td>\n    </tr>\n    <tr>\n      <th>148</th>\n      <td>142</td>\n      <td>Zoe</td>\n      <td>1</td>\n      <td>7</td>\n      <td>8</td>\n      <td>5</td>\n      <td>Mage</td>\n      <td>Support</td>\n      <td>Mana</td>\n      <td>560</td>\n      <td>...</td>\n      <td>6.5</td>\n      <td>0.6</td>\n      <td>8</td>\n      <td>0.65</td>\n      <td>0</td>\n      <td>0</td>\n      <td>58</td>\n      <td>3.3</td>\n      <td>2.500</td>\n      <td>0.625</td>\n    </tr>\n    <tr>\n      <th>149</th>\n      <td>143</td>\n      <td>Zyra</td>\n      <td>4</td>\n      <td>3</td>\n      <td>8</td>\n      <td>7</td>\n      <td>Mage</td>\n      <td>Support</td>\n      <td>Mana</td>\n      <td>504</td>\n      <td>...</td>\n      <td>5.5</td>\n      <td>0.5</td>\n      <td>13</td>\n      <td>0.4</td>\n      <td>0</td>\n      <td>0</td>\n      <td>53.376</td>\n      <td>3.2</td>\n      <td>2.110</td>\n      <td>0.625</td>\n    </tr>\n  </tbody>\n</table>\n<p>150 rows × 29 columns</p>\n</div>"
     },
     "metadata": {},
     "execution_count": 2
    }
   ],
   "source": [
    "with open(filePath+'champion.json', encoding='utf8') as f:\n",
    "    championData = json.load(f)\n",
    "\n",
    "champions = pd.DataFrame(columns = ['championId', 'name', 'attack', 'defense', 'magic', 'difficulty', 'primaryClass', 'secondaryClass', 'partype', 'hp', 'hpperlevel', 'mp', 'mpperlevel', 'movespeed', 'armor', 'armorperlevel', 'spellblock', 'spellblockperlevel', 'attackrange', 'hpregen', 'hpregenperlevel', 'mpregen', 'mpregenperlevel', 'crit', 'critperlevel', 'attackdamage', 'attackdamageperlevel', 'attackspeedperlevel', 'attackspeed'])\n",
    "\n",
    "for k, v in championData['data'].items():\n",
    "    champions = champions.append({'championId': int(v['key']),\n",
    "                        'name': v['name'], \n",
    "                        'attack': v['info']['attack'], \n",
    "                        'defense': v['info']['defense'], \n",
    "                        'magic': v['info']['magic'], \n",
    "                        'difficulty': v['info']['difficulty'], \n",
    "                        'primaryClass': v['tags'][0], \n",
    "                        'secondaryClass': v['tags'][1] if len(v['tags']) > 1 else 'None', \n",
    "                        'partype': v['partype'], \n",
    "                        'hp': v['stats']['hp'], \n",
    "                        'hpperlevel': v['stats']['hpperlevel'], \n",
    "                        'mp': v['stats']['mp'], \n",
    "                        'mpperlevel': v['stats']['mpperlevel'], \n",
    "                        'movespeed': v['stats']['movespeed'], \n",
    "                        'armor': v['stats']['armor'], \n",
    "                        'armorperlevel': v['stats']['armorperlevel'], \n",
    "                        'spellblock': v['stats']['spellblock'], \n",
    "                        'spellblockperlevel': v['stats']['spellblockperlevel'], \n",
    "                        'attackrange': v['stats']['attackrange'], \n",
    "                        'hpregen': v['stats']['hpregen'], \n",
    "                        'hpregenperlevel': v['stats']['hpregenperlevel'], \n",
    "                        'mpregen': v['stats']['mpregen'], \n",
    "                        'mpregenperlevel': v['stats']['mpregenperlevel'], \n",
    "                        'crit': v['stats']['crit'], \n",
    "                        'critperlevel': v['stats']['critperlevel'], \n",
    "                        'attackdamage': v['stats']['attackdamage'], \n",
    "                        'attackdamageperlevel': v['stats']['attackdamageperlevel'], \n",
    "                        'attackspeedperlevel': v['stats']['attackspeedperlevel'], \n",
    "                        'attackspeed': v['stats']['attackspeed']}, ignore_index=True)\n",
    "\n",
    "champions"
   ]
  },
  {
   "cell_type": "code",
   "execution_count": 3,
   "metadata": {
    "tags": []
   },
   "outputs": [
    {
     "output_type": "execute_result",
     "data": {
      "text/plain": "      id             name slot        tree\n0   8112      Electrocute    0  Domination\n1   8124         Predator    0  Domination\n2   8128     Dark Harvest    0  Domination\n3   9923   Hail of Blades    0  Domination\n4   8126       Cheap Shot    1  Domination\n..   ...              ...  ...         ...\n58  8234         Celerity    2     Sorcery\n59  8233   Absolute Focus    2     Sorcery\n60  8237           Scorch    3     Sorcery\n61  8232     Waterwalking    3     Sorcery\n62  8236  Gathering Storm    3     Sorcery\n\n[63 rows x 4 columns]",
      "text/html": "<div>\n<style scoped>\n    .dataframe tbody tr th:only-of-type {\n        vertical-align: middle;\n    }\n\n    .dataframe tbody tr th {\n        vertical-align: top;\n    }\n\n    .dataframe thead th {\n        text-align: right;\n    }\n</style>\n<table border=\"1\" class=\"dataframe\">\n  <thead>\n    <tr style=\"text-align: right;\">\n      <th></th>\n      <th>id</th>\n      <th>name</th>\n      <th>slot</th>\n      <th>tree</th>\n    </tr>\n  </thead>\n  <tbody>\n    <tr>\n      <th>0</th>\n      <td>8112</td>\n      <td>Electrocute</td>\n      <td>0</td>\n      <td>Domination</td>\n    </tr>\n    <tr>\n      <th>1</th>\n      <td>8124</td>\n      <td>Predator</td>\n      <td>0</td>\n      <td>Domination</td>\n    </tr>\n    <tr>\n      <th>2</th>\n      <td>8128</td>\n      <td>Dark Harvest</td>\n      <td>0</td>\n      <td>Domination</td>\n    </tr>\n    <tr>\n      <th>3</th>\n      <td>9923</td>\n      <td>Hail of Blades</td>\n      <td>0</td>\n      <td>Domination</td>\n    </tr>\n    <tr>\n      <th>4</th>\n      <td>8126</td>\n      <td>Cheap Shot</td>\n      <td>1</td>\n      <td>Domination</td>\n    </tr>\n    <tr>\n      <th>...</th>\n      <td>...</td>\n      <td>...</td>\n      <td>...</td>\n      <td>...</td>\n    </tr>\n    <tr>\n      <th>58</th>\n      <td>8234</td>\n      <td>Celerity</td>\n      <td>2</td>\n      <td>Sorcery</td>\n    </tr>\n    <tr>\n      <th>59</th>\n      <td>8233</td>\n      <td>Absolute Focus</td>\n      <td>2</td>\n      <td>Sorcery</td>\n    </tr>\n    <tr>\n      <th>60</th>\n      <td>8237</td>\n      <td>Scorch</td>\n      <td>3</td>\n      <td>Sorcery</td>\n    </tr>\n    <tr>\n      <th>61</th>\n      <td>8232</td>\n      <td>Waterwalking</td>\n      <td>3</td>\n      <td>Sorcery</td>\n    </tr>\n    <tr>\n      <th>62</th>\n      <td>8236</td>\n      <td>Gathering Storm</td>\n      <td>3</td>\n      <td>Sorcery</td>\n    </tr>\n  </tbody>\n</table>\n<p>63 rows × 4 columns</p>\n</div>"
     },
     "metadata": {},
     "execution_count": 3
    }
   ],
   "source": [
    "with open(filePath+'runesReforged.json', encoding='utf8') as f:\n",
    "    runeData = json.load(f)\n",
    "\n",
    "runes = pd.DataFrame(columns = ['id', 'name', 'slot', 'tree'])\n",
    "\n",
    "for v1 in runeData:\n",
    "    tree = v1['name']\n",
    "    for i in range(len(v1['slots'])):\n",
    "        slot = i\n",
    "        for v2 in v1['slots'][i]['runes']:\n",
    "            # print(v2['name'])\n",
    "            runes = runes.append({'id': v2['id'],\n",
    "                            'name': v2['name'], \n",
    "                            'slot': slot,\n",
    "                            'tree': tree\n",
    "                            }, ignore_index=True )\n",
    "\n",
    "# runes.head()\n",
    "runes"
   ]
  },
  {
   "cell_type": "code",
   "execution_count": 4,
   "metadata": {
    "tags": []
   },
   "outputs": [],
   "source": [
    "import asyncpg\n",
    "import nest_asyncio\n",
    "import asyncio\n",
    "from config import dbConfig\n",
    "\n",
    "nest_asyncio.apply()\n",
    "loop = asyncio.get_event_loop()"
   ]
  },
  {
   "cell_type": "code",
   "execution_count": 5,
   "metadata": {},
   "outputs": [
    {
     "output_type": "execute_result",
     "data": {
      "text/plain": "           gameId  perk0    win\n0      2856486557   8439   True\n1      2856665872   8437   True\n2      2856708691   8112   True\n3      2856746202   8437  False\n4      2857274348   8439  False\n...           ...    ...    ...\n20355  3568235885   8439  False\n20356  3568291536   8439  False\n20357  3568296179   8010   True\n20358  3568302456   8439   True\n20359  3568318313   8439  False\n\n[20360 rows x 3 columns]",
      "text/html": "<div>\n<style scoped>\n    .dataframe tbody tr th:only-of-type {\n        vertical-align: middle;\n    }\n\n    .dataframe tbody tr th {\n        vertical-align: top;\n    }\n\n    .dataframe thead th {\n        text-align: right;\n    }\n</style>\n<table border=\"1\" class=\"dataframe\">\n  <thead>\n    <tr style=\"text-align: right;\">\n      <th></th>\n      <th>gameId</th>\n      <th>perk0</th>\n      <th>win</th>\n    </tr>\n  </thead>\n  <tbody>\n    <tr>\n      <th>0</th>\n      <td>2856486557</td>\n      <td>8439</td>\n      <td>True</td>\n    </tr>\n    <tr>\n      <th>1</th>\n      <td>2856665872</td>\n      <td>8437</td>\n      <td>True</td>\n    </tr>\n    <tr>\n      <th>2</th>\n      <td>2856708691</td>\n      <td>8112</td>\n      <td>True</td>\n    </tr>\n    <tr>\n      <th>3</th>\n      <td>2856746202</td>\n      <td>8437</td>\n      <td>False</td>\n    </tr>\n    <tr>\n      <th>4</th>\n      <td>2857274348</td>\n      <td>8439</td>\n      <td>False</td>\n    </tr>\n    <tr>\n      <th>...</th>\n      <td>...</td>\n      <td>...</td>\n      <td>...</td>\n    </tr>\n    <tr>\n      <th>20355</th>\n      <td>3568235885</td>\n      <td>8439</td>\n      <td>False</td>\n    </tr>\n    <tr>\n      <th>20356</th>\n      <td>3568291536</td>\n      <td>8439</td>\n      <td>False</td>\n    </tr>\n    <tr>\n      <th>20357</th>\n      <td>3568296179</td>\n      <td>8010</td>\n      <td>True</td>\n    </tr>\n    <tr>\n      <th>20358</th>\n      <td>3568302456</td>\n      <td>8439</td>\n      <td>True</td>\n    </tr>\n    <tr>\n      <th>20359</th>\n      <td>3568318313</td>\n      <td>8439</td>\n      <td>False</td>\n    </tr>\n  </tbody>\n</table>\n<p>20360 rows × 3 columns</p>\n</div>"
     },
     "metadata": {},
     "execution_count": 5
    }
   ],
   "source": [
    "async def fetch_as_dataframe(con: asyncpg.Connection, query: str, *args):\n",
    "    stmt = await con.prepare(query)\n",
    "    columns = [a.name for a in stmt.get_attributes()]\n",
    "    data = await stmt.fetch()\n",
    "    return pd.DataFrame(data, columns=columns)\n",
    "\n",
    "async def run():\n",
    "    connection = await asyncpg.connect(user=dbConfig['user'],\n",
    "                                password=dbConfig['password'],\n",
    "                                host=dbConfig['host'],\n",
    "                                port=dbConfig['port'],\n",
    "                                database=dbConfig['database'])\n",
    "    async with connection.transaction():\n",
    "        amumuQuery = f'SELECT \"gameId\", \"perk0\", \"win\" \\\n",
    "                    FROM \"Participant_Stats\" \\\n",
    "                    WHERE \"championId\" = {champions.loc[champions[\"name\"] == \"Amumu\", \"championId\"].values[0]} \\\n",
    "                    ORDER BY \"gameId\" ASC'\n",
    "        amumuGames_df = await fetch_as_dataframe(connection, amumuQuery)\n",
    "    return amumuGames_df\n",
    "\n",
    "amumuGames_df = loop.run_until_complete(run())\n",
    "amumuGames_df"
   ]
  },
  {
   "cell_type": "code",
   "execution_count": 6,
   "metadata": {
    "tags": []
   },
   "outputs": [
    {
     "output_type": "stream",
     "name": "stdout",
     "text": "aftershock: 8439\ndarkHarvest: 8128\nconqueror: 8010\n"
    }
   ],
   "source": [
    "aftershockId = runes.loc[runes['name'] == 'Aftershock', 'id'].values[0]\n",
    "darkHarvestId = runes.loc[runes['name'] == 'Dark Harvest', 'id'].values[0]\n",
    "conquerorId = runes.loc[runes['name'] == 'Conqueror', 'id'].values[0]\n",
    "print(f'aftershock: {aftershockId}')\n",
    "print(f'darkHarvest: {darkHarvestId}')\n",
    "print(f'conqueror: {conquerorId}')"
   ]
  },
  {
   "cell_type": "code",
   "execution_count": 7,
   "metadata": {},
   "outputs": [],
   "source": [
    "from statsmodels.stats.proportion import proportion_confint"
   ]
  },
  {
   "cell_type": "code",
   "execution_count": null,
   "metadata": {},
   "outputs": [],
   "source": []
  },
  {
   "cell_type": "code",
   "execution_count": 8,
   "metadata": {
    "tags": []
   },
   "outputs": [
    {
     "output_type": "stream",
     "name": "stdout",
     "text": "aftershockAmumuWR: 0.57555 [5127 / 8908]\ndarkHarvestAmumuWR: 0.54782 [527 / 962]\nconquerorAmumuWR: 0.54956 [377 / 686]\n"
    }
   ],
   "source": [
    "aftershockAmumu = amumuGames_df.loc[amumuGames_df['perk0'] == aftershockId, ['gameId', 'win']].groupby(['gameId']).sum()['win']\n",
    "aftershockAmumuWR = aftershockAmumu.astype(bool).sum(axis=0)/aftershockAmumu.count()\n",
    "print(f\"aftershockAmumuWR: {aftershockAmumuWR:.5f} [{aftershockAmumu.astype(bool).sum(axis=0)} / {aftershockAmumu.count()}]\")\n",
    "\n",
    "darkHarvestAmumu = amumuGames_df.loc[amumuGames_df['perk0'] == darkHarvestId, ['gameId', 'win']].groupby(['gameId']).sum()['win']\n",
    "darkHarvestAmumuWR = darkHarvestAmumu.astype(bool).sum(axis=0)/darkHarvestAmumu.count()\n",
    "print(f\"darkHarvestAmumuWR: {darkHarvestAmumuWR:.5f} [{darkHarvestAmumu.astype(bool).sum(axis=0)} / {darkHarvestAmumu.count()}]\")\n",
    "\n",
    "conquerorAmumu = amumuGames_df.loc[amumuGames_df['perk0'] == conquerorId, ['gameId', 'win']].groupby(['gameId']).sum()['win']\n",
    "conquerorAmumuWR = conquerorAmumu.astype(bool).sum(axis=0)/conquerorAmumu.count()\n",
    "print(f\"conquerorAmumuWR: {conquerorAmumuWR:.5f} [{conquerorAmumu.astype(bool).sum(axis=0)} / {conquerorAmumu.count()}]\")"
   ]
  },
  {
   "cell_type": "code",
   "execution_count": 9,
   "metadata": {},
   "outputs": [],
   "source": [
    "aftershockAmumuCI = proportion_confint(aftershockAmumu.astype(bool).sum(axis=0), aftershockAmumu.count(), method='binom_test', alpha=0.05)\n",
    "darkHarvestAmumuuCI = proportion_confint(darkHarvestAmumu.astype(bool).sum(axis=0), darkHarvestAmumu.count(), method='binom_test', alpha=0.05)\n",
    "conquerorAmumuCI = proportion_confint(conquerorAmumu.astype(bool).sum(axis=0), conquerorAmumu.count(), method='binom_test', alpha=0.05)"
   ]
  },
  {
   "cell_type": "code",
   "execution_count": 11,
   "metadata": {
    "tags": []
   },
   "outputs": [
    {
     "output_type": "stream",
     "name": "stdout",
     "text": "95% CI: [0.565224, 0.585825]\n95% CI: [0.516117, 0.579549]\n95% CI: [0.511667, 0.586773]\n"
    }
   ],
   "source": [
    "print(f\"95% CI: [{aftershockAmumuCI[0]:.6f}, {aftershockAmumuCI[1]:.6f}]\")\n",
    "print(f\"95% CI: [{darkHarvestAmumuuCI[0]:.6f}, {darkHarvestAmumuuCI[1]:.6f}]\")\n",
    "print(f\"95% CI: [{conquerorAmumuCI[0]:.6f}, {conquerorAmumuCI[1]:.6f}]\")"
   ]
  },
  {
   "cell_type": "code",
   "execution_count": null,
   "metadata": {},
   "outputs": [],
   "source": []
  }
 ]
}