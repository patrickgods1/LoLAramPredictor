{
 "metadata": {
  "language_info": {
   "codemirror_mode": {
    "name": "ipython",
    "version": 3
   },
   "file_extension": ".py",
   "mimetype": "text/x-python",
   "name": "python",
   "nbconvert_exporter": "python",
   "pygments_lexer": "ipython3",
   "version": "3.6.10-final"
  },
  "orig_nbformat": 2,
  "kernelspec": {
   "name": "Python 3.6.10 64-bit ('Python36': conda)",
   "display_name": "Python 3.6.10 64-bit ('Python36': conda)",
   "metadata": {
    "interpreter": {
     "hash": "23508edb48211c585617c619e9f1b5e8d4b0a27eebe8bdb1b05c1cca5979f0c4"
    }
   }
  }
 },
 "nbformat": 4,
 "nbformat_minor": 2,
 "cells": [
  {
   "cell_type": "code",
   "execution_count": 24,
   "metadata": {},
   "outputs": [],
   "source": [
    "import pandas as pd\n",
    "import json\n",
    "filePath = r\"C:\\\\Users\\\\Pat\\\\Desktop\\\\Projects\\\\LoLAramPredictor\\\\Game Info\\\\\""
   ]
  },
  {
   "cell_type": "code",
   "execution_count": 25,
   "metadata": {
    "tags": []
   },
   "outputs": [
    {
     "output_type": "execute_result",
     "data": {
      "text/plain": "    championId     name attack defense magic difficulty primaryClass  \\\n0          266   Aatrox      8       4     3          4      Fighter   \n1          103     Ahri      3       4     8          5         Mage   \n2           84    Akali      5       3     8          7     Assassin   \n3           12  Alistar      6       9     5          7         Tank   \n4           32    Amumu      2       6     8          3         Tank   \n..         ...      ...    ...     ...   ...        ...          ...   \n146        238      Zed      9       2     1          7     Assassin   \n147        115    Ziggs      2       4     9          4         Mage   \n148         26   Zilean      2       5     8          6      Support   \n149        142      Zoe      1       7     8          5         Mage   \n150        143     Zyra      4       3     8          7         Mage   \n\n    secondaryClass     partype      hp  ... hpregen hpregenperlevel mpregen  \\\n0             Tank  Blood Well     580  ...       3               1       0   \n1         Assassin        Mana     526  ...     5.5             0.6       8   \n2             None      Energy     575  ...       8             0.5      50   \n3          Support        Mana     600  ...     8.5            0.85     8.5   \n4             Mage        Mana  613.12  ...       9            0.85   7.382   \n..             ...         ...     ...  ...     ...             ...     ...   \n146           None      Energy     584  ...       7            0.65      50   \n147           None        Mana     536  ...     6.5             0.6       8   \n148           Mage        Mana     504  ...     5.5             0.5  11.335   \n149        Support        Mana     560  ...     6.5             0.6       8   \n150        Support        Mana     504  ...     5.5             0.5      13   \n\n    mpregenperlevel crit  critperlevel  attackdamage  attackdamageperlevel  \\\n0                 0    0             0            60                     5   \n1               0.8    0             0         53.04                     3   \n2                 0    0             0          62.4                   3.3   \n3               0.8    0             0            62                  3.75   \n4             0.525    0             0         53.38                   3.8   \n..              ...  ...           ...           ...                   ...   \n146               0    0             0            63                   3.4   \n147             0.8    0             0        54.208                   3.1   \n148             0.8    0             0         51.64                     3   \n149            0.65    0             0            58                   3.3   \n150             0.4    0             0        53.376                   3.2   \n\n    attackspeedperlevel attackspeed  \n0                 2.500       0.651  \n1                 2.000       0.668  \n2                 3.200       0.625  \n3                 2.125       0.625  \n4                 2.180       0.736  \n..                  ...         ...  \n146               3.300       0.651  \n147               2.000       0.656  \n148               2.130       0.625  \n149               2.500       0.625  \n150               2.110       0.625  \n\n[151 rows x 29 columns]",
      "text/html": "<div>\n<style scoped>\n    .dataframe tbody tr th:only-of-type {\n        vertical-align: middle;\n    }\n\n    .dataframe tbody tr th {\n        vertical-align: top;\n    }\n\n    .dataframe thead th {\n        text-align: right;\n    }\n</style>\n<table border=\"1\" class=\"dataframe\">\n  <thead>\n    <tr style=\"text-align: right;\">\n      <th></th>\n      <th>championId</th>\n      <th>name</th>\n      <th>attack</th>\n      <th>defense</th>\n      <th>magic</th>\n      <th>difficulty</th>\n      <th>primaryClass</th>\n      <th>secondaryClass</th>\n      <th>partype</th>\n      <th>hp</th>\n      <th>...</th>\n      <th>hpregen</th>\n      <th>hpregenperlevel</th>\n      <th>mpregen</th>\n      <th>mpregenperlevel</th>\n      <th>crit</th>\n      <th>critperlevel</th>\n      <th>attackdamage</th>\n      <th>attackdamageperlevel</th>\n      <th>attackspeedperlevel</th>\n      <th>attackspeed</th>\n    </tr>\n  </thead>\n  <tbody>\n    <tr>\n      <th>0</th>\n      <td>266</td>\n      <td>Aatrox</td>\n      <td>8</td>\n      <td>4</td>\n      <td>3</td>\n      <td>4</td>\n      <td>Fighter</td>\n      <td>Tank</td>\n      <td>Blood Well</td>\n      <td>580</td>\n      <td>...</td>\n      <td>3</td>\n      <td>1</td>\n      <td>0</td>\n      <td>0</td>\n      <td>0</td>\n      <td>0</td>\n      <td>60</td>\n      <td>5</td>\n      <td>2.500</td>\n      <td>0.651</td>\n    </tr>\n    <tr>\n      <th>1</th>\n      <td>103</td>\n      <td>Ahri</td>\n      <td>3</td>\n      <td>4</td>\n      <td>8</td>\n      <td>5</td>\n      <td>Mage</td>\n      <td>Assassin</td>\n      <td>Mana</td>\n      <td>526</td>\n      <td>...</td>\n      <td>5.5</td>\n      <td>0.6</td>\n      <td>8</td>\n      <td>0.8</td>\n      <td>0</td>\n      <td>0</td>\n      <td>53.04</td>\n      <td>3</td>\n      <td>2.000</td>\n      <td>0.668</td>\n    </tr>\n    <tr>\n      <th>2</th>\n      <td>84</td>\n      <td>Akali</td>\n      <td>5</td>\n      <td>3</td>\n      <td>8</td>\n      <td>7</td>\n      <td>Assassin</td>\n      <td>None</td>\n      <td>Energy</td>\n      <td>575</td>\n      <td>...</td>\n      <td>8</td>\n      <td>0.5</td>\n      <td>50</td>\n      <td>0</td>\n      <td>0</td>\n      <td>0</td>\n      <td>62.4</td>\n      <td>3.3</td>\n      <td>3.200</td>\n      <td>0.625</td>\n    </tr>\n    <tr>\n      <th>3</th>\n      <td>12</td>\n      <td>Alistar</td>\n      <td>6</td>\n      <td>9</td>\n      <td>5</td>\n      <td>7</td>\n      <td>Tank</td>\n      <td>Support</td>\n      <td>Mana</td>\n      <td>600</td>\n      <td>...</td>\n      <td>8.5</td>\n      <td>0.85</td>\n      <td>8.5</td>\n      <td>0.8</td>\n      <td>0</td>\n      <td>0</td>\n      <td>62</td>\n      <td>3.75</td>\n      <td>2.125</td>\n      <td>0.625</td>\n    </tr>\n    <tr>\n      <th>4</th>\n      <td>32</td>\n      <td>Amumu</td>\n      <td>2</td>\n      <td>6</td>\n      <td>8</td>\n      <td>3</td>\n      <td>Tank</td>\n      <td>Mage</td>\n      <td>Mana</td>\n      <td>613.12</td>\n      <td>...</td>\n      <td>9</td>\n      <td>0.85</td>\n      <td>7.382</td>\n      <td>0.525</td>\n      <td>0</td>\n      <td>0</td>\n      <td>53.38</td>\n      <td>3.8</td>\n      <td>2.180</td>\n      <td>0.736</td>\n    </tr>\n    <tr>\n      <th>...</th>\n      <td>...</td>\n      <td>...</td>\n      <td>...</td>\n      <td>...</td>\n      <td>...</td>\n      <td>...</td>\n      <td>...</td>\n      <td>...</td>\n      <td>...</td>\n      <td>...</td>\n      <td>...</td>\n      <td>...</td>\n      <td>...</td>\n      <td>...</td>\n      <td>...</td>\n      <td>...</td>\n      <td>...</td>\n      <td>...</td>\n      <td>...</td>\n      <td>...</td>\n      <td>...</td>\n    </tr>\n    <tr>\n      <th>146</th>\n      <td>238</td>\n      <td>Zed</td>\n      <td>9</td>\n      <td>2</td>\n      <td>1</td>\n      <td>7</td>\n      <td>Assassin</td>\n      <td>None</td>\n      <td>Energy</td>\n      <td>584</td>\n      <td>...</td>\n      <td>7</td>\n      <td>0.65</td>\n      <td>50</td>\n      <td>0</td>\n      <td>0</td>\n      <td>0</td>\n      <td>63</td>\n      <td>3.4</td>\n      <td>3.300</td>\n      <td>0.651</td>\n    </tr>\n    <tr>\n      <th>147</th>\n      <td>115</td>\n      <td>Ziggs</td>\n      <td>2</td>\n      <td>4</td>\n      <td>9</td>\n      <td>4</td>\n      <td>Mage</td>\n      <td>None</td>\n      <td>Mana</td>\n      <td>536</td>\n      <td>...</td>\n      <td>6.5</td>\n      <td>0.6</td>\n      <td>8</td>\n      <td>0.8</td>\n      <td>0</td>\n      <td>0</td>\n      <td>54.208</td>\n      <td>3.1</td>\n      <td>2.000</td>\n      <td>0.656</td>\n    </tr>\n    <tr>\n      <th>148</th>\n      <td>26</td>\n      <td>Zilean</td>\n      <td>2</td>\n      <td>5</td>\n      <td>8</td>\n      <td>6</td>\n      <td>Support</td>\n      <td>Mage</td>\n      <td>Mana</td>\n      <td>504</td>\n      <td>...</td>\n      <td>5.5</td>\n      <td>0.5</td>\n      <td>11.335</td>\n      <td>0.8</td>\n      <td>0</td>\n      <td>0</td>\n      <td>51.64</td>\n      <td>3</td>\n      <td>2.130</td>\n      <td>0.625</td>\n    </tr>\n    <tr>\n      <th>149</th>\n      <td>142</td>\n      <td>Zoe</td>\n      <td>1</td>\n      <td>7</td>\n      <td>8</td>\n      <td>5</td>\n      <td>Mage</td>\n      <td>Support</td>\n      <td>Mana</td>\n      <td>560</td>\n      <td>...</td>\n      <td>6.5</td>\n      <td>0.6</td>\n      <td>8</td>\n      <td>0.65</td>\n      <td>0</td>\n      <td>0</td>\n      <td>58</td>\n      <td>3.3</td>\n      <td>2.500</td>\n      <td>0.625</td>\n    </tr>\n    <tr>\n      <th>150</th>\n      <td>143</td>\n      <td>Zyra</td>\n      <td>4</td>\n      <td>3</td>\n      <td>8</td>\n      <td>7</td>\n      <td>Mage</td>\n      <td>Support</td>\n      <td>Mana</td>\n      <td>504</td>\n      <td>...</td>\n      <td>5.5</td>\n      <td>0.5</td>\n      <td>13</td>\n      <td>0.4</td>\n      <td>0</td>\n      <td>0</td>\n      <td>53.376</td>\n      <td>3.2</td>\n      <td>2.110</td>\n      <td>0.625</td>\n    </tr>\n  </tbody>\n</table>\n<p>151 rows × 29 columns</p>\n</div>"
     },
     "metadata": {},
     "execution_count": 25
    }
   ],
   "source": [
    "with open(filePath+'champion.json', encoding='utf8') as f:\n",
    "    championData = json.load(f)\n",
    "\n",
    "champions = pd.DataFrame(columns = ['championId', 'name', 'attack', 'defense', 'magic', 'difficulty', 'primaryClass', 'secondaryClass', 'partype', 'hp', 'hpperlevel', 'mp', 'mpperlevel', 'movespeed', 'armor', 'armorperlevel', 'spellblock', 'spellblockperlevel', 'attackrange', 'hpregen', 'hpregenperlevel', 'mpregen', 'mpregenperlevel', 'crit', 'critperlevel', 'attackdamage', 'attackdamageperlevel', 'attackspeedperlevel', 'attackspeed'])\n",
    "\n",
    "for k, v in championData['data'].items():\n",
    "    champions = champions.append({'championId': int(v['key']),\n",
    "                        'name': v['name'], \n",
    "                        'attack': v['info']['attack'], \n",
    "                        'defense': v['info']['defense'], \n",
    "                        'magic': v['info']['magic'], \n",
    "                        'difficulty': v['info']['difficulty'], \n",
    "                        'primaryClass': v['tags'][0], \n",
    "                        'secondaryClass': v['tags'][1] if len(v['tags']) > 1 else 'None', \n",
    "                        'partype': v['partype'], \n",
    "                        'hp': v['stats']['hp'], \n",
    "                        'hpperlevel': v['stats']['hpperlevel'], \n",
    "                        'mp': v['stats']['mp'], \n",
    "                        'mpperlevel': v['stats']['mpperlevel'], \n",
    "                        'movespeed': v['stats']['movespeed'], \n",
    "                        'armor': v['stats']['armor'], \n",
    "                        'armorperlevel': v['stats']['armorperlevel'], \n",
    "                        'spellblock': v['stats']['spellblock'], \n",
    "                        'spellblockperlevel': v['stats']['spellblockperlevel'], \n",
    "                        'attackrange': v['stats']['attackrange'], \n",
    "                        'hpregen': v['stats']['hpregen'], \n",
    "                        'hpregenperlevel': v['stats']['hpregenperlevel'], \n",
    "                        'mpregen': v['stats']['mpregen'], \n",
    "                        'mpregenperlevel': v['stats']['mpregenperlevel'], \n",
    "                        'crit': v['stats']['crit'], \n",
    "                        'critperlevel': v['stats']['critperlevel'], \n",
    "                        'attackdamage': v['stats']['attackdamage'], \n",
    "                        'attackdamageperlevel': v['stats']['attackdamageperlevel'], \n",
    "                        'attackspeedperlevel': v['stats']['attackspeedperlevel'], \n",
    "                        'attackspeed': v['stats']['attackspeed']}, ignore_index=True)\n",
    "\n",
    "champions"
   ]
  },
  {
   "cell_type": "code",
   "execution_count": 26,
   "metadata": {
    "tags": []
   },
   "outputs": [],
   "source": [
    "import asyncpg\n",
    "import nest_asyncio\n",
    "import asyncio\n",
    "from config import dbConfig\n",
    "\n",
    "nest_asyncio.apply()\n",
    "loop = asyncio.get_event_loop()"
   ]
  },
  {
   "cell_type": "code",
   "execution_count": 27,
   "metadata": {
    "tags": []
   },
   "outputs": [],
   "source": [
    "# import itertools\n",
    "# champNameCombo = list(itertools.combinations(champions['name'], 2))\n",
    "# print(champNameCombo[0])\n",
    "\n",
    "# champIdCombinations = list(itertools.combinations(champions['championId'], 2))\n",
    "# champIdCombinations"
   ]
  },
  {
   "cell_type": "code",
   "execution_count": 50,
   "metadata": {
    "tags": []
   },
   "outputs": [
    {
     "output_type": "stream",
     "name": "stdout",
     "text": "27 - {'Gragas', 'Shen', 'Zac', 'Ornn', 'Malphite', 'Nami', 'Rammus', 'Lulu', 'Poppy', 'Maokai', 'Senna', 'Sona', 'Galio', 'Amumu', 'Tahm Kench', 'Yuumi', 'Nunu & Willump', 'Karma', 'Sion', 'Soraka', 'Taric', 'Nautilus', 'Alistar', 'Leona', 'Janna', 'Sejuani', 'Braum'}\n"
    }
   ],
   "source": [
    "vanguard = ['Alistar', 'Amumu', 'Gragas', 'Leona', 'Malphite', 'Maokai', 'Nautilus', 'Nunu & Willump', 'Ornn', 'Rammus', 'Sejuani', 'Sion', 'Zac']\n",
    "warden = ['Braum', 'Galio', 'Shen', 'Poppy', 'Tahm Kench', 'Taric']\n",
    "enchanter = ['Lulu', 'Janna', 'Soraka', 'Sona', 'Nami', 'Taric', 'Yuumi', 'Karma', 'Senna']\n",
    "peel = set(vanguard + warden + enchanter)\n",
    "print(f'{len(peel)} - {peel}')"
   ]
  },
  {
   "cell_type": "code",
   "execution_count": 51,
   "metadata": {
    "tags": []
   },
   "outputs": [
    {
     "output_type": "stream",
     "name": "stdout",
     "text": "27 - [12, 32, 201, 3, 79, 40, 43, 89, 117, 54, 57, 267, 111, 20, 516, 78, 33, 113, 235, 98, 14, 37, 16, 223, 44, 350, 154]\n"
    }
   ],
   "source": [
    "peelId = champions.loc[champions['name'].isin(peel), 'championId'].to_list()\n",
    "print(f'{len(peelId)} - {peelId}')"
   ]
  },
  {
   "cell_type": "code",
   "execution_count": 52,
   "metadata": {},
   "outputs": [
    {
     "output_type": "execute_result",
     "data": {
      "text/plain": "10"
     },
     "metadata": {},
     "execution_count": 52
    }
   ],
   "source": [
    "kayleId = champions.loc[champions['name'] == 'Kayle', 'championId'].values[0]\n",
    "kayleId"
   ]
  },
  {
   "cell_type": "code",
   "execution_count": 49,
   "metadata": {},
   "outputs": [
    {
     "output_type": "execute_result",
     "data": {
      "text/plain": "       gameId  championId teamColor    win\n0  2855142709         267       Red   True\n1  2855142709          57       Red   True\n2  2855142709          20      Blue  False\n3  2855142709         117       Red   True\n4  2856401827          37      Blue   True\n5  2856401827          10       Red  False\n6  2856437506          14      Blue  False\n7  2856474922         516      Blue   True\n8  2856474922         117      Blue   True\n9  2856474922          12       Red  False",
      "text/html": "<div>\n<style scoped>\n    .dataframe tbody tr th:only-of-type {\n        vertical-align: middle;\n    }\n\n    .dataframe tbody tr th {\n        vertical-align: top;\n    }\n\n    .dataframe thead th {\n        text-align: right;\n    }\n</style>\n<table border=\"1\" class=\"dataframe\">\n  <thead>\n    <tr style=\"text-align: right;\">\n      <th></th>\n      <th>gameId</th>\n      <th>championId</th>\n      <th>teamColor</th>\n      <th>win</th>\n    </tr>\n  </thead>\n  <tbody>\n    <tr>\n      <th>0</th>\n      <td>2855142709</td>\n      <td>267</td>\n      <td>Red</td>\n      <td>True</td>\n    </tr>\n    <tr>\n      <th>1</th>\n      <td>2855142709</td>\n      <td>57</td>\n      <td>Red</td>\n      <td>True</td>\n    </tr>\n    <tr>\n      <th>2</th>\n      <td>2855142709</td>\n      <td>20</td>\n      <td>Blue</td>\n      <td>False</td>\n    </tr>\n    <tr>\n      <th>3</th>\n      <td>2855142709</td>\n      <td>117</td>\n      <td>Red</td>\n      <td>True</td>\n    </tr>\n    <tr>\n      <th>4</th>\n      <td>2856401827</td>\n      <td>37</td>\n      <td>Blue</td>\n      <td>True</td>\n    </tr>\n    <tr>\n      <th>5</th>\n      <td>2856401827</td>\n      <td>10</td>\n      <td>Red</td>\n      <td>False</td>\n    </tr>\n    <tr>\n      <th>6</th>\n      <td>2856437506</td>\n      <td>14</td>\n      <td>Blue</td>\n      <td>False</td>\n    </tr>\n    <tr>\n      <th>7</th>\n      <td>2856474922</td>\n      <td>516</td>\n      <td>Blue</td>\n      <td>True</td>\n    </tr>\n    <tr>\n      <th>8</th>\n      <td>2856474922</td>\n      <td>117</td>\n      <td>Blue</td>\n      <td>True</td>\n    </tr>\n    <tr>\n      <th>9</th>\n      <td>2856474922</td>\n      <td>12</td>\n      <td>Red</td>\n      <td>False</td>\n    </tr>\n  </tbody>\n</table>\n</div>"
     },
     "metadata": {},
     "execution_count": 49
    }
   ],
   "source": [
    "async def fetch_as_dataframe(con: asyncpg.Connection, query: str, *args):\n",
    "    stmt = await con.prepare(query)\n",
    "    columns = [a.name for a in stmt.get_attributes()]\n",
    "    data = await stmt.fetch()\n",
    "    return pd.DataFrame(data, columns=columns)\n",
    "\n",
    "async def run():\n",
    "    connection = await asyncpg.connect(user=dbConfig['user'],\n",
    "                                password=dbConfig['password'],\n",
    "                                host=dbConfig['host'],\n",
    "                                port=dbConfig['port'],\n",
    "                                database=dbConfig['database'])\n",
    "    async with connection.transaction():\n",
    "        query = f'SELECT \"gameId\", \"championId\", \"teamColor\", \"win\" \\\n",
    "                    FROM \"Participant_Stats\" \\\n",
    "                    WHERE \"championId\" IN ({\" ,\".join(str(x) for x in peelId)}) or \"championId\" = ({kayleId})\\\n",
    "                    ORDER BY \"gameId\" ASC;'\n",
    "        games_df = await fetch_as_dataframe(connection, query)\n",
    "\n",
    "    return games_df\n",
    "\n",
    "games_df = loop.run_until_complete(run())\n",
    "games_df.head(10)"
   ]
  },
  {
   "cell_type": "code",
   "execution_count": 53,
   "metadata": {},
   "outputs": [
    {
     "output_type": "execute_result",
     "data": {
      "text/plain": "Index               128\ngameId         22145752\nchampionId      5536438\nteamColor     167477276\nwin             2768219\nisKayle         2768219\nisPeel          2768219\ndtype: int64"
     },
     "metadata": {},
     "execution_count": 53
    }
   ],
   "source": [
    "games_df['championId'] = pd.to_numeric(games_df['championId'], downcast='unsigned')\n",
    "games_df['isKayle'] = games_df['championId'] == kayleId\n",
    "games_df['isPeel'] = games_df['championId'].isin(peelId)\n",
    "games_df.memory_usage(deep=True)"
   ]
  },
  {
   "cell_type": "code",
   "execution_count": 56,
   "metadata": {},
   "outputs": [
    {
     "output_type": "execute_result",
     "data": {
      "text/plain": "             gameId  championId teamColor    win  isKayle  isPeel\n0        2855142709         267       Red   True    False    True\n1        2855142709          57       Red   True    False    True\n2        2855142709          20      Blue  False    False    True\n3        2855142709         117       Red   True    False    True\n4        2856401827          37      Blue   True    False    True\n...             ...         ...       ...    ...      ...     ...\n2768214  3588297793          16      Blue   True    False    True\n2768215  3588365616         117       Red   True    False    True\n2768216  3588365616          20       Red   True    False    True\n2768217  3588420238         350       Red   True    False    True\n2768218  3588420238          43      Blue  False    False    True\n\n[2768219 rows x 6 columns]",
      "text/html": "<div>\n<style scoped>\n    .dataframe tbody tr th:only-of-type {\n        vertical-align: middle;\n    }\n\n    .dataframe tbody tr th {\n        vertical-align: top;\n    }\n\n    .dataframe thead th {\n        text-align: right;\n    }\n</style>\n<table border=\"1\" class=\"dataframe\">\n  <thead>\n    <tr style=\"text-align: right;\">\n      <th></th>\n      <th>gameId</th>\n      <th>championId</th>\n      <th>teamColor</th>\n      <th>win</th>\n      <th>isKayle</th>\n      <th>isPeel</th>\n    </tr>\n  </thead>\n  <tbody>\n    <tr>\n      <th>0</th>\n      <td>2855142709</td>\n      <td>267</td>\n      <td>Red</td>\n      <td>True</td>\n      <td>False</td>\n      <td>True</td>\n    </tr>\n    <tr>\n      <th>1</th>\n      <td>2855142709</td>\n      <td>57</td>\n      <td>Red</td>\n      <td>True</td>\n      <td>False</td>\n      <td>True</td>\n    </tr>\n    <tr>\n      <th>2</th>\n      <td>2855142709</td>\n      <td>20</td>\n      <td>Blue</td>\n      <td>False</td>\n      <td>False</td>\n      <td>True</td>\n    </tr>\n    <tr>\n      <th>3</th>\n      <td>2855142709</td>\n      <td>117</td>\n      <td>Red</td>\n      <td>True</td>\n      <td>False</td>\n      <td>True</td>\n    </tr>\n    <tr>\n      <th>4</th>\n      <td>2856401827</td>\n      <td>37</td>\n      <td>Blue</td>\n      <td>True</td>\n      <td>False</td>\n      <td>True</td>\n    </tr>\n    <tr>\n      <th>...</th>\n      <td>...</td>\n      <td>...</td>\n      <td>...</td>\n      <td>...</td>\n      <td>...</td>\n      <td>...</td>\n    </tr>\n    <tr>\n      <th>2768214</th>\n      <td>3588297793</td>\n      <td>16</td>\n      <td>Blue</td>\n      <td>True</td>\n      <td>False</td>\n      <td>True</td>\n    </tr>\n    <tr>\n      <th>2768215</th>\n      <td>3588365616</td>\n      <td>117</td>\n      <td>Red</td>\n      <td>True</td>\n      <td>False</td>\n      <td>True</td>\n    </tr>\n    <tr>\n      <th>2768216</th>\n      <td>3588365616</td>\n      <td>20</td>\n      <td>Red</td>\n      <td>True</td>\n      <td>False</td>\n      <td>True</td>\n    </tr>\n    <tr>\n      <th>2768217</th>\n      <td>3588420238</td>\n      <td>350</td>\n      <td>Red</td>\n      <td>True</td>\n      <td>False</td>\n      <td>True</td>\n    </tr>\n    <tr>\n      <th>2768218</th>\n      <td>3588420238</td>\n      <td>43</td>\n      <td>Blue</td>\n      <td>False</td>\n      <td>False</td>\n      <td>True</td>\n    </tr>\n  </tbody>\n</table>\n<p>2768219 rows × 6 columns</p>\n</div>"
     },
     "metadata": {},
     "execution_count": 56
    }
   ],
   "source": [
    "games_df"
   ]
  },
  {
   "cell_type": "code",
   "execution_count": 60,
   "metadata": {},
   "outputs": [
    {
     "output_type": "execute_result",
     "data": {
      "text/plain": "                     win isPeel\n                     sum    sum\ngameId     teamColor           \n2856401827 Red         0      0\n2856507704 Blue        1      0\n2856628509 Blue        2      1\n2856632779 Blue        2      1\n2856668912 Blue        0      2\n...                   ..    ...\n3588231162 Red         1      0\n3588244421 Red         1      0\n3588281478 Blue        3      2\n3588282140 Red         0      0\n3588287460 Red         0      0\n\n[152869 rows x 2 columns]",
      "text/html": "<div>\n<style scoped>\n    .dataframe tbody tr th:only-of-type {\n        vertical-align: middle;\n    }\n\n    .dataframe tbody tr th {\n        vertical-align: top;\n    }\n\n    .dataframe thead tr th {\n        text-align: left;\n    }\n\n    .dataframe thead tr:last-of-type th {\n        text-align: right;\n    }\n</style>\n<table border=\"1\" class=\"dataframe\">\n  <thead>\n    <tr>\n      <th></th>\n      <th></th>\n      <th>win</th>\n      <th>isPeel</th>\n    </tr>\n    <tr>\n      <th></th>\n      <th></th>\n      <th>sum</th>\n      <th>sum</th>\n    </tr>\n    <tr>\n      <th>gameId</th>\n      <th>teamColor</th>\n      <th></th>\n      <th></th>\n    </tr>\n  </thead>\n  <tbody>\n    <tr>\n      <th>2856401827</th>\n      <th>Red</th>\n      <td>0</td>\n      <td>0</td>\n    </tr>\n    <tr>\n      <th>2856507704</th>\n      <th>Blue</th>\n      <td>1</td>\n      <td>0</td>\n    </tr>\n    <tr>\n      <th>2856628509</th>\n      <th>Blue</th>\n      <td>2</td>\n      <td>1</td>\n    </tr>\n    <tr>\n      <th>2856632779</th>\n      <th>Blue</th>\n      <td>2</td>\n      <td>1</td>\n    </tr>\n    <tr>\n      <th>2856668912</th>\n      <th>Blue</th>\n      <td>0</td>\n      <td>2</td>\n    </tr>\n    <tr>\n      <th>...</th>\n      <th>...</th>\n      <td>...</td>\n      <td>...</td>\n    </tr>\n    <tr>\n      <th>3588231162</th>\n      <th>Red</th>\n      <td>1</td>\n      <td>0</td>\n    </tr>\n    <tr>\n      <th>3588244421</th>\n      <th>Red</th>\n      <td>1</td>\n      <td>0</td>\n    </tr>\n    <tr>\n      <th>3588281478</th>\n      <th>Blue</th>\n      <td>3</td>\n      <td>2</td>\n    </tr>\n    <tr>\n      <th>3588282140</th>\n      <th>Red</th>\n      <td>0</td>\n      <td>0</td>\n    </tr>\n    <tr>\n      <th>3588287460</th>\n      <th>Red</th>\n      <td>0</td>\n      <td>0</td>\n    </tr>\n  </tbody>\n</table>\n<p>152869 rows × 2 columns</p>\n</div>"
     },
     "metadata": {},
     "execution_count": 60
    }
   ],
   "source": [
    "kayleGames_df = games_df[['gameId', 'win', 'teamColor', 'isKayle', 'isPeel']].groupby(['gameId', 'teamColor']).agg(['sum'])[['win', 'isKayle', 'isPeel']]\n",
    "kayleGames_df.loc[kayleGames_df['isKayle']['sum'] == 1, ['win', 'isPeel']]"
   ]
  },
  {
   "cell_type": "code",
   "execution_count": 61,
   "metadata": {},
   "outputs": [],
   "source": [
    "from statsmodels.stats.proportion import proportion_confint"
   ]
  },
  {
   "cell_type": "code",
   "execution_count": 69,
   "metadata": {},
   "outputs": [],
   "source": [
    "noPeel = kayleGames_df[kayleGames_df['isPeel']['sum'] == 0]\n",
    "onePeel = kayleGames_df[kayleGames_df['isPeel']['sum'] == 1]\n",
    "twoPeel = kayleGames_df[kayleGames_df['isPeel']['sum'] == 2]\n",
    "threePeel = kayleGames_df[kayleGames_df['isPeel']['sum'] == 3]\n",
    "fourPeel = kayleGames_df[kayleGames_df['isPeel']['sum'] == 4]\n",
    "\n",
    "kayleWR = kayleGames_df['win']['sum'].astype(bool).sum(axis=0)/len(kayleGames_df.index)\n",
    "noPeelWR = noPeel['win']['sum'].astype(bool).sum(axis=0)/len(noPeel.index)\n",
    "onePeelWR = onePeel['win']['sum'].astype(bool).sum(axis=0)/len(onePeel.index)\n",
    "twoPeelWR = twoPeel['win']['sum'].astype(bool).sum(axis=0)/len(twoPeel.index)\n",
    "threePeelWR = threePeel['win']['sum'].astype(bool).sum(axis=0)/len(threePeel.index)\n",
    "fourPeelWR = fourPeel['win']['sum'].astype(bool).sum(axis=0)/len(fourPeel.index)\n",
    "\n",
    "kayleCI = proportion_confint(kayleGames_df['win']['sum'].astype(bool).sum(axis=0), len(kayleGames_df.index), method='binom_test', alpha=0.05)\n",
    "noPeelCI = proportion_confint(noPeel['win']['sum'].astype(bool).sum(axis=0), len(noPeel.index), method='binom_test', alpha=0.05)\n",
    "onePeelCI = proportion_confint(onePeel['win']['sum'].astype(bool).sum(axis=0), len(onePeel.index), method='binom_test', alpha=0.05)\n",
    "twoPeelCI = proportion_confint(twoPeel['win']['sum'].astype(bool).sum(axis=0), len(twoPeel.index), method='binom_test', alpha=0.05)\n",
    "threePeelCI = proportion_confint(threePeel['win']['sum'].astype(bool).sum(axis=0), len(threePeel.index), method='binom_test', alpha=0.05)\n",
    "fourPeelCI = proportion_confint(fourPeel['win']['sum'].astype(bool).sum(axis=0), len(fourPeel.index), method='binom_test', alpha=0.05)"
   ]
  },
  {
   "cell_type": "code",
   "execution_count": 70,
   "metadata": {
    "tags": []
   },
   "outputs": [
    {
     "output_type": "stream",
     "name": "stdout",
     "text": "kayleWR: 0.51125 [1038129 / 2030563]\nnoPeelWR: 0.52161 [37056 / 71041]\nonePeelWR: 0.51012 [706951 / 1385840]\ntwoPeelWR: 0.51550 [255821 / 496254]\nthreePeelWR: 0.49835 [36288 / 72817]\nfourPeelWR: 0.43650 [1966 / 4504]\n"
    }
   ],
   "source": [
    "print(f\"kayleWR: {kayleWR:.5f} [{kayleGames_df['win']['sum'].astype(bool).sum(axis=0)} / {len(kayleGames_df.index)}]\")\n",
    "print(f\"noPeelWR: {noPeelWR:.5f} [{noPeel['win']['sum'].astype(bool).sum(axis=0)} / {len(noPeel.index)}]\")\n",
    "print(f\"onePeelWR: {onePeelWR:.5f} [{onePeel['win']['sum'].astype(bool).sum(axis=0)} / {len(onePeel.index)}]\")\n",
    "print(f\"twoPeelWR: {twoPeelWR:.5f} [{twoPeel['win']['sum'].astype(bool).sum(axis=0)} / {len(twoPeel.index)}]\")\n",
    "print(f\"threePeelWR: {threePeelWR:.5f} [{threePeel['win']['sum'].astype(bool).sum(axis=0)} / {len(threePeel.index)}]\")\n",
    "print(f\"fourPeelWR: {fourPeelWR:.5f} [{fourPeel['win']['sum'].astype(bool).sum(axis=0)} / {len(fourPeel.index)}]\")"
   ]
  },
  {
   "cell_type": "code",
   "execution_count": 71,
   "metadata": {
    "tags": []
   },
   "outputs": [
    {
     "output_type": "stream",
     "name": "stdout",
     "text": "95% CI: [0.510564, 0.511939]\n95% CI: [0.517933, 0.525288]\n95% CI: [0.509292, 0.510957]\n95% CI: [0.514113, 0.516895]\n95% CI: [0.494713, 0.501978]\n95% CI: [0.422064, 0.451040]\n"
    }
   ],
   "source": [
    "print(f\"95% CI: [{kayleCI[0]:.6f}, {kayleCI[1]:.6f}]\")\n",
    "print(f\"95% CI: [{noPeelCI[0]:.6f}, {noPeelCI[1]:.6f}]\")\n",
    "print(f\"95% CI: [{onePeelCI[0]:.6f}, {onePeelCI[1]:.6f}]\")\n",
    "print(f\"95% CI: [{twoPeelCI[0]:.6f}, {twoPeelCI[1]:.6f}]\")\n",
    "print(f\"95% CI: [{threePeelCI[0]:.6f}, {threePeelCI[1]:.6f}]\")\n",
    "print(f\"95% CI: [{fourPeelCI[0]:.6f}, {fourPeelCI[1]:.6f}]\")"
   ]
  },
  {
   "cell_type": "code",
   "execution_count": null,
   "metadata": {},
   "outputs": [],
   "source": []
  }
 ]
}