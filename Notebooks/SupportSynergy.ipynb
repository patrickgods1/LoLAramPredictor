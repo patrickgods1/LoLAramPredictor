{
 "metadata": {
  "language_info": {
   "codemirror_mode": {
    "name": "ipython",
    "version": 3
   },
   "file_extension": ".py",
   "mimetype": "text/x-python",
   "name": "python",
   "nbconvert_exporter": "python",
   "pygments_lexer": "ipython3",
   "version": "3.6.10-final"
  },
  "orig_nbformat": 2,
  "kernelspec": {
   "name": "Python 3.6.10 64-bit ('Python36': conda)",
   "display_name": "Python 3.6.10 64-bit ('Python36': conda)",
   "metadata": {
    "interpreter": {
     "hash": "23508edb48211c585617c619e9f1b5e8d4b0a27eebe8bdb1b05c1cca5979f0c4"
    }
   }
  }
 },
 "nbformat": 4,
 "nbformat_minor": 2,
 "cells": [
  {
   "cell_type": "code",
   "execution_count": 1,
   "metadata": {},
   "outputs": [],
   "source": [
    "import pandas as pd\n",
    "import json\n",
    "filePath = r\"C:\\\\Users\\\\Pat\\\\Desktop\\\\Projects\\\\LoLAramPredictor\\\\Game Info\\\\\""
   ]
  },
  {
   "cell_type": "code",
   "execution_count": 2,
   "metadata": {
    "tags": []
   },
   "outputs": [
    {
     "output_type": "execute_result",
     "data": {
      "text/plain": "    championId     name attack defense magic difficulty primaryClass  \\\n0          266   Aatrox      8       4     3          4      Fighter   \n1          103     Ahri      3       4     8          5         Mage   \n2           84    Akali      5       3     8          7     Assassin   \n3           12  Alistar      6       9     5          7         Tank   \n4           32    Amumu      2       6     8          3         Tank   \n..         ...      ...    ...     ...   ...        ...          ...   \n145        238      Zed      9       2     1          7     Assassin   \n146        115    Ziggs      2       4     9          4         Mage   \n147         26   Zilean      2       5     8          6      Support   \n148        142      Zoe      1       7     8          5         Mage   \n149        143     Zyra      4       3     8          7         Mage   \n\n    secondaryClass     partype      hp  ... hpregen hpregenperlevel mpregen  \\\n0             Tank  Blood Well     580  ...       3               1       0   \n1         Assassin        Mana     526  ...     6.5             0.6       8   \n2             None      Energy     575  ...       8             0.5      50   \n3          Support        Mana     600  ...     8.5            0.85     8.5   \n4             Mage        Mana  613.12  ...       9            0.85   7.382   \n..             ...         ...     ...  ...     ...             ...     ...   \n145           None      Energy     584  ...       7            0.65      50   \n146           None        Mana     536  ...     6.5             0.6       8   \n147           Mage        Mana     504  ...     5.5             0.5  11.335   \n148        Support        Mana     560  ...     6.5             0.6       8   \n149        Support        Mana     504  ...     5.5             0.5      13   \n\n    mpregenperlevel crit  critperlevel  attackdamage  attackdamageperlevel  \\\n0                 0    0             0            60                     5   \n1               0.8    0             0         53.04                     3   \n2                 0    0             0          62.4                   3.3   \n3               0.8    0             0            62                  3.75   \n4             0.525    0             0         53.38                   3.8   \n..              ...  ...           ...           ...                   ...   \n145               0    0             0            63                   3.4   \n146             0.8    0             0        54.208                   3.1   \n147             0.8    0             0         51.64                     3   \n148            0.65    0             0            58                   3.3   \n149             0.4    0             0        53.376                   3.2   \n\n    attackspeedperlevel attackspeed  \n0                 2.500       0.651  \n1                 2.000       0.668  \n2                 3.200       0.625  \n3                 2.125       0.625  \n4                 2.180       0.736  \n..                  ...         ...  \n145               3.300       0.651  \n146               2.000       0.656  \n147               2.130       0.625  \n148               2.500       0.625  \n149               2.110       0.625  \n\n[150 rows x 29 columns]",
      "text/html": "<div>\n<style scoped>\n    .dataframe tbody tr th:only-of-type {\n        vertical-align: middle;\n    }\n\n    .dataframe tbody tr th {\n        vertical-align: top;\n    }\n\n    .dataframe thead th {\n        text-align: right;\n    }\n</style>\n<table border=\"1\" class=\"dataframe\">\n  <thead>\n    <tr style=\"text-align: right;\">\n      <th></th>\n      <th>championId</th>\n      <th>name</th>\n      <th>attack</th>\n      <th>defense</th>\n      <th>magic</th>\n      <th>difficulty</th>\n      <th>primaryClass</th>\n      <th>secondaryClass</th>\n      <th>partype</th>\n      <th>hp</th>\n      <th>...</th>\n      <th>hpregen</th>\n      <th>hpregenperlevel</th>\n      <th>mpregen</th>\n      <th>mpregenperlevel</th>\n      <th>crit</th>\n      <th>critperlevel</th>\n      <th>attackdamage</th>\n      <th>attackdamageperlevel</th>\n      <th>attackspeedperlevel</th>\n      <th>attackspeed</th>\n    </tr>\n  </thead>\n  <tbody>\n    <tr>\n      <th>0</th>\n      <td>266</td>\n      <td>Aatrox</td>\n      <td>8</td>\n      <td>4</td>\n      <td>3</td>\n      <td>4</td>\n      <td>Fighter</td>\n      <td>Tank</td>\n      <td>Blood Well</td>\n      <td>580</td>\n      <td>...</td>\n      <td>3</td>\n      <td>1</td>\n      <td>0</td>\n      <td>0</td>\n      <td>0</td>\n      <td>0</td>\n      <td>60</td>\n      <td>5</td>\n      <td>2.500</td>\n      <td>0.651</td>\n    </tr>\n    <tr>\n      <th>1</th>\n      <td>103</td>\n      <td>Ahri</td>\n      <td>3</td>\n      <td>4</td>\n      <td>8</td>\n      <td>5</td>\n      <td>Mage</td>\n      <td>Assassin</td>\n      <td>Mana</td>\n      <td>526</td>\n      <td>...</td>\n      <td>6.5</td>\n      <td>0.6</td>\n      <td>8</td>\n      <td>0.8</td>\n      <td>0</td>\n      <td>0</td>\n      <td>53.04</td>\n      <td>3</td>\n      <td>2.000</td>\n      <td>0.668</td>\n    </tr>\n    <tr>\n      <th>2</th>\n      <td>84</td>\n      <td>Akali</td>\n      <td>5</td>\n      <td>3</td>\n      <td>8</td>\n      <td>7</td>\n      <td>Assassin</td>\n      <td>None</td>\n      <td>Energy</td>\n      <td>575</td>\n      <td>...</td>\n      <td>8</td>\n      <td>0.5</td>\n      <td>50</td>\n      <td>0</td>\n      <td>0</td>\n      <td>0</td>\n      <td>62.4</td>\n      <td>3.3</td>\n      <td>3.200</td>\n      <td>0.625</td>\n    </tr>\n    <tr>\n      <th>3</th>\n      <td>12</td>\n      <td>Alistar</td>\n      <td>6</td>\n      <td>9</td>\n      <td>5</td>\n      <td>7</td>\n      <td>Tank</td>\n      <td>Support</td>\n      <td>Mana</td>\n      <td>600</td>\n      <td>...</td>\n      <td>8.5</td>\n      <td>0.85</td>\n      <td>8.5</td>\n      <td>0.8</td>\n      <td>0</td>\n      <td>0</td>\n      <td>62</td>\n      <td>3.75</td>\n      <td>2.125</td>\n      <td>0.625</td>\n    </tr>\n    <tr>\n      <th>4</th>\n      <td>32</td>\n      <td>Amumu</td>\n      <td>2</td>\n      <td>6</td>\n      <td>8</td>\n      <td>3</td>\n      <td>Tank</td>\n      <td>Mage</td>\n      <td>Mana</td>\n      <td>613.12</td>\n      <td>...</td>\n      <td>9</td>\n      <td>0.85</td>\n      <td>7.382</td>\n      <td>0.525</td>\n      <td>0</td>\n      <td>0</td>\n      <td>53.38</td>\n      <td>3.8</td>\n      <td>2.180</td>\n      <td>0.736</td>\n    </tr>\n    <tr>\n      <th>...</th>\n      <td>...</td>\n      <td>...</td>\n      <td>...</td>\n      <td>...</td>\n      <td>...</td>\n      <td>...</td>\n      <td>...</td>\n      <td>...</td>\n      <td>...</td>\n      <td>...</td>\n      <td>...</td>\n      <td>...</td>\n      <td>...</td>\n      <td>...</td>\n      <td>...</td>\n      <td>...</td>\n      <td>...</td>\n      <td>...</td>\n      <td>...</td>\n      <td>...</td>\n      <td>...</td>\n    </tr>\n    <tr>\n      <th>145</th>\n      <td>238</td>\n      <td>Zed</td>\n      <td>9</td>\n      <td>2</td>\n      <td>1</td>\n      <td>7</td>\n      <td>Assassin</td>\n      <td>None</td>\n      <td>Energy</td>\n      <td>584</td>\n      <td>...</td>\n      <td>7</td>\n      <td>0.65</td>\n      <td>50</td>\n      <td>0</td>\n      <td>0</td>\n      <td>0</td>\n      <td>63</td>\n      <td>3.4</td>\n      <td>3.300</td>\n      <td>0.651</td>\n    </tr>\n    <tr>\n      <th>146</th>\n      <td>115</td>\n      <td>Ziggs</td>\n      <td>2</td>\n      <td>4</td>\n      <td>9</td>\n      <td>4</td>\n      <td>Mage</td>\n      <td>None</td>\n      <td>Mana</td>\n      <td>536</td>\n      <td>...</td>\n      <td>6.5</td>\n      <td>0.6</td>\n      <td>8</td>\n      <td>0.8</td>\n      <td>0</td>\n      <td>0</td>\n      <td>54.208</td>\n      <td>3.1</td>\n      <td>2.000</td>\n      <td>0.656</td>\n    </tr>\n    <tr>\n      <th>147</th>\n      <td>26</td>\n      <td>Zilean</td>\n      <td>2</td>\n      <td>5</td>\n      <td>8</td>\n      <td>6</td>\n      <td>Support</td>\n      <td>Mage</td>\n      <td>Mana</td>\n      <td>504</td>\n      <td>...</td>\n      <td>5.5</td>\n      <td>0.5</td>\n      <td>11.335</td>\n      <td>0.8</td>\n      <td>0</td>\n      <td>0</td>\n      <td>51.64</td>\n      <td>3</td>\n      <td>2.130</td>\n      <td>0.625</td>\n    </tr>\n    <tr>\n      <th>148</th>\n      <td>142</td>\n      <td>Zoe</td>\n      <td>1</td>\n      <td>7</td>\n      <td>8</td>\n      <td>5</td>\n      <td>Mage</td>\n      <td>Support</td>\n      <td>Mana</td>\n      <td>560</td>\n      <td>...</td>\n      <td>6.5</td>\n      <td>0.6</td>\n      <td>8</td>\n      <td>0.65</td>\n      <td>0</td>\n      <td>0</td>\n      <td>58</td>\n      <td>3.3</td>\n      <td>2.500</td>\n      <td>0.625</td>\n    </tr>\n    <tr>\n      <th>149</th>\n      <td>143</td>\n      <td>Zyra</td>\n      <td>4</td>\n      <td>3</td>\n      <td>8</td>\n      <td>7</td>\n      <td>Mage</td>\n      <td>Support</td>\n      <td>Mana</td>\n      <td>504</td>\n      <td>...</td>\n      <td>5.5</td>\n      <td>0.5</td>\n      <td>13</td>\n      <td>0.4</td>\n      <td>0</td>\n      <td>0</td>\n      <td>53.376</td>\n      <td>3.2</td>\n      <td>2.110</td>\n      <td>0.625</td>\n    </tr>\n  </tbody>\n</table>\n<p>150 rows × 29 columns</p>\n</div>"
     },
     "metadata": {},
     "execution_count": 2
    }
   ],
   "source": [
    "with open(filePath+'champion.json', encoding='utf8') as f:\n",
    "    championData = json.load(f)\n",
    "\n",
    "champions = pd.DataFrame(columns = ['championId', 'name', 'attack', 'defense', 'magic', 'difficulty', 'primaryClass', 'secondaryClass', 'partype', 'hp', 'hpperlevel', 'mp', 'mpperlevel', 'movespeed', 'armor', 'armorperlevel', 'spellblock', 'spellblockperlevel', 'attackrange', 'hpregen', 'hpregenperlevel', 'mpregen', 'mpregenperlevel', 'crit', 'critperlevel', 'attackdamage', 'attackdamageperlevel', 'attackspeedperlevel', 'attackspeed'])\n",
    "\n",
    "for k, v in championData['data'].items():\n",
    "    champions = champions.append({'championId': int(v['key']),\n",
    "                        'name': v['name'], \n",
    "                        'attack': v['info']['attack'], \n",
    "                        'defense': v['info']['defense'], \n",
    "                        'magic': v['info']['magic'], \n",
    "                        'difficulty': v['info']['difficulty'], \n",
    "                        'primaryClass': v['tags'][0], \n",
    "                        'secondaryClass': v['tags'][1] if len(v['tags']) > 1 else 'None', \n",
    "                        'partype': v['partype'], \n",
    "                        'hp': v['stats']['hp'], \n",
    "                        'hpperlevel': v['stats']['hpperlevel'], \n",
    "                        'mp': v['stats']['mp'], \n",
    "                        'mpperlevel': v['stats']['mpperlevel'], \n",
    "                        'movespeed': v['stats']['movespeed'], \n",
    "                        'armor': v['stats']['armor'], \n",
    "                        'armorperlevel': v['stats']['armorperlevel'], \n",
    "                        'spellblock': v['stats']['spellblock'], \n",
    "                        'spellblockperlevel': v['stats']['spellblockperlevel'], \n",
    "                        'attackrange': v['stats']['attackrange'], \n",
    "                        'hpregen': v['stats']['hpregen'], \n",
    "                        'hpregenperlevel': v['stats']['hpregenperlevel'], \n",
    "                        'mpregen': v['stats']['mpregen'], \n",
    "                        'mpregenperlevel': v['stats']['mpregenperlevel'], \n",
    "                        'crit': v['stats']['crit'], \n",
    "                        'critperlevel': v['stats']['critperlevel'], \n",
    "                        'attackdamage': v['stats']['attackdamage'], \n",
    "                        'attackdamageperlevel': v['stats']['attackdamageperlevel'], \n",
    "                        'attackspeedperlevel': v['stats']['attackspeedperlevel'], \n",
    "                        'attackspeed': v['stats']['attackspeed']}, ignore_index=True)\n",
    "\n",
    "champions"
   ]
  },
  {
   "cell_type": "code",
   "execution_count": 3,
   "metadata": {
    "tags": []
   },
   "outputs": [],
   "source": [
    "import asyncpg\n",
    "import nest_asyncio\n",
    "import asyncio\n",
    "from config import dbConfig\n",
    "\n",
    "nest_asyncio.apply()\n",
    "loop = asyncio.get_event_loop()"
   ]
  },
  {
   "cell_type": "code",
   "execution_count": 4,
   "metadata": {
    "tags": []
   },
   "outputs": [
    {
     "output_type": "stream",
     "name": "stdout",
     "text": "supportChampIds(24): [12, 432, 53, 201, 427, 40, 43, 89, 117, 99, 25, 267, 111, 555, 497, 235, 37, 16, 223, 44, 412, 350, 26, 143]\n"
    }
   ],
   "source": [
    "supportNames = ['Alistar', 'Bard', 'Blitzcrank', 'Braum', 'Ivern', 'Janna', 'Karma', 'Leona', 'Lulu', 'Lux', 'Morgana', 'Nami', 'Nautilus', 'Pyke', 'Rakan', 'Senna', 'Sona', 'Soraka', 'Tahm Kench', 'Taric', 'Thresh', 'Yuumi', 'Zilean', 'Zyra']\n",
    "supportChampIds = [champions.loc[champions['name'] == name, 'championId'].values[0] for name in supportNames]\n",
    "# supportChampIds\n",
    "print(f'supportChampIds({len(supportChampIds)}): {supportChampIds}')"
   ]
  },
  {
   "cell_type": "code",
   "execution_count": 5,
   "metadata": {
    "tags": []
   },
   "outputs": [
    {
     "output_type": "stream",
     "name": "stdout",
     "text": "['Aatrox', 'Ahri', 'Akali', 'Amumu', 'Anivia', 'Annie', 'Aphelios', 'Ashe', 'Aurelion Sol', 'Azir', 'Brand', 'Caitlyn', 'Camille', 'Cassiopeia', \"Cho'Gath\", 'Corki', 'Darius', 'Diana', 'Draven', 'Dr. Mundo', 'Ekko', 'Elise', 'Evelynn', 'Ezreal', 'Fiddlesticks', 'Fiora', 'Fizz', 'Galio', 'Gangplank', 'Garen', 'Gnar', 'Gragas', 'Graves', 'Hecarim', 'Heimerdinger', 'Illaoi', 'Irelia', 'Jarvan IV', 'Jax', 'Jayce', 'Jhin', 'Jinx', \"Kai'Sa\", 'Kalista', 'Karthus', 'Kassadin', 'Katarina', 'Kayle', 'Kayn', 'Kennen', \"Kha'Zix\", 'Kindred', 'Kled', \"Kog'Maw\", 'LeBlanc', 'Lee Sin', 'Lillia', 'Lissandra', 'Lucian', 'Malphite', 'Malzahar', 'Maokai', 'Master Yi', 'Miss Fortune', 'Wukong', 'Mordekaiser', 'Nasus', 'Neeko', 'Nidalee', 'Nocturne', 'Nunu & Willump', 'Olaf', 'Orianna', 'Ornn', 'Pantheon', 'Poppy', 'Qiyana', 'Quinn', 'Rammus', \"Rek'Sai\", 'Renekton', 'Rengar', 'Riven', 'Rumble', 'Ryze', 'Sejuani', 'Sett', 'Shaco', 'Shen', 'Shyvana', 'Singed', 'Sion', 'Sivir', 'Skarner', 'Swain', 'Sylas', 'Syndra', 'Taliyah', 'Talon', 'Teemo', 'Tristana', 'Trundle', 'Tryndamere', 'Twisted Fate', 'Twitch', 'Udyr', 'Urgot', 'Varus', 'Vayne', 'Veigar', \"Vel'Koz\", 'Vi', 'Viktor', 'Vladimir', 'Volibear', 'Warwick', 'Xayah', 'Xerath', 'Xin Zhao', 'Yasuo', 'Yone', 'Yorick', 'Zac', 'Zed', 'Ziggs', 'Zoe']\n[('Alistar', 'Bard'), ('Alistar', 'Blitzcrank'), ('Alistar', 'Braum'), ('Alistar', 'Ivern'), ('Alistar', 'Janna'), ('Alistar', 'Karma'), ('Alistar', 'Leona'), ('Alistar', 'Lulu'), ('Alistar', 'Lux'), ('Alistar', 'Morgana'), ('Alistar', 'Nami'), ('Alistar', 'Nautilus'), ('Alistar', 'Pyke'), ('Alistar', 'Rakan'), ('Alistar', 'Senna'), ('Alistar', 'Sona'), ('Alistar', 'Soraka'), ('Alistar', 'Tahm Kench'), ('Alistar', 'Taric'), ('Alistar', 'Thresh'), ('Alistar', 'Yuumi'), ('Alistar', 'Zilean'), ('Alistar', 'Zyra'), ('Bard', 'Blitzcrank'), ('Bard', 'Braum'), ('Bard', 'Ivern'), ('Bard', 'Janna'), ('Bard', 'Karma'), ('Bard', 'Leona'), ('Bard', 'Lulu'), ('Bard', 'Lux'), ('Bard', 'Morgana'), ('Bard', 'Nami'), ('Bard', 'Nautilus'), ('Bard', 'Pyke'), ('Bard', 'Rakan'), ('Bard', 'Senna'), ('Bard', 'Sona'), ('Bard', 'Soraka'), ('Bard', 'Tahm Kench'), ('Bard', 'Taric'), ('Bard', 'Thresh'), ('Bard', 'Yuumi'), ('Bard', 'Zilean'), ('Bard', 'Zyra'), ('Blitzcrank', 'Braum'), ('Blitzcrank', 'Ivern'), ('Blitzcrank', 'Janna'), ('Blitzcrank', 'Karma'), ('Blitzcrank', 'Leona'), ('Blitzcrank', 'Lulu'), ('Blitzcrank', 'Lux'), ('Blitzcrank', 'Morgana'), ('Blitzcrank', 'Nami'), ('Blitzcrank', 'Nautilus'), ('Blitzcrank', 'Pyke'), ('Blitzcrank', 'Rakan'), ('Blitzcrank', 'Senna'), ('Blitzcrank', 'Sona'), ('Blitzcrank', 'Soraka'), ('Blitzcrank', 'Tahm Kench'), ('Blitzcrank', 'Taric'), ('Blitzcrank', 'Thresh'), ('Blitzcrank', 'Yuumi'), ('Blitzcrank', 'Zilean'), ('Blitzcrank', 'Zyra'), ('Braum', 'Ivern'), ('Braum', 'Janna'), ('Braum', 'Karma'), ('Braum', 'Leona'), ('Braum', 'Lulu'), ('Braum', 'Lux'), ('Braum', 'Morgana'), ('Braum', 'Nami'), ('Braum', 'Nautilus'), ('Braum', 'Pyke'), ('Braum', 'Rakan'), ('Braum', 'Senna'), ('Braum', 'Sona'), ('Braum', 'Soraka'), ('Braum', 'Tahm Kench'), ('Braum', 'Taric'), ('Braum', 'Thresh'), ('Braum', 'Yuumi'), ('Braum', 'Zilean'), ('Braum', 'Zyra'), ('Ivern', 'Janna'), ('Ivern', 'Karma'), ('Ivern', 'Leona'), ('Ivern', 'Lulu'), ('Ivern', 'Lux'), ('Ivern', 'Morgana'), ('Ivern', 'Nami'), ('Ivern', 'Nautilus'), ('Ivern', 'Pyke'), ('Ivern', 'Rakan'), ('Ivern', 'Senna'), ('Ivern', 'Sona'), ('Ivern', 'Soraka'), ('Ivern', 'Tahm Kench'), ('Ivern', 'Taric'), ('Ivern', 'Thresh'), ('Ivern', 'Yuumi'), ('Ivern', 'Zilean'), ('Ivern', 'Zyra'), ('Janna', 'Karma'), ('Janna', 'Leona'), ('Janna', 'Lulu'), ('Janna', 'Lux'), ('Janna', 'Morgana'), ('Janna', 'Nami'), ('Janna', 'Nautilus'), ('Janna', 'Pyke'), ('Janna', 'Rakan'), ('Janna', 'Senna'), ('Janna', 'Sona'), ('Janna', 'Soraka'), ('Janna', 'Tahm Kench'), ('Janna', 'Taric'), ('Janna', 'Thresh'), ('Janna', 'Yuumi'), ('Janna', 'Zilean'), ('Janna', 'Zyra'), ('Karma', 'Leona'), ('Karma', 'Lulu'), ('Karma', 'Lux'), ('Karma', 'Morgana'), ('Karma', 'Nami'), ('Karma', 'Nautilus'), ('Karma', 'Pyke'), ('Karma', 'Rakan'), ('Karma', 'Senna'), ('Karma', 'Sona'), ('Karma', 'Soraka'), ('Karma', 'Tahm Kench'), ('Karma', 'Taric'), ('Karma', 'Thresh'), ('Karma', 'Yuumi'), ('Karma', 'Zilean'), ('Karma', 'Zyra'), ('Leona', 'Lulu'), ('Leona', 'Lux'), ('Leona', 'Morgana'), ('Leona', 'Nami'), ('Leona', 'Nautilus'), ('Leona', 'Pyke'), ('Leona', 'Rakan'), ('Leona', 'Senna'), ('Leona', 'Sona'), ('Leona', 'Soraka'), ('Leona', 'Tahm Kench'), ('Leona', 'Taric'), ('Leona', 'Thresh'), ('Leona', 'Yuumi'), ('Leona', 'Zilean'), ('Leona', 'Zyra'), ('Lulu', 'Lux'), ('Lulu', 'Morgana'), ('Lulu', 'Nami'), ('Lulu', 'Nautilus'), ('Lulu', 'Pyke'), ('Lulu', 'Rakan'), ('Lulu', 'Senna'), ('Lulu', 'Sona'), ('Lulu', 'Soraka'), ('Lulu', 'Tahm Kench'), ('Lulu', 'Taric'), ('Lulu', 'Thresh'), ('Lulu', 'Yuumi'), ('Lulu', 'Zilean'), ('Lulu', 'Zyra'), ('Lux', 'Morgana'), ('Lux', 'Nami'), ('Lux', 'Nautilus'), ('Lux', 'Pyke'), ('Lux', 'Rakan'), ('Lux', 'Senna'), ('Lux', 'Sona'), ('Lux', 'Soraka'), ('Lux', 'Tahm Kench'), ('Lux', 'Taric'), ('Lux', 'Thresh'), ('Lux', 'Yuumi'), ('Lux', 'Zilean'), ('Lux', 'Zyra'), ('Morgana', 'Nami'), ('Morgana', 'Nautilus'), ('Morgana', 'Pyke'), ('Morgana', 'Rakan'), ('Morgana', 'Senna'), ('Morgana', 'Sona'), ('Morgana', 'Soraka'), ('Morgana', 'Tahm Kench'), ('Morgana', 'Taric'), ('Morgana', 'Thresh'), ('Morgana', 'Yuumi'), ('Morgana', 'Zilean'), ('Morgana', 'Zyra'), ('Nami', 'Nautilus'), ('Nami', 'Pyke'), ('Nami', 'Rakan'), ('Nami', 'Senna'), ('Nami', 'Sona'), ('Nami', 'Soraka'), ('Nami', 'Tahm Kench'), ('Nami', 'Taric'), ('Nami', 'Thresh'), ('Nami', 'Yuumi'), ('Nami', 'Zilean'), ('Nami', 'Zyra'), ('Nautilus', 'Pyke'), ('Nautilus', 'Rakan'), ('Nautilus', 'Senna'), ('Nautilus', 'Sona'), ('Nautilus', 'Soraka'), ('Nautilus', 'Tahm Kench'), ('Nautilus', 'Taric'), ('Nautilus', 'Thresh'), ('Nautilus', 'Yuumi'), ('Nautilus', 'Zilean'), ('Nautilus', 'Zyra'), ('Pyke', 'Rakan'), ('Pyke', 'Senna'), ('Pyke', 'Sona'), ('Pyke', 'Soraka'), ('Pyke', 'Tahm Kench'), ('Pyke', 'Taric'), ('Pyke', 'Thresh'), ('Pyke', 'Yuumi'), ('Pyke', 'Zilean'), ('Pyke', 'Zyra'), ('Rakan', 'Senna'), ('Rakan', 'Sona'), ('Rakan', 'Soraka'), ('Rakan', 'Tahm Kench'), ('Rakan', 'Taric'), ('Rakan', 'Thresh'), ('Rakan', 'Yuumi'), ('Rakan', 'Zilean'), ('Rakan', 'Zyra'), ('Senna', 'Sona'), ('Senna', 'Soraka'), ('Senna', 'Tahm Kench'), ('Senna', 'Taric'), ('Senna', 'Thresh'), ('Senna', 'Yuumi'), ('Senna', 'Zilean'), ('Senna', 'Zyra'), ('Sona', 'Soraka'), ('Sona', 'Tahm Kench'), ('Sona', 'Taric'), ('Sona', 'Thresh'), ('Sona', 'Yuumi'), ('Sona', 'Zilean'), ('Sona', 'Zyra'), ('Soraka', 'Tahm Kench'), ('Soraka', 'Taric'), ('Soraka', 'Thresh'), ('Soraka', 'Yuumi'), ('Soraka', 'Zilean'), ('Soraka', 'Zyra'), ('Tahm Kench', 'Taric'), ('Tahm Kench', 'Thresh'), ('Tahm Kench', 'Yuumi'), ('Tahm Kench', 'Zilean'), ('Tahm Kench', 'Zyra'), ('Taric', 'Thresh'), ('Taric', 'Yuumi'), ('Taric', 'Zilean'), ('Taric', 'Zyra'), ('Thresh', 'Yuumi'), ('Thresh', 'Zilean'), ('Thresh', 'Zyra'), ('Yuumi', 'Zilean'), ('Yuumi', 'Zyra'), ('Zilean', 'Zyra')]\n"
    }
   ],
   "source": [
    "import itertools\n",
    "nonSupportNames = champions.loc[~(champions['name'].isin(supportNames)), 'name'].to_list()\n",
    "nonSupportIds = champions.loc[~(champions['championId'].isin(supportChampIds)), 'championId'].to_list()\n",
    "twoSupportNames = list(itertools.combinations(supportNames,2))\n",
    "twoSupportIds = list(itertools.combinations(supportChampIds, 2))\n",
    "threeSupportNames = list(itertools.combinations(supportNames,3))\n",
    "threeSupportIds = list(itertools.combinations(supportChampIds, 3))\n",
    "fourSupportNames = list(itertools.combinations(supportNames,4))\n",
    "fourSupportIds = list(itertools.combinations(supportChampIds, 4))\n",
    "\n",
    "print(nonSupportNames)\n",
    "# print(nonSupportIds)\n",
    "print(twoSupportNames)\n",
    "# print(supportDuoIds)"
   ]
  },
  {
   "cell_type": "code",
   "execution_count": 6,
   "metadata": {},
   "outputs": [
    {
     "output_type": "execute_result",
     "data": {
      "text/plain": "       gameId  championId teamColor    win\n0  2855142709          75      Blue  False\n1  2855142709          22      Blue  False\n2  2855142709         498       Red   True\n3  2855142709          29       Red   True\n4  2855142709          21      Blue  False\n5  2855142709         122      Blue  False\n6  2855142709          57       Red   True\n7  2855142709          20      Blue  False\n8  2855142709         117       Red   True\n9  2855142709         267       Red   True",
      "text/html": "<div>\n<style scoped>\n    .dataframe tbody tr th:only-of-type {\n        vertical-align: middle;\n    }\n\n    .dataframe tbody tr th {\n        vertical-align: top;\n    }\n\n    .dataframe thead th {\n        text-align: right;\n    }\n</style>\n<table border=\"1\" class=\"dataframe\">\n  <thead>\n    <tr style=\"text-align: right;\">\n      <th></th>\n      <th>gameId</th>\n      <th>championId</th>\n      <th>teamColor</th>\n      <th>win</th>\n    </tr>\n  </thead>\n  <tbody>\n    <tr>\n      <th>0</th>\n      <td>2855142709</td>\n      <td>75</td>\n      <td>Blue</td>\n      <td>False</td>\n    </tr>\n    <tr>\n      <th>1</th>\n      <td>2855142709</td>\n      <td>22</td>\n      <td>Blue</td>\n      <td>False</td>\n    </tr>\n    <tr>\n      <th>2</th>\n      <td>2855142709</td>\n      <td>498</td>\n      <td>Red</td>\n      <td>True</td>\n    </tr>\n    <tr>\n      <th>3</th>\n      <td>2855142709</td>\n      <td>29</td>\n      <td>Red</td>\n      <td>True</td>\n    </tr>\n    <tr>\n      <th>4</th>\n      <td>2855142709</td>\n      <td>21</td>\n      <td>Blue</td>\n      <td>False</td>\n    </tr>\n    <tr>\n      <th>5</th>\n      <td>2855142709</td>\n      <td>122</td>\n      <td>Blue</td>\n      <td>False</td>\n    </tr>\n    <tr>\n      <th>6</th>\n      <td>2855142709</td>\n      <td>57</td>\n      <td>Red</td>\n      <td>True</td>\n    </tr>\n    <tr>\n      <th>7</th>\n      <td>2855142709</td>\n      <td>20</td>\n      <td>Blue</td>\n      <td>False</td>\n    </tr>\n    <tr>\n      <th>8</th>\n      <td>2855142709</td>\n      <td>117</td>\n      <td>Red</td>\n      <td>True</td>\n    </tr>\n    <tr>\n      <th>9</th>\n      <td>2855142709</td>\n      <td>267</td>\n      <td>Red</td>\n      <td>True</td>\n    </tr>\n  </tbody>\n</table>\n</div>"
     },
     "metadata": {},
     "execution_count": 6
    }
   ],
   "source": [
    "async def fetch_as_dataframe(con: asyncpg.Connection, query: str, *args):\n",
    "    stmt = await con.prepare(query)\n",
    "    columns = [a.name for a in stmt.get_attributes()]\n",
    "    data = await stmt.fetch()\n",
    "    return pd.DataFrame(data, columns=columns)\n",
    "\n",
    "async def run():\n",
    "    connection = await asyncpg.connect(user=dbConfig['user'],\n",
    "                                password=dbConfig['password'],\n",
    "                                host=dbConfig['host'],\n",
    "                                port=dbConfig['port'],\n",
    "                                database=dbConfig['database'])\n",
    "    async with connection.transaction():\n",
    "        allGamesQuery = f'SELECT \"gameId\", \"championId\", \"teamColor\", \"win\" \\\n",
    "                    FROM \"Participant_Stats\" \\\n",
    "                    ORDER BY \"gameId\" ASC;'\n",
    "        allGames_df = await fetch_as_dataframe(connection, allGamesQuery)\n",
    "\n",
    "    return allGames_df\n",
    "\n",
    "allGames_df = loop.run_until_complete(run())\n",
    "allGames_df.head(10)"
   ]
  },
  {
   "cell_type": "code",
   "execution_count": 7,
   "metadata": {},
   "outputs": [
    {
     "output_type": "execute_result",
     "data": {
      "text/plain": "Index               128\ngameId        129693160\nchampionId     32423290\nteamColor      16211645\nwin            16211645\ndtype: int64"
     },
     "metadata": {},
     "execution_count": 7
    }
   ],
   "source": [
    "allGames_df['championId'] = pd.to_numeric(allGames_df['championId'], downcast='unsigned')\n",
    "allGames_df['teamColor'] = allGames_df['teamColor'] == 'Red'\n",
    "allGames_df.memory_usage(deep=True)"
   ]
  },
  {
   "cell_type": "code",
   "execution_count": 8,
   "metadata": {},
   "outputs": [],
   "source": [
    "from multiprocessing.pool import ThreadPool as Pool\n",
    "from statsmodels.stats.proportion import proportion_confint"
   ]
  },
  {
   "cell_type": "code",
   "execution_count": 9,
   "metadata": {
    "tags": []
   },
   "outputs": [
    {
     "output_type": "stream",
     "name": "stdout",
     "text": "twoSupports(34776): [(266, 12, 432), (266, 12, 53), (266, 12, 201), (266, 12, 427), (266, 12, 40), (266, 12, 43), (266, 12, 89), (266, 12, 117), (266, 12, 99), (266, 12, 25)]\nthreeSupports(255024): [(266, 12, 432, 53), (266, 12, 432, 201), (266, 12, 432, 427), (266, 12, 432, 40), (266, 12, 432, 43), (266, 12, 432, 89), (266, 12, 432, 117), (266, 12, 432, 99), (266, 12, 432, 25), (266, 12, 432, 267)]\nfourSupports(1338876):[(266, 12, 432, 53, 201), (266, 12, 432, 53, 427), (266, 12, 432, 53, 40), (266, 12, 432, 53, 43), (266, 12, 432, 53, 89), (266, 12, 432, 53, 117), (266, 12, 432, 53, 99), (266, 12, 432, 53, 25), (266, 12, 432, 53, 267), (266, 12, 432, 53, 111)]\n"
    }
   ],
   "source": [
    "twoSupports = [(nonSupportId, *supportId) for nonSupportId in nonSupportIds for supportId in twoSupportIds]\n",
    "threeSupports = [(nonSupportId, *supportId) for nonSupportId in nonSupportIds for supportId in threeSupportIds]\n",
    "fourSupports = [(nonSupportId, *supportId) for nonSupportId in nonSupportIds for supportId in fourSupportIds]\n",
    "print(f'twoSupports({len(twoSupports)}): {twoSupports[:10]}')\n",
    "print(f'threeSupports({len(threeSupports)}): {threeSupports[:10]}')\n",
    "print(f'fourSupports({len(fourSupports)}):{fourSupports[:10]}')"
   ]
  },
  {
   "cell_type": "code",
   "execution_count": 10,
   "metadata": {
    "tags": []
   },
   "outputs": [
    {
     "output_type": "execute_result",
     "data": {
      "text/plain": "      nonSupportChamp supportChamp1 supportChamp2   winRate  \\\n0              Aatrox       Alistar          Bard  0.285714   \n1              Aatrox       Alistar    Blitzcrank  0.372549   \n2              Aatrox       Alistar         Braum  0.470588   \n3              Aatrox       Alistar         Ivern  0.457143   \n4              Aatrox       Alistar         Janna  0.500000   \n...               ...           ...           ...       ...   \n34771             Zoe        Thresh        Zilean  0.341880   \n34772             Zoe        Thresh          Zyra  0.336538   \n34773             Zoe         Yuumi        Zilean  0.384615   \n34774             Zoe         Yuumi          Zyra  0.480769   \n34775             Zoe        Zilean          Zyra  0.397059   \n\n                     95% CI  numWins  numGames  \n0      [0.132448, 0.506052]        6        21  \n1      [0.247436, 0.512552]       19        51  \n2      [0.253004, 0.712627]        8        17  \n3      [0.297834, 0.630322]       16        35  \n4      [0.357681, 0.642319]       23        46  \n...                     ...      ...       ...  \n34771  [0.259994, 0.433106]       40       117  \n34772  [0.249062, 0.432496]       35       104  \n34773  [0.240818, 0.551890]       15        39  \n34774  [0.344998, 0.616107]       25        52  \n34775  [0.285661, 0.522195]       27        68  \n\n[34776 rows x 7 columns]",
      "text/html": "<div>\n<style scoped>\n    .dataframe tbody tr th:only-of-type {\n        vertical-align: middle;\n    }\n\n    .dataframe tbody tr th {\n        vertical-align: top;\n    }\n\n    .dataframe thead th {\n        text-align: right;\n    }\n</style>\n<table border=\"1\" class=\"dataframe\">\n  <thead>\n    <tr style=\"text-align: right;\">\n      <th></th>\n      <th>nonSupportChamp</th>\n      <th>supportChamp1</th>\n      <th>supportChamp2</th>\n      <th>winRate</th>\n      <th>95% CI</th>\n      <th>numWins</th>\n      <th>numGames</th>\n    </tr>\n  </thead>\n  <tbody>\n    <tr>\n      <th>0</th>\n      <td>Aatrox</td>\n      <td>Alistar</td>\n      <td>Bard</td>\n      <td>0.285714</td>\n      <td>[0.132448, 0.506052]</td>\n      <td>6</td>\n      <td>21</td>\n    </tr>\n    <tr>\n      <th>1</th>\n      <td>Aatrox</td>\n      <td>Alistar</td>\n      <td>Blitzcrank</td>\n      <td>0.372549</td>\n      <td>[0.247436, 0.512552]</td>\n      <td>19</td>\n      <td>51</td>\n    </tr>\n    <tr>\n      <th>2</th>\n      <td>Aatrox</td>\n      <td>Alistar</td>\n      <td>Braum</td>\n      <td>0.470588</td>\n      <td>[0.253004, 0.712627]</td>\n      <td>8</td>\n      <td>17</td>\n    </tr>\n    <tr>\n      <th>3</th>\n      <td>Aatrox</td>\n      <td>Alistar</td>\n      <td>Ivern</td>\n      <td>0.457143</td>\n      <td>[0.297834, 0.630322]</td>\n      <td>16</td>\n      <td>35</td>\n    </tr>\n    <tr>\n      <th>4</th>\n      <td>Aatrox</td>\n      <td>Alistar</td>\n      <td>Janna</td>\n      <td>0.500000</td>\n      <td>[0.357681, 0.642319]</td>\n      <td>23</td>\n      <td>46</td>\n    </tr>\n    <tr>\n      <th>...</th>\n      <td>...</td>\n      <td>...</td>\n      <td>...</td>\n      <td>...</td>\n      <td>...</td>\n      <td>...</td>\n      <td>...</td>\n    </tr>\n    <tr>\n      <th>34771</th>\n      <td>Zoe</td>\n      <td>Thresh</td>\n      <td>Zilean</td>\n      <td>0.341880</td>\n      <td>[0.259994, 0.433106]</td>\n      <td>40</td>\n      <td>117</td>\n    </tr>\n    <tr>\n      <th>34772</th>\n      <td>Zoe</td>\n      <td>Thresh</td>\n      <td>Zyra</td>\n      <td>0.336538</td>\n      <td>[0.249062, 0.432496]</td>\n      <td>35</td>\n      <td>104</td>\n    </tr>\n    <tr>\n      <th>34773</th>\n      <td>Zoe</td>\n      <td>Yuumi</td>\n      <td>Zilean</td>\n      <td>0.384615</td>\n      <td>[0.240818, 0.551890]</td>\n      <td>15</td>\n      <td>39</td>\n    </tr>\n    <tr>\n      <th>34774</th>\n      <td>Zoe</td>\n      <td>Yuumi</td>\n      <td>Zyra</td>\n      <td>0.480769</td>\n      <td>[0.344998, 0.616107]</td>\n      <td>25</td>\n      <td>52</td>\n    </tr>\n    <tr>\n      <th>34775</th>\n      <td>Zoe</td>\n      <td>Zilean</td>\n      <td>Zyra</td>\n      <td>0.397059</td>\n      <td>[0.285661, 0.522195]</td>\n      <td>27</td>\n      <td>68</td>\n    </tr>\n  </tbody>\n</table>\n<p>34776 rows × 7 columns</p>\n</div>"
     },
     "metadata": {},
     "execution_count": 10
    }
   ],
   "source": [
    "def calcWR(champs):\n",
    "    allGames_df['isSynergy'] = allGames_df['championId'].isin(champs)\n",
    "    synergyGames_df = allGames_df.loc[allGames_df['isSynergy'] == True, ['gameId', 'teamColor', 'win']]\n",
    "    \n",
    "    synergyGames_df = synergyGames_df.groupby(['gameId', 'teamColor']).agg(['sum', 'count'])\n",
    "    synergyGames_df = synergyGames_df.loc[synergyGames_df['win']['count'] == 3, 'win']\n",
    "    CI = proportion_confint(synergyGames_df['sum'].astype(bool).sum(axis=0), len(synergyGames_df.index), method='binom_test', alpha=0.05)\n",
    "    # print(synergyGames_df)\n",
    "    return {'nonSupportChamp': champions.loc[champions[\"championId\"] == champs[0], \"name\"].values[0],\n",
    "                                            'supportChamp1': champions.loc[champions[\"championId\"] == champs[1], \"name\"].values[0],\n",
    "                                            'supportChamp2': champions.loc[champions[\"championId\"] == champs[2], \"name\"].values[0],  \n",
    "                                            'winRate': synergyGames_df['sum'].astype(bool).sum(axis=0)/len(synergyGames_df.index),\n",
    "                                            '95% CI': f\"[{CI[0]:.6f}, {CI[1]:.6f}]\",\n",
    "                                            'numWins': synergyGames_df['sum'].astype(bool).sum(axis=0),\n",
    "                                            'numGames': len(synergyGames_df.index)\n",
    "                                            }\n",
    "\n",
    "if __name__ == '__main__':\n",
    "    pool = Pool(6)\n",
    "    res = pool.map(calcWR, twoSupports)\n",
    "    twoSynergy_df = pd.DataFrame.from_dict(res)\n",
    "\n",
    "twoSynergy_df\n"
   ]
  },
  {
   "cell_type": "code",
   "execution_count": 11,
   "metadata": {
    "tags": []
   },
   "outputs": [
    {
     "output_type": "execute_result",
     "data": {
      "text/plain": "      nonSupportChamp supportChamp1 supportChamp2  winRate  \\\n21822         Rek'Sai       Alistar         Taric      1.0   \n33933             Zac    Tahm Kench         Taric      1.0   \n32210           Xayah       Morgana        Thresh      1.0   \n20793           Poppy         Ivern      Nautilus      1.0   \n32803        Xin Zhao         Rakan         Taric      1.0   \n14418            Kled         Braum         Ivern      1.0   \n33494          Yorick         Ivern        Soraka      1.0   \n2443     Aurelion Sol         Rakan         Taric      1.0   \n8574           Gragas       Alistar         Taric      1.0   \n3546          Camille         Rakan    Tahm Kench      1.0   \n\n                     95% CI  numWins  numGames  \n21822  [0.050000, 1.000000]        1         1  \n33933  [0.050000, 1.000000]        1         1  \n32210  [0.223607, 1.000000]        2         2  \n20793  [0.622858, 1.000000]        7         7  \n32803  [0.368403, 1.000000]        3         3  \n14418  [0.368403, 1.000000]        3         3  \n33494  [0.588641, 1.000000]        6         6  \n2443   [0.050000, 1.000000]        1         1  \n8574   [0.500000, 1.000000]        5         5  \n3546   [0.050000, 1.000000]        1         1  ",
      "text/html": "<div>\n<style scoped>\n    .dataframe tbody tr th:only-of-type {\n        vertical-align: middle;\n    }\n\n    .dataframe tbody tr th {\n        vertical-align: top;\n    }\n\n    .dataframe thead th {\n        text-align: right;\n    }\n</style>\n<table border=\"1\" class=\"dataframe\">\n  <thead>\n    <tr style=\"text-align: right;\">\n      <th></th>\n      <th>nonSupportChamp</th>\n      <th>supportChamp1</th>\n      <th>supportChamp2</th>\n      <th>winRate</th>\n      <th>95% CI</th>\n      <th>numWins</th>\n      <th>numGames</th>\n    </tr>\n  </thead>\n  <tbody>\n    <tr>\n      <th>21822</th>\n      <td>Rek'Sai</td>\n      <td>Alistar</td>\n      <td>Taric</td>\n      <td>1.0</td>\n      <td>[0.050000, 1.000000]</td>\n      <td>1</td>\n      <td>1</td>\n    </tr>\n    <tr>\n      <th>33933</th>\n      <td>Zac</td>\n      <td>Tahm Kench</td>\n      <td>Taric</td>\n      <td>1.0</td>\n      <td>[0.050000, 1.000000]</td>\n      <td>1</td>\n      <td>1</td>\n    </tr>\n    <tr>\n      <th>32210</th>\n      <td>Xayah</td>\n      <td>Morgana</td>\n      <td>Thresh</td>\n      <td>1.0</td>\n      <td>[0.223607, 1.000000]</td>\n      <td>2</td>\n      <td>2</td>\n    </tr>\n    <tr>\n      <th>20793</th>\n      <td>Poppy</td>\n      <td>Ivern</td>\n      <td>Nautilus</td>\n      <td>1.0</td>\n      <td>[0.622858, 1.000000]</td>\n      <td>7</td>\n      <td>7</td>\n    </tr>\n    <tr>\n      <th>32803</th>\n      <td>Xin Zhao</td>\n      <td>Rakan</td>\n      <td>Taric</td>\n      <td>1.0</td>\n      <td>[0.368403, 1.000000]</td>\n      <td>3</td>\n      <td>3</td>\n    </tr>\n    <tr>\n      <th>14418</th>\n      <td>Kled</td>\n      <td>Braum</td>\n      <td>Ivern</td>\n      <td>1.0</td>\n      <td>[0.368403, 1.000000]</td>\n      <td>3</td>\n      <td>3</td>\n    </tr>\n    <tr>\n      <th>33494</th>\n      <td>Yorick</td>\n      <td>Ivern</td>\n      <td>Soraka</td>\n      <td>1.0</td>\n      <td>[0.588641, 1.000000]</td>\n      <td>6</td>\n      <td>6</td>\n    </tr>\n    <tr>\n      <th>2443</th>\n      <td>Aurelion Sol</td>\n      <td>Rakan</td>\n      <td>Taric</td>\n      <td>1.0</td>\n      <td>[0.050000, 1.000000]</td>\n      <td>1</td>\n      <td>1</td>\n    </tr>\n    <tr>\n      <th>8574</th>\n      <td>Gragas</td>\n      <td>Alistar</td>\n      <td>Taric</td>\n      <td>1.0</td>\n      <td>[0.500000, 1.000000]</td>\n      <td>5</td>\n      <td>5</td>\n    </tr>\n    <tr>\n      <th>3546</th>\n      <td>Camille</td>\n      <td>Rakan</td>\n      <td>Tahm Kench</td>\n      <td>1.0</td>\n      <td>[0.050000, 1.000000]</td>\n      <td>1</td>\n      <td>1</td>\n    </tr>\n  </tbody>\n</table>\n</div>"
     },
     "metadata": {},
     "execution_count": 11
    }
   ],
   "source": [
    "twoSynergy_df.sort_values(axis=0, ascending=False, by='winRate', inplace=True)\n",
    "twoSynergy_df.head(10)"
   ]
  },
  {
   "cell_type": "code",
   "execution_count": 12,
   "metadata": {
    "tags": []
   },
   "outputs": [
    {
     "output_type": "stream",
     "name": "stdout",
     "text": "<class 'pandas.core.frame.DataFrame'>\nInt64Index: 34776 entries, 21822 to 33496\nData columns (total 7 columns):\n #   Column           Non-Null Count  Dtype  \n---  ------           --------------  -----  \n 0   nonSupportChamp  34776 non-null  object \n 1   supportChamp1    34776 non-null  object \n 2   supportChamp2    34776 non-null  object \n 3   winRate          34755 non-null  float64\n 4   95% CI           34776 non-null  object \n 5   numWins          34776 non-null  int64  \n 6   numGames         34776 non-null  int64  \ndtypes: float64(1), int64(2), object(4)\nmemory usage: 2.1+ MB\n"
    }
   ],
   "source": [
    "twoSynergy_df.info()"
   ]
  },
  {
   "cell_type": "code",
   "execution_count": 13,
   "metadata": {},
   "outputs": [],
   "source": [
    "twoSynergy_df.to_csv('twoSupports.csv', sep=',')"
   ]
  },
  {
   "cell_type": "code",
   "execution_count": 14,
   "metadata": {},
   "outputs": [],
   "source": [
    "# anyTwoSupports = [(nonSupportId, *supportChampIds) for nonSupportId in nonSupportIds]\n",
    "# anyTwoSupports[0]"
   ]
  },
  {
   "cell_type": "code",
   "execution_count": 15,
   "metadata": {
    "tags": []
   },
   "outputs": [
    {
     "output_type": "execute_result",
     "data": {
      "text/plain": "    nonSupportChamp   winRate                95% CI  numWins  numGames  \\\n47            Kayle  0.501831  [0.498925, 0.504720]    57409    114399   \n53          Kog'Maw  0.501831  [0.498925, 0.504720]    57409    114399   \n65      Mordekaiser  0.501831  [0.498925, 0.504720]    57409    114399   \n71             Olaf  0.501831  [0.498925, 0.504720]    57409    114399   \n41             Jinx  0.501831  [0.498925, 0.504720]    57409    114399   \n59         Malphite  0.501831  [0.498925, 0.504720]    57409    114399   \n32           Graves  0.500092  [0.497190, 0.502994]    57121    114221   \n20             Ekko  0.500092  [0.497190, 0.502994]    57121    114221   \n26             Fizz  0.500092  [0.497190, 0.502994]    57121    114221   \n110         Vel'Koz  0.498802  [0.495924, 0.501681]    57878    116034   \n\n     baseWinRate           base 95% CI  baseNumWins  baseNumGames  \n47      0.538854  [0.536351, 0.541352]        82374        152869  \n53      0.538854  [0.536351, 0.541352]        82374        152869  \n65      0.538854  [0.536351, 0.541352]        82374        152869  \n71      0.538854  [0.536351, 0.541352]        82374        152869  \n41      0.538854  [0.536351, 0.541352]        82374        152869  \n59      0.538854  [0.536351, 0.541352]        82374        152869  \n32      0.517175  [0.514629, 0.519722]        76558        148031  \n20      0.517175  [0.514629, 0.519722]        76558        148031  \n26      0.517175  [0.514629, 0.519722]        76558        148031  \n110     0.528160  [0.525822, 0.530498]        92606        175337  ",
      "text/html": "<div>\n<style scoped>\n    .dataframe tbody tr th:only-of-type {\n        vertical-align: middle;\n    }\n\n    .dataframe tbody tr th {\n        vertical-align: top;\n    }\n\n    .dataframe thead th {\n        text-align: right;\n    }\n</style>\n<table border=\"1\" class=\"dataframe\">\n  <thead>\n    <tr style=\"text-align: right;\">\n      <th></th>\n      <th>nonSupportChamp</th>\n      <th>winRate</th>\n      <th>95% CI</th>\n      <th>numWins</th>\n      <th>numGames</th>\n      <th>baseWinRate</th>\n      <th>base 95% CI</th>\n      <th>baseNumWins</th>\n      <th>baseNumGames</th>\n    </tr>\n  </thead>\n  <tbody>\n    <tr>\n      <th>47</th>\n      <td>Kayle</td>\n      <td>0.501831</td>\n      <td>[0.498925, 0.504720]</td>\n      <td>57409</td>\n      <td>114399</td>\n      <td>0.538854</td>\n      <td>[0.536351, 0.541352]</td>\n      <td>82374</td>\n      <td>152869</td>\n    </tr>\n    <tr>\n      <th>53</th>\n      <td>Kog'Maw</td>\n      <td>0.501831</td>\n      <td>[0.498925, 0.504720]</td>\n      <td>57409</td>\n      <td>114399</td>\n      <td>0.538854</td>\n      <td>[0.536351, 0.541352]</td>\n      <td>82374</td>\n      <td>152869</td>\n    </tr>\n    <tr>\n      <th>65</th>\n      <td>Mordekaiser</td>\n      <td>0.501831</td>\n      <td>[0.498925, 0.504720]</td>\n      <td>57409</td>\n      <td>114399</td>\n      <td>0.538854</td>\n      <td>[0.536351, 0.541352]</td>\n      <td>82374</td>\n      <td>152869</td>\n    </tr>\n    <tr>\n      <th>71</th>\n      <td>Olaf</td>\n      <td>0.501831</td>\n      <td>[0.498925, 0.504720]</td>\n      <td>57409</td>\n      <td>114399</td>\n      <td>0.538854</td>\n      <td>[0.536351, 0.541352]</td>\n      <td>82374</td>\n      <td>152869</td>\n    </tr>\n    <tr>\n      <th>41</th>\n      <td>Jinx</td>\n      <td>0.501831</td>\n      <td>[0.498925, 0.504720]</td>\n      <td>57409</td>\n      <td>114399</td>\n      <td>0.538854</td>\n      <td>[0.536351, 0.541352]</td>\n      <td>82374</td>\n      <td>152869</td>\n    </tr>\n    <tr>\n      <th>59</th>\n      <td>Malphite</td>\n      <td>0.501831</td>\n      <td>[0.498925, 0.504720]</td>\n      <td>57409</td>\n      <td>114399</td>\n      <td>0.538854</td>\n      <td>[0.536351, 0.541352]</td>\n      <td>82374</td>\n      <td>152869</td>\n    </tr>\n    <tr>\n      <th>32</th>\n      <td>Graves</td>\n      <td>0.500092</td>\n      <td>[0.497190, 0.502994]</td>\n      <td>57121</td>\n      <td>114221</td>\n      <td>0.517175</td>\n      <td>[0.514629, 0.519722]</td>\n      <td>76558</td>\n      <td>148031</td>\n    </tr>\n    <tr>\n      <th>20</th>\n      <td>Ekko</td>\n      <td>0.500092</td>\n      <td>[0.497190, 0.502994]</td>\n      <td>57121</td>\n      <td>114221</td>\n      <td>0.517175</td>\n      <td>[0.514629, 0.519722]</td>\n      <td>76558</td>\n      <td>148031</td>\n    </tr>\n    <tr>\n      <th>26</th>\n      <td>Fizz</td>\n      <td>0.500092</td>\n      <td>[0.497190, 0.502994]</td>\n      <td>57121</td>\n      <td>114221</td>\n      <td>0.517175</td>\n      <td>[0.514629, 0.519722]</td>\n      <td>76558</td>\n      <td>148031</td>\n    </tr>\n    <tr>\n      <th>110</th>\n      <td>Vel'Koz</td>\n      <td>0.498802</td>\n      <td>[0.495924, 0.501681]</td>\n      <td>57878</td>\n      <td>116034</td>\n      <td>0.528160</td>\n      <td>[0.525822, 0.530498]</td>\n      <td>92606</td>\n      <td>175337</td>\n    </tr>\n  </tbody>\n</table>\n</div>"
     },
     "metadata": {},
     "execution_count": 15
    }
   ],
   "source": [
    "def calcWR(champ):\n",
    "    allGames_df['isTarget'] = allGames_df['championId'] == champ\n",
    "    allGames_df['isSupport'] = allGames_df['championId'].isin(supportChampIds)\n",
    "    synergyGames_df = allGames_df.loc[(allGames_df['isTarget'] == True) | (allGames_df['isSupport'] == True), ['gameId', 'teamColor', 'win']]\n",
    "    synergyGames_df = synergyGames_df.groupby(['gameId', 'teamColor']).agg(['sum', 'count'])\n",
    "    synergyGames_df = synergyGames_df.loc[synergyGames_df['win']['count'] == 3, 'win']\n",
    "    targetGames_df = allGames_df.loc[allGames_df['isTarget'] == True, ['gameId', 'teamColor', 'win']]\n",
    "    targetGames_df = targetGames_df.groupby(['gameId', 'teamColor']).agg(['sum'])['win']\n",
    "    CI = proportion_confint(synergyGames_df['sum'].astype(bool).sum(axis=0), len(synergyGames_df.index), method='binom_test', alpha=0.05)\n",
    "    baseCI = proportion_confint(targetGames_df['sum'].astype(bool).sum(axis=0), len(targetGames_df.index), method='binom_test', alpha=0.05)\n",
    "    # targetGames_df = targetGames_df.loc[targetGames_df['win']['count'] == 1, 'win']\n",
    "    return {'nonSupportChamp': champions.loc[champions[\"championId\"] == champ, \"name\"].values[0],\n",
    "                                            'winRate': synergyGames_df['sum'].astype(bool).sum(axis=0)/len(synergyGames_df.index),\n",
    "                                            '95% CI': f\"[{CI[0]:.6f}, {CI[1]:.6f}]\",\n",
    "                                            'numWins': synergyGames_df['sum'].astype(bool).sum(axis=0),\n",
    "                                            'numGames': len(synergyGames_df.index),\n",
    "                                            'baseWinRate': targetGames_df['sum'].astype(bool).sum(axis=0)/len(targetGames_df.index),\n",
    "                                            'base 95% CI': f\"[{baseCI[0]:.6f}, {baseCI[1]:.6f}]\",\n",
    "                                            'baseNumWins': targetGames_df['sum'].astype(bool).sum(axis=0),\n",
    "                                            'baseNumGames': len(targetGames_df.index)\n",
    "                                            }\n",
    "\n",
    "if __name__ == '__main__':\n",
    "    pool = Pool(6)\n",
    "    res = pool.map(calcWR, nonSupportIds)\n",
    "    anyTwoSupport_df = pd.DataFrame.from_dict(res)\n",
    "\n",
    "anyTwoSupport_df\n",
    "anyTwoSupport_df.sort_values(axis=0, ascending=False, by='winRate', inplace=True)\n",
    "anyTwoSupport_df.head(10)"
   ]
  },
  {
   "cell_type": "code",
   "execution_count": 16,
   "metadata": {},
   "outputs": [],
   "source": [
    "anyTwoSupport_df.to_csv('anyTwoSupports.csv', sep=',')"
   ]
  },
  {
   "cell_type": "code",
   "execution_count": 17,
   "metadata": {},
   "outputs": [
    {
     "output_type": "execute_result",
     "data": {
      "text/plain": "   nonSupportChamp   winRate                95% CI  numWins  numGames  \\\n63    Miss Fortune  0.502042  [0.499333, 0.504750]    65906    131276   \n57       Lissandra  0.502042  [0.499333, 0.504750]    65906    131276   \n69        Nocturne  0.502042  [0.499333, 0.504750]    65906    131276   \n11         Caitlyn  0.498637  [0.495946, 0.501329]    66233    132828   \n23          Ezreal  0.498637  [0.495946, 0.501329]    66233    132828   \n17           Diana  0.498637  [0.495946, 0.501329]    66233    132828   \n5            Annie  0.498637  [0.495946, 0.501329]    66233    132828   \n35          Illaoi  0.498637  [0.495946, 0.501329]    66233    132828   \n29           Garen  0.498637  [0.495946, 0.501329]    66233    132828   \n26            Fizz  0.497243  [0.494458, 0.500028]    61594    123871   \n\n    baseWinRate           base 95% CI  baseNumWins  baseNumGames  \n63     0.532143  [0.530000, 0.534276]       111511        209551  \n57     0.532143  [0.530000, 0.534276]       111511        209551  \n69     0.532143  [0.530000, 0.534276]       111511        209551  \n11     0.522673  [0.520556, 0.524789]       111942        214172  \n23     0.522673  [0.520556, 0.524789]       111942        214172  \n17     0.522673  [0.520556, 0.524789]       111942        214172  \n5      0.522673  [0.520556, 0.524789]       111942        214172  \n35     0.522673  [0.520556, 0.524789]       111942        214172  \n29     0.522673  [0.520556, 0.524789]       111942        214172  \n26     0.517175  [0.514629, 0.519722]        76558        148031  ",
      "text/html": "<div>\n<style scoped>\n    .dataframe tbody tr th:only-of-type {\n        vertical-align: middle;\n    }\n\n    .dataframe tbody tr th {\n        vertical-align: top;\n    }\n\n    .dataframe thead th {\n        text-align: right;\n    }\n</style>\n<table border=\"1\" class=\"dataframe\">\n  <thead>\n    <tr style=\"text-align: right;\">\n      <th></th>\n      <th>nonSupportChamp</th>\n      <th>winRate</th>\n      <th>95% CI</th>\n      <th>numWins</th>\n      <th>numGames</th>\n      <th>baseWinRate</th>\n      <th>base 95% CI</th>\n      <th>baseNumWins</th>\n      <th>baseNumGames</th>\n    </tr>\n  </thead>\n  <tbody>\n    <tr>\n      <th>63</th>\n      <td>Miss Fortune</td>\n      <td>0.502042</td>\n      <td>[0.499333, 0.504750]</td>\n      <td>65906</td>\n      <td>131276</td>\n      <td>0.532143</td>\n      <td>[0.530000, 0.534276]</td>\n      <td>111511</td>\n      <td>209551</td>\n    </tr>\n    <tr>\n      <th>57</th>\n      <td>Lissandra</td>\n      <td>0.502042</td>\n      <td>[0.499333, 0.504750]</td>\n      <td>65906</td>\n      <td>131276</td>\n      <td>0.532143</td>\n      <td>[0.530000, 0.534276]</td>\n      <td>111511</td>\n      <td>209551</td>\n    </tr>\n    <tr>\n      <th>69</th>\n      <td>Nocturne</td>\n      <td>0.502042</td>\n      <td>[0.499333, 0.504750]</td>\n      <td>65906</td>\n      <td>131276</td>\n      <td>0.532143</td>\n      <td>[0.530000, 0.534276]</td>\n      <td>111511</td>\n      <td>209551</td>\n    </tr>\n    <tr>\n      <th>11</th>\n      <td>Caitlyn</td>\n      <td>0.498637</td>\n      <td>[0.495946, 0.501329]</td>\n      <td>66233</td>\n      <td>132828</td>\n      <td>0.522673</td>\n      <td>[0.520556, 0.524789]</td>\n      <td>111942</td>\n      <td>214172</td>\n    </tr>\n    <tr>\n      <th>23</th>\n      <td>Ezreal</td>\n      <td>0.498637</td>\n      <td>[0.495946, 0.501329]</td>\n      <td>66233</td>\n      <td>132828</td>\n      <td>0.522673</td>\n      <td>[0.520556, 0.524789]</td>\n      <td>111942</td>\n      <td>214172</td>\n    </tr>\n    <tr>\n      <th>17</th>\n      <td>Diana</td>\n      <td>0.498637</td>\n      <td>[0.495946, 0.501329]</td>\n      <td>66233</td>\n      <td>132828</td>\n      <td>0.522673</td>\n      <td>[0.520556, 0.524789]</td>\n      <td>111942</td>\n      <td>214172</td>\n    </tr>\n    <tr>\n      <th>5</th>\n      <td>Annie</td>\n      <td>0.498637</td>\n      <td>[0.495946, 0.501329]</td>\n      <td>66233</td>\n      <td>132828</td>\n      <td>0.522673</td>\n      <td>[0.520556, 0.524789]</td>\n      <td>111942</td>\n      <td>214172</td>\n    </tr>\n    <tr>\n      <th>35</th>\n      <td>Illaoi</td>\n      <td>0.498637</td>\n      <td>[0.495946, 0.501329]</td>\n      <td>66233</td>\n      <td>132828</td>\n      <td>0.522673</td>\n      <td>[0.520556, 0.524789]</td>\n      <td>111942</td>\n      <td>214172</td>\n    </tr>\n    <tr>\n      <th>29</th>\n      <td>Garen</td>\n      <td>0.498637</td>\n      <td>[0.495946, 0.501329]</td>\n      <td>66233</td>\n      <td>132828</td>\n      <td>0.522673</td>\n      <td>[0.520556, 0.524789]</td>\n      <td>111942</td>\n      <td>214172</td>\n    </tr>\n    <tr>\n      <th>26</th>\n      <td>Fizz</td>\n      <td>0.497243</td>\n      <td>[0.494458, 0.500028]</td>\n      <td>61594</td>\n      <td>123871</td>\n      <td>0.517175</td>\n      <td>[0.514629, 0.519722]</td>\n      <td>76558</td>\n      <td>148031</td>\n    </tr>\n  </tbody>\n</table>\n</div>"
     },
     "metadata": {},
     "execution_count": 17
    }
   ],
   "source": [
    "def calcWR(champ):\n",
    "    allGames_df['isTarget'] = allGames_df['championId'] == champ\n",
    "    allGames_df['isSupport'] = allGames_df['championId'].isin(supportChampIds)\n",
    "    synergyGames_df = allGames_df.loc[(allGames_df['isTarget'] == True) | (allGames_df['isSupport'] == True), ['gameId', 'teamColor', 'win']]\n",
    "    synergyGames_df = synergyGames_df.groupby(['gameId', 'teamColor']).agg(['sum', 'count'])\n",
    "    synergyGames_df = synergyGames_df.loc[synergyGames_df['win']['count'] >= 3, 'win']\n",
    "    targetGames_df = allGames_df.loc[allGames_df['isTarget'] == True, ['gameId', 'teamColor', 'win']]\n",
    "    targetGames_df = targetGames_df.groupby(['gameId', 'teamColor']).agg(['sum'])['win']\n",
    "    # targetGames_df = targetGames_df.loc[targetGames_df['win']['count'] == 1, 'win']\n",
    "    CI = proportion_confint(synergyGames_df['sum'].astype(bool).sum(axis=0), len(synergyGames_df.index), method='binom_test', alpha=0.05)\n",
    "    baseCI = proportion_confint(targetGames_df['sum'].astype(bool).sum(axis=0), len(targetGames_df.index), method='binom_test', alpha=0.05)\n",
    "\n",
    "    return {'nonSupportChamp': champions.loc[champions[\"championId\"] == champ, \"name\"].values[0],\n",
    "                                            'winRate': synergyGames_df['sum'].astype(bool).sum(axis=0)/len(synergyGames_df.index),\n",
    "                                            '95% CI': f\"[{CI[0]:.6f}, {CI[1]:.6f}]\",\n",
    "                                            'numWins': synergyGames_df['sum'].astype(bool).sum(axis=0),\n",
    "                                            'numGames': len(synergyGames_df.index),\n",
    "                                            'baseWinRate': targetGames_df['sum'].astype(bool).sum(axis=0)/len(targetGames_df.index),\n",
    "                                            'base 95% CI': f\"[{baseCI[0]:.6f}, {baseCI[1]:.6f}]\",\n",
    "                                            'baseNumWins': targetGames_df['sum'].astype(bool).sum(axis=0),\n",
    "                                            'baseNumGames': len(targetGames_df.index)\n",
    "                                            }\n",
    "\n",
    "if __name__ == '__main__':\n",
    "    pool = Pool(6)\n",
    "    res = pool.map(calcWR, nonSupportIds)\n",
    "    twoOrMoreSupports_df = pd.DataFrame.from_dict(res)\n",
    "\n",
    "twoOrMoreSupports_df\n",
    "twoOrMoreSupports_df.sort_values(axis=0, ascending=False, by='winRate', inplace=True)\n",
    "twoOrMoreSupports_df.head(10)"
   ]
  },
  {
   "cell_type": "code",
   "execution_count": 18,
   "metadata": {},
   "outputs": [],
   "source": [
    "twoOrMoreSupports_df.to_csv('twoOrMoreSupports.csv', sep=',')"
   ]
  },
  {
   "cell_type": "code",
   "execution_count": 19,
   "metadata": {},
   "outputs": [
    {
     "output_type": "execute_result",
     "data": {
      "text/plain": "                      sum  count\ngameId     teamColor            \n2855142709 False        0      5\n           True         3      3\n2856401827 False        4      4\n           True         0      5\n2856437506 False        0      5\n...                   ...    ...\n3588313005 True         4      4\n3588365616 False        0      5\n           True         4      4\n3588420238 False        0      4\n           True         3      3\n\n[3242145 rows x 2 columns]",
      "text/html": "<div>\n<style scoped>\n    .dataframe tbody tr th:only-of-type {\n        vertical-align: middle;\n    }\n\n    .dataframe tbody tr th {\n        vertical-align: top;\n    }\n\n    .dataframe thead th {\n        text-align: right;\n    }\n</style>\n<table border=\"1\" class=\"dataframe\">\n  <thead>\n    <tr style=\"text-align: right;\">\n      <th></th>\n      <th></th>\n      <th>sum</th>\n      <th>count</th>\n    </tr>\n    <tr>\n      <th>gameId</th>\n      <th>teamColor</th>\n      <th></th>\n      <th></th>\n    </tr>\n  </thead>\n  <tbody>\n    <tr>\n      <th rowspan=\"2\" valign=\"top\">2855142709</th>\n      <th>False</th>\n      <td>0</td>\n      <td>5</td>\n    </tr>\n    <tr>\n      <th>True</th>\n      <td>3</td>\n      <td>3</td>\n    </tr>\n    <tr>\n      <th rowspan=\"2\" valign=\"top\">2856401827</th>\n      <th>False</th>\n      <td>4</td>\n      <td>4</td>\n    </tr>\n    <tr>\n      <th>True</th>\n      <td>0</td>\n      <td>5</td>\n    </tr>\n    <tr>\n      <th>2856437506</th>\n      <th>False</th>\n      <td>0</td>\n      <td>5</td>\n    </tr>\n    <tr>\n      <th>...</th>\n      <th>...</th>\n      <td>...</td>\n      <td>...</td>\n    </tr>\n    <tr>\n      <th>3588313005</th>\n      <th>True</th>\n      <td>4</td>\n      <td>4</td>\n    </tr>\n    <tr>\n      <th rowspan=\"2\" valign=\"top\">3588365616</th>\n      <th>False</th>\n      <td>0</td>\n      <td>5</td>\n    </tr>\n    <tr>\n      <th>True</th>\n      <td>4</td>\n      <td>4</td>\n    </tr>\n    <tr>\n      <th rowspan=\"2\" valign=\"top\">3588420238</th>\n      <th>False</th>\n      <td>0</td>\n      <td>4</td>\n    </tr>\n    <tr>\n      <th>True</th>\n      <td>3</td>\n      <td>3</td>\n    </tr>\n  </tbody>\n</table>\n<p>3242145 rows × 2 columns</p>\n</div>"
     },
     "metadata": {},
     "execution_count": 19
    }
   ],
   "source": [
    "noSupGames_df = allGames_df[~(allGames_df['championId'].isin(supportChampIds))]\n",
    "noSupGames = noSupGames_df[['gameId', 'teamColor', 'win']].groupby(['gameId', 'teamColor']).agg(['sum','count'])['win']\n",
    "noSupGames"
   ]
  },
  {
   "cell_type": "code",
   "execution_count": 20,
   "metadata": {},
   "outputs": [
    {
     "output_type": "execute_result",
     "data": {
      "text/plain": "                      sum  count\ngameId     teamColor            \n2855142709 True         2      2\n2856401827 False        1      1\n2856474922 False        1      1\n           True         0      3\n2856486557 False        0      1\n...                   ...    ...\n3588297793 True         0      2\n3588313005 True         1      1\n3588365616 True         1      1\n3588420238 False        0      1\n           True         2      2\n\n[2074322 rows x 2 columns]",
      "text/html": "<div>\n<style scoped>\n    .dataframe tbody tr th:only-of-type {\n        vertical-align: middle;\n    }\n\n    .dataframe tbody tr th {\n        vertical-align: top;\n    }\n\n    .dataframe thead th {\n        text-align: right;\n    }\n</style>\n<table border=\"1\" class=\"dataframe\">\n  <thead>\n    <tr style=\"text-align: right;\">\n      <th></th>\n      <th></th>\n      <th>sum</th>\n      <th>count</th>\n    </tr>\n    <tr>\n      <th>gameId</th>\n      <th>teamColor</th>\n      <th></th>\n      <th></th>\n    </tr>\n  </thead>\n  <tbody>\n    <tr>\n      <th>2855142709</th>\n      <th>True</th>\n      <td>2</td>\n      <td>2</td>\n    </tr>\n    <tr>\n      <th>2856401827</th>\n      <th>False</th>\n      <td>1</td>\n      <td>1</td>\n    </tr>\n    <tr>\n      <th rowspan=\"2\" valign=\"top\">2856474922</th>\n      <th>False</th>\n      <td>1</td>\n      <td>1</td>\n    </tr>\n    <tr>\n      <th>True</th>\n      <td>0</td>\n      <td>3</td>\n    </tr>\n    <tr>\n      <th>2856486557</th>\n      <th>False</th>\n      <td>0</td>\n      <td>1</td>\n    </tr>\n    <tr>\n      <th>...</th>\n      <th>...</th>\n      <td>...</td>\n      <td>...</td>\n    </tr>\n    <tr>\n      <th>3588297793</th>\n      <th>True</th>\n      <td>0</td>\n      <td>2</td>\n    </tr>\n    <tr>\n      <th>3588313005</th>\n      <th>True</th>\n      <td>1</td>\n      <td>1</td>\n    </tr>\n    <tr>\n      <th>3588365616</th>\n      <th>True</th>\n      <td>1</td>\n      <td>1</td>\n    </tr>\n    <tr>\n      <th rowspan=\"2\" valign=\"top\">3588420238</th>\n      <th>False</th>\n      <td>0</td>\n      <td>1</td>\n    </tr>\n    <tr>\n      <th>True</th>\n      <td>2</td>\n      <td>2</td>\n    </tr>\n  </tbody>\n</table>\n<p>2074322 rows × 2 columns</p>\n</div>"
     },
     "metadata": {},
     "execution_count": 20
    }
   ],
   "source": [
    "supportGames_df = allGames_df[allGames_df['championId'].isin(supportChampIds)]\n",
    "supportGames = supportGames_df[['gameId', 'teamColor', 'win']].groupby(['gameId', 'teamColor']).agg(['sum','count'])['win']\n",
    "supportGames"
   ]
  },
  {
   "cell_type": "code",
   "execution_count": 21,
   "metadata": {},
   "outputs": [],
   "source": [
    "from statsmodels.stats.proportion import proportion_confint"
   ]
  },
  {
   "cell_type": "code",
   "execution_count": 22,
   "metadata": {
    "tags": []
   },
   "outputs": [],
   "source": [
    "noSup = noSupGames[noSupGames['count'] == 5]\n",
    "oneSup = supportGames[supportGames['count'] == 1]\n",
    "twoSup = supportGames[supportGames['count'] == 2]\n",
    "threeSup = supportGames[supportGames['count'] == 3]\n",
    "fourSup = supportGames[supportGames['count'] == 4]\n",
    "fiveSup = supportGames[supportGames['count'] == 5]\n",
    "atLeastOneSup = supportGames[supportGames['count'] >= 1]\n",
    "twoOrMoreSup = supportGames[supportGames['count'] >= 2]\n",
    "threeOrMoreSup = supportGames[supportGames['count'] >= 3]\n",
    "fourOrMoreSup = supportGames[supportGames['count'] >= 4]\n",
    "\n",
    "noSupWR = noSup['sum'].astype(bool).sum(axis=0)/noSup['count'].count()\n",
    "oneSupWR = oneSup['sum'].astype(bool).sum(axis=0)/oneSup['count'].count()\n",
    "twoSupWR = twoSup['sum'].astype(bool).sum(axis=0)/twoSup['count'].count()\n",
    "threeSupWR = threeSup['sum'].astype(bool).sum(axis=0)/threeSup['count'].count()\n",
    "fourSupWR = fourSup['sum'].astype(bool).sum(axis=0)/fourSup['count'].count()\n",
    "fiveSupWR = fiveSup['sum'].astype(bool).sum(axis=0)/fiveSup['count'].count()\n",
    "atLeastOneSupWR = atLeastOneSup['sum'].astype(bool).sum(axis=0)/atLeastOneSup['count'].count()\n",
    "twoOrMoreSupWR = twoOrMoreSup['sum'].astype(bool).sum(axis=0)/twoOrMoreSup['count'].count()\n",
    "threeOrMoreSupWR = threeOrMoreSup['sum'].astype(bool).sum(axis=0)/threeOrMoreSup['count'].count()\n",
    "fourOrMoreSupWR = fourOrMoreSup['sum'].astype(bool).sum(axis=0)/fourOrMoreSup['count'].count()\n",
    "\n",
    "noSupCI = proportion_confint(noSup['sum'].astype(bool).sum(axis=0), noSup['count'].count(), method='binom_test', alpha=0.05)\n",
    "oneSupCI = proportion_confint(oneSup['sum'].astype(bool).sum(axis=0), oneSup['count'].count(), method='binom_test', alpha=0.05)\n",
    "twoSupCI = proportion_confint(twoSup['sum'].astype(bool).sum(axis=0), twoSup['count'].count(), method='binom_test', alpha=0.05)\n",
    "threeSupCI = proportion_confint(threeSup['sum'].astype(bool).sum(axis=0), threeSup['count'].count(), method='binom_test', alpha=0.05)\n",
    "fourSupCI = proportion_confint(fourSup['sum'].astype(bool).sum(axis=0), fourSup['count'].count(), method='binom_test', alpha=0.05)\n",
    "fiveSupCI = proportion_confint(fiveSup['sum'].astype(bool).sum(axis=0), fiveSup['count'].count(), method='binom_test', alpha=0.05)\n",
    "atLeastOneSupCI = proportion_confint(atLeastOneSup['sum'].astype(bool).sum(axis=0), atLeastOneSup['count'].count(), method='binom_test', alpha=0.05)\n",
    "twoOrMoreSupCI = proportion_confint(twoOrMoreSup['sum'].astype(bool).sum(axis=0), twoOrMoreSup['count'].count(), method='binom_test', alpha=0.05)\n",
    "threeOrMoreSupCI = proportion_confint(threeOrMoreSup['sum'].astype(bool).sum(axis=0), threeOrMoreSup['count'].count(), method='binom_test', alpha=0.05)\n",
    "fourOrMoreSupCI = proportion_confint(fourOrMoreSup['sum'].astype(bool).sum(axis=0), fourOrMoreSup['count'].count(), method='binom_test', alpha=0.05)"
   ]
  },
  {
   "cell_type": "code",
   "execution_count": 23,
   "metadata": {
    "tags": []
   },
   "outputs": [
    {
     "output_type": "stream",
     "name": "stdout",
     "text": "noSupWR: 0.48858 [570660 / 1168007]\noneSupWR: 0.50705 [710253 / 1400748]\ntwoSupWR: 0.50826 [289621 / 569828]\nthreeSupWR: 0.49196 [47514 / 96581]\nfourSupWR: 0.43973 [3068 / 6977]\nfiveSupWR: 0.43973 [48 / 188]\natLeastOneSupWR: 0.50643 [1050504 / 2074322]\ntwoOrMoreSupWR: 0.50514 [340251 / 673574]\nthreeOrMoreSupWR: 0.48802 [50630 / 103746]\nfourOrMoreSupWR: 0.43489 [3116 / 7165]\n95% CI: [0.487669, 0.489483]\n95% CI: [0.506225, 0.507881]\n95% CI: [0.506962, 0.509559]\n95% CI: [0.488807, 0.495118]\n95% CI: [0.428046, 0.451410]\n95% CI: [0.190846, 0.317268]\n95% CI: [0.505752, 0.507113]\n95% CI: [0.503948, 0.506337]\n95% CI: [0.484973, 0.491065]\n95% CI: [0.423444, 0.446404]\n"
    }
   ],
   "source": [
    "print(f\"noSupWR: {noSupWR:.5f} [{noSup['sum'].astype(bool).sum(axis=0)} / {noSup['count'].count()}]\")\n",
    "print(f\"oneSupWR: {oneSupWR:.5f} [{oneSup['sum'].astype(bool).sum(axis=0)} / {oneSup['count'].count()}]\")\n",
    "print(f\"twoSupWR: {twoSupWR:.5f} [{twoSup['sum'].astype(bool).sum(axis=0)} / {twoSup['count'].count()}]\")\n",
    "print(f\"threeSupWR: {threeSupWR:.5f} [{threeSup['sum'].astype(bool).sum(axis=0)} / {threeSup['count'].count()}]\")\n",
    "print(f\"fourSupWR: {fourSupWR:.5f} [{fourSup['sum'].astype(bool).sum(axis=0)} / {fourSup['count'].count()}]\")\n",
    "print(f\"fiveSupWR: {fourSupWR:.5f} [{fiveSup['sum'].astype(bool).sum(axis=0)} / {fiveSup['count'].count()}]\")\n",
    "print(f\"atLeastOneSupWR: {atLeastOneSupWR:.5f} [{atLeastOneSup['sum'].astype(bool).sum(axis=0)} / {atLeastOneSup['count'].count()}]\")\n",
    "print(f\"twoOrMoreSupWR: {twoOrMoreSupWR:.5f} [{twoOrMoreSup['sum'].astype(bool).sum(axis=0)} / {twoOrMoreSup['count'].count()}]\")\n",
    "print(f\"threeOrMoreSupWR: {threeOrMoreSupWR:.5f} [{threeOrMoreSup['sum'].astype(bool).sum(axis=0)} / {threeOrMoreSup['count'].count()}]\")\n",
    "print(f\"fourOrMoreSupWR: {fourOrMoreSupWR:.5f} [{fourOrMoreSup['sum'].astype(bool).sum(axis=0)} / {fourOrMoreSup['count'].count()}]\")\n",
    "\n",
    "print(f\"95% CI: [{noSupCI[0]:.6f}, {noSupCI[1]:.6f}]\")\n",
    "print(f\"95% CI: [{oneSupCI[0]:.6f}, {oneSupCI[1]:.6f}]\")\n",
    "print(f\"95% CI: [{twoSupCI[0]:.6f}, {twoSupCI[1]:.6f}]\")\n",
    "print(f\"95% CI: [{threeSupCI[0]:.6f}, {threeSupCI[1]:.6f}]\")\n",
    "print(f\"95% CI: [{fourSupCI[0]:.6f}, {fourSupCI[1]:.6f}]\")\n",
    "print(f\"95% CI: [{fiveSupCI[0]:.6f}, {fiveSupCI[1]:.6f}]\")\n",
    "print(f\"95% CI: [{atLeastOneSupCI[0]:.6f}, {atLeastOneSupCI[1]:.6f}]\")\n",
    "print(f\"95% CI: [{twoOrMoreSupCI[0]:.6f}, {twoOrMoreSupCI[1]:.6f}]\")\n",
    "print(f\"95% CI: [{threeOrMoreSupCI[0]:.6f}, {threeOrMoreSupCI[1]:.6f}]\")\n",
    "print(f\"95% CI: [{fourOrMoreSupCI[0]:.6f}, {fourOrMoreSupCI[1]:.6f}]\")"
   ]
  },
  {
   "cell_type": "code",
   "execution_count": null,
   "metadata": {},
   "outputs": [],
   "source": []
  }
 ]
}