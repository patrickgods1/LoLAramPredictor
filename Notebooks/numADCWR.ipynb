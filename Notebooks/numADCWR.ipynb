{
 "metadata": {
  "language_info": {
   "codemirror_mode": {
    "name": "ipython",
    "version": 3
   },
   "file_extension": ".py",
   "mimetype": "text/x-python",
   "name": "python",
   "nbconvert_exporter": "python",
   "pygments_lexer": "ipython3",
   "version": "3.6.10-final"
  },
  "orig_nbformat": 2,
  "kernelspec": {
   "name": "Python 3.6.10 64-bit ('Python36': conda)",
   "display_name": "Python 3.6.10 64-bit ('Python36': conda)",
   "metadata": {
    "interpreter": {
     "hash": "23508edb48211c585617c619e9f1b5e8d4b0a27eebe8bdb1b05c1cca5979f0c4"
    }
   }
  }
 },
 "nbformat": 4,
 "nbformat_minor": 2,
 "cells": [
  {
   "cell_type": "code",
   "execution_count": 1,
   "metadata": {},
   "outputs": [],
   "source": [
    "import pandas as pd\n",
    "import json\n",
    "filePath = r\"C:\\\\Users\\\\Pat\\\\Desktop\\\\Projects\\\\LoLAramPredictor\\\\Game Info\\\\\""
   ]
  },
  {
   "cell_type": "code",
   "execution_count": 2,
   "metadata": {
    "tags": []
   },
   "outputs": [
    {
     "output_type": "execute_result",
     "data": {
      "text/plain": "    championId     name attack defense magic difficulty primaryClass  \\\n0          266   Aatrox      8       4     3          4      Fighter   \n1          103     Ahri      3       4     8          5         Mage   \n2           84    Akali      5       3     8          7     Assassin   \n3           12  Alistar      6       9     5          7         Tank   \n4           32    Amumu      2       6     8          3         Tank   \n..         ...      ...    ...     ...   ...        ...          ...   \n145        238      Zed      9       2     1          7     Assassin   \n146        115    Ziggs      2       4     9          4         Mage   \n147         26   Zilean      2       5     8          6      Support   \n148        142      Zoe      1       7     8          5         Mage   \n149        143     Zyra      4       3     8          7         Mage   \n\n    secondaryClass     partype      hp  ... hpregen hpregenperlevel mpregen  \\\n0             Tank  Blood Well     580  ...       3               1       0   \n1         Assassin        Mana     526  ...     6.5             0.6       8   \n2             None      Energy     575  ...       8             0.5      50   \n3          Support        Mana     600  ...     8.5            0.85     8.5   \n4             Mage        Mana  613.12  ...       9            0.85   7.382   \n..             ...         ...     ...  ...     ...             ...     ...   \n145           None      Energy     584  ...       7            0.65      50   \n146           None        Mana     536  ...     6.5             0.6       8   \n147           Mage        Mana     504  ...     5.5             0.5  11.335   \n148        Support        Mana     560  ...     6.5             0.6       8   \n149        Support        Mana     504  ...     5.5             0.5      13   \n\n    mpregenperlevel crit  critperlevel  attackdamage  attackdamageperlevel  \\\n0                 0    0             0            60                     5   \n1               0.8    0             0         53.04                     3   \n2                 0    0             0          62.4                   3.3   \n3               0.8    0             0            62                  3.75   \n4             0.525    0             0         53.38                   3.8   \n..              ...  ...           ...           ...                   ...   \n145               0    0             0            63                   3.4   \n146             0.8    0             0        54.208                   3.1   \n147             0.8    0             0         51.64                     3   \n148            0.65    0             0            58                   3.3   \n149             0.4    0             0        53.376                   3.2   \n\n    attackspeedperlevel attackspeed  \n0                 2.500       0.651  \n1                 2.000       0.668  \n2                 3.200       0.625  \n3                 2.125       0.625  \n4                 2.180       0.736  \n..                  ...         ...  \n145               3.300       0.651  \n146               2.000       0.656  \n147               2.130       0.625  \n148               2.500       0.625  \n149               2.110       0.625  \n\n[150 rows x 29 columns]",
      "text/html": "<div>\n<style scoped>\n    .dataframe tbody tr th:only-of-type {\n        vertical-align: middle;\n    }\n\n    .dataframe tbody tr th {\n        vertical-align: top;\n    }\n\n    .dataframe thead th {\n        text-align: right;\n    }\n</style>\n<table border=\"1\" class=\"dataframe\">\n  <thead>\n    <tr style=\"text-align: right;\">\n      <th></th>\n      <th>championId</th>\n      <th>name</th>\n      <th>attack</th>\n      <th>defense</th>\n      <th>magic</th>\n      <th>difficulty</th>\n      <th>primaryClass</th>\n      <th>secondaryClass</th>\n      <th>partype</th>\n      <th>hp</th>\n      <th>...</th>\n      <th>hpregen</th>\n      <th>hpregenperlevel</th>\n      <th>mpregen</th>\n      <th>mpregenperlevel</th>\n      <th>crit</th>\n      <th>critperlevel</th>\n      <th>attackdamage</th>\n      <th>attackdamageperlevel</th>\n      <th>attackspeedperlevel</th>\n      <th>attackspeed</th>\n    </tr>\n  </thead>\n  <tbody>\n    <tr>\n      <th>0</th>\n      <td>266</td>\n      <td>Aatrox</td>\n      <td>8</td>\n      <td>4</td>\n      <td>3</td>\n      <td>4</td>\n      <td>Fighter</td>\n      <td>Tank</td>\n      <td>Blood Well</td>\n      <td>580</td>\n      <td>...</td>\n      <td>3</td>\n      <td>1</td>\n      <td>0</td>\n      <td>0</td>\n      <td>0</td>\n      <td>0</td>\n      <td>60</td>\n      <td>5</td>\n      <td>2.500</td>\n      <td>0.651</td>\n    </tr>\n    <tr>\n      <th>1</th>\n      <td>103</td>\n      <td>Ahri</td>\n      <td>3</td>\n      <td>4</td>\n      <td>8</td>\n      <td>5</td>\n      <td>Mage</td>\n      <td>Assassin</td>\n      <td>Mana</td>\n      <td>526</td>\n      <td>...</td>\n      <td>6.5</td>\n      <td>0.6</td>\n      <td>8</td>\n      <td>0.8</td>\n      <td>0</td>\n      <td>0</td>\n      <td>53.04</td>\n      <td>3</td>\n      <td>2.000</td>\n      <td>0.668</td>\n    </tr>\n    <tr>\n      <th>2</th>\n      <td>84</td>\n      <td>Akali</td>\n      <td>5</td>\n      <td>3</td>\n      <td>8</td>\n      <td>7</td>\n      <td>Assassin</td>\n      <td>None</td>\n      <td>Energy</td>\n      <td>575</td>\n      <td>...</td>\n      <td>8</td>\n      <td>0.5</td>\n      <td>50</td>\n      <td>0</td>\n      <td>0</td>\n      <td>0</td>\n      <td>62.4</td>\n      <td>3.3</td>\n      <td>3.200</td>\n      <td>0.625</td>\n    </tr>\n    <tr>\n      <th>3</th>\n      <td>12</td>\n      <td>Alistar</td>\n      <td>6</td>\n      <td>9</td>\n      <td>5</td>\n      <td>7</td>\n      <td>Tank</td>\n      <td>Support</td>\n      <td>Mana</td>\n      <td>600</td>\n      <td>...</td>\n      <td>8.5</td>\n      <td>0.85</td>\n      <td>8.5</td>\n      <td>0.8</td>\n      <td>0</td>\n      <td>0</td>\n      <td>62</td>\n      <td>3.75</td>\n      <td>2.125</td>\n      <td>0.625</td>\n    </tr>\n    <tr>\n      <th>4</th>\n      <td>32</td>\n      <td>Amumu</td>\n      <td>2</td>\n      <td>6</td>\n      <td>8</td>\n      <td>3</td>\n      <td>Tank</td>\n      <td>Mage</td>\n      <td>Mana</td>\n      <td>613.12</td>\n      <td>...</td>\n      <td>9</td>\n      <td>0.85</td>\n      <td>7.382</td>\n      <td>0.525</td>\n      <td>0</td>\n      <td>0</td>\n      <td>53.38</td>\n      <td>3.8</td>\n      <td>2.180</td>\n      <td>0.736</td>\n    </tr>\n    <tr>\n      <th>...</th>\n      <td>...</td>\n      <td>...</td>\n      <td>...</td>\n      <td>...</td>\n      <td>...</td>\n      <td>...</td>\n      <td>...</td>\n      <td>...</td>\n      <td>...</td>\n      <td>...</td>\n      <td>...</td>\n      <td>...</td>\n      <td>...</td>\n      <td>...</td>\n      <td>...</td>\n      <td>...</td>\n      <td>...</td>\n      <td>...</td>\n      <td>...</td>\n      <td>...</td>\n      <td>...</td>\n    </tr>\n    <tr>\n      <th>145</th>\n      <td>238</td>\n      <td>Zed</td>\n      <td>9</td>\n      <td>2</td>\n      <td>1</td>\n      <td>7</td>\n      <td>Assassin</td>\n      <td>None</td>\n      <td>Energy</td>\n      <td>584</td>\n      <td>...</td>\n      <td>7</td>\n      <td>0.65</td>\n      <td>50</td>\n      <td>0</td>\n      <td>0</td>\n      <td>0</td>\n      <td>63</td>\n      <td>3.4</td>\n      <td>3.300</td>\n      <td>0.651</td>\n    </tr>\n    <tr>\n      <th>146</th>\n      <td>115</td>\n      <td>Ziggs</td>\n      <td>2</td>\n      <td>4</td>\n      <td>9</td>\n      <td>4</td>\n      <td>Mage</td>\n      <td>None</td>\n      <td>Mana</td>\n      <td>536</td>\n      <td>...</td>\n      <td>6.5</td>\n      <td>0.6</td>\n      <td>8</td>\n      <td>0.8</td>\n      <td>0</td>\n      <td>0</td>\n      <td>54.208</td>\n      <td>3.1</td>\n      <td>2.000</td>\n      <td>0.656</td>\n    </tr>\n    <tr>\n      <th>147</th>\n      <td>26</td>\n      <td>Zilean</td>\n      <td>2</td>\n      <td>5</td>\n      <td>8</td>\n      <td>6</td>\n      <td>Support</td>\n      <td>Mage</td>\n      <td>Mana</td>\n      <td>504</td>\n      <td>...</td>\n      <td>5.5</td>\n      <td>0.5</td>\n      <td>11.335</td>\n      <td>0.8</td>\n      <td>0</td>\n      <td>0</td>\n      <td>51.64</td>\n      <td>3</td>\n      <td>2.130</td>\n      <td>0.625</td>\n    </tr>\n    <tr>\n      <th>148</th>\n      <td>142</td>\n      <td>Zoe</td>\n      <td>1</td>\n      <td>7</td>\n      <td>8</td>\n      <td>5</td>\n      <td>Mage</td>\n      <td>Support</td>\n      <td>Mana</td>\n      <td>560</td>\n      <td>...</td>\n      <td>6.5</td>\n      <td>0.6</td>\n      <td>8</td>\n      <td>0.65</td>\n      <td>0</td>\n      <td>0</td>\n      <td>58</td>\n      <td>3.3</td>\n      <td>2.500</td>\n      <td>0.625</td>\n    </tr>\n    <tr>\n      <th>149</th>\n      <td>143</td>\n      <td>Zyra</td>\n      <td>4</td>\n      <td>3</td>\n      <td>8</td>\n      <td>7</td>\n      <td>Mage</td>\n      <td>Support</td>\n      <td>Mana</td>\n      <td>504</td>\n      <td>...</td>\n      <td>5.5</td>\n      <td>0.5</td>\n      <td>13</td>\n      <td>0.4</td>\n      <td>0</td>\n      <td>0</td>\n      <td>53.376</td>\n      <td>3.2</td>\n      <td>2.110</td>\n      <td>0.625</td>\n    </tr>\n  </tbody>\n</table>\n<p>150 rows × 29 columns</p>\n</div>"
     },
     "metadata": {},
     "execution_count": 2
    }
   ],
   "source": [
    "with open(filePath+'champion.json', encoding='utf8') as f:\n",
    "    championData = json.load(f)\n",
    "\n",
    "champions = pd.DataFrame(columns = ['championId', 'name', 'attack', 'defense', 'magic', 'difficulty', 'primaryClass', 'secondaryClass', 'partype', 'hp', 'hpperlevel', 'mp', 'mpperlevel', 'movespeed', 'armor', 'armorperlevel', 'spellblock', 'spellblockperlevel', 'attackrange', 'hpregen', 'hpregenperlevel', 'mpregen', 'mpregenperlevel', 'crit', 'critperlevel', 'attackdamage', 'attackdamageperlevel', 'attackspeedperlevel', 'attackspeed'])\n",
    "\n",
    "for k, v in championData['data'].items():\n",
    "    champions = champions.append({'championId': int(v['key']),\n",
    "                        'name': v['name'], \n",
    "                        'attack': v['info']['attack'], \n",
    "                        'defense': v['info']['defense'], \n",
    "                        'magic': v['info']['magic'], \n",
    "                        'difficulty': v['info']['difficulty'], \n",
    "                        'primaryClass': v['tags'][0], \n",
    "                        'secondaryClass': v['tags'][1] if len(v['tags']) > 1 else 'None', \n",
    "                        'partype': v['partype'], \n",
    "                        'hp': v['stats']['hp'], \n",
    "                        'hpperlevel': v['stats']['hpperlevel'], \n",
    "                        'mp': v['stats']['mp'], \n",
    "                        'mpperlevel': v['stats']['mpperlevel'], \n",
    "                        'movespeed': v['stats']['movespeed'], \n",
    "                        'armor': v['stats']['armor'], \n",
    "                        'armorperlevel': v['stats']['armorperlevel'], \n",
    "                        'spellblock': v['stats']['spellblock'], \n",
    "                        'spellblockperlevel': v['stats']['spellblockperlevel'], \n",
    "                        'attackrange': v['stats']['attackrange'], \n",
    "                        'hpregen': v['stats']['hpregen'], \n",
    "                        'hpregenperlevel': v['stats']['hpregenperlevel'], \n",
    "                        'mpregen': v['stats']['mpregen'], \n",
    "                        'mpregenperlevel': v['stats']['mpregenperlevel'], \n",
    "                        'crit': v['stats']['crit'], \n",
    "                        'critperlevel': v['stats']['critperlevel'], \n",
    "                        'attackdamage': v['stats']['attackdamage'], \n",
    "                        'attackdamageperlevel': v['stats']['attackdamageperlevel'], \n",
    "                        'attackspeedperlevel': v['stats']['attackspeedperlevel'], \n",
    "                        'attackspeed': v['stats']['attackspeed']}, ignore_index=True)\n",
    "\n",
    "champions"
   ]
  },
  {
   "cell_type": "code",
   "execution_count": 3,
   "metadata": {},
   "outputs": [
    {
     "output_type": "execute_result",
     "data": {
      "text/plain": "['Aphelios',\n 'Ashe',\n 'Azir',\n 'Caitlyn',\n 'Corki',\n 'Draven',\n 'Ezreal',\n 'Graves',\n 'Jayce',\n 'Jhin',\n 'Jinx',\n \"Kai'Sa\",\n 'Kalista',\n 'Kennen',\n 'Kindred',\n \"Kog'Maw\",\n 'Lucian',\n 'Miss Fortune',\n 'Quinn',\n 'Senna',\n 'Sivir',\n 'Teemo',\n 'Tristana',\n 'Twitch',\n 'Varus',\n 'Vayne',\n 'Xayah']"
     },
     "metadata": {},
     "execution_count": 3
    }
   ],
   "source": [
    "champions.loc[(champions['primaryClass'] == 'Marksman') | (champions['secondaryClass'] == 'Marksman'), 'name'].to_list()"
   ]
  },
  {
   "cell_type": "code",
   "execution_count": 4,
   "metadata": {
    "tags": []
   },
   "outputs": [
    {
     "output_type": "stream",
     "name": "stdout",
     "text": "['523', '22', '51', '42', '119', '81', '104', '202', '222', '145', '429', '203', '96', '236', '21', '133', '235', '15', '18', '29', '110', '67', '498']\n"
    }
   ],
   "source": [
    "ADCs=['Aphelios', 'Ashe', 'Caitlyn', 'Corki', 'Draven', 'Ezreal', 'Graves', 'Jhin', 'Jinx', \"Kai'Sa\", 'Kalista', 'Kindred', \"Kog'Maw\", 'Lucian', 'Miss Fortune', 'Quinn', 'Senna', 'Sivir', 'Tristana', 'Twitch', 'Varus', 'Vayne', 'Xayah']\n",
    "\n",
    "adcIds = [str(champions.loc[champions['name'] == adc, 'championId'].values[0]) for adc in ADCs]\n",
    "print(adcIds)"
   ]
  },
  {
   "cell_type": "code",
   "execution_count": 5,
   "metadata": {},
   "outputs": [],
   "source": [
    "import asyncpg\n",
    "import nest_asyncio\n",
    "import asyncio\n",
    "from config import dbConfig\n",
    "\n",
    "nest_asyncio.apply()\n",
    "loop = asyncio.get_event_loop()"
   ]
  },
  {
   "cell_type": "code",
   "execution_count": 6,
   "metadata": {
    "tags": []
   },
   "outputs": [
    {
     "output_type": "execute_result",
     "data": {
      "text/plain": "              gameId  championId teamColor    win\n0         2855142709         122      Blue  False\n1         2855142709          75      Blue  False\n2         2855142709          20      Blue  False\n3         2855142709         267       Red   True\n4         2855142709         117       Red   True\n...              ...         ...       ...    ...\n12599939  3588420238          39       Red   True\n12599940  3588420238          84      Blue  False\n12599941  3588420238         143       Red   True\n12599942  3588420238         126      Blue  False\n12599943  3588420238         106      Blue  False\n\n[12599944 rows x 4 columns]",
      "text/html": "<div>\n<style scoped>\n    .dataframe tbody tr th:only-of-type {\n        vertical-align: middle;\n    }\n\n    .dataframe tbody tr th {\n        vertical-align: top;\n    }\n\n    .dataframe thead th {\n        text-align: right;\n    }\n</style>\n<table border=\"1\" class=\"dataframe\">\n  <thead>\n    <tr style=\"text-align: right;\">\n      <th></th>\n      <th>gameId</th>\n      <th>championId</th>\n      <th>teamColor</th>\n      <th>win</th>\n    </tr>\n  </thead>\n  <tbody>\n    <tr>\n      <th>0</th>\n      <td>2855142709</td>\n      <td>122</td>\n      <td>Blue</td>\n      <td>False</td>\n    </tr>\n    <tr>\n      <th>1</th>\n      <td>2855142709</td>\n      <td>75</td>\n      <td>Blue</td>\n      <td>False</td>\n    </tr>\n    <tr>\n      <th>2</th>\n      <td>2855142709</td>\n      <td>20</td>\n      <td>Blue</td>\n      <td>False</td>\n    </tr>\n    <tr>\n      <th>3</th>\n      <td>2855142709</td>\n      <td>267</td>\n      <td>Red</td>\n      <td>True</td>\n    </tr>\n    <tr>\n      <th>4</th>\n      <td>2855142709</td>\n      <td>117</td>\n      <td>Red</td>\n      <td>True</td>\n    </tr>\n    <tr>\n      <th>...</th>\n      <td>...</td>\n      <td>...</td>\n      <td>...</td>\n      <td>...</td>\n    </tr>\n    <tr>\n      <th>12599939</th>\n      <td>3588420238</td>\n      <td>39</td>\n      <td>Red</td>\n      <td>True</td>\n    </tr>\n    <tr>\n      <th>12599940</th>\n      <td>3588420238</td>\n      <td>84</td>\n      <td>Blue</td>\n      <td>False</td>\n    </tr>\n    <tr>\n      <th>12599941</th>\n      <td>3588420238</td>\n      <td>143</td>\n      <td>Red</td>\n      <td>True</td>\n    </tr>\n    <tr>\n      <th>12599942</th>\n      <td>3588420238</td>\n      <td>126</td>\n      <td>Blue</td>\n      <td>False</td>\n    </tr>\n    <tr>\n      <th>12599943</th>\n      <td>3588420238</td>\n      <td>106</td>\n      <td>Blue</td>\n      <td>False</td>\n    </tr>\n  </tbody>\n</table>\n<p>12599944 rows × 4 columns</p>\n</div>"
     },
     "metadata": {},
     "execution_count": 6
    }
   ],
   "source": [
    "async def fetch_as_dataframe(con: asyncpg.Connection, query: str, *args):\n",
    "    stmt = await con.prepare(query)\n",
    "    columns = [a.name for a in stmt.get_attributes()]\n",
    "    data = await stmt.fetch()\n",
    "    return pd.DataFrame(data, columns=columns)\n",
    "\n",
    "async def run():\n",
    "    connection = await asyncpg.connect(user=dbConfig['user'],\n",
    "                                password=dbConfig['password'],\n",
    "                                host=dbConfig['host'],\n",
    "                                port=dbConfig['port'],\n",
    "                                database=dbConfig['database'])\n",
    "    async with connection.transaction():\n",
    "        adcQuery = f'SELECT \"gameId\", \"championId\", \"teamColor\", \"win\" \\\n",
    "                    FROM \"Participant_Stats\" \\\n",
    "                    WHERE \"championId\" IN ({\" ,\".join(adcIds)}) \\\n",
    "                    ORDER BY \"gameId\" ASC;'\n",
    "        noADCQuery = f'SELECT \"gameId\", \"championId\", \"teamColor\", \"win\" \\\n",
    "                    FROM \"Participant_Stats\" \\\n",
    "                    WHERE \"championId\" NOT IN ({\" ,\".join(adcIds)}) \\\n",
    "                    ORDER BY \"gameId\" ASC;'\n",
    "        adcGames_df = await fetch_as_dataframe(connection, adcQuery)\n",
    "        noADCGames_df = await fetch_as_dataframe(connection, noADCQuery)\n",
    "    return (adcGames_df, noADCGames_df)\n",
    "\n",
    "adcGames_df, noADCGames_df = loop.run_until_complete(run())\n",
    "noADCGames_df"
   ]
  },
  {
   "cell_type": "code",
   "execution_count": 7,
   "metadata": {},
   "outputs": [
    {
     "output_type": "execute_result",
     "data": {
      "text/plain": "                      sum  count\ngameId     teamColor            \n2855142709 Blue         0      3\n           Red          3      3\n2856401827 Blue         4      4\n           Red          0      5\n2856437506 Blue         0      4\n...                   ...    ...\n3588313005 Red          4      4\n3588365616 Blue         0      3\n           Red          5      5\n3588420238 Blue         0      4\n           Red          3      3\n\n[3241596 rows x 2 columns]",
      "text/html": "<div>\n<style scoped>\n    .dataframe tbody tr th:only-of-type {\n        vertical-align: middle;\n    }\n\n    .dataframe tbody tr th {\n        vertical-align: top;\n    }\n\n    .dataframe thead th {\n        text-align: right;\n    }\n</style>\n<table border=\"1\" class=\"dataframe\">\n  <thead>\n    <tr style=\"text-align: right;\">\n      <th></th>\n      <th></th>\n      <th>sum</th>\n      <th>count</th>\n    </tr>\n    <tr>\n      <th>gameId</th>\n      <th>teamColor</th>\n      <th></th>\n      <th></th>\n    </tr>\n  </thead>\n  <tbody>\n    <tr>\n      <th rowspan=\"2\" valign=\"top\">2855142709</th>\n      <th>Blue</th>\n      <td>0</td>\n      <td>3</td>\n    </tr>\n    <tr>\n      <th>Red</th>\n      <td>3</td>\n      <td>3</td>\n    </tr>\n    <tr>\n      <th rowspan=\"2\" valign=\"top\">2856401827</th>\n      <th>Blue</th>\n      <td>4</td>\n      <td>4</td>\n    </tr>\n    <tr>\n      <th>Red</th>\n      <td>0</td>\n      <td>5</td>\n    </tr>\n    <tr>\n      <th>2856437506</th>\n      <th>Blue</th>\n      <td>0</td>\n      <td>4</td>\n    </tr>\n    <tr>\n      <th>...</th>\n      <th>...</th>\n      <td>...</td>\n      <td>...</td>\n    </tr>\n    <tr>\n      <th>3588313005</th>\n      <th>Red</th>\n      <td>4</td>\n      <td>4</td>\n    </tr>\n    <tr>\n      <th rowspan=\"2\" valign=\"top\">3588365616</th>\n      <th>Blue</th>\n      <td>0</td>\n      <td>3</td>\n    </tr>\n    <tr>\n      <th>Red</th>\n      <td>5</td>\n      <td>5</td>\n    </tr>\n    <tr>\n      <th rowspan=\"2\" valign=\"top\">3588420238</th>\n      <th>Blue</th>\n      <td>0</td>\n      <td>4</td>\n    </tr>\n    <tr>\n      <th>Red</th>\n      <td>3</td>\n      <td>3</td>\n    </tr>\n  </tbody>\n</table>\n<p>3241596 rows × 2 columns</p>\n</div>"
     },
     "metadata": {},
     "execution_count": 7
    }
   ],
   "source": [
    "noADCGames = noADCGames_df[['gameId', 'teamColor', 'win']].groupby(['gameId', 'teamColor']).agg(['sum','count'])['win']\n",
    "noADCGames"
   ]
  },
  {
   "cell_type": "code",
   "execution_count": 8,
   "metadata": {
    "tags": []
   },
   "outputs": [
    {
     "output_type": "stream",
     "name": "stdout",
     "text": "noADCWR: 0.46122 [358570 / 777436]\n"
    },
    {
     "output_type": "execute_result",
     "data": {
      "text/plain": "                      sum  count\ngameId     teamColor            \n2856401827 Red          0      5\n2856474922 Red          0      5\n2856481325 Blue         0      5\n2856486557 Blue         0      5\n           Red          5      5\n...                   ...    ...\n3588272331 Blue         0      5\n           Red          5      5\n3588282140 Blue         5      5\n3588297793 Blue         5      5\n3588365616 Red          5      5\n\n[777436 rows x 2 columns]",
      "text/html": "<div>\n<style scoped>\n    .dataframe tbody tr th:only-of-type {\n        vertical-align: middle;\n    }\n\n    .dataframe tbody tr th {\n        vertical-align: top;\n    }\n\n    .dataframe thead th {\n        text-align: right;\n    }\n</style>\n<table border=\"1\" class=\"dataframe\">\n  <thead>\n    <tr style=\"text-align: right;\">\n      <th></th>\n      <th></th>\n      <th>sum</th>\n      <th>count</th>\n    </tr>\n    <tr>\n      <th>gameId</th>\n      <th>teamColor</th>\n      <th></th>\n      <th></th>\n    </tr>\n  </thead>\n  <tbody>\n    <tr>\n      <th>2856401827</th>\n      <th>Red</th>\n      <td>0</td>\n      <td>5</td>\n    </tr>\n    <tr>\n      <th>2856474922</th>\n      <th>Red</th>\n      <td>0</td>\n      <td>5</td>\n    </tr>\n    <tr>\n      <th>2856481325</th>\n      <th>Blue</th>\n      <td>0</td>\n      <td>5</td>\n    </tr>\n    <tr>\n      <th rowspan=\"2\" valign=\"top\">2856486557</th>\n      <th>Blue</th>\n      <td>0</td>\n      <td>5</td>\n    </tr>\n    <tr>\n      <th>Red</th>\n      <td>5</td>\n      <td>5</td>\n    </tr>\n    <tr>\n      <th>...</th>\n      <th>...</th>\n      <td>...</td>\n      <td>...</td>\n    </tr>\n    <tr>\n      <th rowspan=\"2\" valign=\"top\">3588272331</th>\n      <th>Blue</th>\n      <td>0</td>\n      <td>5</td>\n    </tr>\n    <tr>\n      <th>Red</th>\n      <td>5</td>\n      <td>5</td>\n    </tr>\n    <tr>\n      <th>3588282140</th>\n      <th>Blue</th>\n      <td>5</td>\n      <td>5</td>\n    </tr>\n    <tr>\n      <th>3588297793</th>\n      <th>Blue</th>\n      <td>5</td>\n      <td>5</td>\n    </tr>\n    <tr>\n      <th>3588365616</th>\n      <th>Red</th>\n      <td>5</td>\n      <td>5</td>\n    </tr>\n  </tbody>\n</table>\n<p>777436 rows × 2 columns</p>\n</div>"
     },
     "metadata": {},
     "execution_count": 8
    }
   ],
   "source": [
    "noADC = noADCGames[noADCGames['count'] == 5]\n",
    "noADCWR = noADC['sum'].astype(bool).sum(axis=0)/noADC['count'].count()\n",
    "print(f\"noADCWR: {noADCWR:.5f} [{noADC['sum'].astype(bool).sum(axis=0)} / {noADC['count'].count()}]\")\n",
    "noADC"
   ]
  },
  {
   "cell_type": "code",
   "execution_count": 9,
   "metadata": {
    "tags": []
   },
   "outputs": [
    {
     "output_type": "execute_result",
     "data": {
      "text/plain": "                      sum  count\ngameId     teamColor            \n2855142709 Blue         0      2\n           Red          2      2\n2856401827 Blue         1      1\n2856437506 Blue         0      1\n           Red          3      3\n...                   ...    ...\n3588313005 Blue         0      1\n           Red          1      1\n3588365616 Blue         0      2\n3588420238 Blue         0      1\n           Red          2      2\n\n[2464892 rows x 2 columns]",
      "text/html": "<div>\n<style scoped>\n    .dataframe tbody tr th:only-of-type {\n        vertical-align: middle;\n    }\n\n    .dataframe tbody tr th {\n        vertical-align: top;\n    }\n\n    .dataframe thead th {\n        text-align: right;\n    }\n</style>\n<table border=\"1\" class=\"dataframe\">\n  <thead>\n    <tr style=\"text-align: right;\">\n      <th></th>\n      <th></th>\n      <th>sum</th>\n      <th>count</th>\n    </tr>\n    <tr>\n      <th>gameId</th>\n      <th>teamColor</th>\n      <th></th>\n      <th></th>\n    </tr>\n  </thead>\n  <tbody>\n    <tr>\n      <th rowspan=\"2\" valign=\"top\">2855142709</th>\n      <th>Blue</th>\n      <td>0</td>\n      <td>2</td>\n    </tr>\n    <tr>\n      <th>Red</th>\n      <td>2</td>\n      <td>2</td>\n    </tr>\n    <tr>\n      <th>2856401827</th>\n      <th>Blue</th>\n      <td>1</td>\n      <td>1</td>\n    </tr>\n    <tr>\n      <th rowspan=\"2\" valign=\"top\">2856437506</th>\n      <th>Blue</th>\n      <td>0</td>\n      <td>1</td>\n    </tr>\n    <tr>\n      <th>Red</th>\n      <td>3</td>\n      <td>3</td>\n    </tr>\n    <tr>\n      <th>...</th>\n      <th>...</th>\n      <td>...</td>\n      <td>...</td>\n    </tr>\n    <tr>\n      <th rowspan=\"2\" valign=\"top\">3588313005</th>\n      <th>Blue</th>\n      <td>0</td>\n      <td>1</td>\n    </tr>\n    <tr>\n      <th>Red</th>\n      <td>1</td>\n      <td>1</td>\n    </tr>\n    <tr>\n      <th>3588365616</th>\n      <th>Blue</th>\n      <td>0</td>\n      <td>2</td>\n    </tr>\n    <tr>\n      <th rowspan=\"2\" valign=\"top\">3588420238</th>\n      <th>Blue</th>\n      <td>0</td>\n      <td>1</td>\n    </tr>\n    <tr>\n      <th>Red</th>\n      <td>2</td>\n      <td>2</td>\n    </tr>\n  </tbody>\n</table>\n<p>2464892 rows × 2 columns</p>\n</div>"
     },
     "metadata": {},
     "execution_count": 9
    }
   ],
   "source": [
    "adcGames = adcGames_df[['gameId', 'teamColor', 'win']].groupby(['gameId', 'teamColor']).agg(['sum','count'])['win']\n",
    "adcGames"
   ]
  },
  {
   "cell_type": "code",
   "execution_count": 10,
   "metadata": {},
   "outputs": [],
   "source": [
    "from statsmodels.stats.proportion import proportion_confint"
   ]
  },
  {
   "cell_type": "code",
   "execution_count": 11,
   "metadata": {
    "tags": []
   },
   "outputs": [],
   "source": [
    "oneADC = adcGames[adcGames['count'] == 1]\n",
    "twoADC = adcGames[adcGames['count'] == 2]\n",
    "threeADC = adcGames[adcGames['count'] == 3]\n",
    "fourADC = adcGames[adcGames['count'] == 4]\n",
    "fiveADC = adcGames[adcGames['count'] == 5]\n",
    "atLeastOneADC = adcGames[adcGames['count'] >= 1]\n",
    "twoOrMoreADC = adcGames[adcGames['count'] >= 2]\n",
    "threeOrMoreADC = adcGames[adcGames['count'] >= 3]\n",
    "fourOrMoreADC = adcGames[adcGames['count'] >= 4]\n",
    "\n",
    "oneADCWR = oneADC['sum'].astype(bool).sum(axis=0)/oneADC['count'].count()\n",
    "twoADCWR = twoADC['sum'].astype(bool).sum(axis=0)/twoADC['count'].count()\n",
    "threeADCWR = threeADC['sum'].astype(bool).sum(axis=0)/threeADC['count'].count()\n",
    "fourADCWR = fourADC['sum'].astype(bool).sum(axis=0)/fourADC['count'].count()\n",
    "fiveADCWR = fiveADC['sum'].astype(bool).sum(axis=0)/fiveADC['count'].count()\n",
    "atLeastOneADCWR = atLeastOneADC['sum'].astype(bool).sum(axis=0)/atLeastOneADC['count'].count()\n",
    "twoOrMoreADCWR = twoOrMoreADC['sum'].astype(bool).sum(axis=0)/twoOrMoreADC['count'].count()\n",
    "threeOrMoreADCWR = threeOrMoreADC['sum'].astype(bool).sum(axis=0)/threeOrMoreADC['count'].count()\n",
    "fourOrMoreADCWR = fourOrMoreADC['sum'].astype(bool).sum(axis=0)/fourOrMoreADC['count'].count()\n",
    "\n",
    "noADCCI = proportion_confint(noADC['sum'].astype(bool).sum(axis=0), noADC['count'].count(), method='binom_test', alpha=0.05)\n",
    "oneADCCI = proportion_confint(oneADC['sum'].astype(bool).sum(axis=0), oneADC['count'].count(), method='binom_test', alpha=0.05)\n",
    "twoADCCI = proportion_confint(twoADC['sum'].astype(bool).sum(axis=0), twoADC['count'].count(), method='binom_test', alpha=0.05)\n",
    "threeADCCI = proportion_confint(threeADC['sum'].astype(bool).sum(axis=0), threeADC['count'].count(), method='binom_test', alpha=0.05)\n",
    "fourADCCI = proportion_confint(fourADC['sum'].astype(bool).sum(axis=0), fourADC['count'].count(), method='binom_test', alpha=0.05)\n",
    "fiveADCCI = proportion_confint(fiveADC['sum'].astype(bool).sum(axis=0), fiveADC['count'].count(), method='binom_test', alpha=0.05)\n",
    "atLeastOneADCCI = proportion_confint(atLeastOneADC['sum'].astype(bool).sum(axis=0), atLeastOneADC['count'].count(), method='binom_test', alpha=0.05)\n",
    "twoOrMoreADCCI = proportion_confint(twoOrMoreADC['sum'].astype(bool).sum(axis=0), twoOrMoreADC['count'].count(), method='binom_test', alpha=0.05)\n",
    "threeOrMoreADCCI = proportion_confint(threeOrMoreADC['sum'].astype(bool).sum(axis=0), threeOrMoreADC['count'].count(), method='binom_test', alpha=0.05)\n",
    "fourOrMoreADCCI = proportion_confint(fourOrMoreADC['sum'].astype(bool).sum(axis=0), fourOrMoreADC['count'].count(), method='binom_test', alpha=0.05)"
   ]
  },
  {
   "cell_type": "code",
   "execution_count": 12,
   "metadata": {
    "tags": []
   },
   "outputs": [
    {
     "output_type": "stream",
     "name": "stdout",
     "text": "noADCWR: 0.46122 [358570 / 777436]\noneADCWR: 0.51703 [775562 / 1500036]\ntwoADCWR: 0.51357 [409222 / 796814]\nthreeADCWR: 0.47005 [72795 / 154868]\nfourADCWR: 0.38643 [4806 / 12437]\nfiveADCWR: 0.38643 [210 / 737]\natLeastOneADCWR: 0.51223 [1262595 / 2464892]\ntwoOrMoreADCWR: 0.50477 [487033 / 964856]\nthreeOrMoreADCWR: 0.46304 [77811 / 168042]\nfourOrMoreADCWR: 0.38075 [5016 / 13174]\n95% CI: [0.460113, 0.462330]\n95% CI: [0.516229, 0.517829]\n95% CI: [0.512475, 0.514670]\n95% CI: [0.467559, 0.472535]\n95% CI: [0.377902, 0.395029]\n95% CI: [0.251586, 0.317428]\n95% CI: [0.511607, 0.512856]\n95% CI: [0.503775, 0.505771]\n95% CI: [0.460662, 0.465431]\n95% CI: [0.372473, 0.389097]\n"
    }
   ],
   "source": [
    "print(f\"noADCWR: {noADCWR:.5f} [{noADC['sum'].astype(bool).sum(axis=0)} / {noADC['count'].count()}]\")\n",
    "print(f\"oneADCWR: {oneADCWR:.5f} [{oneADC['sum'].astype(bool).sum(axis=0)} / {oneADC['count'].count()}]\")\n",
    "print(f\"twoADCWR: {twoADCWR:.5f} [{twoADC['sum'].astype(bool).sum(axis=0)} / {twoADC['count'].count()}]\")\n",
    "print(f\"threeADCWR: {threeADCWR:.5f} [{threeADC['sum'].astype(bool).sum(axis=0)} / {threeADC['count'].count()}]\")\n",
    "print(f\"fourADCWR: {fourADCWR:.5f} [{fourADC['sum'].astype(bool).sum(axis=0)} / {fourADC['count'].count()}]\")\n",
    "print(f\"fiveADCWR: {fourADCWR:.5f} [{fiveADC['sum'].astype(bool).sum(axis=0)} / {fiveADC['count'].count()}]\")\n",
    "print(f\"atLeastOneADCWR: {atLeastOneADCWR:.5f} [{atLeastOneADC['sum'].astype(bool).sum(axis=0)} / {atLeastOneADC['count'].count()}]\")\n",
    "print(f\"twoOrMoreADCWR: {twoOrMoreADCWR:.5f} [{twoOrMoreADC['sum'].astype(bool).sum(axis=0)} / {twoOrMoreADC['count'].count()}]\")\n",
    "print(f\"threeOrMoreADCWR: {threeOrMoreADCWR:.5f} [{threeOrMoreADC['sum'].astype(bool).sum(axis=0)} / {threeOrMoreADC['count'].count()}]\")\n",
    "print(f\"fourOrMoreADCWR: {fourOrMoreADCWR:.5f} [{fourOrMoreADC['sum'].astype(bool).sum(axis=0)} / {fourOrMoreADC['count'].count()}]\")\n",
    "\n",
    "print(f\"95% CI: [{noADCCI[0]:.6f}, {noADCCI[1]:.6f}]\")\n",
    "print(f\"95% CI: [{oneADCCI[0]:.6f}, {oneADCCI[1]:.6f}]\")\n",
    "print(f\"95% CI: [{twoADCCI[0]:.6f}, {twoADCCI[1]:.6f}]\")\n",
    "print(f\"95% CI: [{threeADCCI[0]:.6f}, {threeADCCI[1]:.6f}]\")\n",
    "print(f\"95% CI: [{fourADCCI[0]:.6f}, {fourADCCI[1]:.6f}]\")\n",
    "print(f\"95% CI: [{fiveADCCI[0]:.6f}, {fiveADCCI[1]:.6f}]\")\n",
    "print(f\"95% CI: [{atLeastOneADCCI[0]:.6f}, {atLeastOneADCCI[1]:.6f}]\")\n",
    "print(f\"95% CI: [{twoOrMoreADCCI[0]:.6f}, {twoOrMoreADCCI[1]:.6f}]\")\n",
    "print(f\"95% CI: [{threeOrMoreADCCI[0]:.6f}, {threeOrMoreADCCI[1]:.6f}]\")\n",
    "print(f\"95% CI: [{fourOrMoreADCCI[0]:.6f}, {fourOrMoreADCCI[1]:.6f}]\")"
   ]
  },
  {
   "cell_type": "code",
   "execution_count": null,
   "metadata": {},
   "outputs": [],
   "source": []
  }
 ]
}