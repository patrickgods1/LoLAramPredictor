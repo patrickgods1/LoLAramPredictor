{
 "metadata": {
  "language_info": {
   "codemirror_mode": {
    "name": "ipython",
    "version": 3
   },
   "file_extension": ".py",
   "mimetype": "text/x-python",
   "name": "python",
   "nbconvert_exporter": "python",
   "pygments_lexer": "ipython3",
   "version": "3.6.10-final"
  },
  "orig_nbformat": 2,
  "kernelspec": {
   "name": "Python 3.6.10 64-bit ('Python36': conda)",
   "display_name": "Python 3.6.10 64-bit ('Python36': conda)",
   "metadata": {
    "interpreter": {
     "hash": "23508edb48211c585617c619e9f1b5e8d4b0a27eebe8bdb1b05c1cca5979f0c4"
    }
   }
  }
 },
 "nbformat": 4,
 "nbformat_minor": 2,
 "cells": [
  {
   "cell_type": "code",
   "execution_count": 14,
   "metadata": {},
   "outputs": [],
   "source": [
    "import pandas as pd\n",
    "import json\n",
    "filePath = r\"C:\\\\Users\\\\Pat\\\\Desktop\\\\Projects\\\\LoLAramPredictor\\\\Game Info\\\\\""
   ]
  },
  {
   "cell_type": "code",
   "execution_count": 15,
   "metadata": {
    "tags": []
   },
   "outputs": [
    {
     "output_type": "execute_result",
     "data": {
      "text/plain": "    championId     name attack defense magic difficulty primaryClass  \\\n0          266   Aatrox      8       4     3          4      Fighter   \n1          103     Ahri      3       4     8          5         Mage   \n2           84    Akali      5       3     8          7     Assassin   \n3           12  Alistar      6       9     5          7         Tank   \n4           32    Amumu      2       6     8          3         Tank   \n..         ...      ...    ...     ...   ...        ...          ...   \n145        238      Zed      9       2     1          7     Assassin   \n146        115    Ziggs      2       4     9          4         Mage   \n147         26   Zilean      2       5     8          6      Support   \n148        142      Zoe      1       7     8          5         Mage   \n149        143     Zyra      4       3     8          7         Mage   \n\n    secondaryClass     partype      hp  ... hpregen hpregenperlevel mpregen  \\\n0             Tank  Blood Well     580  ...       3               1       0   \n1         Assassin        Mana     526  ...     6.5             0.6       8   \n2             None      Energy     575  ...       8             0.5      50   \n3          Support        Mana     600  ...     8.5            0.85     8.5   \n4             Mage        Mana  613.12  ...       9            0.85   7.382   \n..             ...         ...     ...  ...     ...             ...     ...   \n145           None      Energy     584  ...       7            0.65      50   \n146           None        Mana     536  ...     6.5             0.6       8   \n147           Mage        Mana     504  ...     5.5             0.5  11.335   \n148        Support        Mana     560  ...     6.5             0.6       8   \n149        Support        Mana     504  ...     5.5             0.5      13   \n\n    mpregenperlevel crit  critperlevel  attackdamage  attackdamageperlevel  \\\n0                 0    0             0            60                     5   \n1               0.8    0             0         53.04                     3   \n2                 0    0             0          62.4                   3.3   \n3               0.8    0             0            62                  3.75   \n4             0.525    0             0         53.38                   3.8   \n..              ...  ...           ...           ...                   ...   \n145               0    0             0            63                   3.4   \n146             0.8    0             0        54.208                   3.1   \n147             0.8    0             0         51.64                     3   \n148            0.65    0             0            58                   3.3   \n149             0.4    0             0        53.376                   3.2   \n\n    attackspeedperlevel attackspeed  \n0                 2.500       0.651  \n1                 2.000       0.668  \n2                 3.200       0.625  \n3                 2.125       0.625  \n4                 2.180       0.736  \n..                  ...         ...  \n145               3.300       0.651  \n146               2.000       0.656  \n147               2.130       0.625  \n148               2.500       0.625  \n149               2.110       0.625  \n\n[150 rows x 29 columns]",
      "text/html": "<div>\n<style scoped>\n    .dataframe tbody tr th:only-of-type {\n        vertical-align: middle;\n    }\n\n    .dataframe tbody tr th {\n        vertical-align: top;\n    }\n\n    .dataframe thead th {\n        text-align: right;\n    }\n</style>\n<table border=\"1\" class=\"dataframe\">\n  <thead>\n    <tr style=\"text-align: right;\">\n      <th></th>\n      <th>championId</th>\n      <th>name</th>\n      <th>attack</th>\n      <th>defense</th>\n      <th>magic</th>\n      <th>difficulty</th>\n      <th>primaryClass</th>\n      <th>secondaryClass</th>\n      <th>partype</th>\n      <th>hp</th>\n      <th>...</th>\n      <th>hpregen</th>\n      <th>hpregenperlevel</th>\n      <th>mpregen</th>\n      <th>mpregenperlevel</th>\n      <th>crit</th>\n      <th>critperlevel</th>\n      <th>attackdamage</th>\n      <th>attackdamageperlevel</th>\n      <th>attackspeedperlevel</th>\n      <th>attackspeed</th>\n    </tr>\n  </thead>\n  <tbody>\n    <tr>\n      <th>0</th>\n      <td>266</td>\n      <td>Aatrox</td>\n      <td>8</td>\n      <td>4</td>\n      <td>3</td>\n      <td>4</td>\n      <td>Fighter</td>\n      <td>Tank</td>\n      <td>Blood Well</td>\n      <td>580</td>\n      <td>...</td>\n      <td>3</td>\n      <td>1</td>\n      <td>0</td>\n      <td>0</td>\n      <td>0</td>\n      <td>0</td>\n      <td>60</td>\n      <td>5</td>\n      <td>2.500</td>\n      <td>0.651</td>\n    </tr>\n    <tr>\n      <th>1</th>\n      <td>103</td>\n      <td>Ahri</td>\n      <td>3</td>\n      <td>4</td>\n      <td>8</td>\n      <td>5</td>\n      <td>Mage</td>\n      <td>Assassin</td>\n      <td>Mana</td>\n      <td>526</td>\n      <td>...</td>\n      <td>6.5</td>\n      <td>0.6</td>\n      <td>8</td>\n      <td>0.8</td>\n      <td>0</td>\n      <td>0</td>\n      <td>53.04</td>\n      <td>3</td>\n      <td>2.000</td>\n      <td>0.668</td>\n    </tr>\n    <tr>\n      <th>2</th>\n      <td>84</td>\n      <td>Akali</td>\n      <td>5</td>\n      <td>3</td>\n      <td>8</td>\n      <td>7</td>\n      <td>Assassin</td>\n      <td>None</td>\n      <td>Energy</td>\n      <td>575</td>\n      <td>...</td>\n      <td>8</td>\n      <td>0.5</td>\n      <td>50</td>\n      <td>0</td>\n      <td>0</td>\n      <td>0</td>\n      <td>62.4</td>\n      <td>3.3</td>\n      <td>3.200</td>\n      <td>0.625</td>\n    </tr>\n    <tr>\n      <th>3</th>\n      <td>12</td>\n      <td>Alistar</td>\n      <td>6</td>\n      <td>9</td>\n      <td>5</td>\n      <td>7</td>\n      <td>Tank</td>\n      <td>Support</td>\n      <td>Mana</td>\n      <td>600</td>\n      <td>...</td>\n      <td>8.5</td>\n      <td>0.85</td>\n      <td>8.5</td>\n      <td>0.8</td>\n      <td>0</td>\n      <td>0</td>\n      <td>62</td>\n      <td>3.75</td>\n      <td>2.125</td>\n      <td>0.625</td>\n    </tr>\n    <tr>\n      <th>4</th>\n      <td>32</td>\n      <td>Amumu</td>\n      <td>2</td>\n      <td>6</td>\n      <td>8</td>\n      <td>3</td>\n      <td>Tank</td>\n      <td>Mage</td>\n      <td>Mana</td>\n      <td>613.12</td>\n      <td>...</td>\n      <td>9</td>\n      <td>0.85</td>\n      <td>7.382</td>\n      <td>0.525</td>\n      <td>0</td>\n      <td>0</td>\n      <td>53.38</td>\n      <td>3.8</td>\n      <td>2.180</td>\n      <td>0.736</td>\n    </tr>\n    <tr>\n      <th>...</th>\n      <td>...</td>\n      <td>...</td>\n      <td>...</td>\n      <td>...</td>\n      <td>...</td>\n      <td>...</td>\n      <td>...</td>\n      <td>...</td>\n      <td>...</td>\n      <td>...</td>\n      <td>...</td>\n      <td>...</td>\n      <td>...</td>\n      <td>...</td>\n      <td>...</td>\n      <td>...</td>\n      <td>...</td>\n      <td>...</td>\n      <td>...</td>\n      <td>...</td>\n      <td>...</td>\n    </tr>\n    <tr>\n      <th>145</th>\n      <td>238</td>\n      <td>Zed</td>\n      <td>9</td>\n      <td>2</td>\n      <td>1</td>\n      <td>7</td>\n      <td>Assassin</td>\n      <td>None</td>\n      <td>Energy</td>\n      <td>584</td>\n      <td>...</td>\n      <td>7</td>\n      <td>0.65</td>\n      <td>50</td>\n      <td>0</td>\n      <td>0</td>\n      <td>0</td>\n      <td>63</td>\n      <td>3.4</td>\n      <td>3.300</td>\n      <td>0.651</td>\n    </tr>\n    <tr>\n      <th>146</th>\n      <td>115</td>\n      <td>Ziggs</td>\n      <td>2</td>\n      <td>4</td>\n      <td>9</td>\n      <td>4</td>\n      <td>Mage</td>\n      <td>None</td>\n      <td>Mana</td>\n      <td>536</td>\n      <td>...</td>\n      <td>6.5</td>\n      <td>0.6</td>\n      <td>8</td>\n      <td>0.8</td>\n      <td>0</td>\n      <td>0</td>\n      <td>54.208</td>\n      <td>3.1</td>\n      <td>2.000</td>\n      <td>0.656</td>\n    </tr>\n    <tr>\n      <th>147</th>\n      <td>26</td>\n      <td>Zilean</td>\n      <td>2</td>\n      <td>5</td>\n      <td>8</td>\n      <td>6</td>\n      <td>Support</td>\n      <td>Mage</td>\n      <td>Mana</td>\n      <td>504</td>\n      <td>...</td>\n      <td>5.5</td>\n      <td>0.5</td>\n      <td>11.335</td>\n      <td>0.8</td>\n      <td>0</td>\n      <td>0</td>\n      <td>51.64</td>\n      <td>3</td>\n      <td>2.130</td>\n      <td>0.625</td>\n    </tr>\n    <tr>\n      <th>148</th>\n      <td>142</td>\n      <td>Zoe</td>\n      <td>1</td>\n      <td>7</td>\n      <td>8</td>\n      <td>5</td>\n      <td>Mage</td>\n      <td>Support</td>\n      <td>Mana</td>\n      <td>560</td>\n      <td>...</td>\n      <td>6.5</td>\n      <td>0.6</td>\n      <td>8</td>\n      <td>0.65</td>\n      <td>0</td>\n      <td>0</td>\n      <td>58</td>\n      <td>3.3</td>\n      <td>2.500</td>\n      <td>0.625</td>\n    </tr>\n    <tr>\n      <th>149</th>\n      <td>143</td>\n      <td>Zyra</td>\n      <td>4</td>\n      <td>3</td>\n      <td>8</td>\n      <td>7</td>\n      <td>Mage</td>\n      <td>Support</td>\n      <td>Mana</td>\n      <td>504</td>\n      <td>...</td>\n      <td>5.5</td>\n      <td>0.5</td>\n      <td>13</td>\n      <td>0.4</td>\n      <td>0</td>\n      <td>0</td>\n      <td>53.376</td>\n      <td>3.2</td>\n      <td>2.110</td>\n      <td>0.625</td>\n    </tr>\n  </tbody>\n</table>\n<p>150 rows × 29 columns</p>\n</div>"
     },
     "metadata": {},
     "execution_count": 15
    }
   ],
   "source": [
    "with open(filePath+'champion.json', encoding='utf8') as f:\n",
    "    championData = json.load(f)\n",
    "\n",
    "champions = pd.DataFrame(columns = ['championId', 'name', 'attack', 'defense', 'magic', 'difficulty', 'primaryClass', 'secondaryClass', 'partype', 'hp', 'hpperlevel', 'mp', 'mpperlevel', 'movespeed', 'armor', 'armorperlevel', 'spellblock', 'spellblockperlevel', 'attackrange', 'hpregen', 'hpregenperlevel', 'mpregen', 'mpregenperlevel', 'crit', 'critperlevel', 'attackdamage', 'attackdamageperlevel', 'attackspeedperlevel', 'attackspeed'])\n",
    "\n",
    "for k, v in championData['data'].items():\n",
    "    champions = champions.append({'championId': int(v['key']),\n",
    "                        'name': v['name'], \n",
    "                        'attack': v['info']['attack'], \n",
    "                        'defense': v['info']['defense'], \n",
    "                        'magic': v['info']['magic'], \n",
    "                        'difficulty': v['info']['difficulty'], \n",
    "                        'primaryClass': v['tags'][0], \n",
    "                        'secondaryClass': v['tags'][1] if len(v['tags']) > 1 else 'None', \n",
    "                        'partype': v['partype'], \n",
    "                        'hp': v['stats']['hp'], \n",
    "                        'hpperlevel': v['stats']['hpperlevel'], \n",
    "                        'mp': v['stats']['mp'], \n",
    "                        'mpperlevel': v['stats']['mpperlevel'], \n",
    "                        'movespeed': v['stats']['movespeed'], \n",
    "                        'armor': v['stats']['armor'], \n",
    "                        'armorperlevel': v['stats']['armorperlevel'], \n",
    "                        'spellblock': v['stats']['spellblock'], \n",
    "                        'spellblockperlevel': v['stats']['spellblockperlevel'], \n",
    "                        'attackrange': v['stats']['attackrange'], \n",
    "                        'hpregen': v['stats']['hpregen'], \n",
    "                        'hpregenperlevel': v['stats']['hpregenperlevel'], \n",
    "                        'mpregen': v['stats']['mpregen'], \n",
    "                        'mpregenperlevel': v['stats']['mpregenperlevel'], \n",
    "                        'crit': v['stats']['crit'], \n",
    "                        'critperlevel': v['stats']['critperlevel'], \n",
    "                        'attackdamage': v['stats']['attackdamage'], \n",
    "                        'attackdamageperlevel': v['stats']['attackdamageperlevel'], \n",
    "                        'attackspeedperlevel': v['stats']['attackspeedperlevel'], \n",
    "                        'attackspeed': v['stats']['attackspeed']}, ignore_index=True)\n",
    "\n",
    "champions"
   ]
  },
  {
   "cell_type": "code",
   "execution_count": 16,
   "metadata": {
    "tags": []
   },
   "outputs": [
    {
     "output_type": "execute_result",
     "data": {
      "text/plain": "     id               name              tags                         stats\n0  1001     Boots of Speed           [Boots]  {'FlatMovementSpeedMod': 25}\n1  1004       Faerie Charm       [ManaRegen]                            {}\n2  1006  Rejuvenation Bead     [HealthRegen]                            {}\n3  1011       Giant's Belt          [Health]        {'FlatHPPoolMod': 380}\n4  1018   Cloak of Agility  [CriticalStrike]    {'FlatCritChanceMod': 0.2}",
      "text/html": "<div>\n<style scoped>\n    .dataframe tbody tr th:only-of-type {\n        vertical-align: middle;\n    }\n\n    .dataframe tbody tr th {\n        vertical-align: top;\n    }\n\n    .dataframe thead th {\n        text-align: right;\n    }\n</style>\n<table border=\"1\" class=\"dataframe\">\n  <thead>\n    <tr style=\"text-align: right;\">\n      <th></th>\n      <th>id</th>\n      <th>name</th>\n      <th>tags</th>\n      <th>stats</th>\n    </tr>\n  </thead>\n  <tbody>\n    <tr>\n      <th>0</th>\n      <td>1001</td>\n      <td>Boots of Speed</td>\n      <td>[Boots]</td>\n      <td>{'FlatMovementSpeedMod': 25}</td>\n    </tr>\n    <tr>\n      <th>1</th>\n      <td>1004</td>\n      <td>Faerie Charm</td>\n      <td>[ManaRegen]</td>\n      <td>{}</td>\n    </tr>\n    <tr>\n      <th>2</th>\n      <td>1006</td>\n      <td>Rejuvenation Bead</td>\n      <td>[HealthRegen]</td>\n      <td>{}</td>\n    </tr>\n    <tr>\n      <th>3</th>\n      <td>1011</td>\n      <td>Giant's Belt</td>\n      <td>[Health]</td>\n      <td>{'FlatHPPoolMod': 380}</td>\n    </tr>\n    <tr>\n      <th>4</th>\n      <td>1018</td>\n      <td>Cloak of Agility</td>\n      <td>[CriticalStrike]</td>\n      <td>{'FlatCritChanceMod': 0.2}</td>\n    </tr>\n  </tbody>\n</table>\n</div>"
     },
     "metadata": {},
     "execution_count": 16
    }
   ],
   "source": [
    "with open(filePath+'item.json', encoding='utf8') as f:\n",
    "    itemData = json.load(f)\n",
    "\n",
    "items = pd.DataFrame(columns = ['id', 'name', 'tags', 'stats'])\n",
    "\n",
    "for k, v in itemData['data'].items():\n",
    "    items = items.append({'id': k,\n",
    "                    'name': v['name'], \n",
    "                    'tags': v['tags'],\n",
    "                    'stats': v['stats'] \n",
    "                    }, ignore_index=True )\n",
    "items.head()"
   ]
  },
  {
   "cell_type": "code",
   "execution_count": 17,
   "metadata": {},
   "outputs": [
    {
     "output_type": "execute_result",
     "data": {
      "text/plain": "{'Active',\n 'Armor',\n 'ArmorPenetration',\n 'AttackSpeed',\n 'Aura',\n 'Bilgewater',\n 'Boots',\n 'Consumable',\n 'CooldownReduction',\n 'CriticalStrike',\n 'Damage',\n 'GoldPer',\n 'Health',\n 'HealthRegen',\n 'Jungle',\n 'Lane',\n 'LifeSteal',\n 'MagicPenetration',\n 'Mana',\n 'ManaRegen',\n 'NonbootsMovement',\n 'OnHit',\n 'Slow',\n 'SpellBlock',\n 'SpellDamage',\n 'SpellVamp',\n 'Stealth',\n 'Tenacity',\n 'Trinket',\n 'Vision'}"
     },
     "metadata": {},
     "execution_count": 17
    }
   ],
   "source": [
    "tagTypes = set()\n",
    "items['tags'].apply(lambda x: tagTypes.update((t for t in x)))\n",
    "tagTypes"
   ]
  },
  {
   "cell_type": "code",
   "execution_count": 18,
   "metadata": {},
   "outputs": [
    {
     "output_type": "execute_result",
     "data": {
      "text/plain": "{'FlatArmorMod',\n 'FlatCritChanceMod',\n 'FlatHPPoolMod',\n 'FlatHPRegenMod',\n 'FlatMPPoolMod',\n 'FlatMagicDamageMod',\n 'FlatMovementSpeedMod',\n 'FlatPhysicalDamageMod',\n 'FlatSpellBlockMod',\n 'PercentAttackSpeedMod',\n 'PercentLifeStealMod',\n 'PercentMovementSpeedMod'}"
     },
     "metadata": {},
     "execution_count": 18
    }
   ],
   "source": [
    "statTypes = set()\n",
    "items['stats'].apply(lambda x: statTypes.update((s for s in x)))\n",
    "statTypes"
   ]
  },
  {
   "cell_type": "code",
   "execution_count": 19,
   "metadata": {},
   "outputs": [
    {
     "output_type": "execute_result",
     "data": {
      "text/plain": "       id                      name  \\\n14   1039         Hunter's Talisman   \n15   1041          Hunter's Machete   \n19   1053          Vampiric Scepter   \n21   1055             Doran's Blade   \n26   1083                      Cull   \n50   2140           Elixir of Wrath   \n97   3072             Bloodthirster   \n99   3074            Ravenous Hydra   \n111  3091                 Wit's End   \n138  3139        Mercurial Scimitar   \n142  3144        Bilgewater Cutlass   \n144  3146          Hextech Gunblade   \n148  3153  Blade of the Ruined King   \n150  3156         Maw of Malmortius   \n160  3181            Sanguine Blade   \n161  3184         Guardian's Hammer   \n191  3389  Might of the Ruined King   \n221  3706           Stalker's Blade   \n222  3715        Skirmisher's Sabre   \n229  3812             Death's Dance   \n252  4101      Pridestalker's Blade   \n258  4202        Doran's Lost Blade   \n263  4403        The Golden Spatula   \n\n                                                  tags  \\\n14               [LifeSteal, ManaRegen, OnHit, Jungle]   \n15                          [LifeSteal, OnHit, Jungle]   \n19                                 [Damage, LifeSteal]   \n21                   [Damage, Health, Lane, LifeSteal]   \n26                           [Damage, LifeSteal, Lane]   \n50          [Consumable, Damage, LifeSteal, SpellVamp]   \n97                                 [Damage, LifeSteal]   \n99     [Active, Damage, HealthRegen, LifeSteal, OnHit]   \n111  [SpellBlock, AttackSpeed, LifeSteal, NonbootsM...   \n138  [SpellBlock, Damage, LifeSteal, Active, Nonboo...   \n142                  [Active, Damage, LifeSteal, Slow]   \n144  [Active, Damage, LifeSteal, Slow, SpellDamage,...   \n148  [Damage, AttackSpeed, LifeSteal, Active, Slow,...   \n150  [SpellBlock, Damage, LifeSteal, CooldownReduct...   \n160  [Damage, AttackSpeed, LifeSteal, ArmorPenetrat...   \n161                  [Health, Damage, LifeSteal, Lane]   \n191  [Damage, AttackSpeed, LifeSteal, Active, Slow,...   \n221  [LifeSteal, ManaRegen, Slow, OnHit, NonbootsMo...   \n222              [LifeSteal, ManaRegen, OnHit, Jungle]   \n229  [SpellBlock, Armor, Damage, LifeSteal, Cooldow...   \n252  [LifeSteal, ManaRegen, Slow, OnHit, NonbootsMo...   \n258                  [Damage, Health, Lane, LifeSteal]   \n263  [Health, SpellBlock, HealthRegen, Armor, Damag...   \n\n                                                 stats  \n14                                                  {}  \n15                                                  {}  \n19   {'FlatPhysicalDamageMod': 15, 'PercentLifeStea...  \n21   {'FlatPhysicalDamageMod': 8, 'FlatHPPoolMod': ...  \n26                        {'FlatPhysicalDamageMod': 7}  \n50                                                  {}  \n97                       {'FlatPhysicalDamageMod': 80}  \n99   {'FlatPhysicalDamageMod': 80, 'PercentLifeStea...  \n111  {'PercentMovementSpeedMod': 0.05, 'FlatSpellBl...  \n138  {'FlatPhysicalDamageMod': 50, 'FlatSpellBlockM...  \n142  {'FlatPhysicalDamageMod': 25, 'PercentLifeStea...  \n144  {'FlatPhysicalDamageMod': 40, 'FlatMagicDamage...  \n148  {'FlatPhysicalDamageMod': 40, 'PercentAttackSp...  \n150  {'FlatPhysicalDamageMod': 50, 'FlatSpellBlockM...  \n160  {'FlatPhysicalDamageMod': 55, 'PercentLifeStea...  \n161  {'FlatPhysicalDamageMod': 20, 'FlatHPPoolMod':...  \n191  {'FlatPhysicalDamageMod': 55, 'PercentAttackSp...  \n221                                                 {}  \n222                                                 {}  \n229  {'FlatPhysicalDamageMod': 50, 'FlatSpellBlockM...  \n252                                                 {}  \n258  {'FlatPhysicalDamageMod': 8, 'FlatHPPoolMod': ...  \n263  {'FlatPhysicalDamageMod': 70, 'FlatCritChanceM...  ",
      "text/html": "<div>\n<style scoped>\n    .dataframe tbody tr th:only-of-type {\n        vertical-align: middle;\n    }\n\n    .dataframe tbody tr th {\n        vertical-align: top;\n    }\n\n    .dataframe thead th {\n        text-align: right;\n    }\n</style>\n<table border=\"1\" class=\"dataframe\">\n  <thead>\n    <tr style=\"text-align: right;\">\n      <th></th>\n      <th>id</th>\n      <th>name</th>\n      <th>tags</th>\n      <th>stats</th>\n    </tr>\n  </thead>\n  <tbody>\n    <tr>\n      <th>14</th>\n      <td>1039</td>\n      <td>Hunter's Talisman</td>\n      <td>[LifeSteal, ManaRegen, OnHit, Jungle]</td>\n      <td>{}</td>\n    </tr>\n    <tr>\n      <th>15</th>\n      <td>1041</td>\n      <td>Hunter's Machete</td>\n      <td>[LifeSteal, OnHit, Jungle]</td>\n      <td>{}</td>\n    </tr>\n    <tr>\n      <th>19</th>\n      <td>1053</td>\n      <td>Vampiric Scepter</td>\n      <td>[Damage, LifeSteal]</td>\n      <td>{'FlatPhysicalDamageMod': 15, 'PercentLifeStea...</td>\n    </tr>\n    <tr>\n      <th>21</th>\n      <td>1055</td>\n      <td>Doran's Blade</td>\n      <td>[Damage, Health, Lane, LifeSteal]</td>\n      <td>{'FlatPhysicalDamageMod': 8, 'FlatHPPoolMod': ...</td>\n    </tr>\n    <tr>\n      <th>26</th>\n      <td>1083</td>\n      <td>Cull</td>\n      <td>[Damage, LifeSteal, Lane]</td>\n      <td>{'FlatPhysicalDamageMod': 7}</td>\n    </tr>\n    <tr>\n      <th>50</th>\n      <td>2140</td>\n      <td>Elixir of Wrath</td>\n      <td>[Consumable, Damage, LifeSteal, SpellVamp]</td>\n      <td>{}</td>\n    </tr>\n    <tr>\n      <th>97</th>\n      <td>3072</td>\n      <td>Bloodthirster</td>\n      <td>[Damage, LifeSteal]</td>\n      <td>{'FlatPhysicalDamageMod': 80}</td>\n    </tr>\n    <tr>\n      <th>99</th>\n      <td>3074</td>\n      <td>Ravenous Hydra</td>\n      <td>[Active, Damage, HealthRegen, LifeSteal, OnHit]</td>\n      <td>{'FlatPhysicalDamageMod': 80, 'PercentLifeStea...</td>\n    </tr>\n    <tr>\n      <th>111</th>\n      <td>3091</td>\n      <td>Wit's End</td>\n      <td>[SpellBlock, AttackSpeed, LifeSteal, NonbootsM...</td>\n      <td>{'PercentMovementSpeedMod': 0.05, 'FlatSpellBl...</td>\n    </tr>\n    <tr>\n      <th>138</th>\n      <td>3139</td>\n      <td>Mercurial Scimitar</td>\n      <td>[SpellBlock, Damage, LifeSteal, Active, Nonboo...</td>\n      <td>{'FlatPhysicalDamageMod': 50, 'FlatSpellBlockM...</td>\n    </tr>\n    <tr>\n      <th>142</th>\n      <td>3144</td>\n      <td>Bilgewater Cutlass</td>\n      <td>[Active, Damage, LifeSteal, Slow]</td>\n      <td>{'FlatPhysicalDamageMod': 25, 'PercentLifeStea...</td>\n    </tr>\n    <tr>\n      <th>144</th>\n      <td>3146</td>\n      <td>Hextech Gunblade</td>\n      <td>[Active, Damage, LifeSteal, Slow, SpellDamage,...</td>\n      <td>{'FlatPhysicalDamageMod': 40, 'FlatMagicDamage...</td>\n    </tr>\n    <tr>\n      <th>148</th>\n      <td>3153</td>\n      <td>Blade of the Ruined King</td>\n      <td>[Damage, AttackSpeed, LifeSteal, Active, Slow,...</td>\n      <td>{'FlatPhysicalDamageMod': 40, 'PercentAttackSp...</td>\n    </tr>\n    <tr>\n      <th>150</th>\n      <td>3156</td>\n      <td>Maw of Malmortius</td>\n      <td>[SpellBlock, Damage, LifeSteal, CooldownReduct...</td>\n      <td>{'FlatPhysicalDamageMod': 50, 'FlatSpellBlockM...</td>\n    </tr>\n    <tr>\n      <th>160</th>\n      <td>3181</td>\n      <td>Sanguine Blade</td>\n      <td>[Damage, AttackSpeed, LifeSteal, ArmorPenetrat...</td>\n      <td>{'FlatPhysicalDamageMod': 55, 'PercentLifeStea...</td>\n    </tr>\n    <tr>\n      <th>161</th>\n      <td>3184</td>\n      <td>Guardian's Hammer</td>\n      <td>[Health, Damage, LifeSteal, Lane]</td>\n      <td>{'FlatPhysicalDamageMod': 20, 'FlatHPPoolMod':...</td>\n    </tr>\n    <tr>\n      <th>191</th>\n      <td>3389</td>\n      <td>Might of the Ruined King</td>\n      <td>[Damage, AttackSpeed, LifeSteal, Active, Slow,...</td>\n      <td>{'FlatPhysicalDamageMod': 55, 'PercentAttackSp...</td>\n    </tr>\n    <tr>\n      <th>221</th>\n      <td>3706</td>\n      <td>Stalker's Blade</td>\n      <td>[LifeSteal, ManaRegen, Slow, OnHit, NonbootsMo...</td>\n      <td>{}</td>\n    </tr>\n    <tr>\n      <th>222</th>\n      <td>3715</td>\n      <td>Skirmisher's Sabre</td>\n      <td>[LifeSteal, ManaRegen, OnHit, Jungle]</td>\n      <td>{}</td>\n    </tr>\n    <tr>\n      <th>229</th>\n      <td>3812</td>\n      <td>Death's Dance</td>\n      <td>[SpellBlock, Armor, Damage, LifeSteal, Cooldow...</td>\n      <td>{'FlatPhysicalDamageMod': 50, 'FlatSpellBlockM...</td>\n    </tr>\n    <tr>\n      <th>252</th>\n      <td>4101</td>\n      <td>Pridestalker's Blade</td>\n      <td>[LifeSteal, ManaRegen, Slow, OnHit, NonbootsMo...</td>\n      <td>{}</td>\n    </tr>\n    <tr>\n      <th>258</th>\n      <td>4202</td>\n      <td>Doran's Lost Blade</td>\n      <td>[Damage, Health, Lane, LifeSteal]</td>\n      <td>{'FlatPhysicalDamageMod': 8, 'FlatHPPoolMod': ...</td>\n    </tr>\n    <tr>\n      <th>263</th>\n      <td>4403</td>\n      <td>The Golden Spatula</td>\n      <td>[Health, SpellBlock, HealthRegen, Armor, Damag...</td>\n      <td>{'FlatPhysicalDamageMod': 70, 'FlatCritChanceM...</td>\n    </tr>\n  </tbody>\n</table>\n</div>"
     },
     "metadata": {},
     "execution_count": 19
    }
   ],
   "source": [
    "items[items['tags'].apply(lambda x: 'LifeSteal' in x)]"
   ]
  },
  {
   "cell_type": "code",
   "execution_count": 20,
   "metadata": {
    "tags": []
   },
   "outputs": [
    {
     "output_type": "execute_result",
     "data": {
      "text/plain": "      id             name slot        tree\n0   8112      Electrocute    0  Domination\n1   8124         Predator    0  Domination\n2   8128     Dark Harvest    0  Domination\n3   9923   Hail of Blades    0  Domination\n4   8126       Cheap Shot    1  Domination\n..   ...              ...  ...         ...\n58  8234         Celerity    2     Sorcery\n59  8233   Absolute Focus    2     Sorcery\n60  8237           Scorch    3     Sorcery\n61  8232     Waterwalking    3     Sorcery\n62  8236  Gathering Storm    3     Sorcery\n\n[63 rows x 4 columns]",
      "text/html": "<div>\n<style scoped>\n    .dataframe tbody tr th:only-of-type {\n        vertical-align: middle;\n    }\n\n    .dataframe tbody tr th {\n        vertical-align: top;\n    }\n\n    .dataframe thead th {\n        text-align: right;\n    }\n</style>\n<table border=\"1\" class=\"dataframe\">\n  <thead>\n    <tr style=\"text-align: right;\">\n      <th></th>\n      <th>id</th>\n      <th>name</th>\n      <th>slot</th>\n      <th>tree</th>\n    </tr>\n  </thead>\n  <tbody>\n    <tr>\n      <th>0</th>\n      <td>8112</td>\n      <td>Electrocute</td>\n      <td>0</td>\n      <td>Domination</td>\n    </tr>\n    <tr>\n      <th>1</th>\n      <td>8124</td>\n      <td>Predator</td>\n      <td>0</td>\n      <td>Domination</td>\n    </tr>\n    <tr>\n      <th>2</th>\n      <td>8128</td>\n      <td>Dark Harvest</td>\n      <td>0</td>\n      <td>Domination</td>\n    </tr>\n    <tr>\n      <th>3</th>\n      <td>9923</td>\n      <td>Hail of Blades</td>\n      <td>0</td>\n      <td>Domination</td>\n    </tr>\n    <tr>\n      <th>4</th>\n      <td>8126</td>\n      <td>Cheap Shot</td>\n      <td>1</td>\n      <td>Domination</td>\n    </tr>\n    <tr>\n      <th>...</th>\n      <td>...</td>\n      <td>...</td>\n      <td>...</td>\n      <td>...</td>\n    </tr>\n    <tr>\n      <th>58</th>\n      <td>8234</td>\n      <td>Celerity</td>\n      <td>2</td>\n      <td>Sorcery</td>\n    </tr>\n    <tr>\n      <th>59</th>\n      <td>8233</td>\n      <td>Absolute Focus</td>\n      <td>2</td>\n      <td>Sorcery</td>\n    </tr>\n    <tr>\n      <th>60</th>\n      <td>8237</td>\n      <td>Scorch</td>\n      <td>3</td>\n      <td>Sorcery</td>\n    </tr>\n    <tr>\n      <th>61</th>\n      <td>8232</td>\n      <td>Waterwalking</td>\n      <td>3</td>\n      <td>Sorcery</td>\n    </tr>\n    <tr>\n      <th>62</th>\n      <td>8236</td>\n      <td>Gathering Storm</td>\n      <td>3</td>\n      <td>Sorcery</td>\n    </tr>\n  </tbody>\n</table>\n<p>63 rows × 4 columns</p>\n</div>"
     },
     "metadata": {},
     "execution_count": 20
    }
   ],
   "source": [
    "with open(filePath+'runesReforged.json', encoding='utf8') as f:\n",
    "    runeData = json.load(f)\n",
    "\n",
    "runes = pd.DataFrame(columns = ['id', 'name', 'slot', 'tree'])\n",
    "\n",
    "for v1 in runeData:\n",
    "    tree = v1['name']\n",
    "    for i in range(len(v1['slots'])):\n",
    "        slot = i\n",
    "        for v2 in v1['slots'][i]['runes']:\n",
    "            # print(v2['name'])\n",
    "            runes = runes.append({'id': v2['id'],\n",
    "                            'name': v2['name'], \n",
    "                            'slot': slot,\n",
    "                            'tree': tree\n",
    "                            }, ignore_index=True )\n",
    "\n",
    "# runes.head()\n",
    "runes"
   ]
  },
  {
   "cell_type": "code",
   "execution_count": 21,
   "metadata": {
    "tags": []
   },
   "outputs": [],
   "source": [
    "import asyncpg\n",
    "import nest_asyncio\n",
    "import asyncio\n",
    "from config import dbConfig\n",
    "\n",
    "nest_asyncio.apply()\n",
    "loop = asyncio.get_event_loop()"
   ]
  },
  {
   "cell_type": "code",
   "execution_count": 22,
   "metadata": {},
   "outputs": [],
   "source": [
    "squishyChamps = champions[['championId', 'name', 'attack', 'defense', 'magic', 'hp', 'hpperlevel', 'armor', 'armorperlevel', 'spellblock', 'spellblockperlevel', 'hpregen', 'hpregenperlevel']]"
   ]
  },
  {
   "cell_type": "code",
   "execution_count": 23,
   "metadata": {},
   "outputs": [
    {
     "output_type": "execute_result",
     "data": {
      "text/plain": "             name defense      hp hpperlevel    hp_18  spellblock  \\\n143         Yuumi       1     480         70     1670        25.0   \n34           Gnar       5     510         65     1615        30.0   \n42          Janna       5     500         70     1690        30.0   \n59           Kled       2     340         70     1530        32.1   \n77           Nami       3     475         74     1733        30.0   \n67           Lulu       5     525         74     1783        30.0   \n110          Sona       2  482.36         77  1791.36        30.0   \n111        Soraka       5     535         74     1793        30.0   \n101         Senna       2     520         75     1795        30.0   \n149          Zyra       3     504         79     1847        30.0   \n5          Anivia       4     480         82     1874        30.0   \n147        Zilean       5     504         82     1898        30.0   \n68            Lux       4     490         85     1935        30.0   \n38   Heimerdinger       6     488         87     1967        30.0   \n7        Aphelios       2     530         88     2026        26.0   \n56         Kennen       4     541         84     1969        30.0   \n112         Swain       6     525         85     1970        30.0   \n107          Sion       9     545         73     1786        32.1   \n91          Quinn       4   532.8         85   1977.8        30.0   \n58        Kindred       2     540         85     1985        30.0   \n81        Nidalee       4     545         85     1990        30.0   \n19          Corki       3     518         87     1997        30.0   \n13          Brand       2  519.68         88  2015.68        30.0   \n131       Vel'Koz       2     520         88     2016        30.0   \n70       Malzahar       2     537         87     2016        30.0   \n85        Orianna       3     530         91     2077        26.0   \n6           Annie       3     524         88     2020        30.0   \n27         Ezreal       2     530         88     2026        30.0   \n129         Vayne       1     515         89     2028        30.0   \n51        Karthus       2     550         87     2029        30.0   \n66         Lucian       5     571         86     2033        30.0   \n8            Ashe       3     570         87     2049        30.0   \n114        Syndra       3     523         90     2053        30.0   \n121      Tristana       3     559         88     2055        30.0   \n119         Teemo       3     528         90     2058        30.0   \n133        Viktor       4     530         90     2060        30.0   \n116       Taliyah       7     532         90     2062        30.0   \n80          Neeko       1     540         90     2070        30.0   \n47           Jinx       2     610         86     2072        30.0   \n11           Bard       4     560         89     2073        30.0   \n125        Twitch       2     612         86     2074        30.0   \n128         Varus       3     530         91     2077        30.0   \n65      Lissandra       5     550         90     2080        30.0   \n137         Xayah       6     590         88     2086        30.0   \n138        Xerath       3     526         92     2090        30.0   \n45          Jayce       4     560         90     2090        30.0   \n1            Ahri       4     526         92     2090        30.0   \n76        Morgana       6     560         90     2090        30.0   \n15        Caitlyn       2     510         93     2091        30.0   \n108         Sivir       3     562         90     2092        30.0   \n61        LeBlanc       4     528         92     2092        30.0   \n60        Kog'Maw       2     565         90     2095        30.0   \n48         Kai'Sa       5     600         88     2096        30.0   \n146         Ziggs       4     536         92     2100        30.0   \n54          Kayle       6     600         85     2045        34.0   \n52       Kassadin       5     576         90     2106        30.0   \n25          Elise       5     534         93     2115        30.0   \n10           Azir       3     552         92     2116        30.0   \n17     Cassiopeia       3     560         90     2090        32.0   \n82       Nocturne       5     585         85     2030        32.1   \n\n     spellblockperlevel  spellblock_18 MReffectiveHP ArmorEffectiveHP  \n143                0.30          30.10       2172.67          2172.67  \n34                 0.50          38.50       2236.78          2269.07  \n42                 0.50          38.50       2340.65          2306.85  \n59                 1.25          53.35       2346.26          2390.62  \n77                 0.50          38.50        2400.2          2382.88  \n67                 0.50          38.50       2469.45          2451.62  \n110                0.50          38.50       2481.03          2445.21  \n111                0.50          38.50        2483.3          2519.16  \n101                0.50          38.50       2486.07          2450.18  \n149                0.50          38.50       2558.09          2539.62  \n5                  0.50          38.50       2595.49          2430.95  \n147                0.50          38.50       2628.73          2514.85  \n68                 0.50          38.50       2679.97          2461.71  \n38                 0.50          38.50        2724.3          2508.71  \n7                  0.50          34.50       2724.97          2765.49  \n56                 0.50          38.50       2727.07          2707.38  \n112                0.50          38.50       2728.45          2585.03  \n107                1.25          53.35       2738.83          2737.05  \n91                 0.50          38.50       2739.25           2699.7  \n58                 0.50          38.50       2749.22          2729.38  \n81                 0.50          38.50       2756.15          2716.35  \n19                 0.50          38.50       2765.84          2725.91  \n13                 0.50          38.50       2791.72          2628.04  \n131                0.50          38.50       2792.16          2628.46  \n70                 0.50          38.50       2792.16          2550.24  \n85                 0.50          34.50       2793.57          2607.47  \n6                  0.50          38.50        2797.7          2579.94  \n27                 0.50          38.50       2806.01          2643.93  \n129                0.50          38.50       2808.78          2666.82  \n51                 0.50          38.50       2810.16          2625.12  \n66                 0.50          38.50        2815.7          2775.05  \n8                  0.50          38.50       2837.86          2755.91  \n114                0.50          38.50       2843.41          2734.84  \n121                0.50          38.50       2846.18          2763.97  \n119                0.50          38.50       2850.33          2733.02  \n133                0.50          38.50        2853.1           2708.9  \n116                0.50          38.50       2855.87          2649.67  \n80                 0.50          38.50       2866.95          2680.65  \n47                 0.50          38.50       2869.72          2828.28  \n11                 0.50          38.50       2871.11          2954.03  \n125                0.50          38.50       2872.49          2810.27  \n128                0.50          38.50       2876.64          2814.34  \n65                 0.50          38.50        2880.8           2714.4  \n137                0.50          38.50       2889.11          2784.81  \n138                0.50          38.50       2894.65          2724.94  \n45                 0.50          38.50       2894.65          2831.95  \n1                  0.50          38.50       2894.65          2704.04  \n76                 0.50          38.50       2894.65          2790.15  \n15                 0.50          38.50       2896.03          2854.22  \n108                0.50          38.50       2897.42          2813.74  \n61                 0.50          38.50       2897.42          2727.55  \n60                 0.50          38.50       2901.57          2775.88  \n48                 0.50          38.50       2902.96          2861.04  \n146                0.50          38.50        2908.5          2730.92  \n54                 0.50          42.50       2914.12          2750.53  \n52                 0.50          38.50       2916.81          2685.15  \n25                 0.50          38.50       2929.28          2865.82  \n10                 0.50          38.50       2930.66          2698.75  \n17                 0.50          40.50       2936.45          2643.85  \n82                 0.75          44.85       2940.45          3060.22  ",
      "text/html": "<div>\n<style scoped>\n    .dataframe tbody tr th:only-of-type {\n        vertical-align: middle;\n    }\n\n    .dataframe tbody tr th {\n        vertical-align: top;\n    }\n\n    .dataframe thead th {\n        text-align: right;\n    }\n</style>\n<table border=\"1\" class=\"dataframe\">\n  <thead>\n    <tr style=\"text-align: right;\">\n      <th></th>\n      <th>name</th>\n      <th>defense</th>\n      <th>hp</th>\n      <th>hpperlevel</th>\n      <th>hp_18</th>\n      <th>spellblock</th>\n      <th>spellblockperlevel</th>\n      <th>spellblock_18</th>\n      <th>MReffectiveHP</th>\n      <th>ArmorEffectiveHP</th>\n    </tr>\n  </thead>\n  <tbody>\n    <tr>\n      <th>143</th>\n      <td>Yuumi</td>\n      <td>1</td>\n      <td>480</td>\n      <td>70</td>\n      <td>1670</td>\n      <td>25.0</td>\n      <td>0.30</td>\n      <td>30.10</td>\n      <td>2172.67</td>\n      <td>2172.67</td>\n    </tr>\n    <tr>\n      <th>34</th>\n      <td>Gnar</td>\n      <td>5</td>\n      <td>510</td>\n      <td>65</td>\n      <td>1615</td>\n      <td>30.0</td>\n      <td>0.50</td>\n      <td>38.50</td>\n      <td>2236.78</td>\n      <td>2269.07</td>\n    </tr>\n    <tr>\n      <th>42</th>\n      <td>Janna</td>\n      <td>5</td>\n      <td>500</td>\n      <td>70</td>\n      <td>1690</td>\n      <td>30.0</td>\n      <td>0.50</td>\n      <td>38.50</td>\n      <td>2340.65</td>\n      <td>2306.85</td>\n    </tr>\n    <tr>\n      <th>59</th>\n      <td>Kled</td>\n      <td>2</td>\n      <td>340</td>\n      <td>70</td>\n      <td>1530</td>\n      <td>32.1</td>\n      <td>1.25</td>\n      <td>53.35</td>\n      <td>2346.26</td>\n      <td>2390.62</td>\n    </tr>\n    <tr>\n      <th>77</th>\n      <td>Nami</td>\n      <td>3</td>\n      <td>475</td>\n      <td>74</td>\n      <td>1733</td>\n      <td>30.0</td>\n      <td>0.50</td>\n      <td>38.50</td>\n      <td>2400.2</td>\n      <td>2382.88</td>\n    </tr>\n    <tr>\n      <th>67</th>\n      <td>Lulu</td>\n      <td>5</td>\n      <td>525</td>\n      <td>74</td>\n      <td>1783</td>\n      <td>30.0</td>\n      <td>0.50</td>\n      <td>38.50</td>\n      <td>2469.45</td>\n      <td>2451.62</td>\n    </tr>\n    <tr>\n      <th>110</th>\n      <td>Sona</td>\n      <td>2</td>\n      <td>482.36</td>\n      <td>77</td>\n      <td>1791.36</td>\n      <td>30.0</td>\n      <td>0.50</td>\n      <td>38.50</td>\n      <td>2481.03</td>\n      <td>2445.21</td>\n    </tr>\n    <tr>\n      <th>111</th>\n      <td>Soraka</td>\n      <td>5</td>\n      <td>535</td>\n      <td>74</td>\n      <td>1793</td>\n      <td>30.0</td>\n      <td>0.50</td>\n      <td>38.50</td>\n      <td>2483.3</td>\n      <td>2519.16</td>\n    </tr>\n    <tr>\n      <th>101</th>\n      <td>Senna</td>\n      <td>2</td>\n      <td>520</td>\n      <td>75</td>\n      <td>1795</td>\n      <td>30.0</td>\n      <td>0.50</td>\n      <td>38.50</td>\n      <td>2486.07</td>\n      <td>2450.18</td>\n    </tr>\n    <tr>\n      <th>149</th>\n      <td>Zyra</td>\n      <td>3</td>\n      <td>504</td>\n      <td>79</td>\n      <td>1847</td>\n      <td>30.0</td>\n      <td>0.50</td>\n      <td>38.50</td>\n      <td>2558.09</td>\n      <td>2539.62</td>\n    </tr>\n    <tr>\n      <th>5</th>\n      <td>Anivia</td>\n      <td>4</td>\n      <td>480</td>\n      <td>82</td>\n      <td>1874</td>\n      <td>30.0</td>\n      <td>0.50</td>\n      <td>38.50</td>\n      <td>2595.49</td>\n      <td>2430.95</td>\n    </tr>\n    <tr>\n      <th>147</th>\n      <td>Zilean</td>\n      <td>5</td>\n      <td>504</td>\n      <td>82</td>\n      <td>1898</td>\n      <td>30.0</td>\n      <td>0.50</td>\n      <td>38.50</td>\n      <td>2628.73</td>\n      <td>2514.85</td>\n    </tr>\n    <tr>\n      <th>68</th>\n      <td>Lux</td>\n      <td>4</td>\n      <td>490</td>\n      <td>85</td>\n      <td>1935</td>\n      <td>30.0</td>\n      <td>0.50</td>\n      <td>38.50</td>\n      <td>2679.97</td>\n      <td>2461.71</td>\n    </tr>\n    <tr>\n      <th>38</th>\n      <td>Heimerdinger</td>\n      <td>6</td>\n      <td>488</td>\n      <td>87</td>\n      <td>1967</td>\n      <td>30.0</td>\n      <td>0.50</td>\n      <td>38.50</td>\n      <td>2724.3</td>\n      <td>2508.71</td>\n    </tr>\n    <tr>\n      <th>7</th>\n      <td>Aphelios</td>\n      <td>2</td>\n      <td>530</td>\n      <td>88</td>\n      <td>2026</td>\n      <td>26.0</td>\n      <td>0.50</td>\n      <td>34.50</td>\n      <td>2724.97</td>\n      <td>2765.49</td>\n    </tr>\n    <tr>\n      <th>56</th>\n      <td>Kennen</td>\n      <td>4</td>\n      <td>541</td>\n      <td>84</td>\n      <td>1969</td>\n      <td>30.0</td>\n      <td>0.50</td>\n      <td>38.50</td>\n      <td>2727.07</td>\n      <td>2707.38</td>\n    </tr>\n    <tr>\n      <th>112</th>\n      <td>Swain</td>\n      <td>6</td>\n      <td>525</td>\n      <td>85</td>\n      <td>1970</td>\n      <td>30.0</td>\n      <td>0.50</td>\n      <td>38.50</td>\n      <td>2728.45</td>\n      <td>2585.03</td>\n    </tr>\n    <tr>\n      <th>107</th>\n      <td>Sion</td>\n      <td>9</td>\n      <td>545</td>\n      <td>73</td>\n      <td>1786</td>\n      <td>32.1</td>\n      <td>1.25</td>\n      <td>53.35</td>\n      <td>2738.83</td>\n      <td>2737.05</td>\n    </tr>\n    <tr>\n      <th>91</th>\n      <td>Quinn</td>\n      <td>4</td>\n      <td>532.8</td>\n      <td>85</td>\n      <td>1977.8</td>\n      <td>30.0</td>\n      <td>0.50</td>\n      <td>38.50</td>\n      <td>2739.25</td>\n      <td>2699.7</td>\n    </tr>\n    <tr>\n      <th>58</th>\n      <td>Kindred</td>\n      <td>2</td>\n      <td>540</td>\n      <td>85</td>\n      <td>1985</td>\n      <td>30.0</td>\n      <td>0.50</td>\n      <td>38.50</td>\n      <td>2749.22</td>\n      <td>2729.38</td>\n    </tr>\n    <tr>\n      <th>81</th>\n      <td>Nidalee</td>\n      <td>4</td>\n      <td>545</td>\n      <td>85</td>\n      <td>1990</td>\n      <td>30.0</td>\n      <td>0.50</td>\n      <td>38.50</td>\n      <td>2756.15</td>\n      <td>2716.35</td>\n    </tr>\n    <tr>\n      <th>19</th>\n      <td>Corki</td>\n      <td>3</td>\n      <td>518</td>\n      <td>87</td>\n      <td>1997</td>\n      <td>30.0</td>\n      <td>0.50</td>\n      <td>38.50</td>\n      <td>2765.84</td>\n      <td>2725.91</td>\n    </tr>\n    <tr>\n      <th>13</th>\n      <td>Brand</td>\n      <td>2</td>\n      <td>519.68</td>\n      <td>88</td>\n      <td>2015.68</td>\n      <td>30.0</td>\n      <td>0.50</td>\n      <td>38.50</td>\n      <td>2791.72</td>\n      <td>2628.04</td>\n    </tr>\n    <tr>\n      <th>131</th>\n      <td>Vel'Koz</td>\n      <td>2</td>\n      <td>520</td>\n      <td>88</td>\n      <td>2016</td>\n      <td>30.0</td>\n      <td>0.50</td>\n      <td>38.50</td>\n      <td>2792.16</td>\n      <td>2628.46</td>\n    </tr>\n    <tr>\n      <th>70</th>\n      <td>Malzahar</td>\n      <td>2</td>\n      <td>537</td>\n      <td>87</td>\n      <td>2016</td>\n      <td>30.0</td>\n      <td>0.50</td>\n      <td>38.50</td>\n      <td>2792.16</td>\n      <td>2550.24</td>\n    </tr>\n    <tr>\n      <th>85</th>\n      <td>Orianna</td>\n      <td>3</td>\n      <td>530</td>\n      <td>91</td>\n      <td>2077</td>\n      <td>26.0</td>\n      <td>0.50</td>\n      <td>34.50</td>\n      <td>2793.57</td>\n      <td>2607.47</td>\n    </tr>\n    <tr>\n      <th>6</th>\n      <td>Annie</td>\n      <td>3</td>\n      <td>524</td>\n      <td>88</td>\n      <td>2020</td>\n      <td>30.0</td>\n      <td>0.50</td>\n      <td>38.50</td>\n      <td>2797.7</td>\n      <td>2579.94</td>\n    </tr>\n    <tr>\n      <th>27</th>\n      <td>Ezreal</td>\n      <td>2</td>\n      <td>530</td>\n      <td>88</td>\n      <td>2026</td>\n      <td>30.0</td>\n      <td>0.50</td>\n      <td>38.50</td>\n      <td>2806.01</td>\n      <td>2643.93</td>\n    </tr>\n    <tr>\n      <th>129</th>\n      <td>Vayne</td>\n      <td>1</td>\n      <td>515</td>\n      <td>89</td>\n      <td>2028</td>\n      <td>30.0</td>\n      <td>0.50</td>\n      <td>38.50</td>\n      <td>2808.78</td>\n      <td>2666.82</td>\n    </tr>\n    <tr>\n      <th>51</th>\n      <td>Karthus</td>\n      <td>2</td>\n      <td>550</td>\n      <td>87</td>\n      <td>2029</td>\n      <td>30.0</td>\n      <td>0.50</td>\n      <td>38.50</td>\n      <td>2810.16</td>\n      <td>2625.12</td>\n    </tr>\n    <tr>\n      <th>66</th>\n      <td>Lucian</td>\n      <td>5</td>\n      <td>571</td>\n      <td>86</td>\n      <td>2033</td>\n      <td>30.0</td>\n      <td>0.50</td>\n      <td>38.50</td>\n      <td>2815.7</td>\n      <td>2775.05</td>\n    </tr>\n    <tr>\n      <th>8</th>\n      <td>Ashe</td>\n      <td>3</td>\n      <td>570</td>\n      <td>87</td>\n      <td>2049</td>\n      <td>30.0</td>\n      <td>0.50</td>\n      <td>38.50</td>\n      <td>2837.86</td>\n      <td>2755.91</td>\n    </tr>\n    <tr>\n      <th>114</th>\n      <td>Syndra</td>\n      <td>3</td>\n      <td>523</td>\n      <td>90</td>\n      <td>2053</td>\n      <td>30.0</td>\n      <td>0.50</td>\n      <td>38.50</td>\n      <td>2843.41</td>\n      <td>2734.84</td>\n    </tr>\n    <tr>\n      <th>121</th>\n      <td>Tristana</td>\n      <td>3</td>\n      <td>559</td>\n      <td>88</td>\n      <td>2055</td>\n      <td>30.0</td>\n      <td>0.50</td>\n      <td>38.50</td>\n      <td>2846.18</td>\n      <td>2763.97</td>\n    </tr>\n    <tr>\n      <th>119</th>\n      <td>Teemo</td>\n      <td>3</td>\n      <td>528</td>\n      <td>90</td>\n      <td>2058</td>\n      <td>30.0</td>\n      <td>0.50</td>\n      <td>38.50</td>\n      <td>2850.33</td>\n      <td>2733.02</td>\n    </tr>\n    <tr>\n      <th>133</th>\n      <td>Viktor</td>\n      <td>4</td>\n      <td>530</td>\n      <td>90</td>\n      <td>2060</td>\n      <td>30.0</td>\n      <td>0.50</td>\n      <td>38.50</td>\n      <td>2853.1</td>\n      <td>2708.9</td>\n    </tr>\n    <tr>\n      <th>116</th>\n      <td>Taliyah</td>\n      <td>7</td>\n      <td>532</td>\n      <td>90</td>\n      <td>2062</td>\n      <td>30.0</td>\n      <td>0.50</td>\n      <td>38.50</td>\n      <td>2855.87</td>\n      <td>2649.67</td>\n    </tr>\n    <tr>\n      <th>80</th>\n      <td>Neeko</td>\n      <td>1</td>\n      <td>540</td>\n      <td>90</td>\n      <td>2070</td>\n      <td>30.0</td>\n      <td>0.50</td>\n      <td>38.50</td>\n      <td>2866.95</td>\n      <td>2680.65</td>\n    </tr>\n    <tr>\n      <th>47</th>\n      <td>Jinx</td>\n      <td>2</td>\n      <td>610</td>\n      <td>86</td>\n      <td>2072</td>\n      <td>30.0</td>\n      <td>0.50</td>\n      <td>38.50</td>\n      <td>2869.72</td>\n      <td>2828.28</td>\n    </tr>\n    <tr>\n      <th>11</th>\n      <td>Bard</td>\n      <td>4</td>\n      <td>560</td>\n      <td>89</td>\n      <td>2073</td>\n      <td>30.0</td>\n      <td>0.50</td>\n      <td>38.50</td>\n      <td>2871.11</td>\n      <td>2954.03</td>\n    </tr>\n    <tr>\n      <th>125</th>\n      <td>Twitch</td>\n      <td>2</td>\n      <td>612</td>\n      <td>86</td>\n      <td>2074</td>\n      <td>30.0</td>\n      <td>0.50</td>\n      <td>38.50</td>\n      <td>2872.49</td>\n      <td>2810.27</td>\n    </tr>\n    <tr>\n      <th>128</th>\n      <td>Varus</td>\n      <td>3</td>\n      <td>530</td>\n      <td>91</td>\n      <td>2077</td>\n      <td>30.0</td>\n      <td>0.50</td>\n      <td>38.50</td>\n      <td>2876.64</td>\n      <td>2814.34</td>\n    </tr>\n    <tr>\n      <th>65</th>\n      <td>Lissandra</td>\n      <td>5</td>\n      <td>550</td>\n      <td>90</td>\n      <td>2080</td>\n      <td>30.0</td>\n      <td>0.50</td>\n      <td>38.50</td>\n      <td>2880.8</td>\n      <td>2714.4</td>\n    </tr>\n    <tr>\n      <th>137</th>\n      <td>Xayah</td>\n      <td>6</td>\n      <td>590</td>\n      <td>88</td>\n      <td>2086</td>\n      <td>30.0</td>\n      <td>0.50</td>\n      <td>38.50</td>\n      <td>2889.11</td>\n      <td>2784.81</td>\n    </tr>\n    <tr>\n      <th>138</th>\n      <td>Xerath</td>\n      <td>3</td>\n      <td>526</td>\n      <td>92</td>\n      <td>2090</td>\n      <td>30.0</td>\n      <td>0.50</td>\n      <td>38.50</td>\n      <td>2894.65</td>\n      <td>2724.94</td>\n    </tr>\n    <tr>\n      <th>45</th>\n      <td>Jayce</td>\n      <td>4</td>\n      <td>560</td>\n      <td>90</td>\n      <td>2090</td>\n      <td>30.0</td>\n      <td>0.50</td>\n      <td>38.50</td>\n      <td>2894.65</td>\n      <td>2831.95</td>\n    </tr>\n    <tr>\n      <th>1</th>\n      <td>Ahri</td>\n      <td>4</td>\n      <td>526</td>\n      <td>92</td>\n      <td>2090</td>\n      <td>30.0</td>\n      <td>0.50</td>\n      <td>38.50</td>\n      <td>2894.65</td>\n      <td>2704.04</td>\n    </tr>\n    <tr>\n      <th>76</th>\n      <td>Morgana</td>\n      <td>6</td>\n      <td>560</td>\n      <td>90</td>\n      <td>2090</td>\n      <td>30.0</td>\n      <td>0.50</td>\n      <td>38.50</td>\n      <td>2894.65</td>\n      <td>2790.15</td>\n    </tr>\n    <tr>\n      <th>15</th>\n      <td>Caitlyn</td>\n      <td>2</td>\n      <td>510</td>\n      <td>93</td>\n      <td>2091</td>\n      <td>30.0</td>\n      <td>0.50</td>\n      <td>38.50</td>\n      <td>2896.03</td>\n      <td>2854.22</td>\n    </tr>\n    <tr>\n      <th>108</th>\n      <td>Sivir</td>\n      <td>3</td>\n      <td>562</td>\n      <td>90</td>\n      <td>2092</td>\n      <td>30.0</td>\n      <td>0.50</td>\n      <td>38.50</td>\n      <td>2897.42</td>\n      <td>2813.74</td>\n    </tr>\n    <tr>\n      <th>61</th>\n      <td>LeBlanc</td>\n      <td>4</td>\n      <td>528</td>\n      <td>92</td>\n      <td>2092</td>\n      <td>30.0</td>\n      <td>0.50</td>\n      <td>38.50</td>\n      <td>2897.42</td>\n      <td>2727.55</td>\n    </tr>\n    <tr>\n      <th>60</th>\n      <td>Kog'Maw</td>\n      <td>2</td>\n      <td>565</td>\n      <td>90</td>\n      <td>2095</td>\n      <td>30.0</td>\n      <td>0.50</td>\n      <td>38.50</td>\n      <td>2901.57</td>\n      <td>2775.88</td>\n    </tr>\n    <tr>\n      <th>48</th>\n      <td>Kai'Sa</td>\n      <td>5</td>\n      <td>600</td>\n      <td>88</td>\n      <td>2096</td>\n      <td>30.0</td>\n      <td>0.50</td>\n      <td>38.50</td>\n      <td>2902.96</td>\n      <td>2861.04</td>\n    </tr>\n    <tr>\n      <th>146</th>\n      <td>Ziggs</td>\n      <td>4</td>\n      <td>536</td>\n      <td>92</td>\n      <td>2100</td>\n      <td>30.0</td>\n      <td>0.50</td>\n      <td>38.50</td>\n      <td>2908.5</td>\n      <td>2730.92</td>\n    </tr>\n    <tr>\n      <th>54</th>\n      <td>Kayle</td>\n      <td>6</td>\n      <td>600</td>\n      <td>85</td>\n      <td>2045</td>\n      <td>34.0</td>\n      <td>0.50</td>\n      <td>42.50</td>\n      <td>2914.12</td>\n      <td>2750.53</td>\n    </tr>\n    <tr>\n      <th>52</th>\n      <td>Kassadin</td>\n      <td>5</td>\n      <td>576</td>\n      <td>90</td>\n      <td>2106</td>\n      <td>30.0</td>\n      <td>0.50</td>\n      <td>38.50</td>\n      <td>2916.81</td>\n      <td>2685.15</td>\n    </tr>\n    <tr>\n      <th>25</th>\n      <td>Elise</td>\n      <td>5</td>\n      <td>534</td>\n      <td>93</td>\n      <td>2115</td>\n      <td>30.0</td>\n      <td>0.50</td>\n      <td>38.50</td>\n      <td>2929.28</td>\n      <td>2865.82</td>\n    </tr>\n    <tr>\n      <th>10</th>\n      <td>Azir</td>\n      <td>3</td>\n      <td>552</td>\n      <td>92</td>\n      <td>2116</td>\n      <td>30.0</td>\n      <td>0.50</td>\n      <td>38.50</td>\n      <td>2930.66</td>\n      <td>2698.75</td>\n    </tr>\n    <tr>\n      <th>17</th>\n      <td>Cassiopeia</td>\n      <td>3</td>\n      <td>560</td>\n      <td>90</td>\n      <td>2090</td>\n      <td>32.0</td>\n      <td>0.50</td>\n      <td>40.50</td>\n      <td>2936.45</td>\n      <td>2643.85</td>\n    </tr>\n    <tr>\n      <th>82</th>\n      <td>Nocturne</td>\n      <td>5</td>\n      <td>585</td>\n      <td>85</td>\n      <td>2030</td>\n      <td>32.1</td>\n      <td>0.75</td>\n      <td>44.85</td>\n      <td>2940.45</td>\n      <td>3060.22</td>\n    </tr>\n  </tbody>\n</table>\n</div>"
     },
     "metadata": {},
     "execution_count": 23
    }
   ],
   "source": [
    "squishyChamps['spellblock_18'] = squishyChamps['spellblock'] + squishyChamps['spellblockperlevel'] * 17\n",
    "squishyChamps['armor_18'] = squishyChamps['armor'] + squishyChamps['spellblockperlevel'] * 17\n",
    "squishyChamps['hp_18'] = squishyChamps['hp'] + squishyChamps['hpperlevel'] * 17\n",
    "# squishyChamps['Mr_Def'] = squishyChamps['spellblock_18'] * squishyChamps['defense']\n",
    "squishyChamps['MReffectiveHP'] = squishyChamps['hp_18'] * (squishyChamps['spellblock_18'] + 100)/100 #* squishyChamps['defense']\n",
    "squishyChamps['ArmorEffectiveHP'] = squishyChamps['hp_18'] * (squishyChamps['armor_18'] + 100)/100 #* squishyChamps['defense']\n",
    "\n",
    "squishyChamps[['name', 'defense', 'hp', 'hpperlevel', 'hp_18', 'spellblock', 'spellblockperlevel', 'spellblock_18', 'MReffectiveHP', 'ArmorEffectiveHP']].sort_values(axis=0, ascending=True, by='MReffectiveHP').head(60)"
   ]
  },
  {
   "cell_type": "code",
   "execution_count": 24,
   "metadata": {},
   "outputs": [
    {
     "output_type": "execute_result",
     "data": {
      "text/plain": "championId             object\nname                   object\nattack                 object\ndefense                object\nmagic                  object\nhp                     object\nhpperlevel             object\narmor                  object\narmorperlevel         float64\nspellblock            float64\nspellblockperlevel    float64\nhpregen                object\nhpregenperlevel        object\nspellblock_18         float64\narmor_18               object\nhp_18                  object\nMReffectiveHP          object\nArmorEffectiveHP       object\ndtype: object"
     },
     "metadata": {},
     "execution_count": 24
    }
   ],
   "source": [
    "squishyChamps.dtypes"
   ]
  },
  {
   "cell_type": "code",
   "execution_count": 25,
   "metadata": {},
   "outputs": [
    {
     "output_type": "execute_result",
     "data": {
      "text/plain": "0.25    2867.6425\n0.50    3007.9295\n0.75    3235.6850\nName: MReffectiveHP, dtype: float64"
     },
     "metadata": {},
     "execution_count": 25
    }
   ],
   "source": [
    "squishyChamps['MReffectiveHP'].astype('float').quantile([.25, .5, .75])"
   ]
  },
  {
   "cell_type": "code",
   "execution_count": 26,
   "metadata": {
    "tags": []
   },
   "outputs": [
    {
     "output_type": "stream",
     "name": "stdout",
     "text": "['Ahri', 'Annie', 'Aphelios', 'Ashe', 'Aurelion Sol', 'Azir', 'Bard', 'Caitlyn', 'Cassiopeia', 'Corki', 'Draven', 'Ekko', 'Elise', 'Evelynn', 'Ezreal', 'Fizz', 'Gangplank', 'Heimerdinger', 'Janna', 'Jayce', 'Jhin', 'Jinx', \"Kai'Sa\", 'Kalista', 'Karma', 'Karthus', 'Kassadin', 'Kayle', 'Kayn', 'Kennen', \"Kha'Zix\", 'Kindred', \"Kog'Maw\", 'LeBlanc', 'Lillia', 'Lucian', 'Lulu', 'Lux', 'Miss Fortune', 'Morgana', 'Nami', 'Neeko', 'Nidalee', 'Orianna', 'Pyke', 'Qiyana', 'Quinn', 'Rengar', 'Senna', 'Shaco', 'Sivir', 'Sona', 'Soraka', 'Syndra', 'Taliyah', 'Talon', 'Teemo', 'Tristana', 'Twisted Fate', 'Twitch', 'Varus', 'Vayne', 'Veigar', \"Vel'Koz\", 'Viktor', 'Xayah', 'Xerath', 'Yasuo', 'Yone', 'Yuumi', 'Zed', 'Ziggs', 'Zilean', 'Zoe', 'Zyra']\n[103, 1, 523, 22, 136, 268, 432, 51, 69, 42, 119, 245, 60, 28, 81, 105, 41, 74, 40, 126, 202, 222, 145, 429, 43, 30, 38, 10, 141, 85, 121, 203, 96, 7, 876, 236, 117, 99, 21, 25, 267, 518, 76, 61, 555, 246, 133, 107, 235, 35, 15, 37, 16, 134, 163, 91, 17, 18, 4, 29, 110, 67, 45, 161, 112, 498, 101, 157, 777, 350, 238, 115, 26, 142, 143]\n"
    }
   ],
   "source": [
    "squishyChampNames = ['Ahri', 'Annie', 'Aphelios', 'Ashe', 'Aurelion Sol', 'Azir', 'Bard', 'Caitlyn', 'Cassiopeia', 'Corki', 'Draven', 'Ekko', 'Elise', 'Evelynn', 'Ezreal', 'Fizz', 'Gangplank', 'Heimerdinger', 'Janna', 'Jayce', 'Jhin', 'Jinx', \"Kai'Sa\", 'Kalista', 'Karma', 'Karthus', 'Kassadin', 'Kayle', 'Kayn', 'Kennen', \"Kha'Zix\", 'Kindred', \"Kog'Maw\", 'LeBlanc', 'Lillia', 'Lucian', 'Lulu', 'Lux', 'Miss Fortune', 'Morgana', 'Nami', 'Neeko', 'Nidalee', 'Orianna', 'Pyke', 'Qiyana', 'Quinn', 'Rengar', 'Senna', 'Shaco', 'Sivir', 'Sona', 'Soraka', 'Syndra', 'Taliyah', 'Talon', 'Teemo', 'Tristana', 'Twisted Fate', 'Twitch', 'Varus', 'Vayne', 'Veigar', \"Vel'Koz\", 'Viktor', 'Xayah', 'Xerath', 'Yasuo', 'Yone', 'Yuumi', 'Zed', 'Ziggs', 'Zilean', 'Zoe', 'Zyra']\n",
    "squishyChampIds = [champions.loc[champions[\"name\"] == name, \"championId\"].values[0] for name in squishyChampNames]\n",
    "print(squishyChampNames)\n",
    "print(squishyChampIds)"
   ]
  },
  {
   "cell_type": "code",
   "execution_count": 27,
   "metadata": {
    "tags": []
   },
   "outputs": [],
   "source": [
    "# import itertools\n",
    "# champNameCombo = list(itertools.combinations(champions['name'], 2))\n",
    "# print(champNameCombo[0])\n",
    "\n",
    "# champIdCombinations = list(itertools.combinations(champions['championId'], 2))\n",
    "# champIdCombinations"
   ]
  },
  {
   "cell_type": "code",
   "execution_count": 28,
   "metadata": {},
   "outputs": [
    {
     "output_type": "execute_result",
     "data": {
      "text/plain": "             gameId  championId teamColor    win\n0        2856625643         126       Red   True\n1        2856625643           7       Red   True\n2        2856625643          26      Blue  False\n3        2856625643         429      Blue  False\n4        2856625643          11       Red   True\n...             ...         ...       ...    ...\n1439984  3588287460          63      Blue   True\n1439985  3588287460          53      Blue   True\n1439986  3588287460         104      Blue   True\n1439987  3588287460          10       Red  False\n1439988  3588287460         143       Red  False\n\n[1439989 rows x 4 columns]",
      "text/html": "<div>\n<style scoped>\n    .dataframe tbody tr th:only-of-type {\n        vertical-align: middle;\n    }\n\n    .dataframe tbody tr th {\n        vertical-align: top;\n    }\n\n    .dataframe thead th {\n        text-align: right;\n    }\n</style>\n<table border=\"1\" class=\"dataframe\">\n  <thead>\n    <tr style=\"text-align: right;\">\n      <th></th>\n      <th>gameId</th>\n      <th>championId</th>\n      <th>teamColor</th>\n      <th>win</th>\n    </tr>\n  </thead>\n  <tbody>\n    <tr>\n      <th>0</th>\n      <td>2856625643</td>\n      <td>126</td>\n      <td>Red</td>\n      <td>True</td>\n    </tr>\n    <tr>\n      <th>1</th>\n      <td>2856625643</td>\n      <td>7</td>\n      <td>Red</td>\n      <td>True</td>\n    </tr>\n    <tr>\n      <th>2</th>\n      <td>2856625643</td>\n      <td>26</td>\n      <td>Blue</td>\n      <td>False</td>\n    </tr>\n    <tr>\n      <th>3</th>\n      <td>2856625643</td>\n      <td>429</td>\n      <td>Blue</td>\n      <td>False</td>\n    </tr>\n    <tr>\n      <th>4</th>\n      <td>2856625643</td>\n      <td>11</td>\n      <td>Red</td>\n      <td>True</td>\n    </tr>\n    <tr>\n      <th>...</th>\n      <td>...</td>\n      <td>...</td>\n      <td>...</td>\n      <td>...</td>\n    </tr>\n    <tr>\n      <th>1439984</th>\n      <td>3588287460</td>\n      <td>63</td>\n      <td>Blue</td>\n      <td>True</td>\n    </tr>\n    <tr>\n      <th>1439985</th>\n      <td>3588287460</td>\n      <td>53</td>\n      <td>Blue</td>\n      <td>True</td>\n    </tr>\n    <tr>\n      <th>1439986</th>\n      <td>3588287460</td>\n      <td>104</td>\n      <td>Blue</td>\n      <td>True</td>\n    </tr>\n    <tr>\n      <th>1439987</th>\n      <td>3588287460</td>\n      <td>10</td>\n      <td>Red</td>\n      <td>False</td>\n    </tr>\n    <tr>\n      <th>1439988</th>\n      <td>3588287460</td>\n      <td>143</td>\n      <td>Red</td>\n      <td>False</td>\n    </tr>\n  </tbody>\n</table>\n<p>1439989 rows × 4 columns</p>\n</div>"
     },
     "metadata": {},
     "execution_count": 28
    }
   ],
   "source": [
    "async def fetch_as_dataframe(con: asyncpg.Connection, query: str, *args):\n",
    "    stmt = await con.prepare(query)\n",
    "    columns = [a.name for a in stmt.get_attributes()]\n",
    "    data = await stmt.fetch()\n",
    "    return pd.DataFrame(data, columns=columns)\n",
    "\n",
    "async def run():\n",
    "    connection = await asyncpg.connect(user=dbConfig['user'],\n",
    "                                password=dbConfig['password'],\n",
    "                                host=dbConfig['host'],\n",
    "                                port=dbConfig['port'],\n",
    "                                database=dbConfig['database'])\n",
    "    async with connection.transaction():\n",
    "        leblancQuery = f'SELECT \"gameId\", \"championId\", \"teamColor\", \"win\" \\\n",
    "                    FROM \"Participant_Stats\" \\\n",
    "                    WHERE \"gameId\" = ANY( \\\n",
    "                        (SELECT array (SELECT \"gameId\" FROM \"Participant_Stats\"\\\n",
    "                                        WHERE \"championId\" = {champions.loc[champions[\"name\"] == \"LeBlanc\", \"championId\"].values[0]} \\\n",
    "                                        ) \\\n",
    "                                        )::BIGINT[] \\\n",
    "                                        ) \\\n",
    "                    ORDER BY \"gameId\" ASC;'\n",
    "        leblancGames_df = await fetch_as_dataframe(connection, leblancQuery)\n",
    "    return leblancGames_df\n",
    "\n",
    "leblancGames_df = loop.run_until_complete(run())\n",
    "leblancGames_df"
   ]
  },
  {
   "cell_type": "code",
   "execution_count": 29,
   "metadata": {
    "tags": []
   },
   "outputs": [
    {
     "output_type": "execute_result",
     "data": {
      "text/plain": "             gameId  championId teamColor    win  isLeblancTeam\n1        2856625643           7       Red   True           True\n13       2857616125           7      Blue  False           True\n24       2857680926           7       Red   True           True\n34       2859611157           7      Blue   True           True\n43       2861931864           7      Blue   True           True\n...             ...         ...       ...    ...            ...\n1439946  3587851875           7       Red   True           True\n1439957  3587911447           7       Red   True           True\n1439962  3588220059           7      Blue  False           True\n1439977  3588221801           7      Blue  False           True\n1439982  3588287460           7       Red  False           True\n\n[143999 rows x 5 columns]",
      "text/html": "<div>\n<style scoped>\n    .dataframe tbody tr th:only-of-type {\n        vertical-align: middle;\n    }\n\n    .dataframe tbody tr th {\n        vertical-align: top;\n    }\n\n    .dataframe thead th {\n        text-align: right;\n    }\n</style>\n<table border=\"1\" class=\"dataframe\">\n  <thead>\n    <tr style=\"text-align: right;\">\n      <th></th>\n      <th>gameId</th>\n      <th>championId</th>\n      <th>teamColor</th>\n      <th>win</th>\n      <th>isLeblancTeam</th>\n    </tr>\n  </thead>\n  <tbody>\n    <tr>\n      <th>1</th>\n      <td>2856625643</td>\n      <td>7</td>\n      <td>Red</td>\n      <td>True</td>\n      <td>True</td>\n    </tr>\n    <tr>\n      <th>13</th>\n      <td>2857616125</td>\n      <td>7</td>\n      <td>Blue</td>\n      <td>False</td>\n      <td>True</td>\n    </tr>\n    <tr>\n      <th>24</th>\n      <td>2857680926</td>\n      <td>7</td>\n      <td>Red</td>\n      <td>True</td>\n      <td>True</td>\n    </tr>\n    <tr>\n      <th>34</th>\n      <td>2859611157</td>\n      <td>7</td>\n      <td>Blue</td>\n      <td>True</td>\n      <td>True</td>\n    </tr>\n    <tr>\n      <th>43</th>\n      <td>2861931864</td>\n      <td>7</td>\n      <td>Blue</td>\n      <td>True</td>\n      <td>True</td>\n    </tr>\n    <tr>\n      <th>...</th>\n      <td>...</td>\n      <td>...</td>\n      <td>...</td>\n      <td>...</td>\n      <td>...</td>\n    </tr>\n    <tr>\n      <th>1439946</th>\n      <td>3587851875</td>\n      <td>7</td>\n      <td>Red</td>\n      <td>True</td>\n      <td>True</td>\n    </tr>\n    <tr>\n      <th>1439957</th>\n      <td>3587911447</td>\n      <td>7</td>\n      <td>Red</td>\n      <td>True</td>\n      <td>True</td>\n    </tr>\n    <tr>\n      <th>1439962</th>\n      <td>3588220059</td>\n      <td>7</td>\n      <td>Blue</td>\n      <td>False</td>\n      <td>True</td>\n    </tr>\n    <tr>\n      <th>1439977</th>\n      <td>3588221801</td>\n      <td>7</td>\n      <td>Blue</td>\n      <td>False</td>\n      <td>True</td>\n    </tr>\n    <tr>\n      <th>1439982</th>\n      <td>3588287460</td>\n      <td>7</td>\n      <td>Red</td>\n      <td>False</td>\n      <td>True</td>\n    </tr>\n  </tbody>\n</table>\n<p>143999 rows × 5 columns</p>\n</div>"
     },
     "metadata": {},
     "execution_count": 29
    }
   ],
   "source": [
    "leblancChampId = champions.loc[champions[\"name\"] == \"LeBlanc\", \"championId\"].values[0]\n",
    "temp = leblancGames_df[leblancGames_df['championId'] == leblancChampId]\n",
    "temp['isLeblancTeam'] = True\n",
    "temp"
   ]
  },
  {
   "cell_type": "code",
   "execution_count": 30,
   "metadata": {},
   "outputs": [
    {
     "output_type": "execute_result",
     "data": {
      "text/plain": "            sum\ngameId         \n2856625643    1\n2857616125    0\n2857680926    1\n2859611157    1\n2861931864    1\n...         ...\n3587851875    1\n3587911447    1\n3588220059    0\n3588221801    0\n3588287460    0\n\n[143999 rows x 1 columns]",
      "text/html": "<div>\n<style scoped>\n    .dataframe tbody tr th:only-of-type {\n        vertical-align: middle;\n    }\n\n    .dataframe tbody tr th {\n        vertical-align: top;\n    }\n\n    .dataframe thead th {\n        text-align: right;\n    }\n</style>\n<table border=\"1\" class=\"dataframe\">\n  <thead>\n    <tr style=\"text-align: right;\">\n      <th></th>\n      <th>sum</th>\n    </tr>\n    <tr>\n      <th>gameId</th>\n      <th></th>\n    </tr>\n  </thead>\n  <tbody>\n    <tr>\n      <th>2856625643</th>\n      <td>1</td>\n    </tr>\n    <tr>\n      <th>2857616125</th>\n      <td>0</td>\n    </tr>\n    <tr>\n      <th>2857680926</th>\n      <td>1</td>\n    </tr>\n    <tr>\n      <th>2859611157</th>\n      <td>1</td>\n    </tr>\n    <tr>\n      <th>2861931864</th>\n      <td>1</td>\n    </tr>\n    <tr>\n      <th>...</th>\n      <td>...</td>\n    </tr>\n    <tr>\n      <th>3587851875</th>\n      <td>1</td>\n    </tr>\n    <tr>\n      <th>3587911447</th>\n      <td>1</td>\n    </tr>\n    <tr>\n      <th>3588220059</th>\n      <td>0</td>\n    </tr>\n    <tr>\n      <th>3588221801</th>\n      <td>0</td>\n    </tr>\n    <tr>\n      <th>3588287460</th>\n      <td>0</td>\n    </tr>\n  </tbody>\n</table>\n<p>143999 rows × 1 columns</p>\n</div>"
     },
     "metadata": {},
     "execution_count": 30
    }
   ],
   "source": [
    "allLeblancGames = temp[['gameId', 'win']].groupby(['gameId']).agg(['sum'])['win']\n",
    "allLeblancGames"
   ]
  },
  {
   "cell_type": "code",
   "execution_count": 31,
   "metadata": {
    "tags": []
   },
   "outputs": [
    {
     "output_type": "stream",
     "name": "stdout",
     "text": "LeBlancWR: 0.46682 [67222 / 143999]\n"
    }
   ],
   "source": [
    "leblancWR = allLeblancGames['sum'].astype(bool).sum(axis=0)/len(allLeblancGames.index)\n",
    "\n",
    "print(f\"LeBlancWR: {leblancWR:.5f} [{allLeblancGames['sum'].astype(bool).sum(axis=0)} / {len(allLeblancGames.index)}]\")"
   ]
  },
  {
   "cell_type": "code",
   "execution_count": 32,
   "metadata": {},
   "outputs": [
    {
     "output_type": "execute_result",
     "data": {
      "text/plain": "             gameId  championId teamColor    win  isLeblancTeam\n0        2856625643         126       Red   True           True\n1        2856625643           7       Red   True           True\n2        2856625643          26      Blue  False          False\n3        2856625643         429      Blue  False          False\n4        2856625643          11       Red   True           True\n...             ...         ...       ...    ...            ...\n1439984  3588287460          63      Blue   True          False\n1439985  3588287460          53      Blue   True          False\n1439986  3588287460         104      Blue   True          False\n1439987  3588287460          10       Red  False           True\n1439988  3588287460         143       Red  False           True\n\n[1439989 rows x 5 columns]",
      "text/html": "<div>\n<style scoped>\n    .dataframe tbody tr th:only-of-type {\n        vertical-align: middle;\n    }\n\n    .dataframe tbody tr th {\n        vertical-align: top;\n    }\n\n    .dataframe thead th {\n        text-align: right;\n    }\n</style>\n<table border=\"1\" class=\"dataframe\">\n  <thead>\n    <tr style=\"text-align: right;\">\n      <th></th>\n      <th>gameId</th>\n      <th>championId</th>\n      <th>teamColor</th>\n      <th>win</th>\n      <th>isLeblancTeam</th>\n    </tr>\n  </thead>\n  <tbody>\n    <tr>\n      <th>0</th>\n      <td>2856625643</td>\n      <td>126</td>\n      <td>Red</td>\n      <td>True</td>\n      <td>True</td>\n    </tr>\n    <tr>\n      <th>1</th>\n      <td>2856625643</td>\n      <td>7</td>\n      <td>Red</td>\n      <td>True</td>\n      <td>True</td>\n    </tr>\n    <tr>\n      <th>2</th>\n      <td>2856625643</td>\n      <td>26</td>\n      <td>Blue</td>\n      <td>False</td>\n      <td>False</td>\n    </tr>\n    <tr>\n      <th>3</th>\n      <td>2856625643</td>\n      <td>429</td>\n      <td>Blue</td>\n      <td>False</td>\n      <td>False</td>\n    </tr>\n    <tr>\n      <th>4</th>\n      <td>2856625643</td>\n      <td>11</td>\n      <td>Red</td>\n      <td>True</td>\n      <td>True</td>\n    </tr>\n    <tr>\n      <th>...</th>\n      <td>...</td>\n      <td>...</td>\n      <td>...</td>\n      <td>...</td>\n      <td>...</td>\n    </tr>\n    <tr>\n      <th>1439984</th>\n      <td>3588287460</td>\n      <td>63</td>\n      <td>Blue</td>\n      <td>True</td>\n      <td>False</td>\n    </tr>\n    <tr>\n      <th>1439985</th>\n      <td>3588287460</td>\n      <td>53</td>\n      <td>Blue</td>\n      <td>True</td>\n      <td>False</td>\n    </tr>\n    <tr>\n      <th>1439986</th>\n      <td>3588287460</td>\n      <td>104</td>\n      <td>Blue</td>\n      <td>True</td>\n      <td>False</td>\n    </tr>\n    <tr>\n      <th>1439987</th>\n      <td>3588287460</td>\n      <td>10</td>\n      <td>Red</td>\n      <td>False</td>\n      <td>True</td>\n    </tr>\n    <tr>\n      <th>1439988</th>\n      <td>3588287460</td>\n      <td>143</td>\n      <td>Red</td>\n      <td>False</td>\n      <td>True</td>\n    </tr>\n  </tbody>\n</table>\n<p>1439989 rows × 5 columns</p>\n</div>"
     },
     "metadata": {},
     "execution_count": 32
    }
   ],
   "source": [
    "leblancGames = pd.merge(leblancGames_df, temp[['gameId', 'teamColor', 'isLeblancTeam']], how='left', left_on=['gameId', 'teamColor'], right_on=['gameId', 'teamColor']).fillna(False)\n",
    "leblancGames"
   ]
  },
  {
   "cell_type": "code",
   "execution_count": 33,
   "metadata": {},
   "outputs": [
    {
     "output_type": "execute_result",
     "data": {
      "text/plain": "             gameId  championId teamColor    win  isLeblancTeam  isSquishy\n0        2856625643         126       Red   True           True       True\n1        2856625643           7       Red   True           True       True\n2        2856625643          26      Blue  False          False       True\n3        2856625643         429      Blue  False          False       True\n4        2856625643          11       Red   True           True      False\n...             ...         ...       ...    ...            ...        ...\n1439984  3588287460          63      Blue   True          False      False\n1439985  3588287460          53      Blue   True          False      False\n1439986  3588287460         104      Blue   True          False      False\n1439987  3588287460          10       Red  False           True       True\n1439988  3588287460         143       Red  False           True       True\n\n[1439989 rows x 6 columns]",
      "text/html": "<div>\n<style scoped>\n    .dataframe tbody tr th:only-of-type {\n        vertical-align: middle;\n    }\n\n    .dataframe tbody tr th {\n        vertical-align: top;\n    }\n\n    .dataframe thead th {\n        text-align: right;\n    }\n</style>\n<table border=\"1\" class=\"dataframe\">\n  <thead>\n    <tr style=\"text-align: right;\">\n      <th></th>\n      <th>gameId</th>\n      <th>championId</th>\n      <th>teamColor</th>\n      <th>win</th>\n      <th>isLeblancTeam</th>\n      <th>isSquishy</th>\n    </tr>\n  </thead>\n  <tbody>\n    <tr>\n      <th>0</th>\n      <td>2856625643</td>\n      <td>126</td>\n      <td>Red</td>\n      <td>True</td>\n      <td>True</td>\n      <td>True</td>\n    </tr>\n    <tr>\n      <th>1</th>\n      <td>2856625643</td>\n      <td>7</td>\n      <td>Red</td>\n      <td>True</td>\n      <td>True</td>\n      <td>True</td>\n    </tr>\n    <tr>\n      <th>2</th>\n      <td>2856625643</td>\n      <td>26</td>\n      <td>Blue</td>\n      <td>False</td>\n      <td>False</td>\n      <td>True</td>\n    </tr>\n    <tr>\n      <th>3</th>\n      <td>2856625643</td>\n      <td>429</td>\n      <td>Blue</td>\n      <td>False</td>\n      <td>False</td>\n      <td>True</td>\n    </tr>\n    <tr>\n      <th>4</th>\n      <td>2856625643</td>\n      <td>11</td>\n      <td>Red</td>\n      <td>True</td>\n      <td>True</td>\n      <td>False</td>\n    </tr>\n    <tr>\n      <th>...</th>\n      <td>...</td>\n      <td>...</td>\n      <td>...</td>\n      <td>...</td>\n      <td>...</td>\n      <td>...</td>\n    </tr>\n    <tr>\n      <th>1439984</th>\n      <td>3588287460</td>\n      <td>63</td>\n      <td>Blue</td>\n      <td>True</td>\n      <td>False</td>\n      <td>False</td>\n    </tr>\n    <tr>\n      <th>1439985</th>\n      <td>3588287460</td>\n      <td>53</td>\n      <td>Blue</td>\n      <td>True</td>\n      <td>False</td>\n      <td>False</td>\n    </tr>\n    <tr>\n      <th>1439986</th>\n      <td>3588287460</td>\n      <td>104</td>\n      <td>Blue</td>\n      <td>True</td>\n      <td>False</td>\n      <td>False</td>\n    </tr>\n    <tr>\n      <th>1439987</th>\n      <td>3588287460</td>\n      <td>10</td>\n      <td>Red</td>\n      <td>False</td>\n      <td>True</td>\n      <td>True</td>\n    </tr>\n    <tr>\n      <th>1439988</th>\n      <td>3588287460</td>\n      <td>143</td>\n      <td>Red</td>\n      <td>False</td>\n      <td>True</td>\n      <td>True</td>\n    </tr>\n  </tbody>\n</table>\n<p>1439989 rows × 6 columns</p>\n</div>"
     },
     "metadata": {},
     "execution_count": 33
    }
   ],
   "source": [
    "leblancGames['isSquishy'] = leblancGames['championId'].isin(squishyChampIds)\n",
    "leblancGames"
   ]
  },
  {
   "cell_type": "code",
   "execution_count": 34,
   "metadata": {},
   "outputs": [
    {
     "output_type": "execute_result",
     "data": {
      "text/plain": "             gameId  championId teamColor    win  isLeblancTeam  isSquishy\n4        2856625643          11       Red   True           True      False\n5        2856625643          31       Red   True           True      False\n8        2856625643          24       Red   True           True      False\n11       2857616125          11      Blue  False           True      False\n19       2857616125         102      Blue  False           True      False\n...             ...         ...       ...    ...            ...        ...\n1439959  3588220059          64      Blue  False           True      False\n1439965  3588220059         360      Blue  False           True      False\n1439970  3588221801         104      Blue  False           True      False\n1439975  3588221801          54      Blue  False           True      False\n1439979  3588287460          11       Red  False           True      False\n\n[239136 rows x 6 columns]",
      "text/html": "<div>\n<style scoped>\n    .dataframe tbody tr th:only-of-type {\n        vertical-align: middle;\n    }\n\n    .dataframe tbody tr th {\n        vertical-align: top;\n    }\n\n    .dataframe thead th {\n        text-align: right;\n    }\n</style>\n<table border=\"1\" class=\"dataframe\">\n  <thead>\n    <tr style=\"text-align: right;\">\n      <th></th>\n      <th>gameId</th>\n      <th>championId</th>\n      <th>teamColor</th>\n      <th>win</th>\n      <th>isLeblancTeam</th>\n      <th>isSquishy</th>\n    </tr>\n  </thead>\n  <tbody>\n    <tr>\n      <th>4</th>\n      <td>2856625643</td>\n      <td>11</td>\n      <td>Red</td>\n      <td>True</td>\n      <td>True</td>\n      <td>False</td>\n    </tr>\n    <tr>\n      <th>5</th>\n      <td>2856625643</td>\n      <td>31</td>\n      <td>Red</td>\n      <td>True</td>\n      <td>True</td>\n      <td>False</td>\n    </tr>\n    <tr>\n      <th>8</th>\n      <td>2856625643</td>\n      <td>24</td>\n      <td>Red</td>\n      <td>True</td>\n      <td>True</td>\n      <td>False</td>\n    </tr>\n    <tr>\n      <th>11</th>\n      <td>2857616125</td>\n      <td>11</td>\n      <td>Blue</td>\n      <td>False</td>\n      <td>True</td>\n      <td>False</td>\n    </tr>\n    <tr>\n      <th>19</th>\n      <td>2857616125</td>\n      <td>102</td>\n      <td>Blue</td>\n      <td>False</td>\n      <td>True</td>\n      <td>False</td>\n    </tr>\n    <tr>\n      <th>...</th>\n      <td>...</td>\n      <td>...</td>\n      <td>...</td>\n      <td>...</td>\n      <td>...</td>\n      <td>...</td>\n    </tr>\n    <tr>\n      <th>1439959</th>\n      <td>3588220059</td>\n      <td>64</td>\n      <td>Blue</td>\n      <td>False</td>\n      <td>True</td>\n      <td>False</td>\n    </tr>\n    <tr>\n      <th>1439965</th>\n      <td>3588220059</td>\n      <td>360</td>\n      <td>Blue</td>\n      <td>False</td>\n      <td>True</td>\n      <td>False</td>\n    </tr>\n    <tr>\n      <th>1439970</th>\n      <td>3588221801</td>\n      <td>104</td>\n      <td>Blue</td>\n      <td>False</td>\n      <td>True</td>\n      <td>False</td>\n    </tr>\n    <tr>\n      <th>1439975</th>\n      <td>3588221801</td>\n      <td>54</td>\n      <td>Blue</td>\n      <td>False</td>\n      <td>True</td>\n      <td>False</td>\n    </tr>\n    <tr>\n      <th>1439979</th>\n      <td>3588287460</td>\n      <td>11</td>\n      <td>Red</td>\n      <td>False</td>\n      <td>True</td>\n      <td>False</td>\n    </tr>\n  </tbody>\n</table>\n<p>239136 rows × 6 columns</p>\n</div>"
     },
     "metadata": {},
     "execution_count": 34
    }
   ],
   "source": [
    "noSquishiesGames = leblancGames.loc[(leblancGames['isLeblancTeam'] == True) & (leblancGames['isSquishy'] == False)]\n",
    "noSquishiesGames"
   ]
  },
  {
   "cell_type": "code",
   "execution_count": 35,
   "metadata": {},
   "outputs": [
    {
     "output_type": "execute_result",
     "data": {
      "text/plain": "           win isSquishy\n           sum       sum\ngameId                  \n2856625643   3         0\n2857616125   0         0\n2857680926   1         0\n2859611157   1         0\n2861931864   4         0\n...         ..       ...\n3587851875   2         0\n3587911447   3         0\n3588220059   0         0\n3588221801   0         0\n3588287460   0         0\n\n[130012 rows x 2 columns]",
      "text/html": "<div>\n<style scoped>\n    .dataframe tbody tr th:only-of-type {\n        vertical-align: middle;\n    }\n\n    .dataframe tbody tr th {\n        vertical-align: top;\n    }\n\n    .dataframe thead tr th {\n        text-align: left;\n    }\n\n    .dataframe thead tr:last-of-type th {\n        text-align: right;\n    }\n</style>\n<table border=\"1\" class=\"dataframe\">\n  <thead>\n    <tr>\n      <th></th>\n      <th>win</th>\n      <th>isSquishy</th>\n    </tr>\n    <tr>\n      <th></th>\n      <th>sum</th>\n      <th>sum</th>\n    </tr>\n    <tr>\n      <th>gameId</th>\n      <th></th>\n      <th></th>\n    </tr>\n  </thead>\n  <tbody>\n    <tr>\n      <th>2856625643</th>\n      <td>3</td>\n      <td>0</td>\n    </tr>\n    <tr>\n      <th>2857616125</th>\n      <td>0</td>\n      <td>0</td>\n    </tr>\n    <tr>\n      <th>2857680926</th>\n      <td>1</td>\n      <td>0</td>\n    </tr>\n    <tr>\n      <th>2859611157</th>\n      <td>1</td>\n      <td>0</td>\n    </tr>\n    <tr>\n      <th>2861931864</th>\n      <td>4</td>\n      <td>0</td>\n    </tr>\n    <tr>\n      <th>...</th>\n      <td>...</td>\n      <td>...</td>\n    </tr>\n    <tr>\n      <th>3587851875</th>\n      <td>2</td>\n      <td>0</td>\n    </tr>\n    <tr>\n      <th>3587911447</th>\n      <td>3</td>\n      <td>0</td>\n    </tr>\n    <tr>\n      <th>3588220059</th>\n      <td>0</td>\n      <td>0</td>\n    </tr>\n    <tr>\n      <th>3588221801</th>\n      <td>0</td>\n      <td>0</td>\n    </tr>\n    <tr>\n      <th>3588287460</th>\n      <td>0</td>\n      <td>0</td>\n    </tr>\n  </tbody>\n</table>\n<p>130012 rows × 2 columns</p>\n</div>"
     },
     "metadata": {},
     "execution_count": 35
    }
   ],
   "source": [
    "noSquishiesGames = noSquishiesGames[['gameId', 'win', 'isSquishy']].groupby(['gameId']).agg(['sum'])\n",
    "noSquishiesGames"
   ]
  },
  {
   "cell_type": "code",
   "execution_count": 36,
   "metadata": {},
   "outputs": [
    {
     "output_type": "execute_result",
     "data": {
      "text/plain": "             gameId  championId teamColor    win  isLeblancTeam  isSquishy\n2        2856625643          26      Blue  False          False       True\n3        2856625643         429      Blue  False          False       True\n9        2856625643          85      Blue  False          False       True\n16       2857616125         107       Red   True          False       True\n28       2857680926         133      Blue  False          False       True\n...             ...         ...       ...    ...            ...        ...\n1439972  3588221801         432       Red   True          False       True\n1439973  3588221801         555       Red   True          False       True\n1439974  3588221801         101       Red   True          False       True\n1439978  3588221801          29       Red   True          False       True\n1439980  3588287460          26      Blue   True          False       True\n\n[427025 rows x 6 columns]",
      "text/html": "<div>\n<style scoped>\n    .dataframe tbody tr th:only-of-type {\n        vertical-align: middle;\n    }\n\n    .dataframe tbody tr th {\n        vertical-align: top;\n    }\n\n    .dataframe thead th {\n        text-align: right;\n    }\n</style>\n<table border=\"1\" class=\"dataframe\">\n  <thead>\n    <tr style=\"text-align: right;\">\n      <th></th>\n      <th>gameId</th>\n      <th>championId</th>\n      <th>teamColor</th>\n      <th>win</th>\n      <th>isLeblancTeam</th>\n      <th>isSquishy</th>\n    </tr>\n  </thead>\n  <tbody>\n    <tr>\n      <th>2</th>\n      <td>2856625643</td>\n      <td>26</td>\n      <td>Blue</td>\n      <td>False</td>\n      <td>False</td>\n      <td>True</td>\n    </tr>\n    <tr>\n      <th>3</th>\n      <td>2856625643</td>\n      <td>429</td>\n      <td>Blue</td>\n      <td>False</td>\n      <td>False</td>\n      <td>True</td>\n    </tr>\n    <tr>\n      <th>9</th>\n      <td>2856625643</td>\n      <td>85</td>\n      <td>Blue</td>\n      <td>False</td>\n      <td>False</td>\n      <td>True</td>\n    </tr>\n    <tr>\n      <th>16</th>\n      <td>2857616125</td>\n      <td>107</td>\n      <td>Red</td>\n      <td>True</td>\n      <td>False</td>\n      <td>True</td>\n    </tr>\n    <tr>\n      <th>28</th>\n      <td>2857680926</td>\n      <td>133</td>\n      <td>Blue</td>\n      <td>False</td>\n      <td>False</td>\n      <td>True</td>\n    </tr>\n    <tr>\n      <th>...</th>\n      <td>...</td>\n      <td>...</td>\n      <td>...</td>\n      <td>...</td>\n      <td>...</td>\n      <td>...</td>\n    </tr>\n    <tr>\n      <th>1439972</th>\n      <td>3588221801</td>\n      <td>432</td>\n      <td>Red</td>\n      <td>True</td>\n      <td>False</td>\n      <td>True</td>\n    </tr>\n    <tr>\n      <th>1439973</th>\n      <td>3588221801</td>\n      <td>555</td>\n      <td>Red</td>\n      <td>True</td>\n      <td>False</td>\n      <td>True</td>\n    </tr>\n    <tr>\n      <th>1439974</th>\n      <td>3588221801</td>\n      <td>101</td>\n      <td>Red</td>\n      <td>True</td>\n      <td>False</td>\n      <td>True</td>\n    </tr>\n    <tr>\n      <th>1439978</th>\n      <td>3588221801</td>\n      <td>29</td>\n      <td>Red</td>\n      <td>True</td>\n      <td>False</td>\n      <td>True</td>\n    </tr>\n    <tr>\n      <th>1439980</th>\n      <td>3588287460</td>\n      <td>26</td>\n      <td>Blue</td>\n      <td>True</td>\n      <td>False</td>\n      <td>True</td>\n    </tr>\n  </tbody>\n</table>\n<p>427025 rows × 6 columns</p>\n</div>"
     },
     "metadata": {},
     "execution_count": 36
    }
   ],
   "source": [
    "leblancGames = leblancGames.loc[(leblancGames['isLeblancTeam'] == False) & (leblancGames['isSquishy'] == True)]\n",
    "leblancGames"
   ]
  },
  {
   "cell_type": "code",
   "execution_count": 37,
   "metadata": {},
   "outputs": [
    {
     "output_type": "execute_result",
     "data": {
      "text/plain": "           win isSquishy\n           sum       sum\ngameId                  \n2856625643   0         3\n2857616125   1         1\n2857680926   0         2\n2859611157   0         3\n2861931864   0         2\n...         ..       ...\n3587851875   0         2\n3587911447   0         3\n3588220059   3         3\n3588221801   5         5\n3588287460   1         1\n\n[142924 rows x 2 columns]",
      "text/html": "<div>\n<style scoped>\n    .dataframe tbody tr th:only-of-type {\n        vertical-align: middle;\n    }\n\n    .dataframe tbody tr th {\n        vertical-align: top;\n    }\n\n    .dataframe thead tr th {\n        text-align: left;\n    }\n\n    .dataframe thead tr:last-of-type th {\n        text-align: right;\n    }\n</style>\n<table border=\"1\" class=\"dataframe\">\n  <thead>\n    <tr>\n      <th></th>\n      <th>win</th>\n      <th>isSquishy</th>\n    </tr>\n    <tr>\n      <th></th>\n      <th>sum</th>\n      <th>sum</th>\n    </tr>\n    <tr>\n      <th>gameId</th>\n      <th></th>\n      <th></th>\n    </tr>\n  </thead>\n  <tbody>\n    <tr>\n      <th>2856625643</th>\n      <td>0</td>\n      <td>3</td>\n    </tr>\n    <tr>\n      <th>2857616125</th>\n      <td>1</td>\n      <td>1</td>\n    </tr>\n    <tr>\n      <th>2857680926</th>\n      <td>0</td>\n      <td>2</td>\n    </tr>\n    <tr>\n      <th>2859611157</th>\n      <td>0</td>\n      <td>3</td>\n    </tr>\n    <tr>\n      <th>2861931864</th>\n      <td>0</td>\n      <td>2</td>\n    </tr>\n    <tr>\n      <th>...</th>\n      <td>...</td>\n      <td>...</td>\n    </tr>\n    <tr>\n      <th>3587851875</th>\n      <td>0</td>\n      <td>2</td>\n    </tr>\n    <tr>\n      <th>3587911447</th>\n      <td>0</td>\n      <td>3</td>\n    </tr>\n    <tr>\n      <th>3588220059</th>\n      <td>3</td>\n      <td>3</td>\n    </tr>\n    <tr>\n      <th>3588221801</th>\n      <td>5</td>\n      <td>5</td>\n    </tr>\n    <tr>\n      <th>3588287460</th>\n      <td>1</td>\n      <td>1</td>\n    </tr>\n  </tbody>\n</table>\n<p>142924 rows × 2 columns</p>\n</div>"
     },
     "metadata": {},
     "execution_count": 37
    }
   ],
   "source": [
    "leblancGames = leblancGames[['gameId', 'win', 'isSquishy']].groupby(['gameId']).agg(['sum'])#[['win', 'isSupport']]\n",
    "leblancGames"
   ]
  },
  {
   "cell_type": "code",
   "execution_count": 38,
   "metadata": {},
   "outputs": [],
   "source": [
    "from statsmodels.stats.proportion import proportion_confint"
   ]
  },
  {
   "cell_type": "code",
   "execution_count": 39,
   "metadata": {
    "tags": []
   },
   "outputs": [],
   "source": [
    "noSquishies = noSquishiesGames[noSquishiesGames['isSquishy']['sum'] == 0]['win']\n",
    "oneSquishies = leblancGames[leblancGames['isSquishy']['sum'] == 1]['win']\n",
    "twoSquishies = leblancGames[leblancGames['isSquishy']['sum'] == 2]['win']\n",
    "threeSquishies = leblancGames[leblancGames['isSquishy']['sum'] == 3]['win']\n",
    "fourSquishies = leblancGames[leblancGames['isSquishy']['sum'] == 4]['win']\n",
    "fiveSquishies = leblancGames[leblancGames['isSquishy']['sum'] == 5]['win']\n",
    "\n",
    "noSquishiesWR = noSquishies['sum'].astype(bool).sum(axis=0)/len(noSquishiesGames.index)\n",
    "oneSquishiesWR = (~oneSquishies['sum'].astype(bool)).sum(axis=0)/len(oneSquishies.index)\n",
    "twoSquishiesWR = (~twoSquishies['sum'].astype(bool)).sum(axis=0)/len(twoSquishies.index)\n",
    "threeSquishiesWR = (~threeSquishies['sum'].astype(bool)).sum(axis=0)/len(threeSquishies.index)\n",
    "fourSquishiesWR = (~fourSquishies['sum'].astype(bool)).sum(axis=0)/len(fourSquishies.index)\n",
    "fiveSquishiesWR = (~fiveSquishies['sum'].astype(bool)).sum(axis=0)/len(fiveSquishies.index)\n",
    "\n",
    "leblancCI = proportion_confint(allLeblancGames['sum'].astype(bool).sum(axis=0), len(allLeblancGames.index), method='binom_test', alpha=0.05)\n",
    "noSquishiesCI = proportion_confint(noSquishies['sum'].astype(bool).sum(axis=0), len(noSquishiesGames.index), method='binom_test', alpha=0.05)\n",
    "oneSquishiesCI = proportion_confint((~oneSquishies['sum'].astype(bool)).sum(axis=0), len(oneSquishies.index), method='binom_test', alpha=0.05)\n",
    "twoSquishiesCI = proportion_confint((~twoSquishies['sum'].astype(bool)).sum(axis=0), len(twoSquishies.index), method='binom_test', alpha=0.05)\n",
    "threeSquishiesCI = proportion_confint((~threeSquishies['sum'].astype(bool)).sum(axis=0), len(threeSquishies.index), method='binom_test', alpha=0.05)\n",
    "fourSquishiesCI = proportion_confint((~fourSquishies['sum'].astype(bool)).sum(axis=0), len(fourSquishies.index), method='binom_test', alpha=0.05)\n",
    "fiveSquishiesCI = proportion_confint((~fiveSquishies['sum'].astype(bool)).sum(axis=0), len(fiveSquishies.index), method='binom_test', alpha=0.05)"
   ]
  },
  {
   "cell_type": "code",
   "execution_count": 40,
   "metadata": {
    "tags": []
   },
   "outputs": [
    {
     "output_type": "stream",
     "name": "stdout",
     "text": "LeBlancWR: 0.46682 [67222 / 143999]\nnoSquishiesWR: 0.46705 [60722 / 130012]\noneSquishiesWR: 0.48058 [4814 / 10017]\ntwoSquishiesWR: 0.46826 [16052 / 34280]\nthreeSquishiesWR: 0.46046 [24948 / 54181]\nfourSquishiesWR: 0.46420 [16862 / 36325]\nfiveSquishiesWR: 0.49243 [3999 / 8121]\n95% CI: [0.464246, 0.469403]\n95% CI: [0.464338, 0.469764]\n95% CI: [0.470799, 0.490416]\n95% CI: [0.462981, 0.473556]\n95% CI: [0.456257, 0.464665]\n95% CI: [0.459064, 0.469332]\n95% CI: [0.481529, 0.503325]\n"
    }
   ],
   "source": [
    "print(f\"LeBlancWR: {leblancWR:.5f} [{allLeblancGames['sum'].astype(bool).sum(axis=0)} / {len(allLeblancGames.index)}]\")\n",
    "print(f\"noSquishiesWR: {noSquishiesWR:.5f} [{noSquishies['sum'].astype(bool).sum(axis=0)} / {len(noSquishies.index)}]\")\n",
    "print(f\"oneSquishiesWR: {oneSquishiesWR:.5f} [{(~oneSquishies['sum'].astype(bool)).sum(axis=0)} / {len(oneSquishies.index)}]\")\n",
    "print(f\"twoSquishiesWR: {twoSquishiesWR:.5f} [{(~twoSquishies['sum'].astype(bool)).sum(axis=0)} / {len(twoSquishies.index)}]\")\n",
    "print(f\"threeSquishiesWR: {threeSquishiesWR:.5f} [{(~threeSquishies['sum'].astype(bool)).sum(axis=0)} / {len(threeSquishies.index)}]\")\n",
    "print(f\"fourSquishiesWR: {fourSquishiesWR:.5f} [{(~fourSquishies['sum'].astype(bool)).sum(axis=0)} / {len(fourSquishies.index)}]\")\n",
    "print(f\"fiveSquishiesWR: {fiveSquishiesWR:.5f} [{(~fiveSquishies['sum'].astype(bool)).sum(axis=0)} / {len(fiveSquishies.index)}]\")\n",
    "\n",
    "print(f\"95% CI: [{leblancCI[0]:.6f}, {leblancCI[1]:.6f}]\")\n",
    "print(f\"95% CI: [{noSquishiesCI[0]:.6f}, {noSquishiesCI[1]:.6f}]\")\n",
    "print(f\"95% CI: [{oneSquishiesCI[0]:.6f}, {oneSquishiesCI[1]:.6f}]\")\n",
    "print(f\"95% CI: [{twoSquishiesCI[0]:.6f}, {twoSquishiesCI[1]:.6f}]\")\n",
    "print(f\"95% CI: [{threeSquishiesCI[0]:.6f}, {threeSquishiesCI[1]:.6f}]\")\n",
    "print(f\"95% CI: [{fourSquishiesCI[0]:.6f}, {fourSquishiesCI[1]:.6f}]\")\n",
    "print(f\"95% CI: [{fiveSquishiesCI[0]:.6f}, {fiveSquishiesCI[1]:.6f}]\")"
   ]
  },
  {
   "cell_type": "code",
   "execution_count": null,
   "metadata": {},
   "outputs": [],
   "source": []
  }
 ]
}