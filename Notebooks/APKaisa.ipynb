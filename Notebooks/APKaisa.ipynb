{
 "metadata": {
  "language_info": {
   "codemirror_mode": {
    "name": "ipython",
    "version": 3
   },
   "file_extension": ".py",
   "mimetype": "text/x-python",
   "name": "python",
   "nbconvert_exporter": "python",
   "pygments_lexer": "ipython3",
   "version": "3.6.10-final"
  },
  "orig_nbformat": 2,
  "kernelspec": {
   "name": "Python 3.6.10 64-bit ('Python36': conda)",
   "display_name": "Python 3.6.10 64-bit ('Python36': conda)",
   "metadata": {
    "interpreter": {
     "hash": "23508edb48211c585617c619e9f1b5e8d4b0a27eebe8bdb1b05c1cca5979f0c4"
    }
   }
  }
 },
 "nbformat": 4,
 "nbformat_minor": 2,
 "cells": [
  {
   "cell_type": "code",
   "execution_count": 1,
   "metadata": {},
   "outputs": [],
   "source": [
    "import pandas as pd\n",
    "import json\n",
    "filePath = r\"C:\\\\Users\\\\Pat\\\\Desktop\\\\Projects\\\\LoLAramPredictor\\\\Game Info\\\\\""
   ]
  },
  {
   "cell_type": "code",
   "execution_count": 2,
   "metadata": {
    "tags": []
   },
   "outputs": [
    {
     "output_type": "execute_result",
     "data": {
      "text/plain": "    championId     name attack defense magic difficulty primaryClass  \\\n0          266   Aatrox      8       4     3          4      Fighter   \n1          103     Ahri      3       4     8          5         Mage   \n2           84    Akali      5       3     8          7     Assassin   \n3           12  Alistar      6       9     5          7         Tank   \n4           32    Amumu      2       6     8          3         Tank   \n..         ...      ...    ...     ...   ...        ...          ...   \n145        238      Zed      9       2     1          7     Assassin   \n146        115    Ziggs      2       4     9          4         Mage   \n147         26   Zilean      2       5     8          6      Support   \n148        142      Zoe      1       7     8          5         Mage   \n149        143     Zyra      4       3     8          7         Mage   \n\n    secondaryClass     partype      hp  ... hpregen hpregenperlevel mpregen  \\\n0             Tank  Blood Well     580  ...       3               1       0   \n1         Assassin        Mana     526  ...     6.5             0.6       8   \n2             None      Energy     575  ...       8             0.5      50   \n3          Support        Mana     600  ...     8.5            0.85     8.5   \n4             Mage        Mana  613.12  ...       9            0.85   7.382   \n..             ...         ...     ...  ...     ...             ...     ...   \n145           None      Energy     584  ...       7            0.65      50   \n146           None        Mana     536  ...     6.5             0.6       8   \n147           Mage        Mana     504  ...     5.5             0.5  11.335   \n148        Support        Mana     560  ...     6.5             0.6       8   \n149        Support        Mana     504  ...     5.5             0.5      13   \n\n    mpregenperlevel crit  critperlevel  attackdamage  attackdamageperlevel  \\\n0                 0    0             0            60                     5   \n1               0.8    0             0         53.04                     3   \n2                 0    0             0          62.4                   3.3   \n3               0.8    0             0            62                  3.75   \n4             0.525    0             0         53.38                   3.8   \n..              ...  ...           ...           ...                   ...   \n145               0    0             0            63                   3.4   \n146             0.8    0             0        54.208                   3.1   \n147             0.8    0             0         51.64                     3   \n148            0.65    0             0            58                   3.3   \n149             0.4    0             0        53.376                   3.2   \n\n    attackspeedperlevel attackspeed  \n0                 2.500       0.651  \n1                 2.000       0.668  \n2                 3.200       0.625  \n3                 2.125       0.625  \n4                 2.180       0.736  \n..                  ...         ...  \n145               3.300       0.651  \n146               2.000       0.656  \n147               2.130       0.625  \n148               2.500       0.625  \n149               2.110       0.625  \n\n[150 rows x 29 columns]",
      "text/html": "<div>\n<style scoped>\n    .dataframe tbody tr th:only-of-type {\n        vertical-align: middle;\n    }\n\n    .dataframe tbody tr th {\n        vertical-align: top;\n    }\n\n    .dataframe thead th {\n        text-align: right;\n    }\n</style>\n<table border=\"1\" class=\"dataframe\">\n  <thead>\n    <tr style=\"text-align: right;\">\n      <th></th>\n      <th>championId</th>\n      <th>name</th>\n      <th>attack</th>\n      <th>defense</th>\n      <th>magic</th>\n      <th>difficulty</th>\n      <th>primaryClass</th>\n      <th>secondaryClass</th>\n      <th>partype</th>\n      <th>hp</th>\n      <th>...</th>\n      <th>hpregen</th>\n      <th>hpregenperlevel</th>\n      <th>mpregen</th>\n      <th>mpregenperlevel</th>\n      <th>crit</th>\n      <th>critperlevel</th>\n      <th>attackdamage</th>\n      <th>attackdamageperlevel</th>\n      <th>attackspeedperlevel</th>\n      <th>attackspeed</th>\n    </tr>\n  </thead>\n  <tbody>\n    <tr>\n      <th>0</th>\n      <td>266</td>\n      <td>Aatrox</td>\n      <td>8</td>\n      <td>4</td>\n      <td>3</td>\n      <td>4</td>\n      <td>Fighter</td>\n      <td>Tank</td>\n      <td>Blood Well</td>\n      <td>580</td>\n      <td>...</td>\n      <td>3</td>\n      <td>1</td>\n      <td>0</td>\n      <td>0</td>\n      <td>0</td>\n      <td>0</td>\n      <td>60</td>\n      <td>5</td>\n      <td>2.500</td>\n      <td>0.651</td>\n    </tr>\n    <tr>\n      <th>1</th>\n      <td>103</td>\n      <td>Ahri</td>\n      <td>3</td>\n      <td>4</td>\n      <td>8</td>\n      <td>5</td>\n      <td>Mage</td>\n      <td>Assassin</td>\n      <td>Mana</td>\n      <td>526</td>\n      <td>...</td>\n      <td>6.5</td>\n      <td>0.6</td>\n      <td>8</td>\n      <td>0.8</td>\n      <td>0</td>\n      <td>0</td>\n      <td>53.04</td>\n      <td>3</td>\n      <td>2.000</td>\n      <td>0.668</td>\n    </tr>\n    <tr>\n      <th>2</th>\n      <td>84</td>\n      <td>Akali</td>\n      <td>5</td>\n      <td>3</td>\n      <td>8</td>\n      <td>7</td>\n      <td>Assassin</td>\n      <td>None</td>\n      <td>Energy</td>\n      <td>575</td>\n      <td>...</td>\n      <td>8</td>\n      <td>0.5</td>\n      <td>50</td>\n      <td>0</td>\n      <td>0</td>\n      <td>0</td>\n      <td>62.4</td>\n      <td>3.3</td>\n      <td>3.200</td>\n      <td>0.625</td>\n    </tr>\n    <tr>\n      <th>3</th>\n      <td>12</td>\n      <td>Alistar</td>\n      <td>6</td>\n      <td>9</td>\n      <td>5</td>\n      <td>7</td>\n      <td>Tank</td>\n      <td>Support</td>\n      <td>Mana</td>\n      <td>600</td>\n      <td>...</td>\n      <td>8.5</td>\n      <td>0.85</td>\n      <td>8.5</td>\n      <td>0.8</td>\n      <td>0</td>\n      <td>0</td>\n      <td>62</td>\n      <td>3.75</td>\n      <td>2.125</td>\n      <td>0.625</td>\n    </tr>\n    <tr>\n      <th>4</th>\n      <td>32</td>\n      <td>Amumu</td>\n      <td>2</td>\n      <td>6</td>\n      <td>8</td>\n      <td>3</td>\n      <td>Tank</td>\n      <td>Mage</td>\n      <td>Mana</td>\n      <td>613.12</td>\n      <td>...</td>\n      <td>9</td>\n      <td>0.85</td>\n      <td>7.382</td>\n      <td>0.525</td>\n      <td>0</td>\n      <td>0</td>\n      <td>53.38</td>\n      <td>3.8</td>\n      <td>2.180</td>\n      <td>0.736</td>\n    </tr>\n    <tr>\n      <th>...</th>\n      <td>...</td>\n      <td>...</td>\n      <td>...</td>\n      <td>...</td>\n      <td>...</td>\n      <td>...</td>\n      <td>...</td>\n      <td>...</td>\n      <td>...</td>\n      <td>...</td>\n      <td>...</td>\n      <td>...</td>\n      <td>...</td>\n      <td>...</td>\n      <td>...</td>\n      <td>...</td>\n      <td>...</td>\n      <td>...</td>\n      <td>...</td>\n      <td>...</td>\n      <td>...</td>\n    </tr>\n    <tr>\n      <th>145</th>\n      <td>238</td>\n      <td>Zed</td>\n      <td>9</td>\n      <td>2</td>\n      <td>1</td>\n      <td>7</td>\n      <td>Assassin</td>\n      <td>None</td>\n      <td>Energy</td>\n      <td>584</td>\n      <td>...</td>\n      <td>7</td>\n      <td>0.65</td>\n      <td>50</td>\n      <td>0</td>\n      <td>0</td>\n      <td>0</td>\n      <td>63</td>\n      <td>3.4</td>\n      <td>3.300</td>\n      <td>0.651</td>\n    </tr>\n    <tr>\n      <th>146</th>\n      <td>115</td>\n      <td>Ziggs</td>\n      <td>2</td>\n      <td>4</td>\n      <td>9</td>\n      <td>4</td>\n      <td>Mage</td>\n      <td>None</td>\n      <td>Mana</td>\n      <td>536</td>\n      <td>...</td>\n      <td>6.5</td>\n      <td>0.6</td>\n      <td>8</td>\n      <td>0.8</td>\n      <td>0</td>\n      <td>0</td>\n      <td>54.208</td>\n      <td>3.1</td>\n      <td>2.000</td>\n      <td>0.656</td>\n    </tr>\n    <tr>\n      <th>147</th>\n      <td>26</td>\n      <td>Zilean</td>\n      <td>2</td>\n      <td>5</td>\n      <td>8</td>\n      <td>6</td>\n      <td>Support</td>\n      <td>Mage</td>\n      <td>Mana</td>\n      <td>504</td>\n      <td>...</td>\n      <td>5.5</td>\n      <td>0.5</td>\n      <td>11.335</td>\n      <td>0.8</td>\n      <td>0</td>\n      <td>0</td>\n      <td>51.64</td>\n      <td>3</td>\n      <td>2.130</td>\n      <td>0.625</td>\n    </tr>\n    <tr>\n      <th>148</th>\n      <td>142</td>\n      <td>Zoe</td>\n      <td>1</td>\n      <td>7</td>\n      <td>8</td>\n      <td>5</td>\n      <td>Mage</td>\n      <td>Support</td>\n      <td>Mana</td>\n      <td>560</td>\n      <td>...</td>\n      <td>6.5</td>\n      <td>0.6</td>\n      <td>8</td>\n      <td>0.65</td>\n      <td>0</td>\n      <td>0</td>\n      <td>58</td>\n      <td>3.3</td>\n      <td>2.500</td>\n      <td>0.625</td>\n    </tr>\n    <tr>\n      <th>149</th>\n      <td>143</td>\n      <td>Zyra</td>\n      <td>4</td>\n      <td>3</td>\n      <td>8</td>\n      <td>7</td>\n      <td>Mage</td>\n      <td>Support</td>\n      <td>Mana</td>\n      <td>504</td>\n      <td>...</td>\n      <td>5.5</td>\n      <td>0.5</td>\n      <td>13</td>\n      <td>0.4</td>\n      <td>0</td>\n      <td>0</td>\n      <td>53.376</td>\n      <td>3.2</td>\n      <td>2.110</td>\n      <td>0.625</td>\n    </tr>\n  </tbody>\n</table>\n<p>150 rows × 29 columns</p>\n</div>"
     },
     "metadata": {},
     "execution_count": 2
    }
   ],
   "source": [
    "with open(filePath+'champion.json', encoding='utf8') as f:\n",
    "    championData = json.load(f)\n",
    "\n",
    "champions = pd.DataFrame(columns = ['championId', 'name', 'attack', 'defense', 'magic', 'difficulty', 'primaryClass', 'secondaryClass', 'partype', 'hp', 'hpperlevel', 'mp', 'mpperlevel', 'movespeed', 'armor', 'armorperlevel', 'spellblock', 'spellblockperlevel', 'attackrange', 'hpregen', 'hpregenperlevel', 'mpregen', 'mpregenperlevel', 'crit', 'critperlevel', 'attackdamage', 'attackdamageperlevel', 'attackspeedperlevel', 'attackspeed'])\n",
    "\n",
    "for k, v in championData['data'].items():\n",
    "    champions = champions.append({'championId': int(v['key']),\n",
    "                        'name': v['name'], \n",
    "                        'attack': v['info']['attack'], \n",
    "                        'defense': v['info']['defense'], \n",
    "                        'magic': v['info']['magic'], \n",
    "                        'difficulty': v['info']['difficulty'], \n",
    "                        'primaryClass': v['tags'][0], \n",
    "                        'secondaryClass': v['tags'][1] if len(v['tags']) > 1 else 'None', \n",
    "                        'partype': v['partype'], \n",
    "                        'hp': v['stats']['hp'], \n",
    "                        'hpperlevel': v['stats']['hpperlevel'], \n",
    "                        'mp': v['stats']['mp'], \n",
    "                        'mpperlevel': v['stats']['mpperlevel'], \n",
    "                        'movespeed': v['stats']['movespeed'], \n",
    "                        'armor': v['stats']['armor'], \n",
    "                        'armorperlevel': v['stats']['armorperlevel'], \n",
    "                        'spellblock': v['stats']['spellblock'], \n",
    "                        'spellblockperlevel': v['stats']['spellblockperlevel'], \n",
    "                        'attackrange': v['stats']['attackrange'], \n",
    "                        'hpregen': v['stats']['hpregen'], \n",
    "                        'hpregenperlevel': v['stats']['hpregenperlevel'], \n",
    "                        'mpregen': v['stats']['mpregen'], \n",
    "                        'mpregenperlevel': v['stats']['mpregenperlevel'], \n",
    "                        'crit': v['stats']['crit'], \n",
    "                        'critperlevel': v['stats']['critperlevel'], \n",
    "                        'attackdamage': v['stats']['attackdamage'], \n",
    "                        'attackdamageperlevel': v['stats']['attackdamageperlevel'], \n",
    "                        'attackspeedperlevel': v['stats']['attackspeedperlevel'], \n",
    "                        'attackspeed': v['stats']['attackspeed']}, ignore_index=True)\n",
    "\n",
    "champions"
   ]
  },
  {
   "cell_type": "code",
   "execution_count": 3,
   "metadata": {
    "tags": []
   },
   "outputs": [
    {
     "output_type": "execute_result",
     "data": {
      "text/plain": "     id               name              tags                         stats\n0  1001     Boots of Speed           [Boots]  {'FlatMovementSpeedMod': 25}\n1  1004       Faerie Charm       [ManaRegen]                            {}\n2  1006  Rejuvenation Bead     [HealthRegen]                            {}\n3  1011       Giant's Belt          [Health]        {'FlatHPPoolMod': 380}\n4  1018   Cloak of Agility  [CriticalStrike]    {'FlatCritChanceMod': 0.2}",
      "text/html": "<div>\n<style scoped>\n    .dataframe tbody tr th:only-of-type {\n        vertical-align: middle;\n    }\n\n    .dataframe tbody tr th {\n        vertical-align: top;\n    }\n\n    .dataframe thead th {\n        text-align: right;\n    }\n</style>\n<table border=\"1\" class=\"dataframe\">\n  <thead>\n    <tr style=\"text-align: right;\">\n      <th></th>\n      <th>id</th>\n      <th>name</th>\n      <th>tags</th>\n      <th>stats</th>\n    </tr>\n  </thead>\n  <tbody>\n    <tr>\n      <th>0</th>\n      <td>1001</td>\n      <td>Boots of Speed</td>\n      <td>[Boots]</td>\n      <td>{'FlatMovementSpeedMod': 25}</td>\n    </tr>\n    <tr>\n      <th>1</th>\n      <td>1004</td>\n      <td>Faerie Charm</td>\n      <td>[ManaRegen]</td>\n      <td>{}</td>\n    </tr>\n    <tr>\n      <th>2</th>\n      <td>1006</td>\n      <td>Rejuvenation Bead</td>\n      <td>[HealthRegen]</td>\n      <td>{}</td>\n    </tr>\n    <tr>\n      <th>3</th>\n      <td>1011</td>\n      <td>Giant's Belt</td>\n      <td>[Health]</td>\n      <td>{'FlatHPPoolMod': 380}</td>\n    </tr>\n    <tr>\n      <th>4</th>\n      <td>1018</td>\n      <td>Cloak of Agility</td>\n      <td>[CriticalStrike]</td>\n      <td>{'FlatCritChanceMod': 0.2}</td>\n    </tr>\n  </tbody>\n</table>\n</div>"
     },
     "metadata": {},
     "execution_count": 3
    }
   ],
   "source": [
    "with open(filePath+'item.json', encoding='utf8') as f:\n",
    "    itemData = json.load(f)\n",
    "\n",
    "items = pd.DataFrame(columns = ['id', 'name', 'tags', 'stats'])\n",
    "\n",
    "for k, v in itemData['data'].items():\n",
    "    items = items.append({'id': k,\n",
    "                    'name': v['name'], \n",
    "                    'tags': v['tags'],\n",
    "                    'stats': v['stats'] \n",
    "                    }, ignore_index=True )\n",
    "items.head()"
   ]
  },
  {
   "cell_type": "code",
   "execution_count": 4,
   "metadata": {},
   "outputs": [
    {
     "output_type": "execute_result",
     "data": {
      "text/plain": "{'Active',\n 'Armor',\n 'ArmorPenetration',\n 'AttackSpeed',\n 'Aura',\n 'Bilgewater',\n 'Boots',\n 'Consumable',\n 'CooldownReduction',\n 'CriticalStrike',\n 'Damage',\n 'GoldPer',\n 'Health',\n 'HealthRegen',\n 'Jungle',\n 'Lane',\n 'LifeSteal',\n 'MagicPenetration',\n 'Mana',\n 'ManaRegen',\n 'NonbootsMovement',\n 'OnHit',\n 'Slow',\n 'SpellBlock',\n 'SpellDamage',\n 'SpellVamp',\n 'Stealth',\n 'Tenacity',\n 'Trinket',\n 'Vision'}"
     },
     "metadata": {},
     "execution_count": 4
    }
   ],
   "source": [
    "tagTypes = set()\n",
    "items['tags'].apply(lambda x: tagTypes.update((t for t in x)))\n",
    "tagTypes"
   ]
  },
  {
   "cell_type": "code",
   "execution_count": 5,
   "metadata": {},
   "outputs": [
    {
     "output_type": "execute_result",
     "data": {
      "text/plain": "{'FlatArmorMod',\n 'FlatCritChanceMod',\n 'FlatHPPoolMod',\n 'FlatHPRegenMod',\n 'FlatMPPoolMod',\n 'FlatMagicDamageMod',\n 'FlatMovementSpeedMod',\n 'FlatPhysicalDamageMod',\n 'FlatSpellBlockMod',\n 'PercentAttackSpeedMod',\n 'PercentLifeStealMod',\n 'PercentMovementSpeedMod'}"
     },
     "metadata": {},
     "execution_count": 5
    }
   ],
   "source": [
    "statTypes = set()\n",
    "items['stats'].apply(lambda x: statTypes.update((s for s in x)))\n",
    "statTypes"
   ]
  },
  {
   "cell_type": "code",
   "execution_count": 6,
   "metadata": {},
   "outputs": [
    {
     "output_type": "execute_result",
     "data": {
      "text/plain": "       id                              name  \\\n5    1026                     Blasting Wand   \n18   1052                   Amplifying Tome   \n22   1056                      Doran's Ring   \n24   1058              Needlessly Large Rod   \n25   1082                         Dark Seal   \n49   2139                 Elixir of Sorcery   \n59   3003                 Archangel's Staff   \n63   3007  Archangel's Staff (Quick Charge)   \n72   3027                       Rod of Ages   \n74   3029        Rod of Ages (Quick Charge)   \n75   3030                   Hextech GLP-800   \n81   3041               Mejai's Soulstealer   \n110  3089                Rabadon's Deathcap   \n114  3100                         Lich Bane   \n116  3102                    Banshee's Veil   \n119  3108                    Fiendish Codex   \n123  3112                    Guardian's Orb   \n124  3113                       Aether Wisp   \n126  3115                    Nashor's Tooth   \n127  3116           Rylai's Crystal Scepter   \n130  3124               Guinsoo's Rageblade   \n131  3128                   Deathfire Grasp   \n135  3135                        Void Staff   \n136  3136                    Haunting Guise   \n143  3145                  Hextech Revolver   \n144  3146                  Hextech Gunblade   \n146  3151                 Liandry's Torment   \n147  3152              Hextech Protobelt-01   \n151  3157                Zhonya's Hourglass   \n154  3165                    Morellonomicon   \n155  3170              Moonflair Spellblade   \n157  3174             Athene's Unholy Grail   \n163  3191                 Seeker's Armguard   \n166  3196                     Hex Core mk-1   \n167  3197                     Hex Core mk-2   \n168  3198                  Perfect Hex Core   \n172  3285                      Luden's Echo   \n182  3374              Rabadon's Deathcrown   \n188  3386                  Zhonya's Paradox   \n192  3390                     Luden's Pulse   \n198  3504                     Ardent Censer   \n228  3802                      Lost Chapter   \n231  3850                 Spellthief's Edge   \n232  3851                         Frostfang   \n233  3853                 Shard of True Ice   \n237  3858                      Relic Shield   \n246  3905                      Twin Shadows   \n247  3907                       Spellbinder   \n248  3916                      Oblivion Orb   \n259  4203                 Doran's Lost Ring   \n260  4204                 Doran's Lost Idol   \n263  4403                The Golden Spatula   \n\n                                                  tags  \\\n5                                        [SpellDamage]   \n18                                       [SpellDamage]   \n22              [Health, Lane, ManaRegen, SpellDamage]   \n24                                       [SpellDamage]   \n25              [HealthRegen, SpellDamage, Mana, Lane]   \n49                [Consumable, ManaRegen, SpellDamage]   \n59   [SpellDamage, Mana, ManaRegen, CooldownReduction]   \n63   [SpellDamage, Mana, ManaRegen, CooldownReduction]   \n72   [Health, HealthRegen, Mana, ManaRegen, SpellDa...   \n74   [Health, HealthRegen, Mana, ManaRegen, SpellDa...   \n75   [SpellDamage, Mana, Active, CooldownReduction,...   \n81                                 [SpellDamage, Mana]   \n110                                      [SpellDamage]   \n114  [SpellDamage, Mana, CooldownReduction, Nonboot...   \n116       [SpellBlock, SpellDamage, CooldownReduction]   \n119                   [CooldownReduction, SpellDamage]   \n123             [Health, SpellDamage, ManaRegen, Lane]   \n124                    [NonbootsMovement, SpellDamage]   \n126  [AttackSpeed, CooldownReduction, OnHit, SpellD...   \n127                        [Health, SpellDamage, Slow]   \n130  [Damage, AttackSpeed, SpellDamage, OnHit, Magi...   \n131           [Active, CooldownReduction, SpellDamage]   \n135                    [MagicPenetration, SpellDamage]   \n136                              [Health, SpellDamage]   \n143                                      [SpellDamage]   \n144  [Active, Damage, LifeSteal, Slow, SpellDamage,...   \n146                              [Health, SpellDamage]   \n147   [Health, SpellDamage, Active, CooldownReduction]   \n151    [Armor, SpellDamage, Active, CooldownReduction]   \n154            [Health, SpellDamage, MagicPenetration]   \n155         [Armor, SpellBlock, SpellDamage, Tenacity]   \n157  [SpellBlock, HealthRegen, SpellDamage, ManaReg...   \n163                               [Armor, SpellDamage]   \n166                                [Mana, SpellDamage]   \n167                                [Mana, SpellDamage]   \n168                                [Mana, SpellDamage]   \n172      [SpellDamage, Mana, CooldownReduction, OnHit]   \n182                                      [SpellDamage]   \n188    [Armor, SpellDamage, Active, CooldownReduction]   \n192      [SpellDamage, Mana, CooldownReduction, OnHit]   \n198  [CooldownReduction, ManaRegen, NonbootsMovemen...   \n228  [SpellDamage, Mana, ManaRegen, CooldownReduction]   \n231  [Health, SpellDamage, ManaRegen, Vision, GoldP...   \n232            [GoldPer, Lane, ManaRegen, SpellDamage]   \n233            [GoldPer, Lane, ManaRegen, SpellDamage]   \n237  [Health, HealthRegen, SpellDamage, Vision, Gol...   \n246  [SpellDamage, Active, CooldownReduction, Slow,...   \n247            [SpellDamage, Active, NonbootsMovement]   \n248            [Health, MagicPenetration, SpellDamage]   \n259             [Health, Lane, ManaRegen, SpellDamage]   \n260                     [SpellDamage, ManaRegen, Lane]   \n263  [Health, SpellBlock, HealthRegen, Armor, Damag...   \n\n                                                 stats  \n5                           {'FlatMagicDamageMod': 40}  \n18                          {'FlatMagicDamageMod': 20}  \n22     {'FlatHPPoolMod': 60, 'FlatMagicDamageMod': 15}  \n24                          {'FlatMagicDamageMod': 60}  \n25    {'FlatMPPoolMod': 100, 'FlatMagicDamageMod': 10}  \n49                                                  {}  \n59    {'FlatMPPoolMod': 650, 'FlatMagicDamageMod': 50}  \n63    {'FlatMPPoolMod': 650, 'FlatMagicDamageMod': 50}  \n72   {'FlatHPPoolMod': 300, 'FlatMPPoolMod': 300, '...  \n74   {'FlatHPPoolMod': 300, 'FlatMPPoolMod': 300, '...  \n75    {'FlatMPPoolMod': 600, 'FlatMagicDamageMod': 80}  \n81    {'FlatMPPoolMod': 200, 'FlatMagicDamageMod': 20}  \n110                        {'FlatMagicDamageMod': 120}  \n114  {'PercentMovementSpeedMod': 0.07, 'FlatMPPoolM...  \n116  {'FlatSpellBlockMod': 60, 'FlatMagicDamageMod'...  \n119                         {'FlatMagicDamageMod': 35}  \n123   {'FlatHPPoolMod': 150, 'FlatMagicDamageMod': 35}  \n124                         {'FlatMagicDamageMod': 30}  \n126  {'FlatMagicDamageMod': 80, 'PercentAttackSpeed...  \n127   {'FlatHPPoolMod': 300, 'FlatMagicDamageMod': 90}  \n130  {'FlatPhysicalDamageMod': 25, 'FlatMagicDamage...  \n131                        {'FlatMagicDamageMod': 120}  \n135                         {'FlatMagicDamageMod': 70}  \n136   {'FlatHPPoolMod': 200, 'FlatMagicDamageMod': 35}  \n143                         {'FlatMagicDamageMod': 40}  \n144  {'FlatPhysicalDamageMod': 40, 'FlatMagicDamage...  \n146   {'FlatHPPoolMod': 300, 'FlatMagicDamageMod': 75}  \n147   {'FlatHPPoolMod': 300, 'FlatMagicDamageMod': 60}  \n151     {'FlatMagicDamageMod': 75, 'FlatArmorMod': 45}  \n154   {'FlatHPPoolMod': 300, 'FlatMagicDamageMod': 70}  \n155  {'FlatSpellBlockMod': 50, 'FlatMagicDamageMod'...  \n157  {'FlatSpellBlockMod': 30, 'FlatMagicDamageMod'...  \n163     {'FlatMagicDamageMod': 20, 'FlatArmorMod': 30}  \n166                                                 {}  \n167                                                 {}  \n168                                                 {}  \n172   {'FlatMPPoolMod': 600, 'FlatMagicDamageMod': 90}  \n182                        {'FlatMagicDamageMod': 175}  \n188    {'FlatMagicDamageMod': 100, 'FlatArmorMod': 60}  \n192  {'FlatMPPoolMod': 850, 'FlatMagicDamageMod': 120}  \n198                         {'FlatMagicDamageMod': 60}  \n228   {'FlatMPPoolMod': 300, 'FlatMagicDamageMod': 40}  \n231     {'FlatHPPoolMod': 10, 'FlatMagicDamageMod': 8}  \n232    {'FlatHPPoolMod': 70, 'FlatMagicDamageMod': 15}  \n233   {'FlatHPPoolMod': 100, 'FlatMagicDamageMod': 50}  \n237     {'FlatHPPoolMod': 30, 'FlatMagicDamageMod': 5}  \n246  {'PercentMovementSpeedMod': 0.07, 'FlatMagicDa...  \n247  {'PercentMovementSpeedMod': 0.1, 'FlatMagicDam...  \n248   {'FlatHPPoolMod': 200, 'FlatMagicDamageMod': 20}  \n259    {'FlatHPPoolMod': 60, 'FlatMagicDamageMod': 15}  \n260                         {'FlatMagicDamageMod': 10}  \n263  {'FlatPhysicalDamageMod': 70, 'FlatCritChanceM...  ",
      "text/html": "<div>\n<style scoped>\n    .dataframe tbody tr th:only-of-type {\n        vertical-align: middle;\n    }\n\n    .dataframe tbody tr th {\n        vertical-align: top;\n    }\n\n    .dataframe thead th {\n        text-align: right;\n    }\n</style>\n<table border=\"1\" class=\"dataframe\">\n  <thead>\n    <tr style=\"text-align: right;\">\n      <th></th>\n      <th>id</th>\n      <th>name</th>\n      <th>tags</th>\n      <th>stats</th>\n    </tr>\n  </thead>\n  <tbody>\n    <tr>\n      <th>5</th>\n      <td>1026</td>\n      <td>Blasting Wand</td>\n      <td>[SpellDamage]</td>\n      <td>{'FlatMagicDamageMod': 40}</td>\n    </tr>\n    <tr>\n      <th>18</th>\n      <td>1052</td>\n      <td>Amplifying Tome</td>\n      <td>[SpellDamage]</td>\n      <td>{'FlatMagicDamageMod': 20}</td>\n    </tr>\n    <tr>\n      <th>22</th>\n      <td>1056</td>\n      <td>Doran's Ring</td>\n      <td>[Health, Lane, ManaRegen, SpellDamage]</td>\n      <td>{'FlatHPPoolMod': 60, 'FlatMagicDamageMod': 15}</td>\n    </tr>\n    <tr>\n      <th>24</th>\n      <td>1058</td>\n      <td>Needlessly Large Rod</td>\n      <td>[SpellDamage]</td>\n      <td>{'FlatMagicDamageMod': 60}</td>\n    </tr>\n    <tr>\n      <th>25</th>\n      <td>1082</td>\n      <td>Dark Seal</td>\n      <td>[HealthRegen, SpellDamage, Mana, Lane]</td>\n      <td>{'FlatMPPoolMod': 100, 'FlatMagicDamageMod': 10}</td>\n    </tr>\n    <tr>\n      <th>49</th>\n      <td>2139</td>\n      <td>Elixir of Sorcery</td>\n      <td>[Consumable, ManaRegen, SpellDamage]</td>\n      <td>{}</td>\n    </tr>\n    <tr>\n      <th>59</th>\n      <td>3003</td>\n      <td>Archangel's Staff</td>\n      <td>[SpellDamage, Mana, ManaRegen, CooldownReduction]</td>\n      <td>{'FlatMPPoolMod': 650, 'FlatMagicDamageMod': 50}</td>\n    </tr>\n    <tr>\n      <th>63</th>\n      <td>3007</td>\n      <td>Archangel's Staff (Quick Charge)</td>\n      <td>[SpellDamage, Mana, ManaRegen, CooldownReduction]</td>\n      <td>{'FlatMPPoolMod': 650, 'FlatMagicDamageMod': 50}</td>\n    </tr>\n    <tr>\n      <th>72</th>\n      <td>3027</td>\n      <td>Rod of Ages</td>\n      <td>[Health, HealthRegen, Mana, ManaRegen, SpellDa...</td>\n      <td>{'FlatHPPoolMod': 300, 'FlatMPPoolMod': 300, '...</td>\n    </tr>\n    <tr>\n      <th>74</th>\n      <td>3029</td>\n      <td>Rod of Ages (Quick Charge)</td>\n      <td>[Health, HealthRegen, Mana, ManaRegen, SpellDa...</td>\n      <td>{'FlatHPPoolMod': 300, 'FlatMPPoolMod': 300, '...</td>\n    </tr>\n    <tr>\n      <th>75</th>\n      <td>3030</td>\n      <td>Hextech GLP-800</td>\n      <td>[SpellDamage, Mana, Active, CooldownReduction,...</td>\n      <td>{'FlatMPPoolMod': 600, 'FlatMagicDamageMod': 80}</td>\n    </tr>\n    <tr>\n      <th>81</th>\n      <td>3041</td>\n      <td>Mejai's Soulstealer</td>\n      <td>[SpellDamage, Mana]</td>\n      <td>{'FlatMPPoolMod': 200, 'FlatMagicDamageMod': 20}</td>\n    </tr>\n    <tr>\n      <th>110</th>\n      <td>3089</td>\n      <td>Rabadon's Deathcap</td>\n      <td>[SpellDamage]</td>\n      <td>{'FlatMagicDamageMod': 120}</td>\n    </tr>\n    <tr>\n      <th>114</th>\n      <td>3100</td>\n      <td>Lich Bane</td>\n      <td>[SpellDamage, Mana, CooldownReduction, Nonboot...</td>\n      <td>{'PercentMovementSpeedMod': 0.07, 'FlatMPPoolM...</td>\n    </tr>\n    <tr>\n      <th>116</th>\n      <td>3102</td>\n      <td>Banshee's Veil</td>\n      <td>[SpellBlock, SpellDamage, CooldownReduction]</td>\n      <td>{'FlatSpellBlockMod': 60, 'FlatMagicDamageMod'...</td>\n    </tr>\n    <tr>\n      <th>119</th>\n      <td>3108</td>\n      <td>Fiendish Codex</td>\n      <td>[CooldownReduction, SpellDamage]</td>\n      <td>{'FlatMagicDamageMod': 35}</td>\n    </tr>\n    <tr>\n      <th>123</th>\n      <td>3112</td>\n      <td>Guardian's Orb</td>\n      <td>[Health, SpellDamage, ManaRegen, Lane]</td>\n      <td>{'FlatHPPoolMod': 150, 'FlatMagicDamageMod': 35}</td>\n    </tr>\n    <tr>\n      <th>124</th>\n      <td>3113</td>\n      <td>Aether Wisp</td>\n      <td>[NonbootsMovement, SpellDamage]</td>\n      <td>{'FlatMagicDamageMod': 30}</td>\n    </tr>\n    <tr>\n      <th>126</th>\n      <td>3115</td>\n      <td>Nashor's Tooth</td>\n      <td>[AttackSpeed, CooldownReduction, OnHit, SpellD...</td>\n      <td>{'FlatMagicDamageMod': 80, 'PercentAttackSpeed...</td>\n    </tr>\n    <tr>\n      <th>127</th>\n      <td>3116</td>\n      <td>Rylai's Crystal Scepter</td>\n      <td>[Health, SpellDamage, Slow]</td>\n      <td>{'FlatHPPoolMod': 300, 'FlatMagicDamageMod': 90}</td>\n    </tr>\n    <tr>\n      <th>130</th>\n      <td>3124</td>\n      <td>Guinsoo's Rageblade</td>\n      <td>[Damage, AttackSpeed, SpellDamage, OnHit, Magi...</td>\n      <td>{'FlatPhysicalDamageMod': 25, 'FlatMagicDamage...</td>\n    </tr>\n    <tr>\n      <th>131</th>\n      <td>3128</td>\n      <td>Deathfire Grasp</td>\n      <td>[Active, CooldownReduction, SpellDamage]</td>\n      <td>{'FlatMagicDamageMod': 120}</td>\n    </tr>\n    <tr>\n      <th>135</th>\n      <td>3135</td>\n      <td>Void Staff</td>\n      <td>[MagicPenetration, SpellDamage]</td>\n      <td>{'FlatMagicDamageMod': 70}</td>\n    </tr>\n    <tr>\n      <th>136</th>\n      <td>3136</td>\n      <td>Haunting Guise</td>\n      <td>[Health, SpellDamage]</td>\n      <td>{'FlatHPPoolMod': 200, 'FlatMagicDamageMod': 35}</td>\n    </tr>\n    <tr>\n      <th>143</th>\n      <td>3145</td>\n      <td>Hextech Revolver</td>\n      <td>[SpellDamage]</td>\n      <td>{'FlatMagicDamageMod': 40}</td>\n    </tr>\n    <tr>\n      <th>144</th>\n      <td>3146</td>\n      <td>Hextech Gunblade</td>\n      <td>[Active, Damage, LifeSteal, Slow, SpellDamage,...</td>\n      <td>{'FlatPhysicalDamageMod': 40, 'FlatMagicDamage...</td>\n    </tr>\n    <tr>\n      <th>146</th>\n      <td>3151</td>\n      <td>Liandry's Torment</td>\n      <td>[Health, SpellDamage]</td>\n      <td>{'FlatHPPoolMod': 300, 'FlatMagicDamageMod': 75}</td>\n    </tr>\n    <tr>\n      <th>147</th>\n      <td>3152</td>\n      <td>Hextech Protobelt-01</td>\n      <td>[Health, SpellDamage, Active, CooldownReduction]</td>\n      <td>{'FlatHPPoolMod': 300, 'FlatMagicDamageMod': 60}</td>\n    </tr>\n    <tr>\n      <th>151</th>\n      <td>3157</td>\n      <td>Zhonya's Hourglass</td>\n      <td>[Armor, SpellDamage, Active, CooldownReduction]</td>\n      <td>{'FlatMagicDamageMod': 75, 'FlatArmorMod': 45}</td>\n    </tr>\n    <tr>\n      <th>154</th>\n      <td>3165</td>\n      <td>Morellonomicon</td>\n      <td>[Health, SpellDamage, MagicPenetration]</td>\n      <td>{'FlatHPPoolMod': 300, 'FlatMagicDamageMod': 70}</td>\n    </tr>\n    <tr>\n      <th>155</th>\n      <td>3170</td>\n      <td>Moonflair Spellblade</td>\n      <td>[Armor, SpellBlock, SpellDamage, Tenacity]</td>\n      <td>{'FlatSpellBlockMod': 50, 'FlatMagicDamageMod'...</td>\n    </tr>\n    <tr>\n      <th>157</th>\n      <td>3174</td>\n      <td>Athene's Unholy Grail</td>\n      <td>[SpellBlock, HealthRegen, SpellDamage, ManaReg...</td>\n      <td>{'FlatSpellBlockMod': 30, 'FlatMagicDamageMod'...</td>\n    </tr>\n    <tr>\n      <th>163</th>\n      <td>3191</td>\n      <td>Seeker's Armguard</td>\n      <td>[Armor, SpellDamage]</td>\n      <td>{'FlatMagicDamageMod': 20, 'FlatArmorMod': 30}</td>\n    </tr>\n    <tr>\n      <th>166</th>\n      <td>3196</td>\n      <td>Hex Core mk-1</td>\n      <td>[Mana, SpellDamage]</td>\n      <td>{}</td>\n    </tr>\n    <tr>\n      <th>167</th>\n      <td>3197</td>\n      <td>Hex Core mk-2</td>\n      <td>[Mana, SpellDamage]</td>\n      <td>{}</td>\n    </tr>\n    <tr>\n      <th>168</th>\n      <td>3198</td>\n      <td>Perfect Hex Core</td>\n      <td>[Mana, SpellDamage]</td>\n      <td>{}</td>\n    </tr>\n    <tr>\n      <th>172</th>\n      <td>3285</td>\n      <td>Luden's Echo</td>\n      <td>[SpellDamage, Mana, CooldownReduction, OnHit]</td>\n      <td>{'FlatMPPoolMod': 600, 'FlatMagicDamageMod': 90}</td>\n    </tr>\n    <tr>\n      <th>182</th>\n      <td>3374</td>\n      <td>Rabadon's Deathcrown</td>\n      <td>[SpellDamage]</td>\n      <td>{'FlatMagicDamageMod': 175}</td>\n    </tr>\n    <tr>\n      <th>188</th>\n      <td>3386</td>\n      <td>Zhonya's Paradox</td>\n      <td>[Armor, SpellDamage, Active, CooldownReduction]</td>\n      <td>{'FlatMagicDamageMod': 100, 'FlatArmorMod': 60}</td>\n    </tr>\n    <tr>\n      <th>192</th>\n      <td>3390</td>\n      <td>Luden's Pulse</td>\n      <td>[SpellDamage, Mana, CooldownReduction, OnHit]</td>\n      <td>{'FlatMPPoolMod': 850, 'FlatMagicDamageMod': 120}</td>\n    </tr>\n    <tr>\n      <th>198</th>\n      <td>3504</td>\n      <td>Ardent Censer</td>\n      <td>[CooldownReduction, ManaRegen, NonbootsMovemen...</td>\n      <td>{'FlatMagicDamageMod': 60}</td>\n    </tr>\n    <tr>\n      <th>228</th>\n      <td>3802</td>\n      <td>Lost Chapter</td>\n      <td>[SpellDamage, Mana, ManaRegen, CooldownReduction]</td>\n      <td>{'FlatMPPoolMod': 300, 'FlatMagicDamageMod': 40}</td>\n    </tr>\n    <tr>\n      <th>231</th>\n      <td>3850</td>\n      <td>Spellthief's Edge</td>\n      <td>[Health, SpellDamage, ManaRegen, Vision, GoldP...</td>\n      <td>{'FlatHPPoolMod': 10, 'FlatMagicDamageMod': 8}</td>\n    </tr>\n    <tr>\n      <th>232</th>\n      <td>3851</td>\n      <td>Frostfang</td>\n      <td>[GoldPer, Lane, ManaRegen, SpellDamage]</td>\n      <td>{'FlatHPPoolMod': 70, 'FlatMagicDamageMod': 15}</td>\n    </tr>\n    <tr>\n      <th>233</th>\n      <td>3853</td>\n      <td>Shard of True Ice</td>\n      <td>[GoldPer, Lane, ManaRegen, SpellDamage]</td>\n      <td>{'FlatHPPoolMod': 100, 'FlatMagicDamageMod': 50}</td>\n    </tr>\n    <tr>\n      <th>237</th>\n      <td>3858</td>\n      <td>Relic Shield</td>\n      <td>[Health, HealthRegen, SpellDamage, Vision, Gol...</td>\n      <td>{'FlatHPPoolMod': 30, 'FlatMagicDamageMod': 5}</td>\n    </tr>\n    <tr>\n      <th>246</th>\n      <td>3905</td>\n      <td>Twin Shadows</td>\n      <td>[SpellDamage, Active, CooldownReduction, Slow,...</td>\n      <td>{'PercentMovementSpeedMod': 0.07, 'FlatMagicDa...</td>\n    </tr>\n    <tr>\n      <th>247</th>\n      <td>3907</td>\n      <td>Spellbinder</td>\n      <td>[SpellDamage, Active, NonbootsMovement]</td>\n      <td>{'PercentMovementSpeedMod': 0.1, 'FlatMagicDam...</td>\n    </tr>\n    <tr>\n      <th>248</th>\n      <td>3916</td>\n      <td>Oblivion Orb</td>\n      <td>[Health, MagicPenetration, SpellDamage]</td>\n      <td>{'FlatHPPoolMod': 200, 'FlatMagicDamageMod': 20}</td>\n    </tr>\n    <tr>\n      <th>259</th>\n      <td>4203</td>\n      <td>Doran's Lost Ring</td>\n      <td>[Health, Lane, ManaRegen, SpellDamage]</td>\n      <td>{'FlatHPPoolMod': 60, 'FlatMagicDamageMod': 15}</td>\n    </tr>\n    <tr>\n      <th>260</th>\n      <td>4204</td>\n      <td>Doran's Lost Idol</td>\n      <td>[SpellDamage, ManaRegen, Lane]</td>\n      <td>{'FlatMagicDamageMod': 10}</td>\n    </tr>\n    <tr>\n      <th>263</th>\n      <td>4403</td>\n      <td>The Golden Spatula</td>\n      <td>[Health, SpellBlock, HealthRegen, Armor, Damag...</td>\n      <td>{'FlatPhysicalDamageMod': 70, 'FlatCritChanceM...</td>\n    </tr>\n  </tbody>\n</table>\n</div>"
     },
     "metadata": {},
     "execution_count": 6
    }
   ],
   "source": [
    "apItems = items[items['tags'].apply(lambda x: 'SpellDamage' in x)]\n",
    "apItems"
   ]
  },
  {
   "cell_type": "code",
   "execution_count": 7,
   "metadata": {
    "tags": []
   },
   "outputs": [
    {
     "output_type": "stream",
     "name": "stdout",
     "text": "['1026', '1052', '1056', '1058', '1082', '2139', '3003', '3007', '3027', '3029', '3030', '3041', '3089', '3100', '3102', '3108', '3112', '3113', '3115', '3116', '3124', '3128', '3135', '3136', '3145', '3146', '3151', '3152', '3157', '3165', '3170', '3174', '3191', '3196', '3197', '3198', '3285', '3374', '3386', '3390', '3504', '3802', '3850', '3851', '3853', '3858', '3905', '3907', '3916', '4203', '4204', '4403']\n"
    }
   ],
   "source": [
    "apItemsList = apItems['id'].to_list()\n",
    "print(apItemsList)"
   ]
  },
  {
   "cell_type": "code",
   "execution_count": 8,
   "metadata": {
    "tags": []
   },
   "outputs": [
    {
     "output_type": "execute_result",
     "data": {
      "text/plain": "      id             name slot        tree\n0   8112      Electrocute    0  Domination\n1   8124         Predator    0  Domination\n2   8128     Dark Harvest    0  Domination\n3   9923   Hail of Blades    0  Domination\n4   8126       Cheap Shot    1  Domination\n..   ...              ...  ...         ...\n58  8234         Celerity    2     Sorcery\n59  8233   Absolute Focus    2     Sorcery\n60  8237           Scorch    3     Sorcery\n61  8232     Waterwalking    3     Sorcery\n62  8236  Gathering Storm    3     Sorcery\n\n[63 rows x 4 columns]",
      "text/html": "<div>\n<style scoped>\n    .dataframe tbody tr th:only-of-type {\n        vertical-align: middle;\n    }\n\n    .dataframe tbody tr th {\n        vertical-align: top;\n    }\n\n    .dataframe thead th {\n        text-align: right;\n    }\n</style>\n<table border=\"1\" class=\"dataframe\">\n  <thead>\n    <tr style=\"text-align: right;\">\n      <th></th>\n      <th>id</th>\n      <th>name</th>\n      <th>slot</th>\n      <th>tree</th>\n    </tr>\n  </thead>\n  <tbody>\n    <tr>\n      <th>0</th>\n      <td>8112</td>\n      <td>Electrocute</td>\n      <td>0</td>\n      <td>Domination</td>\n    </tr>\n    <tr>\n      <th>1</th>\n      <td>8124</td>\n      <td>Predator</td>\n      <td>0</td>\n      <td>Domination</td>\n    </tr>\n    <tr>\n      <th>2</th>\n      <td>8128</td>\n      <td>Dark Harvest</td>\n      <td>0</td>\n      <td>Domination</td>\n    </tr>\n    <tr>\n      <th>3</th>\n      <td>9923</td>\n      <td>Hail of Blades</td>\n      <td>0</td>\n      <td>Domination</td>\n    </tr>\n    <tr>\n      <th>4</th>\n      <td>8126</td>\n      <td>Cheap Shot</td>\n      <td>1</td>\n      <td>Domination</td>\n    </tr>\n    <tr>\n      <th>...</th>\n      <td>...</td>\n      <td>...</td>\n      <td>...</td>\n      <td>...</td>\n    </tr>\n    <tr>\n      <th>58</th>\n      <td>8234</td>\n      <td>Celerity</td>\n      <td>2</td>\n      <td>Sorcery</td>\n    </tr>\n    <tr>\n      <th>59</th>\n      <td>8233</td>\n      <td>Absolute Focus</td>\n      <td>2</td>\n      <td>Sorcery</td>\n    </tr>\n    <tr>\n      <th>60</th>\n      <td>8237</td>\n      <td>Scorch</td>\n      <td>3</td>\n      <td>Sorcery</td>\n    </tr>\n    <tr>\n      <th>61</th>\n      <td>8232</td>\n      <td>Waterwalking</td>\n      <td>3</td>\n      <td>Sorcery</td>\n    </tr>\n    <tr>\n      <th>62</th>\n      <td>8236</td>\n      <td>Gathering Storm</td>\n      <td>3</td>\n      <td>Sorcery</td>\n    </tr>\n  </tbody>\n</table>\n<p>63 rows × 4 columns</p>\n</div>"
     },
     "metadata": {},
     "execution_count": 8
    }
   ],
   "source": [
    "with open(filePath+'runesReforged.json', encoding='utf8') as f:\n",
    "    runeData = json.load(f)\n",
    "\n",
    "runes = pd.DataFrame(columns = ['id', 'name', 'slot', 'tree'])\n",
    "\n",
    "for v1 in runeData:\n",
    "    tree = v1['name']\n",
    "    for i in range(len(v1['slots'])):\n",
    "        slot = i\n",
    "        for v2 in v1['slots'][i]['runes']:\n",
    "            # print(v2['name'])\n",
    "            runes = runes.append({'id': v2['id'],\n",
    "                            'name': v2['name'], \n",
    "                            'slot': slot,\n",
    "                            'tree': tree\n",
    "                            }, ignore_index=True )\n",
    "\n",
    "# runes.head()\n",
    "runes"
   ]
  },
  {
   "cell_type": "code",
   "execution_count": 9,
   "metadata": {
    "tags": []
   },
   "outputs": [],
   "source": [
    "import asyncpg\n",
    "import nest_asyncio\n",
    "import asyncio\n",
    "from config import dbConfig\n",
    "\n",
    "nest_asyncio.apply()\n",
    "loop = asyncio.get_event_loop()"
   ]
  },
  {
   "cell_type": "code",
   "execution_count": 10,
   "metadata": {},
   "outputs": [],
   "source": [
    "squishyChamps = champions[['championId', 'name', 'attack', 'defense', 'magic', 'hp', 'hpperlevel', 'armor', 'armorperlevel', 'spellblock', 'spellblockperlevel', 'hpregen', 'hpregenperlevel']]"
   ]
  },
  {
   "cell_type": "code",
   "execution_count": 11,
   "metadata": {},
   "outputs": [
    {
     "output_type": "execute_result",
     "data": {
      "text/plain": "             name defense      hp hpperlevel    hp_18  spellblock  \\\n143         Yuumi       1     480         70     1670        25.0   \n34           Gnar       5     510         65     1615        30.0   \n42          Janna       5     500         70     1690        30.0   \n59           Kled       2     340         70     1530        32.1   \n77           Nami       3     475         74     1733        30.0   \n67           Lulu       5     525         74     1783        30.0   \n110          Sona       2  482.36         77  1791.36        30.0   \n111        Soraka       5     535         74     1793        30.0   \n101         Senna       2     520         75     1795        30.0   \n149          Zyra       3     504         79     1847        30.0   \n5          Anivia       4     480         82     1874        30.0   \n147        Zilean       5     504         82     1898        30.0   \n68            Lux       4     490         85     1935        30.0   \n38   Heimerdinger       6     488         87     1967        30.0   \n7        Aphelios       2     530         88     2026        26.0   \n56         Kennen       4     541         84     1969        30.0   \n112         Swain       6     525         85     1970        30.0   \n107          Sion       9     545         73     1786        32.1   \n91          Quinn       4   532.8         85   1977.8        30.0   \n58        Kindred       2     540         85     1985        30.0   \n81        Nidalee       4     545         85     1990        30.0   \n19          Corki       3     518         87     1997        30.0   \n13          Brand       2  519.68         88  2015.68        30.0   \n131       Vel'Koz       2     520         88     2016        30.0   \n70       Malzahar       2     537         87     2016        30.0   \n85        Orianna       3     530         91     2077        26.0   \n6           Annie       3     524         88     2020        30.0   \n27         Ezreal       2     530         88     2026        30.0   \n129         Vayne       1     515         89     2028        30.0   \n51        Karthus       2     550         87     2029        30.0   \n66         Lucian       5     571         86     2033        30.0   \n8            Ashe       3     570         87     2049        30.0   \n114        Syndra       3     523         90     2053        30.0   \n121      Tristana       3     559         88     2055        30.0   \n119         Teemo       3     528         90     2058        30.0   \n133        Viktor       4     530         90     2060        30.0   \n116       Taliyah       7     532         90     2062        30.0   \n80          Neeko       1     540         90     2070        30.0   \n47           Jinx       2     610         86     2072        30.0   \n11           Bard       4     560         89     2073        30.0   \n125        Twitch       2     612         86     2074        30.0   \n128         Varus       3     530         91     2077        30.0   \n65      Lissandra       5     550         90     2080        30.0   \n137         Xayah       6     590         88     2086        30.0   \n138        Xerath       3     526         92     2090        30.0   \n45          Jayce       4     560         90     2090        30.0   \n1            Ahri       4     526         92     2090        30.0   \n76        Morgana       6     560         90     2090        30.0   \n15        Caitlyn       2     510         93     2091        30.0   \n108         Sivir       3     562         90     2092        30.0   \n61        LeBlanc       4     528         92     2092        30.0   \n60        Kog'Maw       2     565         90     2095        30.0   \n48         Kai'Sa       5     600         88     2096        30.0   \n146         Ziggs       4     536         92     2100        30.0   \n54          Kayle       6     600         85     2045        34.0   \n52       Kassadin       5     576         90     2106        30.0   \n25          Elise       5     534         93     2115        30.0   \n10           Azir       3     552         92     2116        30.0   \n17     Cassiopeia       3     560         90     2090        32.0   \n82       Nocturne       5     585         85     2030        32.1   \n\n     spellblockperlevel  spellblock_18 MReffectiveHP ArmorEffectiveHP  \n143                0.30          30.10       2172.67          2172.67  \n34                 0.50          38.50       2236.78          2269.07  \n42                 0.50          38.50       2340.65          2306.85  \n59                 1.25          53.35       2346.26          2390.62  \n77                 0.50          38.50        2400.2          2382.88  \n67                 0.50          38.50       2469.45          2451.62  \n110                0.50          38.50       2481.03          2445.21  \n111                0.50          38.50        2483.3          2519.16  \n101                0.50          38.50       2486.07          2450.18  \n149                0.50          38.50       2558.09          2539.62  \n5                  0.50          38.50       2595.49          2430.95  \n147                0.50          38.50       2628.73          2514.85  \n68                 0.50          38.50       2679.97          2461.71  \n38                 0.50          38.50        2724.3          2508.71  \n7                  0.50          34.50       2724.97          2765.49  \n56                 0.50          38.50       2727.07          2707.38  \n112                0.50          38.50       2728.45          2585.03  \n107                1.25          53.35       2738.83          2737.05  \n91                 0.50          38.50       2739.25           2699.7  \n58                 0.50          38.50       2749.22          2729.38  \n81                 0.50          38.50       2756.15          2716.35  \n19                 0.50          38.50       2765.84          2725.91  \n13                 0.50          38.50       2791.72          2628.04  \n131                0.50          38.50       2792.16          2628.46  \n70                 0.50          38.50       2792.16          2550.24  \n85                 0.50          34.50       2793.57          2607.47  \n6                  0.50          38.50        2797.7          2579.94  \n27                 0.50          38.50       2806.01          2643.93  \n129                0.50          38.50       2808.78          2666.82  \n51                 0.50          38.50       2810.16          2625.12  \n66                 0.50          38.50        2815.7          2775.05  \n8                  0.50          38.50       2837.86          2755.91  \n114                0.50          38.50       2843.41          2734.84  \n121                0.50          38.50       2846.18          2763.97  \n119                0.50          38.50       2850.33          2733.02  \n133                0.50          38.50        2853.1           2708.9  \n116                0.50          38.50       2855.87          2649.67  \n80                 0.50          38.50       2866.95          2680.65  \n47                 0.50          38.50       2869.72          2828.28  \n11                 0.50          38.50       2871.11          2954.03  \n125                0.50          38.50       2872.49          2810.27  \n128                0.50          38.50       2876.64          2814.34  \n65                 0.50          38.50        2880.8           2714.4  \n137                0.50          38.50       2889.11          2784.81  \n138                0.50          38.50       2894.65          2724.94  \n45                 0.50          38.50       2894.65          2831.95  \n1                  0.50          38.50       2894.65          2704.04  \n76                 0.50          38.50       2894.65          2790.15  \n15                 0.50          38.50       2896.03          2854.22  \n108                0.50          38.50       2897.42          2813.74  \n61                 0.50          38.50       2897.42          2727.55  \n60                 0.50          38.50       2901.57          2775.88  \n48                 0.50          38.50       2902.96          2861.04  \n146                0.50          38.50        2908.5          2730.92  \n54                 0.50          42.50       2914.12          2750.53  \n52                 0.50          38.50       2916.81          2685.15  \n25                 0.50          38.50       2929.28          2865.82  \n10                 0.50          38.50       2930.66          2698.75  \n17                 0.50          40.50       2936.45          2643.85  \n82                 0.75          44.85       2940.45          3060.22  ",
      "text/html": "<div>\n<style scoped>\n    .dataframe tbody tr th:only-of-type {\n        vertical-align: middle;\n    }\n\n    .dataframe tbody tr th {\n        vertical-align: top;\n    }\n\n    .dataframe thead th {\n        text-align: right;\n    }\n</style>\n<table border=\"1\" class=\"dataframe\">\n  <thead>\n    <tr style=\"text-align: right;\">\n      <th></th>\n      <th>name</th>\n      <th>defense</th>\n      <th>hp</th>\n      <th>hpperlevel</th>\n      <th>hp_18</th>\n      <th>spellblock</th>\n      <th>spellblockperlevel</th>\n      <th>spellblock_18</th>\n      <th>MReffectiveHP</th>\n      <th>ArmorEffectiveHP</th>\n    </tr>\n  </thead>\n  <tbody>\n    <tr>\n      <th>143</th>\n      <td>Yuumi</td>\n      <td>1</td>\n      <td>480</td>\n      <td>70</td>\n      <td>1670</td>\n      <td>25.0</td>\n      <td>0.30</td>\n      <td>30.10</td>\n      <td>2172.67</td>\n      <td>2172.67</td>\n    </tr>\n    <tr>\n      <th>34</th>\n      <td>Gnar</td>\n      <td>5</td>\n      <td>510</td>\n      <td>65</td>\n      <td>1615</td>\n      <td>30.0</td>\n      <td>0.50</td>\n      <td>38.50</td>\n      <td>2236.78</td>\n      <td>2269.07</td>\n    </tr>\n    <tr>\n      <th>42</th>\n      <td>Janna</td>\n      <td>5</td>\n      <td>500</td>\n      <td>70</td>\n      <td>1690</td>\n      <td>30.0</td>\n      <td>0.50</td>\n      <td>38.50</td>\n      <td>2340.65</td>\n      <td>2306.85</td>\n    </tr>\n    <tr>\n      <th>59</th>\n      <td>Kled</td>\n      <td>2</td>\n      <td>340</td>\n      <td>70</td>\n      <td>1530</td>\n      <td>32.1</td>\n      <td>1.25</td>\n      <td>53.35</td>\n      <td>2346.26</td>\n      <td>2390.62</td>\n    </tr>\n    <tr>\n      <th>77</th>\n      <td>Nami</td>\n      <td>3</td>\n      <td>475</td>\n      <td>74</td>\n      <td>1733</td>\n      <td>30.0</td>\n      <td>0.50</td>\n      <td>38.50</td>\n      <td>2400.2</td>\n      <td>2382.88</td>\n    </tr>\n    <tr>\n      <th>67</th>\n      <td>Lulu</td>\n      <td>5</td>\n      <td>525</td>\n      <td>74</td>\n      <td>1783</td>\n      <td>30.0</td>\n      <td>0.50</td>\n      <td>38.50</td>\n      <td>2469.45</td>\n      <td>2451.62</td>\n    </tr>\n    <tr>\n      <th>110</th>\n      <td>Sona</td>\n      <td>2</td>\n      <td>482.36</td>\n      <td>77</td>\n      <td>1791.36</td>\n      <td>30.0</td>\n      <td>0.50</td>\n      <td>38.50</td>\n      <td>2481.03</td>\n      <td>2445.21</td>\n    </tr>\n    <tr>\n      <th>111</th>\n      <td>Soraka</td>\n      <td>5</td>\n      <td>535</td>\n      <td>74</td>\n      <td>1793</td>\n      <td>30.0</td>\n      <td>0.50</td>\n      <td>38.50</td>\n      <td>2483.3</td>\n      <td>2519.16</td>\n    </tr>\n    <tr>\n      <th>101</th>\n      <td>Senna</td>\n      <td>2</td>\n      <td>520</td>\n      <td>75</td>\n      <td>1795</td>\n      <td>30.0</td>\n      <td>0.50</td>\n      <td>38.50</td>\n      <td>2486.07</td>\n      <td>2450.18</td>\n    </tr>\n    <tr>\n      <th>149</th>\n      <td>Zyra</td>\n      <td>3</td>\n      <td>504</td>\n      <td>79</td>\n      <td>1847</td>\n      <td>30.0</td>\n      <td>0.50</td>\n      <td>38.50</td>\n      <td>2558.09</td>\n      <td>2539.62</td>\n    </tr>\n    <tr>\n      <th>5</th>\n      <td>Anivia</td>\n      <td>4</td>\n      <td>480</td>\n      <td>82</td>\n      <td>1874</td>\n      <td>30.0</td>\n      <td>0.50</td>\n      <td>38.50</td>\n      <td>2595.49</td>\n      <td>2430.95</td>\n    </tr>\n    <tr>\n      <th>147</th>\n      <td>Zilean</td>\n      <td>5</td>\n      <td>504</td>\n      <td>82</td>\n      <td>1898</td>\n      <td>30.0</td>\n      <td>0.50</td>\n      <td>38.50</td>\n      <td>2628.73</td>\n      <td>2514.85</td>\n    </tr>\n    <tr>\n      <th>68</th>\n      <td>Lux</td>\n      <td>4</td>\n      <td>490</td>\n      <td>85</td>\n      <td>1935</td>\n      <td>30.0</td>\n      <td>0.50</td>\n      <td>38.50</td>\n      <td>2679.97</td>\n      <td>2461.71</td>\n    </tr>\n    <tr>\n      <th>38</th>\n      <td>Heimerdinger</td>\n      <td>6</td>\n      <td>488</td>\n      <td>87</td>\n      <td>1967</td>\n      <td>30.0</td>\n      <td>0.50</td>\n      <td>38.50</td>\n      <td>2724.3</td>\n      <td>2508.71</td>\n    </tr>\n    <tr>\n      <th>7</th>\n      <td>Aphelios</td>\n      <td>2</td>\n      <td>530</td>\n      <td>88</td>\n      <td>2026</td>\n      <td>26.0</td>\n      <td>0.50</td>\n      <td>34.50</td>\n      <td>2724.97</td>\n      <td>2765.49</td>\n    </tr>\n    <tr>\n      <th>56</th>\n      <td>Kennen</td>\n      <td>4</td>\n      <td>541</td>\n      <td>84</td>\n      <td>1969</td>\n      <td>30.0</td>\n      <td>0.50</td>\n      <td>38.50</td>\n      <td>2727.07</td>\n      <td>2707.38</td>\n    </tr>\n    <tr>\n      <th>112</th>\n      <td>Swain</td>\n      <td>6</td>\n      <td>525</td>\n      <td>85</td>\n      <td>1970</td>\n      <td>30.0</td>\n      <td>0.50</td>\n      <td>38.50</td>\n      <td>2728.45</td>\n      <td>2585.03</td>\n    </tr>\n    <tr>\n      <th>107</th>\n      <td>Sion</td>\n      <td>9</td>\n      <td>545</td>\n      <td>73</td>\n      <td>1786</td>\n      <td>32.1</td>\n      <td>1.25</td>\n      <td>53.35</td>\n      <td>2738.83</td>\n      <td>2737.05</td>\n    </tr>\n    <tr>\n      <th>91</th>\n      <td>Quinn</td>\n      <td>4</td>\n      <td>532.8</td>\n      <td>85</td>\n      <td>1977.8</td>\n      <td>30.0</td>\n      <td>0.50</td>\n      <td>38.50</td>\n      <td>2739.25</td>\n      <td>2699.7</td>\n    </tr>\n    <tr>\n      <th>58</th>\n      <td>Kindred</td>\n      <td>2</td>\n      <td>540</td>\n      <td>85</td>\n      <td>1985</td>\n      <td>30.0</td>\n      <td>0.50</td>\n      <td>38.50</td>\n      <td>2749.22</td>\n      <td>2729.38</td>\n    </tr>\n    <tr>\n      <th>81</th>\n      <td>Nidalee</td>\n      <td>4</td>\n      <td>545</td>\n      <td>85</td>\n      <td>1990</td>\n      <td>30.0</td>\n      <td>0.50</td>\n      <td>38.50</td>\n      <td>2756.15</td>\n      <td>2716.35</td>\n    </tr>\n    <tr>\n      <th>19</th>\n      <td>Corki</td>\n      <td>3</td>\n      <td>518</td>\n      <td>87</td>\n      <td>1997</td>\n      <td>30.0</td>\n      <td>0.50</td>\n      <td>38.50</td>\n      <td>2765.84</td>\n      <td>2725.91</td>\n    </tr>\n    <tr>\n      <th>13</th>\n      <td>Brand</td>\n      <td>2</td>\n      <td>519.68</td>\n      <td>88</td>\n      <td>2015.68</td>\n      <td>30.0</td>\n      <td>0.50</td>\n      <td>38.50</td>\n      <td>2791.72</td>\n      <td>2628.04</td>\n    </tr>\n    <tr>\n      <th>131</th>\n      <td>Vel'Koz</td>\n      <td>2</td>\n      <td>520</td>\n      <td>88</td>\n      <td>2016</td>\n      <td>30.0</td>\n      <td>0.50</td>\n      <td>38.50</td>\n      <td>2792.16</td>\n      <td>2628.46</td>\n    </tr>\n    <tr>\n      <th>70</th>\n      <td>Malzahar</td>\n      <td>2</td>\n      <td>537</td>\n      <td>87</td>\n      <td>2016</td>\n      <td>30.0</td>\n      <td>0.50</td>\n      <td>38.50</td>\n      <td>2792.16</td>\n      <td>2550.24</td>\n    </tr>\n    <tr>\n      <th>85</th>\n      <td>Orianna</td>\n      <td>3</td>\n      <td>530</td>\n      <td>91</td>\n      <td>2077</td>\n      <td>26.0</td>\n      <td>0.50</td>\n      <td>34.50</td>\n      <td>2793.57</td>\n      <td>2607.47</td>\n    </tr>\n    <tr>\n      <th>6</th>\n      <td>Annie</td>\n      <td>3</td>\n      <td>524</td>\n      <td>88</td>\n      <td>2020</td>\n      <td>30.0</td>\n      <td>0.50</td>\n      <td>38.50</td>\n      <td>2797.7</td>\n      <td>2579.94</td>\n    </tr>\n    <tr>\n      <th>27</th>\n      <td>Ezreal</td>\n      <td>2</td>\n      <td>530</td>\n      <td>88</td>\n      <td>2026</td>\n      <td>30.0</td>\n      <td>0.50</td>\n      <td>38.50</td>\n      <td>2806.01</td>\n      <td>2643.93</td>\n    </tr>\n    <tr>\n      <th>129</th>\n      <td>Vayne</td>\n      <td>1</td>\n      <td>515</td>\n      <td>89</td>\n      <td>2028</td>\n      <td>30.0</td>\n      <td>0.50</td>\n      <td>38.50</td>\n      <td>2808.78</td>\n      <td>2666.82</td>\n    </tr>\n    <tr>\n      <th>51</th>\n      <td>Karthus</td>\n      <td>2</td>\n      <td>550</td>\n      <td>87</td>\n      <td>2029</td>\n      <td>30.0</td>\n      <td>0.50</td>\n      <td>38.50</td>\n      <td>2810.16</td>\n      <td>2625.12</td>\n    </tr>\n    <tr>\n      <th>66</th>\n      <td>Lucian</td>\n      <td>5</td>\n      <td>571</td>\n      <td>86</td>\n      <td>2033</td>\n      <td>30.0</td>\n      <td>0.50</td>\n      <td>38.50</td>\n      <td>2815.7</td>\n      <td>2775.05</td>\n    </tr>\n    <tr>\n      <th>8</th>\n      <td>Ashe</td>\n      <td>3</td>\n      <td>570</td>\n      <td>87</td>\n      <td>2049</td>\n      <td>30.0</td>\n      <td>0.50</td>\n      <td>38.50</td>\n      <td>2837.86</td>\n      <td>2755.91</td>\n    </tr>\n    <tr>\n      <th>114</th>\n      <td>Syndra</td>\n      <td>3</td>\n      <td>523</td>\n      <td>90</td>\n      <td>2053</td>\n      <td>30.0</td>\n      <td>0.50</td>\n      <td>38.50</td>\n      <td>2843.41</td>\n      <td>2734.84</td>\n    </tr>\n    <tr>\n      <th>121</th>\n      <td>Tristana</td>\n      <td>3</td>\n      <td>559</td>\n      <td>88</td>\n      <td>2055</td>\n      <td>30.0</td>\n      <td>0.50</td>\n      <td>38.50</td>\n      <td>2846.18</td>\n      <td>2763.97</td>\n    </tr>\n    <tr>\n      <th>119</th>\n      <td>Teemo</td>\n      <td>3</td>\n      <td>528</td>\n      <td>90</td>\n      <td>2058</td>\n      <td>30.0</td>\n      <td>0.50</td>\n      <td>38.50</td>\n      <td>2850.33</td>\n      <td>2733.02</td>\n    </tr>\n    <tr>\n      <th>133</th>\n      <td>Viktor</td>\n      <td>4</td>\n      <td>530</td>\n      <td>90</td>\n      <td>2060</td>\n      <td>30.0</td>\n      <td>0.50</td>\n      <td>38.50</td>\n      <td>2853.1</td>\n      <td>2708.9</td>\n    </tr>\n    <tr>\n      <th>116</th>\n      <td>Taliyah</td>\n      <td>7</td>\n      <td>532</td>\n      <td>90</td>\n      <td>2062</td>\n      <td>30.0</td>\n      <td>0.50</td>\n      <td>38.50</td>\n      <td>2855.87</td>\n      <td>2649.67</td>\n    </tr>\n    <tr>\n      <th>80</th>\n      <td>Neeko</td>\n      <td>1</td>\n      <td>540</td>\n      <td>90</td>\n      <td>2070</td>\n      <td>30.0</td>\n      <td>0.50</td>\n      <td>38.50</td>\n      <td>2866.95</td>\n      <td>2680.65</td>\n    </tr>\n    <tr>\n      <th>47</th>\n      <td>Jinx</td>\n      <td>2</td>\n      <td>610</td>\n      <td>86</td>\n      <td>2072</td>\n      <td>30.0</td>\n      <td>0.50</td>\n      <td>38.50</td>\n      <td>2869.72</td>\n      <td>2828.28</td>\n    </tr>\n    <tr>\n      <th>11</th>\n      <td>Bard</td>\n      <td>4</td>\n      <td>560</td>\n      <td>89</td>\n      <td>2073</td>\n      <td>30.0</td>\n      <td>0.50</td>\n      <td>38.50</td>\n      <td>2871.11</td>\n      <td>2954.03</td>\n    </tr>\n    <tr>\n      <th>125</th>\n      <td>Twitch</td>\n      <td>2</td>\n      <td>612</td>\n      <td>86</td>\n      <td>2074</td>\n      <td>30.0</td>\n      <td>0.50</td>\n      <td>38.50</td>\n      <td>2872.49</td>\n      <td>2810.27</td>\n    </tr>\n    <tr>\n      <th>128</th>\n      <td>Varus</td>\n      <td>3</td>\n      <td>530</td>\n      <td>91</td>\n      <td>2077</td>\n      <td>30.0</td>\n      <td>0.50</td>\n      <td>38.50</td>\n      <td>2876.64</td>\n      <td>2814.34</td>\n    </tr>\n    <tr>\n      <th>65</th>\n      <td>Lissandra</td>\n      <td>5</td>\n      <td>550</td>\n      <td>90</td>\n      <td>2080</td>\n      <td>30.0</td>\n      <td>0.50</td>\n      <td>38.50</td>\n      <td>2880.8</td>\n      <td>2714.4</td>\n    </tr>\n    <tr>\n      <th>137</th>\n      <td>Xayah</td>\n      <td>6</td>\n      <td>590</td>\n      <td>88</td>\n      <td>2086</td>\n      <td>30.0</td>\n      <td>0.50</td>\n      <td>38.50</td>\n      <td>2889.11</td>\n      <td>2784.81</td>\n    </tr>\n    <tr>\n      <th>138</th>\n      <td>Xerath</td>\n      <td>3</td>\n      <td>526</td>\n      <td>92</td>\n      <td>2090</td>\n      <td>30.0</td>\n      <td>0.50</td>\n      <td>38.50</td>\n      <td>2894.65</td>\n      <td>2724.94</td>\n    </tr>\n    <tr>\n      <th>45</th>\n      <td>Jayce</td>\n      <td>4</td>\n      <td>560</td>\n      <td>90</td>\n      <td>2090</td>\n      <td>30.0</td>\n      <td>0.50</td>\n      <td>38.50</td>\n      <td>2894.65</td>\n      <td>2831.95</td>\n    </tr>\n    <tr>\n      <th>1</th>\n      <td>Ahri</td>\n      <td>4</td>\n      <td>526</td>\n      <td>92</td>\n      <td>2090</td>\n      <td>30.0</td>\n      <td>0.50</td>\n      <td>38.50</td>\n      <td>2894.65</td>\n      <td>2704.04</td>\n    </tr>\n    <tr>\n      <th>76</th>\n      <td>Morgana</td>\n      <td>6</td>\n      <td>560</td>\n      <td>90</td>\n      <td>2090</td>\n      <td>30.0</td>\n      <td>0.50</td>\n      <td>38.50</td>\n      <td>2894.65</td>\n      <td>2790.15</td>\n    </tr>\n    <tr>\n      <th>15</th>\n      <td>Caitlyn</td>\n      <td>2</td>\n      <td>510</td>\n      <td>93</td>\n      <td>2091</td>\n      <td>30.0</td>\n      <td>0.50</td>\n      <td>38.50</td>\n      <td>2896.03</td>\n      <td>2854.22</td>\n    </tr>\n    <tr>\n      <th>108</th>\n      <td>Sivir</td>\n      <td>3</td>\n      <td>562</td>\n      <td>90</td>\n      <td>2092</td>\n      <td>30.0</td>\n      <td>0.50</td>\n      <td>38.50</td>\n      <td>2897.42</td>\n      <td>2813.74</td>\n    </tr>\n    <tr>\n      <th>61</th>\n      <td>LeBlanc</td>\n      <td>4</td>\n      <td>528</td>\n      <td>92</td>\n      <td>2092</td>\n      <td>30.0</td>\n      <td>0.50</td>\n      <td>38.50</td>\n      <td>2897.42</td>\n      <td>2727.55</td>\n    </tr>\n    <tr>\n      <th>60</th>\n      <td>Kog'Maw</td>\n      <td>2</td>\n      <td>565</td>\n      <td>90</td>\n      <td>2095</td>\n      <td>30.0</td>\n      <td>0.50</td>\n      <td>38.50</td>\n      <td>2901.57</td>\n      <td>2775.88</td>\n    </tr>\n    <tr>\n      <th>48</th>\n      <td>Kai'Sa</td>\n      <td>5</td>\n      <td>600</td>\n      <td>88</td>\n      <td>2096</td>\n      <td>30.0</td>\n      <td>0.50</td>\n      <td>38.50</td>\n      <td>2902.96</td>\n      <td>2861.04</td>\n    </tr>\n    <tr>\n      <th>146</th>\n      <td>Ziggs</td>\n      <td>4</td>\n      <td>536</td>\n      <td>92</td>\n      <td>2100</td>\n      <td>30.0</td>\n      <td>0.50</td>\n      <td>38.50</td>\n      <td>2908.5</td>\n      <td>2730.92</td>\n    </tr>\n    <tr>\n      <th>54</th>\n      <td>Kayle</td>\n      <td>6</td>\n      <td>600</td>\n      <td>85</td>\n      <td>2045</td>\n      <td>34.0</td>\n      <td>0.50</td>\n      <td>42.50</td>\n      <td>2914.12</td>\n      <td>2750.53</td>\n    </tr>\n    <tr>\n      <th>52</th>\n      <td>Kassadin</td>\n      <td>5</td>\n      <td>576</td>\n      <td>90</td>\n      <td>2106</td>\n      <td>30.0</td>\n      <td>0.50</td>\n      <td>38.50</td>\n      <td>2916.81</td>\n      <td>2685.15</td>\n    </tr>\n    <tr>\n      <th>25</th>\n      <td>Elise</td>\n      <td>5</td>\n      <td>534</td>\n      <td>93</td>\n      <td>2115</td>\n      <td>30.0</td>\n      <td>0.50</td>\n      <td>38.50</td>\n      <td>2929.28</td>\n      <td>2865.82</td>\n    </tr>\n    <tr>\n      <th>10</th>\n      <td>Azir</td>\n      <td>3</td>\n      <td>552</td>\n      <td>92</td>\n      <td>2116</td>\n      <td>30.0</td>\n      <td>0.50</td>\n      <td>38.50</td>\n      <td>2930.66</td>\n      <td>2698.75</td>\n    </tr>\n    <tr>\n      <th>17</th>\n      <td>Cassiopeia</td>\n      <td>3</td>\n      <td>560</td>\n      <td>90</td>\n      <td>2090</td>\n      <td>32.0</td>\n      <td>0.50</td>\n      <td>40.50</td>\n      <td>2936.45</td>\n      <td>2643.85</td>\n    </tr>\n    <tr>\n      <th>82</th>\n      <td>Nocturne</td>\n      <td>5</td>\n      <td>585</td>\n      <td>85</td>\n      <td>2030</td>\n      <td>32.1</td>\n      <td>0.75</td>\n      <td>44.85</td>\n      <td>2940.45</td>\n      <td>3060.22</td>\n    </tr>\n  </tbody>\n</table>\n</div>"
     },
     "metadata": {},
     "execution_count": 11
    }
   ],
   "source": [
    "squishyChamps['spellblock_18'] = squishyChamps['spellblock'] + squishyChamps['spellblockperlevel'] * 17\n",
    "squishyChamps['armor_18'] = squishyChamps['armor'] + squishyChamps['spellblockperlevel'] * 17\n",
    "squishyChamps['hp_18'] = squishyChamps['hp'] + squishyChamps['hpperlevel'] * 17\n",
    "# squishyChamps['Mr_Def'] = squishyChamps['spellblock_18'] * squishyChamps['defense']\n",
    "squishyChamps['MReffectiveHP'] = squishyChamps['hp_18'] * (squishyChamps['spellblock_18'] + 100)/100 #* squishyChamps['defense']\n",
    "squishyChamps['ArmorEffectiveHP'] = squishyChamps['hp_18'] * (squishyChamps['armor_18'] + 100)/100 #* squishyChamps['defense']\n",
    "\n",
    "squishyChamps[['name', 'defense', 'hp', 'hpperlevel', 'hp_18', 'spellblock', 'spellblockperlevel', 'spellblock_18', 'MReffectiveHP', 'ArmorEffectiveHP']].sort_values(axis=0, ascending=True, by='MReffectiveHP').head(60)"
   ]
  },
  {
   "cell_type": "code",
   "execution_count": 12,
   "metadata": {},
   "outputs": [
    {
     "output_type": "execute_result",
     "data": {
      "text/plain": "championId             object\nname                   object\nattack                 object\ndefense                object\nmagic                  object\nhp                     object\nhpperlevel             object\narmor                  object\narmorperlevel         float64\nspellblock            float64\nspellblockperlevel    float64\nhpregen                object\nhpregenperlevel        object\nspellblock_18         float64\narmor_18               object\nhp_18                  object\nMReffectiveHP          object\nArmorEffectiveHP       object\ndtype: object"
     },
     "metadata": {},
     "execution_count": 12
    }
   ],
   "source": [
    "squishyChamps.dtypes"
   ]
  },
  {
   "cell_type": "code",
   "execution_count": 13,
   "metadata": {},
   "outputs": [
    {
     "output_type": "execute_result",
     "data": {
      "text/plain": "0.25    2867.6425\n0.50    3007.9295\n0.75    3235.6850\nName: MReffectiveHP, dtype: float64"
     },
     "metadata": {},
     "execution_count": 13
    }
   ],
   "source": [
    "squishyChamps['MReffectiveHP'].astype('float').quantile([.25, .5, .75])"
   ]
  },
  {
   "cell_type": "code",
   "execution_count": 14,
   "metadata": {
    "tags": []
   },
   "outputs": [
    {
     "output_type": "stream",
     "name": "stdout",
     "text": "['Ahri', 'Annie', 'Aphelios', 'Ashe', 'Aurelion Sol', 'Azir', 'Bard', 'Caitlyn', 'Cassiopeia', 'Corki', 'Draven', 'Ekko', 'Elise', 'Evelynn', 'Ezreal', 'Fizz', 'Gangplank', 'Heimerdinger', 'Janna', 'Jayce', 'Jhin', 'Jinx', \"Kai'Sa\", 'Kalista', 'Karma', 'Karthus', 'Kassadin', 'Kayle', 'Kayn', 'Kennen', \"Kha'Zix\", 'Kindred', \"Kog'Maw\", 'LeBlanc', 'Lillia', 'Lucian', 'Lulu', 'Lux', 'Miss Fortune', 'Morgana', 'Nami', 'Neeko', 'Nidalee', 'Orianna', 'Pyke', 'Qiyana', 'Quinn', 'Rengar', 'Senna', 'Shaco', 'Sivir', 'Sona', 'Soraka', 'Syndra', 'Taliyah', 'Talon', 'Teemo', 'Tristana', 'Twisted Fate', 'Twitch', 'Varus', 'Vayne', 'Veigar', \"Vel'Koz\", 'Viktor', 'Xayah', 'Xerath', 'Yasuo', 'Yone', 'Yuumi', 'Zed', 'Ziggs', 'Zilean', 'Zoe', 'Zyra']\n[103, 1, 523, 22, 136, 268, 432, 51, 69, 42, 119, 245, 60, 28, 81, 105, 41, 74, 40, 126, 202, 222, 145, 429, 43, 30, 38, 10, 141, 85, 121, 203, 96, 7, 876, 236, 117, 99, 21, 25, 267, 518, 76, 61, 555, 246, 133, 107, 235, 35, 15, 37, 16, 134, 163, 91, 17, 18, 4, 29, 110, 67, 45, 161, 112, 498, 101, 157, 777, 350, 238, 115, 26, 142, 143]\n"
    }
   ],
   "source": [
    "squishyChampNames = ['Ahri', 'Annie', 'Aphelios', 'Ashe', 'Aurelion Sol', 'Azir', 'Bard', 'Caitlyn', 'Cassiopeia', 'Corki', 'Draven', 'Ekko', 'Elise', 'Evelynn', 'Ezreal', 'Fizz', 'Gangplank', 'Heimerdinger', 'Janna', 'Jayce', 'Jhin', 'Jinx', \"Kai'Sa\", 'Kalista', 'Karma', 'Karthus', 'Kassadin', 'Kayle', 'Kayn', 'Kennen', \"Kha'Zix\", 'Kindred', \"Kog'Maw\", 'LeBlanc', 'Lillia', 'Lucian', 'Lulu', 'Lux', 'Miss Fortune', 'Morgana', 'Nami', 'Neeko', 'Nidalee', 'Orianna', 'Pyke', 'Qiyana', 'Quinn', 'Rengar', 'Senna', 'Shaco', 'Sivir', 'Sona', 'Soraka', 'Syndra', 'Taliyah', 'Talon', 'Teemo', 'Tristana', 'Twisted Fate', 'Twitch', 'Varus', 'Vayne', 'Veigar', \"Vel'Koz\", 'Viktor', 'Xayah', 'Xerath', 'Yasuo', 'Yone', 'Yuumi', 'Zed', 'Ziggs', 'Zilean', 'Zoe', 'Zyra']\n",
    "squishyChampIds = [champions.loc[champions[\"name\"] == name, \"championId\"].values[0] for name in squishyChampNames]\n",
    "print(squishyChampNames)\n",
    "print(squishyChampIds)"
   ]
  },
  {
   "cell_type": "code",
   "execution_count": 15,
   "metadata": {
    "tags": []
   },
   "outputs": [],
   "source": [
    "# import itertools\n",
    "# champNameCombo = list(itertools.combinations(champions['name'], 2))\n",
    "# print(champNameCombo[0])\n",
    "\n",
    "# champIdCombinations = list(itertools.combinations(champions['championId'], 2))\n",
    "# champIdCombinations"
   ]
  },
  {
   "cell_type": "code",
   "execution_count": 16,
   "metadata": {},
   "outputs": [
    {
     "output_type": "execute_result",
     "data": {
      "text/plain": "             gameId  championId teamColor    win  item0  item1  item2  item3  \\\n0        2856437506          29       Red   True   3085   3095   3087   3072   \n1        2856437506         107      Blue  False   3142   3111   3147   3095   \n2        2856437506          31      Blue  False   3029   3111   3065   3083   \n3        2856437506          67      Blue  False   3072   3095   2015   3006   \n4        2856437506         268       Red   True   3020   3115   3116   3135   \n...             ...         ...       ...    ...    ...    ...    ...    ...   \n1586285  3588231162          39      Blue  False   3078   3111   3053   3211   \n1586286  3588231162          10       Red   True   3124   3146   3006   3115   \n1586287  3588231162          30      Blue  False   3029   3020   3135   3089   \n1586288  3588231162          17       Red   True   3285   3020   3151   3165   \n1586289  3588231162          92      Blue  False   3071   3111   3812   3155   \n\n         item4  item5  \n0         3031      0  \n1         3044   3057  \n2         3135   1058  \n3         3087   3086  \n4         3165   1058  \n...        ...    ...  \n1586285   3067      0  \n1586286   1058      0  \n1586287   1026   1052  \n1586288   1026   1052  \n1586289   3133      0  \n\n[1586290 rows x 10 columns]",
      "text/html": "<div>\n<style scoped>\n    .dataframe tbody tr th:only-of-type {\n        vertical-align: middle;\n    }\n\n    .dataframe tbody tr th {\n        vertical-align: top;\n    }\n\n    .dataframe thead th {\n        text-align: right;\n    }\n</style>\n<table border=\"1\" class=\"dataframe\">\n  <thead>\n    <tr style=\"text-align: right;\">\n      <th></th>\n      <th>gameId</th>\n      <th>championId</th>\n      <th>teamColor</th>\n      <th>win</th>\n      <th>item0</th>\n      <th>item1</th>\n      <th>item2</th>\n      <th>item3</th>\n      <th>item4</th>\n      <th>item5</th>\n    </tr>\n  </thead>\n  <tbody>\n    <tr>\n      <th>0</th>\n      <td>2856437506</td>\n      <td>29</td>\n      <td>Red</td>\n      <td>True</td>\n      <td>3085</td>\n      <td>3095</td>\n      <td>3087</td>\n      <td>3072</td>\n      <td>3031</td>\n      <td>0</td>\n    </tr>\n    <tr>\n      <th>1</th>\n      <td>2856437506</td>\n      <td>107</td>\n      <td>Blue</td>\n      <td>False</td>\n      <td>3142</td>\n      <td>3111</td>\n      <td>3147</td>\n      <td>3095</td>\n      <td>3044</td>\n      <td>3057</td>\n    </tr>\n    <tr>\n      <th>2</th>\n      <td>2856437506</td>\n      <td>31</td>\n      <td>Blue</td>\n      <td>False</td>\n      <td>3029</td>\n      <td>3111</td>\n      <td>3065</td>\n      <td>3083</td>\n      <td>3135</td>\n      <td>1058</td>\n    </tr>\n    <tr>\n      <th>3</th>\n      <td>2856437506</td>\n      <td>67</td>\n      <td>Blue</td>\n      <td>False</td>\n      <td>3072</td>\n      <td>3095</td>\n      <td>2015</td>\n      <td>3006</td>\n      <td>3087</td>\n      <td>3086</td>\n    </tr>\n    <tr>\n      <th>4</th>\n      <td>2856437506</td>\n      <td>268</td>\n      <td>Red</td>\n      <td>True</td>\n      <td>3020</td>\n      <td>3115</td>\n      <td>3116</td>\n      <td>3135</td>\n      <td>3165</td>\n      <td>1058</td>\n    </tr>\n    <tr>\n      <th>...</th>\n      <td>...</td>\n      <td>...</td>\n      <td>...</td>\n      <td>...</td>\n      <td>...</td>\n      <td>...</td>\n      <td>...</td>\n      <td>...</td>\n      <td>...</td>\n      <td>...</td>\n    </tr>\n    <tr>\n      <th>1586285</th>\n      <td>3588231162</td>\n      <td>39</td>\n      <td>Blue</td>\n      <td>False</td>\n      <td>3078</td>\n      <td>3111</td>\n      <td>3053</td>\n      <td>3211</td>\n      <td>3067</td>\n      <td>0</td>\n    </tr>\n    <tr>\n      <th>1586286</th>\n      <td>3588231162</td>\n      <td>10</td>\n      <td>Red</td>\n      <td>True</td>\n      <td>3124</td>\n      <td>3146</td>\n      <td>3006</td>\n      <td>3115</td>\n      <td>1058</td>\n      <td>0</td>\n    </tr>\n    <tr>\n      <th>1586287</th>\n      <td>3588231162</td>\n      <td>30</td>\n      <td>Blue</td>\n      <td>False</td>\n      <td>3029</td>\n      <td>3020</td>\n      <td>3135</td>\n      <td>3089</td>\n      <td>1026</td>\n      <td>1052</td>\n    </tr>\n    <tr>\n      <th>1586288</th>\n      <td>3588231162</td>\n      <td>17</td>\n      <td>Red</td>\n      <td>True</td>\n      <td>3285</td>\n      <td>3020</td>\n      <td>3151</td>\n      <td>3165</td>\n      <td>1026</td>\n      <td>1052</td>\n    </tr>\n    <tr>\n      <th>1586289</th>\n      <td>3588231162</td>\n      <td>92</td>\n      <td>Blue</td>\n      <td>False</td>\n      <td>3071</td>\n      <td>3111</td>\n      <td>3812</td>\n      <td>3155</td>\n      <td>3133</td>\n      <td>0</td>\n    </tr>\n  </tbody>\n</table>\n<p>1586290 rows × 10 columns</p>\n</div>"
     },
     "metadata": {},
     "execution_count": 16
    }
   ],
   "source": [
    "async def fetch_as_dataframe(con: asyncpg.Connection, query: str, *args):\n",
    "    stmt = await con.prepare(query)\n",
    "    columns = [a.name for a in stmt.get_attributes()]\n",
    "    data = await stmt.fetch()\n",
    "    return pd.DataFrame(data, columns=columns)\n",
    "\n",
    "async def run():\n",
    "    connection = await asyncpg.connect(user=dbConfig['user'],\n",
    "                                password=dbConfig['password'],\n",
    "                                host=dbConfig['host'],\n",
    "                                port=dbConfig['port'],\n",
    "                                database=dbConfig['database'])\n",
    "    async with connection.transaction():\n",
    "        kaisaQuery = f'SELECT \"gameId\", \"championId\", \"teamColor\", \"win\", \"item0\", \\\n",
    "                                \"item1\", \"item2\", \"item3\", \"item4\", \"item5\" \\\n",
    "                    FROM \"Participant_Stats\" \\\n",
    "                    WHERE \"gameId\" = ANY( \\\n",
    "                        (SELECT array (SELECT \"gameId\" FROM \"Participant_Stats\"\\\n",
    "                                        WHERE \"championId\" = 145 \\\n",
    "                                        ) \\\n",
    "                                        )::BIGINT[] \\\n",
    "                                        ) \\\n",
    "                    ORDER BY \"gameId\" ASC;'\n",
    "        kaisaGames_df = await fetch_as_dataframe(connection, kaisaQuery)\n",
    "    return kaisaGames_df\n",
    "\n",
    "kaisaGames_df = loop.run_until_complete(run())\n",
    "kaisaGames_df"
   ]
  },
  {
   "cell_type": "code",
   "execution_count": 17,
   "metadata": {},
   "outputs": [
    {
     "output_type": "execute_result",
     "data": {
      "text/plain": "            sum\ngameId         \n2856437506    1\n2857259300    1\n2857364171    0\n2857791625    0\n2860305268    0\n...         ...\n3587791787    1\n3587921963    0\n3587953458    1\n3587954814    0\n3588231162    1\n\n[158629 rows x 1 columns]",
      "text/html": "<div>\n<style scoped>\n    .dataframe tbody tr th:only-of-type {\n        vertical-align: middle;\n    }\n\n    .dataframe tbody tr th {\n        vertical-align: top;\n    }\n\n    .dataframe thead th {\n        text-align: right;\n    }\n</style>\n<table border=\"1\" class=\"dataframe\">\n  <thead>\n    <tr style=\"text-align: right;\">\n      <th></th>\n      <th>sum</th>\n    </tr>\n    <tr>\n      <th>gameId</th>\n      <th></th>\n    </tr>\n  </thead>\n  <tbody>\n    <tr>\n      <th>2856437506</th>\n      <td>1</td>\n    </tr>\n    <tr>\n      <th>2857259300</th>\n      <td>1</td>\n    </tr>\n    <tr>\n      <th>2857364171</th>\n      <td>0</td>\n    </tr>\n    <tr>\n      <th>2857791625</th>\n      <td>0</td>\n    </tr>\n    <tr>\n      <th>2860305268</th>\n      <td>0</td>\n    </tr>\n    <tr>\n      <th>...</th>\n      <td>...</td>\n    </tr>\n    <tr>\n      <th>3587791787</th>\n      <td>1</td>\n    </tr>\n    <tr>\n      <th>3587921963</th>\n      <td>0</td>\n    </tr>\n    <tr>\n      <th>3587953458</th>\n      <td>1</td>\n    </tr>\n    <tr>\n      <th>3587954814</th>\n      <td>0</td>\n    </tr>\n    <tr>\n      <th>3588231162</th>\n      <td>1</td>\n    </tr>\n  </tbody>\n</table>\n<p>158629 rows × 1 columns</p>\n</div>"
     },
     "metadata": {},
     "execution_count": 17
    }
   ],
   "source": [
    "allKaisaGames_df = kaisaGames_df[(kaisaGames_df['championId'] == 145)]\n",
    "allKaisaGames = allKaisaGames_df[['gameId', 'win']].groupby(['gameId']).agg(['sum'])['win']\n",
    "allKaisaGames"
   ]
  },
  {
   "cell_type": "code",
   "execution_count": 18,
   "metadata": {
    "tags": []
   },
   "outputs": [
    {
     "output_type": "stream",
     "name": "stdout",
     "text": "kaisaWR: 0.48011 [76160 / 158629]\n"
    }
   ],
   "source": [
    "kaisaWR = allKaisaGames['sum'].astype(bool).sum(axis=0)/len(allKaisaGames.index)\n",
    "\n",
    "print(f\"kaisaWR: {kaisaWR:.5f} [{allKaisaGames['sum'].astype(bool).sum(axis=0)} / {len(allKaisaGames.index)}]\")"
   ]
  },
  {
   "cell_type": "code",
   "execution_count": 19,
   "metadata": {},
   "outputs": [
    {
     "output_type": "execute_result",
     "data": {
      "text/plain": "             gameId  championId teamColor    win  item0  item1  item2  item3  \\\n9        2856437506         145       Red   True   3124   3100   3020   3285   \n16       2857259300         145       Red   True   3285   3916   3020   3089   \n23       2857364171         145      Blue  False   3100   2031   3285   3020   \n37       2857791625         145      Blue  False   3124   2031   3146   1043   \n44       2860305268         145      Blue  False   3095   3124   3031   3006   \n...             ...         ...       ...    ...    ...    ...    ...    ...   \n1586249  3587791787         145      Blue   True   3157   1058   3115   3124   \n1586252  3587921963         145      Blue  False   3285   3020   3089   3100   \n1586261  3587953458         145      Blue   True   3285   3124   3115   1038   \n1586271  3587954814         145      Blue  False   3285   3108   3151   3020   \n1586281  3588231162         145       Red   True   3043   3006   2003   3124   \n\n         item4  item5  isAP  isAPKaisaTeam  \n9         3115      0  True           True  \n16        3124   3115  True           True  \n23        3089   1026  True           True  \n37        1036      0  True           True  \n44        3085   3153  True           True  \n...        ...    ...   ...            ...  \n1586249   3006   3043  True           True  \n1586252   3136      0  True           True  \n1586261   1037   3006  True           True  \n1586271      0      0  True           True  \n1586281   3115   1058  True           True  \n\n[151378 rows x 12 columns]",
      "text/html": "<div>\n<style scoped>\n    .dataframe tbody tr th:only-of-type {\n        vertical-align: middle;\n    }\n\n    .dataframe tbody tr th {\n        vertical-align: top;\n    }\n\n    .dataframe thead th {\n        text-align: right;\n    }\n</style>\n<table border=\"1\" class=\"dataframe\">\n  <thead>\n    <tr style=\"text-align: right;\">\n      <th></th>\n      <th>gameId</th>\n      <th>championId</th>\n      <th>teamColor</th>\n      <th>win</th>\n      <th>item0</th>\n      <th>item1</th>\n      <th>item2</th>\n      <th>item3</th>\n      <th>item4</th>\n      <th>item5</th>\n      <th>isAP</th>\n      <th>isAPKaisaTeam</th>\n    </tr>\n  </thead>\n  <tbody>\n    <tr>\n      <th>9</th>\n      <td>2856437506</td>\n      <td>145</td>\n      <td>Red</td>\n      <td>True</td>\n      <td>3124</td>\n      <td>3100</td>\n      <td>3020</td>\n      <td>3285</td>\n      <td>3115</td>\n      <td>0</td>\n      <td>True</td>\n      <td>True</td>\n    </tr>\n    <tr>\n      <th>16</th>\n      <td>2857259300</td>\n      <td>145</td>\n      <td>Red</td>\n      <td>True</td>\n      <td>3285</td>\n      <td>3916</td>\n      <td>3020</td>\n      <td>3089</td>\n      <td>3124</td>\n      <td>3115</td>\n      <td>True</td>\n      <td>True</td>\n    </tr>\n    <tr>\n      <th>23</th>\n      <td>2857364171</td>\n      <td>145</td>\n      <td>Blue</td>\n      <td>False</td>\n      <td>3100</td>\n      <td>2031</td>\n      <td>3285</td>\n      <td>3020</td>\n      <td>3089</td>\n      <td>1026</td>\n      <td>True</td>\n      <td>True</td>\n    </tr>\n    <tr>\n      <th>37</th>\n      <td>2857791625</td>\n      <td>145</td>\n      <td>Blue</td>\n      <td>False</td>\n      <td>3124</td>\n      <td>2031</td>\n      <td>3146</td>\n      <td>1043</td>\n      <td>1036</td>\n      <td>0</td>\n      <td>True</td>\n      <td>True</td>\n    </tr>\n    <tr>\n      <th>44</th>\n      <td>2860305268</td>\n      <td>145</td>\n      <td>Blue</td>\n      <td>False</td>\n      <td>3095</td>\n      <td>3124</td>\n      <td>3031</td>\n      <td>3006</td>\n      <td>3085</td>\n      <td>3153</td>\n      <td>True</td>\n      <td>True</td>\n    </tr>\n    <tr>\n      <th>...</th>\n      <td>...</td>\n      <td>...</td>\n      <td>...</td>\n      <td>...</td>\n      <td>...</td>\n      <td>...</td>\n      <td>...</td>\n      <td>...</td>\n      <td>...</td>\n      <td>...</td>\n      <td>...</td>\n      <td>...</td>\n    </tr>\n    <tr>\n      <th>1586249</th>\n      <td>3587791787</td>\n      <td>145</td>\n      <td>Blue</td>\n      <td>True</td>\n      <td>3157</td>\n      <td>1058</td>\n      <td>3115</td>\n      <td>3124</td>\n      <td>3006</td>\n      <td>3043</td>\n      <td>True</td>\n      <td>True</td>\n    </tr>\n    <tr>\n      <th>1586252</th>\n      <td>3587921963</td>\n      <td>145</td>\n      <td>Blue</td>\n      <td>False</td>\n      <td>3285</td>\n      <td>3020</td>\n      <td>3089</td>\n      <td>3100</td>\n      <td>3136</td>\n      <td>0</td>\n      <td>True</td>\n      <td>True</td>\n    </tr>\n    <tr>\n      <th>1586261</th>\n      <td>3587953458</td>\n      <td>145</td>\n      <td>Blue</td>\n      <td>True</td>\n      <td>3285</td>\n      <td>3124</td>\n      <td>3115</td>\n      <td>1038</td>\n      <td>1037</td>\n      <td>3006</td>\n      <td>True</td>\n      <td>True</td>\n    </tr>\n    <tr>\n      <th>1586271</th>\n      <td>3587954814</td>\n      <td>145</td>\n      <td>Blue</td>\n      <td>False</td>\n      <td>3285</td>\n      <td>3108</td>\n      <td>3151</td>\n      <td>3020</td>\n      <td>0</td>\n      <td>0</td>\n      <td>True</td>\n      <td>True</td>\n    </tr>\n    <tr>\n      <th>1586281</th>\n      <td>3588231162</td>\n      <td>145</td>\n      <td>Red</td>\n      <td>True</td>\n      <td>3043</td>\n      <td>3006</td>\n      <td>2003</td>\n      <td>3124</td>\n      <td>3115</td>\n      <td>1058</td>\n      <td>True</td>\n      <td>True</td>\n    </tr>\n  </tbody>\n</table>\n<p>151378 rows × 12 columns</p>\n</div>"
     },
     "metadata": {},
     "execution_count": 19
    }
   ],
   "source": [
    "apKaisa = kaisaGames_df[(kaisaGames_df['championId'] == 145)]\n",
    "apKaisa['isAP'] = (apKaisa['item0'].isin(apItemsList) | \\\n",
    "                                apKaisa['item1'].isin(apItemsList) | \\\n",
    "                                apKaisa['item2'].isin(apItemsList) | \\\n",
    "                                apKaisa['item3'].isin(apItemsList) | \\\n",
    "                                apKaisa['item4'].isin(apItemsList) | \\\n",
    "                                apKaisa['item5'].isin(apItemsList))\n",
    "adKaisa = apKaisa[(apKaisa['championId'] == 145) & (apKaisa['isAP'] == False)]\n",
    "apKaisa = apKaisa[(apKaisa['championId'] == 145) & (apKaisa['isAP'] == True)]\n",
    "apKaisa['isAPKaisaTeam'] = True\n",
    "apKaisa"
   ]
  },
  {
   "cell_type": "code",
   "execution_count": 20,
   "metadata": {},
   "outputs": [
    {
     "output_type": "execute_result",
     "data": {
      "text/plain": "            sum\ngameId         \n2868144891    0\n2871228735    0\n2873667374    1\n2875457804    0\n2876193858    0\n...         ...\n3586755290    1\n3586790449    1\n3586913900    0\n3587046006    0\n3587624644    1\n\n[7251 rows x 1 columns]",
      "text/html": "<div>\n<style scoped>\n    .dataframe tbody tr th:only-of-type {\n        vertical-align: middle;\n    }\n\n    .dataframe tbody tr th {\n        vertical-align: top;\n    }\n\n    .dataframe thead th {\n        text-align: right;\n    }\n</style>\n<table border=\"1\" class=\"dataframe\">\n  <thead>\n    <tr style=\"text-align: right;\">\n      <th></th>\n      <th>sum</th>\n    </tr>\n    <tr>\n      <th>gameId</th>\n      <th></th>\n    </tr>\n  </thead>\n  <tbody>\n    <tr>\n      <th>2868144891</th>\n      <td>0</td>\n    </tr>\n    <tr>\n      <th>2871228735</th>\n      <td>0</td>\n    </tr>\n    <tr>\n      <th>2873667374</th>\n      <td>1</td>\n    </tr>\n    <tr>\n      <th>2875457804</th>\n      <td>0</td>\n    </tr>\n    <tr>\n      <th>2876193858</th>\n      <td>0</td>\n    </tr>\n    <tr>\n      <th>...</th>\n      <td>...</td>\n    </tr>\n    <tr>\n      <th>3586755290</th>\n      <td>1</td>\n    </tr>\n    <tr>\n      <th>3586790449</th>\n      <td>1</td>\n    </tr>\n    <tr>\n      <th>3586913900</th>\n      <td>0</td>\n    </tr>\n    <tr>\n      <th>3587046006</th>\n      <td>0</td>\n    </tr>\n    <tr>\n      <th>3587624644</th>\n      <td>1</td>\n    </tr>\n  </tbody>\n</table>\n<p>7251 rows × 1 columns</p>\n</div>"
     },
     "metadata": {},
     "execution_count": 20
    }
   ],
   "source": [
    "allADKaisaGames = adKaisa[['gameId', 'win']].groupby(['gameId']).agg(['sum'])['win']\n",
    "allADKaisaGames"
   ]
  },
  {
   "cell_type": "code",
   "execution_count": 21,
   "metadata": {
    "tags": []
   },
   "outputs": [
    {
     "output_type": "stream",
     "name": "stdout",
     "text": "adKaisaWR: 0.43484 [3153 / 7251]\n"
    }
   ],
   "source": [
    "adKaisaWR = allADKaisaGames['sum'].astype(bool).sum(axis=0)/len(allADKaisaGames.index)\n",
    "\n",
    "print(f\"adKaisaWR: {adKaisaWR:.5f} [{allADKaisaGames['sum'].astype(bool).sum(axis=0)} / {len(allADKaisaGames.index)}]\")"
   ]
  },
  {
   "cell_type": "code",
   "execution_count": 22,
   "metadata": {},
   "outputs": [
    {
     "output_type": "execute_result",
     "data": {
      "text/plain": "            sum\ngameId         \n2856437506    1\n2857259300    1\n2857364171    0\n2857791625    0\n2860305268    0\n...         ...\n3587791787    1\n3587921963    0\n3587953458    1\n3587954814    0\n3588231162    1\n\n[151378 rows x 1 columns]",
      "text/html": "<div>\n<style scoped>\n    .dataframe tbody tr th:only-of-type {\n        vertical-align: middle;\n    }\n\n    .dataframe tbody tr th {\n        vertical-align: top;\n    }\n\n    .dataframe thead th {\n        text-align: right;\n    }\n</style>\n<table border=\"1\" class=\"dataframe\">\n  <thead>\n    <tr style=\"text-align: right;\">\n      <th></th>\n      <th>sum</th>\n    </tr>\n    <tr>\n      <th>gameId</th>\n      <th></th>\n    </tr>\n  </thead>\n  <tbody>\n    <tr>\n      <th>2856437506</th>\n      <td>1</td>\n    </tr>\n    <tr>\n      <th>2857259300</th>\n      <td>1</td>\n    </tr>\n    <tr>\n      <th>2857364171</th>\n      <td>0</td>\n    </tr>\n    <tr>\n      <th>2857791625</th>\n      <td>0</td>\n    </tr>\n    <tr>\n      <th>2860305268</th>\n      <td>0</td>\n    </tr>\n    <tr>\n      <th>...</th>\n      <td>...</td>\n    </tr>\n    <tr>\n      <th>3587791787</th>\n      <td>1</td>\n    </tr>\n    <tr>\n      <th>3587921963</th>\n      <td>0</td>\n    </tr>\n    <tr>\n      <th>3587953458</th>\n      <td>1</td>\n    </tr>\n    <tr>\n      <th>3587954814</th>\n      <td>0</td>\n    </tr>\n    <tr>\n      <th>3588231162</th>\n      <td>1</td>\n    </tr>\n  </tbody>\n</table>\n<p>151378 rows × 1 columns</p>\n</div>"
     },
     "metadata": {},
     "execution_count": 22
    }
   ],
   "source": [
    "allAPKaisaGames = apKaisa[['gameId', 'win']].groupby(['gameId']).agg(['sum'])['win']\n",
    "allAPKaisaGames"
   ]
  },
  {
   "cell_type": "code",
   "execution_count": 23,
   "metadata": {
    "tags": []
   },
   "outputs": [
    {
     "output_type": "stream",
     "name": "stdout",
     "text": "apKaisaWR: 0.48228 [73007 / 151378]\n"
    }
   ],
   "source": [
    "apKaisaWR = allAPKaisaGames['sum'].astype(bool).sum(axis=0)/len(allAPKaisaGames.index)\n",
    "\n",
    "print(f\"apKaisaWR: {apKaisaWR:.5f} [{allAPKaisaGames['sum'].astype(bool).sum(axis=0)} / {len(allAPKaisaGames.index)}]\")"
   ]
  },
  {
   "cell_type": "code",
   "execution_count": 24,
   "metadata": {},
   "outputs": [
    {
     "output_type": "execute_result",
     "data": {
      "text/plain": "             gameId  championId teamColor    win  item0  item1  item2  item3  \\\n0        2856437506          29       Red   True   3085   3095   3087   3072   \n1        2856437506         107      Blue  False   3142   3111   3147   3095   \n2        2856437506          31      Blue  False   3029   3111   3065   3083   \n3        2856437506          67      Blue  False   3072   3095   2015   3006   \n4        2856437506         268       Red   True   3020   3115   3116   3135   \n...             ...         ...       ...    ...    ...    ...    ...    ...   \n1586285  3588231162          39      Blue  False   3078   3111   3053   3211   \n1586286  3588231162          10       Red   True   3124   3146   3006   3115   \n1586287  3588231162          30      Blue  False   3029   3020   3135   3089   \n1586288  3588231162          17       Red   True   3285   3020   3151   3165   \n1586289  3588231162          92      Blue  False   3071   3111   3812   3155   \n\n         item4  item5  isAPKaisaTeam  \n0         3031      0           True  \n1         3044   3057          False  \n2         3135   1058          False  \n3         3087   3086          False  \n4         3165   1058           True  \n...        ...    ...            ...  \n1586285   3067      0          False  \n1586286   1058      0           True  \n1586287   1026   1052          False  \n1586288   1026   1052           True  \n1586289   3133      0          False  \n\n[1586290 rows x 11 columns]",
      "text/html": "<div>\n<style scoped>\n    .dataframe tbody tr th:only-of-type {\n        vertical-align: middle;\n    }\n\n    .dataframe tbody tr th {\n        vertical-align: top;\n    }\n\n    .dataframe thead th {\n        text-align: right;\n    }\n</style>\n<table border=\"1\" class=\"dataframe\">\n  <thead>\n    <tr style=\"text-align: right;\">\n      <th></th>\n      <th>gameId</th>\n      <th>championId</th>\n      <th>teamColor</th>\n      <th>win</th>\n      <th>item0</th>\n      <th>item1</th>\n      <th>item2</th>\n      <th>item3</th>\n      <th>item4</th>\n      <th>item5</th>\n      <th>isAPKaisaTeam</th>\n    </tr>\n  </thead>\n  <tbody>\n    <tr>\n      <th>0</th>\n      <td>2856437506</td>\n      <td>29</td>\n      <td>Red</td>\n      <td>True</td>\n      <td>3085</td>\n      <td>3095</td>\n      <td>3087</td>\n      <td>3072</td>\n      <td>3031</td>\n      <td>0</td>\n      <td>True</td>\n    </tr>\n    <tr>\n      <th>1</th>\n      <td>2856437506</td>\n      <td>107</td>\n      <td>Blue</td>\n      <td>False</td>\n      <td>3142</td>\n      <td>3111</td>\n      <td>3147</td>\n      <td>3095</td>\n      <td>3044</td>\n      <td>3057</td>\n      <td>False</td>\n    </tr>\n    <tr>\n      <th>2</th>\n      <td>2856437506</td>\n      <td>31</td>\n      <td>Blue</td>\n      <td>False</td>\n      <td>3029</td>\n      <td>3111</td>\n      <td>3065</td>\n      <td>3083</td>\n      <td>3135</td>\n      <td>1058</td>\n      <td>False</td>\n    </tr>\n    <tr>\n      <th>3</th>\n      <td>2856437506</td>\n      <td>67</td>\n      <td>Blue</td>\n      <td>False</td>\n      <td>3072</td>\n      <td>3095</td>\n      <td>2015</td>\n      <td>3006</td>\n      <td>3087</td>\n      <td>3086</td>\n      <td>False</td>\n    </tr>\n    <tr>\n      <th>4</th>\n      <td>2856437506</td>\n      <td>268</td>\n      <td>Red</td>\n      <td>True</td>\n      <td>3020</td>\n      <td>3115</td>\n      <td>3116</td>\n      <td>3135</td>\n      <td>3165</td>\n      <td>1058</td>\n      <td>True</td>\n    </tr>\n    <tr>\n      <th>...</th>\n      <td>...</td>\n      <td>...</td>\n      <td>...</td>\n      <td>...</td>\n      <td>...</td>\n      <td>...</td>\n      <td>...</td>\n      <td>...</td>\n      <td>...</td>\n      <td>...</td>\n      <td>...</td>\n    </tr>\n    <tr>\n      <th>1586285</th>\n      <td>3588231162</td>\n      <td>39</td>\n      <td>Blue</td>\n      <td>False</td>\n      <td>3078</td>\n      <td>3111</td>\n      <td>3053</td>\n      <td>3211</td>\n      <td>3067</td>\n      <td>0</td>\n      <td>False</td>\n    </tr>\n    <tr>\n      <th>1586286</th>\n      <td>3588231162</td>\n      <td>10</td>\n      <td>Red</td>\n      <td>True</td>\n      <td>3124</td>\n      <td>3146</td>\n      <td>3006</td>\n      <td>3115</td>\n      <td>1058</td>\n      <td>0</td>\n      <td>True</td>\n    </tr>\n    <tr>\n      <th>1586287</th>\n      <td>3588231162</td>\n      <td>30</td>\n      <td>Blue</td>\n      <td>False</td>\n      <td>3029</td>\n      <td>3020</td>\n      <td>3135</td>\n      <td>3089</td>\n      <td>1026</td>\n      <td>1052</td>\n      <td>False</td>\n    </tr>\n    <tr>\n      <th>1586288</th>\n      <td>3588231162</td>\n      <td>17</td>\n      <td>Red</td>\n      <td>True</td>\n      <td>3285</td>\n      <td>3020</td>\n      <td>3151</td>\n      <td>3165</td>\n      <td>1026</td>\n      <td>1052</td>\n      <td>True</td>\n    </tr>\n    <tr>\n      <th>1586289</th>\n      <td>3588231162</td>\n      <td>92</td>\n      <td>Blue</td>\n      <td>False</td>\n      <td>3071</td>\n      <td>3111</td>\n      <td>3812</td>\n      <td>3155</td>\n      <td>3133</td>\n      <td>0</td>\n      <td>False</td>\n    </tr>\n  </tbody>\n</table>\n<p>1586290 rows × 11 columns</p>\n</div>"
     },
     "metadata": {},
     "execution_count": 24
    }
   ],
   "source": [
    "apKaisaGames = pd.merge(kaisaGames_df, apKaisa[['gameId', 'teamColor', 'isAPKaisaTeam']], how='left', left_on=['gameId', 'teamColor'], right_on=['gameId', 'teamColor']).fillna(False)\n",
    "apKaisaGames"
   ]
  },
  {
   "cell_type": "code",
   "execution_count": 25,
   "metadata": {},
   "outputs": [
    {
     "output_type": "execute_result",
     "data": {
      "text/plain": "             gameId  championId teamColor    win  item0  item1  item2  item3  \\\n0        2856437506          29       Red   True   3085   3095   3087   3072   \n1        2856437506         107      Blue  False   3142   3111   3147   3095   \n2        2856437506          31      Blue  False   3029   3111   3065   3083   \n3        2856437506          67      Blue  False   3072   3095   2015   3006   \n4        2856437506         268       Red   True   3020   3115   3116   3135   \n...             ...         ...       ...    ...    ...    ...    ...    ...   \n1586285  3588231162          39      Blue  False   3078   3111   3053   3211   \n1586286  3588231162          10       Red   True   3124   3146   3006   3115   \n1586287  3588231162          30      Blue  False   3029   3020   3135   3089   \n1586288  3588231162          17       Red   True   3285   3020   3151   3165   \n1586289  3588231162          92      Blue  False   3071   3111   3812   3155   \n\n         item4  item5  isAPKaisaTeam  isSquishy  \n0         3031      0           True       True  \n1         3044   3057          False       True  \n2         3135   1058          False      False  \n3         3087   3086          False       True  \n4         3165   1058           True       True  \n...        ...    ...            ...        ...  \n1586285   3067      0          False      False  \n1586286   1058      0           True       True  \n1586287   1026   1052          False       True  \n1586288   1026   1052           True       True  \n1586289   3133      0          False      False  \n\n[1586290 rows x 12 columns]",
      "text/html": "<div>\n<style scoped>\n    .dataframe tbody tr th:only-of-type {\n        vertical-align: middle;\n    }\n\n    .dataframe tbody tr th {\n        vertical-align: top;\n    }\n\n    .dataframe thead th {\n        text-align: right;\n    }\n</style>\n<table border=\"1\" class=\"dataframe\">\n  <thead>\n    <tr style=\"text-align: right;\">\n      <th></th>\n      <th>gameId</th>\n      <th>championId</th>\n      <th>teamColor</th>\n      <th>win</th>\n      <th>item0</th>\n      <th>item1</th>\n      <th>item2</th>\n      <th>item3</th>\n      <th>item4</th>\n      <th>item5</th>\n      <th>isAPKaisaTeam</th>\n      <th>isSquishy</th>\n    </tr>\n  </thead>\n  <tbody>\n    <tr>\n      <th>0</th>\n      <td>2856437506</td>\n      <td>29</td>\n      <td>Red</td>\n      <td>True</td>\n      <td>3085</td>\n      <td>3095</td>\n      <td>3087</td>\n      <td>3072</td>\n      <td>3031</td>\n      <td>0</td>\n      <td>True</td>\n      <td>True</td>\n    </tr>\n    <tr>\n      <th>1</th>\n      <td>2856437506</td>\n      <td>107</td>\n      <td>Blue</td>\n      <td>False</td>\n      <td>3142</td>\n      <td>3111</td>\n      <td>3147</td>\n      <td>3095</td>\n      <td>3044</td>\n      <td>3057</td>\n      <td>False</td>\n      <td>True</td>\n    </tr>\n    <tr>\n      <th>2</th>\n      <td>2856437506</td>\n      <td>31</td>\n      <td>Blue</td>\n      <td>False</td>\n      <td>3029</td>\n      <td>3111</td>\n      <td>3065</td>\n      <td>3083</td>\n      <td>3135</td>\n      <td>1058</td>\n      <td>False</td>\n      <td>False</td>\n    </tr>\n    <tr>\n      <th>3</th>\n      <td>2856437506</td>\n      <td>67</td>\n      <td>Blue</td>\n      <td>False</td>\n      <td>3072</td>\n      <td>3095</td>\n      <td>2015</td>\n      <td>3006</td>\n      <td>3087</td>\n      <td>3086</td>\n      <td>False</td>\n      <td>True</td>\n    </tr>\n    <tr>\n      <th>4</th>\n      <td>2856437506</td>\n      <td>268</td>\n      <td>Red</td>\n      <td>True</td>\n      <td>3020</td>\n      <td>3115</td>\n      <td>3116</td>\n      <td>3135</td>\n      <td>3165</td>\n      <td>1058</td>\n      <td>True</td>\n      <td>True</td>\n    </tr>\n    <tr>\n      <th>...</th>\n      <td>...</td>\n      <td>...</td>\n      <td>...</td>\n      <td>...</td>\n      <td>...</td>\n      <td>...</td>\n      <td>...</td>\n      <td>...</td>\n      <td>...</td>\n      <td>...</td>\n      <td>...</td>\n      <td>...</td>\n    </tr>\n    <tr>\n      <th>1586285</th>\n      <td>3588231162</td>\n      <td>39</td>\n      <td>Blue</td>\n      <td>False</td>\n      <td>3078</td>\n      <td>3111</td>\n      <td>3053</td>\n      <td>3211</td>\n      <td>3067</td>\n      <td>0</td>\n      <td>False</td>\n      <td>False</td>\n    </tr>\n    <tr>\n      <th>1586286</th>\n      <td>3588231162</td>\n      <td>10</td>\n      <td>Red</td>\n      <td>True</td>\n      <td>3124</td>\n      <td>3146</td>\n      <td>3006</td>\n      <td>3115</td>\n      <td>1058</td>\n      <td>0</td>\n      <td>True</td>\n      <td>True</td>\n    </tr>\n    <tr>\n      <th>1586287</th>\n      <td>3588231162</td>\n      <td>30</td>\n      <td>Blue</td>\n      <td>False</td>\n      <td>3029</td>\n      <td>3020</td>\n      <td>3135</td>\n      <td>3089</td>\n      <td>1026</td>\n      <td>1052</td>\n      <td>False</td>\n      <td>True</td>\n    </tr>\n    <tr>\n      <th>1586288</th>\n      <td>3588231162</td>\n      <td>17</td>\n      <td>Red</td>\n      <td>True</td>\n      <td>3285</td>\n      <td>3020</td>\n      <td>3151</td>\n      <td>3165</td>\n      <td>1026</td>\n      <td>1052</td>\n      <td>True</td>\n      <td>True</td>\n    </tr>\n    <tr>\n      <th>1586289</th>\n      <td>3588231162</td>\n      <td>92</td>\n      <td>Blue</td>\n      <td>False</td>\n      <td>3071</td>\n      <td>3111</td>\n      <td>3812</td>\n      <td>3155</td>\n      <td>3133</td>\n      <td>0</td>\n      <td>False</td>\n      <td>False</td>\n    </tr>\n  </tbody>\n</table>\n<p>1586290 rows × 12 columns</p>\n</div>"
     },
     "metadata": {},
     "execution_count": 25
    }
   ],
   "source": [
    "apKaisaGames['isSquishy'] = apKaisaGames['championId'].isin(squishyChampIds)\n",
    "apKaisaGames"
   ]
  },
  {
   "cell_type": "code",
   "execution_count": 26,
   "metadata": {},
   "outputs": [
    {
     "output_type": "execute_result",
     "data": {
      "text/plain": "             gameId  championId teamColor    win  item0  item1  item2  item3  \\\n12       2857259300          31       Red   True   3029   3748   3193   3102   \n14       2857259300           9       Red   True   3020   3029   3157   3151   \n19       2857259300          59       Red   True   3147   3814   3142   3111   \n31       2857791625          86      Blue  False   3071   3111   3065   3156   \n33       2857791625          11      Blue  False   3031   3087   3006   1051   \n...             ...         ...       ...    ...    ...    ...    ...    ...   \n1586256  3587921963          39      Blue  False      0      0      0      0   \n1586258  3587921963          63      Blue  False   3285   3020   3116   3151   \n1586265  3587953458           8      Blue   True   3020   3152   3157   3067   \n1586282  3588231162          63       Red   True   3157   3020   3116   3135   \n1586284  3588231162         150       Red   True   3181   3006   3124   3022   \n\n         item4  item5  isAPKaisaTeam  isSquishy  \n12        3083   3020           True      False  \n14        3065   1058           True      False  \n19        3095   3053           True      False  \n31           0      0           True      False  \n33        1042      0           True      False  \n...        ...    ...            ...        ...  \n1586256      0      0           True      False  \n1586258   3135      0           True      False  \n1586265   1028   3089           True      False  \n1586282   3151      0           True      False  \n1586284   1042   1042           True      False  \n\n[255110 rows x 12 columns]",
      "text/html": "<div>\n<style scoped>\n    .dataframe tbody tr th:only-of-type {\n        vertical-align: middle;\n    }\n\n    .dataframe tbody tr th {\n        vertical-align: top;\n    }\n\n    .dataframe thead th {\n        text-align: right;\n    }\n</style>\n<table border=\"1\" class=\"dataframe\">\n  <thead>\n    <tr style=\"text-align: right;\">\n      <th></th>\n      <th>gameId</th>\n      <th>championId</th>\n      <th>teamColor</th>\n      <th>win</th>\n      <th>item0</th>\n      <th>item1</th>\n      <th>item2</th>\n      <th>item3</th>\n      <th>item4</th>\n      <th>item5</th>\n      <th>isAPKaisaTeam</th>\n      <th>isSquishy</th>\n    </tr>\n  </thead>\n  <tbody>\n    <tr>\n      <th>12</th>\n      <td>2857259300</td>\n      <td>31</td>\n      <td>Red</td>\n      <td>True</td>\n      <td>3029</td>\n      <td>3748</td>\n      <td>3193</td>\n      <td>3102</td>\n      <td>3083</td>\n      <td>3020</td>\n      <td>True</td>\n      <td>False</td>\n    </tr>\n    <tr>\n      <th>14</th>\n      <td>2857259300</td>\n      <td>9</td>\n      <td>Red</td>\n      <td>True</td>\n      <td>3020</td>\n      <td>3029</td>\n      <td>3157</td>\n      <td>3151</td>\n      <td>3065</td>\n      <td>1058</td>\n      <td>True</td>\n      <td>False</td>\n    </tr>\n    <tr>\n      <th>19</th>\n      <td>2857259300</td>\n      <td>59</td>\n      <td>Red</td>\n      <td>True</td>\n      <td>3147</td>\n      <td>3814</td>\n      <td>3142</td>\n      <td>3111</td>\n      <td>3095</td>\n      <td>3053</td>\n      <td>True</td>\n      <td>False</td>\n    </tr>\n    <tr>\n      <th>31</th>\n      <td>2857791625</td>\n      <td>86</td>\n      <td>Blue</td>\n      <td>False</td>\n      <td>3071</td>\n      <td>3111</td>\n      <td>3065</td>\n      <td>3156</td>\n      <td>0</td>\n      <td>0</td>\n      <td>True</td>\n      <td>False</td>\n    </tr>\n    <tr>\n      <th>33</th>\n      <td>2857791625</td>\n      <td>11</td>\n      <td>Blue</td>\n      <td>False</td>\n      <td>3031</td>\n      <td>3087</td>\n      <td>3006</td>\n      <td>1051</td>\n      <td>1042</td>\n      <td>0</td>\n      <td>True</td>\n      <td>False</td>\n    </tr>\n    <tr>\n      <th>...</th>\n      <td>...</td>\n      <td>...</td>\n      <td>...</td>\n      <td>...</td>\n      <td>...</td>\n      <td>...</td>\n      <td>...</td>\n      <td>...</td>\n      <td>...</td>\n      <td>...</td>\n      <td>...</td>\n      <td>...</td>\n    </tr>\n    <tr>\n      <th>1586256</th>\n      <td>3587921963</td>\n      <td>39</td>\n      <td>Blue</td>\n      <td>False</td>\n      <td>0</td>\n      <td>0</td>\n      <td>0</td>\n      <td>0</td>\n      <td>0</td>\n      <td>0</td>\n      <td>True</td>\n      <td>False</td>\n    </tr>\n    <tr>\n      <th>1586258</th>\n      <td>3587921963</td>\n      <td>63</td>\n      <td>Blue</td>\n      <td>False</td>\n      <td>3285</td>\n      <td>3020</td>\n      <td>3116</td>\n      <td>3151</td>\n      <td>3135</td>\n      <td>0</td>\n      <td>True</td>\n      <td>False</td>\n    </tr>\n    <tr>\n      <th>1586265</th>\n      <td>3587953458</td>\n      <td>8</td>\n      <td>Blue</td>\n      <td>True</td>\n      <td>3020</td>\n      <td>3152</td>\n      <td>3157</td>\n      <td>3067</td>\n      <td>1028</td>\n      <td>3089</td>\n      <td>True</td>\n      <td>False</td>\n    </tr>\n    <tr>\n      <th>1586282</th>\n      <td>3588231162</td>\n      <td>63</td>\n      <td>Red</td>\n      <td>True</td>\n      <td>3157</td>\n      <td>3020</td>\n      <td>3116</td>\n      <td>3135</td>\n      <td>3151</td>\n      <td>0</td>\n      <td>True</td>\n      <td>False</td>\n    </tr>\n    <tr>\n      <th>1586284</th>\n      <td>3588231162</td>\n      <td>150</td>\n      <td>Red</td>\n      <td>True</td>\n      <td>3181</td>\n      <td>3006</td>\n      <td>3124</td>\n      <td>3022</td>\n      <td>1042</td>\n      <td>1042</td>\n      <td>True</td>\n      <td>False</td>\n    </tr>\n  </tbody>\n</table>\n<p>255110 rows × 12 columns</p>\n</div>"
     },
     "metadata": {},
     "execution_count": 26
    }
   ],
   "source": [
    "noSquishiesGames = apKaisaGames.loc[(apKaisaGames['isAPKaisaTeam'] == True) & (apKaisaGames['isSquishy'] == False)]\n",
    "noSquishiesGames"
   ]
  },
  {
   "cell_type": "code",
   "execution_count": 27,
   "metadata": {},
   "outputs": [
    {
     "output_type": "execute_result",
     "data": {
      "text/plain": "           win isSquishy\n           sum       sum\ngameId                  \n2857259300   3         0\n2857791625   0         0\n2860305268   0         0\n2860918669   0         0\n2861731649   0         0\n...         ..       ...\n3587790379   2         0\n3587791787   1         0\n3587921963   0         0\n3587953458   1         0\n3588231162   2         0\n\n[137387 rows x 2 columns]",
      "text/html": "<div>\n<style scoped>\n    .dataframe tbody tr th:only-of-type {\n        vertical-align: middle;\n    }\n\n    .dataframe tbody tr th {\n        vertical-align: top;\n    }\n\n    .dataframe thead tr th {\n        text-align: left;\n    }\n\n    .dataframe thead tr:last-of-type th {\n        text-align: right;\n    }\n</style>\n<table border=\"1\" class=\"dataframe\">\n  <thead>\n    <tr>\n      <th></th>\n      <th>win</th>\n      <th>isSquishy</th>\n    </tr>\n    <tr>\n      <th></th>\n      <th>sum</th>\n      <th>sum</th>\n    </tr>\n    <tr>\n      <th>gameId</th>\n      <th></th>\n      <th></th>\n    </tr>\n  </thead>\n  <tbody>\n    <tr>\n      <th>2857259300</th>\n      <td>3</td>\n      <td>0</td>\n    </tr>\n    <tr>\n      <th>2857791625</th>\n      <td>0</td>\n      <td>0</td>\n    </tr>\n    <tr>\n      <th>2860305268</th>\n      <td>0</td>\n      <td>0</td>\n    </tr>\n    <tr>\n      <th>2860918669</th>\n      <td>0</td>\n      <td>0</td>\n    </tr>\n    <tr>\n      <th>2861731649</th>\n      <td>0</td>\n      <td>0</td>\n    </tr>\n    <tr>\n      <th>...</th>\n      <td>...</td>\n      <td>...</td>\n    </tr>\n    <tr>\n      <th>3587790379</th>\n      <td>2</td>\n      <td>0</td>\n    </tr>\n    <tr>\n      <th>3587791787</th>\n      <td>1</td>\n      <td>0</td>\n    </tr>\n    <tr>\n      <th>3587921963</th>\n      <td>0</td>\n      <td>0</td>\n    </tr>\n    <tr>\n      <th>3587953458</th>\n      <td>1</td>\n      <td>0</td>\n    </tr>\n    <tr>\n      <th>3588231162</th>\n      <td>2</td>\n      <td>0</td>\n    </tr>\n  </tbody>\n</table>\n<p>137387 rows × 2 columns</p>\n</div>"
     },
     "metadata": {},
     "execution_count": 27
    }
   ],
   "source": [
    "noSquishiesGames = noSquishiesGames[['gameId', 'win', 'isSquishy']].groupby(['gameId']).agg(['sum'])\n",
    "noSquishiesGames"
   ]
  },
  {
   "cell_type": "code",
   "execution_count": 28,
   "metadata": {},
   "outputs": [
    {
     "output_type": "execute_result",
     "data": {
      "text/plain": "             gameId  championId teamColor    win  item0  item1  item2  item3  \\\n1        2856437506         107      Blue  False   3142   3111   3147   3095   \n3        2856437506          67      Blue  False   3072   3095   2015   3006   \n6        2856437506          91      Blue  False   3147   3074   3142   3158   \n10       2857259300          99      Blue  False   3285   3089   3020   3157   \n11       2857259300          30      Blue  False   3048   3020   3029   3102   \n...             ...         ...       ...    ...    ...    ...    ...    ...   \n1586267  3587953458         117       Red  False   3100   3115   3504   3009   \n1586274  3587954814         202       Red   True   3031   3006   3094   2015   \n1586276  3587954814         115       Red   True   3285   3020   3100   1058   \n1586283  3588231162         518      Blue  False   3285   3020   3048   3191   \n1586287  3588231162          30      Blue  False   3029   3020   3135   3089   \n\n         item4  item5  isAPKaisaTeam  isSquishy  \n1         3044   3057          False       True  \n3         3087   3086          False       True  \n6         3071   1053          False       True  \n10        1026   3135          False       True  \n11        3116   3083          False       True  \n...        ...    ...            ...        ...  \n1586267   1006   1004          False       True  \n1586274   1018      0          False       True  \n1586276      0      0          False       True  \n1586283   3108      0          False       True  \n1586287   1026   1052          False       True  \n\n[493663 rows x 12 columns]",
      "text/html": "<div>\n<style scoped>\n    .dataframe tbody tr th:only-of-type {\n        vertical-align: middle;\n    }\n\n    .dataframe tbody tr th {\n        vertical-align: top;\n    }\n\n    .dataframe thead th {\n        text-align: right;\n    }\n</style>\n<table border=\"1\" class=\"dataframe\">\n  <thead>\n    <tr style=\"text-align: right;\">\n      <th></th>\n      <th>gameId</th>\n      <th>championId</th>\n      <th>teamColor</th>\n      <th>win</th>\n      <th>item0</th>\n      <th>item1</th>\n      <th>item2</th>\n      <th>item3</th>\n      <th>item4</th>\n      <th>item5</th>\n      <th>isAPKaisaTeam</th>\n      <th>isSquishy</th>\n    </tr>\n  </thead>\n  <tbody>\n    <tr>\n      <th>1</th>\n      <td>2856437506</td>\n      <td>107</td>\n      <td>Blue</td>\n      <td>False</td>\n      <td>3142</td>\n      <td>3111</td>\n      <td>3147</td>\n      <td>3095</td>\n      <td>3044</td>\n      <td>3057</td>\n      <td>False</td>\n      <td>True</td>\n    </tr>\n    <tr>\n      <th>3</th>\n      <td>2856437506</td>\n      <td>67</td>\n      <td>Blue</td>\n      <td>False</td>\n      <td>3072</td>\n      <td>3095</td>\n      <td>2015</td>\n      <td>3006</td>\n      <td>3087</td>\n      <td>3086</td>\n      <td>False</td>\n      <td>True</td>\n    </tr>\n    <tr>\n      <th>6</th>\n      <td>2856437506</td>\n      <td>91</td>\n      <td>Blue</td>\n      <td>False</td>\n      <td>3147</td>\n      <td>3074</td>\n      <td>3142</td>\n      <td>3158</td>\n      <td>3071</td>\n      <td>1053</td>\n      <td>False</td>\n      <td>True</td>\n    </tr>\n    <tr>\n      <th>10</th>\n      <td>2857259300</td>\n      <td>99</td>\n      <td>Blue</td>\n      <td>False</td>\n      <td>3285</td>\n      <td>3089</td>\n      <td>3020</td>\n      <td>3157</td>\n      <td>1026</td>\n      <td>3135</td>\n      <td>False</td>\n      <td>True</td>\n    </tr>\n    <tr>\n      <th>11</th>\n      <td>2857259300</td>\n      <td>30</td>\n      <td>Blue</td>\n      <td>False</td>\n      <td>3048</td>\n      <td>3020</td>\n      <td>3029</td>\n      <td>3102</td>\n      <td>3116</td>\n      <td>3083</td>\n      <td>False</td>\n      <td>True</td>\n    </tr>\n    <tr>\n      <th>...</th>\n      <td>...</td>\n      <td>...</td>\n      <td>...</td>\n      <td>...</td>\n      <td>...</td>\n      <td>...</td>\n      <td>...</td>\n      <td>...</td>\n      <td>...</td>\n      <td>...</td>\n      <td>...</td>\n      <td>...</td>\n    </tr>\n    <tr>\n      <th>1586267</th>\n      <td>3587953458</td>\n      <td>117</td>\n      <td>Red</td>\n      <td>False</td>\n      <td>3100</td>\n      <td>3115</td>\n      <td>3504</td>\n      <td>3009</td>\n      <td>1006</td>\n      <td>1004</td>\n      <td>False</td>\n      <td>True</td>\n    </tr>\n    <tr>\n      <th>1586274</th>\n      <td>3587954814</td>\n      <td>202</td>\n      <td>Red</td>\n      <td>True</td>\n      <td>3031</td>\n      <td>3006</td>\n      <td>3094</td>\n      <td>2015</td>\n      <td>1018</td>\n      <td>0</td>\n      <td>False</td>\n      <td>True</td>\n    </tr>\n    <tr>\n      <th>1586276</th>\n      <td>3587954814</td>\n      <td>115</td>\n      <td>Red</td>\n      <td>True</td>\n      <td>3285</td>\n      <td>3020</td>\n      <td>3100</td>\n      <td>1058</td>\n      <td>0</td>\n      <td>0</td>\n      <td>False</td>\n      <td>True</td>\n    </tr>\n    <tr>\n      <th>1586283</th>\n      <td>3588231162</td>\n      <td>518</td>\n      <td>Blue</td>\n      <td>False</td>\n      <td>3285</td>\n      <td>3020</td>\n      <td>3048</td>\n      <td>3191</td>\n      <td>3108</td>\n      <td>0</td>\n      <td>False</td>\n      <td>True</td>\n    </tr>\n    <tr>\n      <th>1586287</th>\n      <td>3588231162</td>\n      <td>30</td>\n      <td>Blue</td>\n      <td>False</td>\n      <td>3029</td>\n      <td>3020</td>\n      <td>3135</td>\n      <td>3089</td>\n      <td>1026</td>\n      <td>1052</td>\n      <td>False</td>\n      <td>True</td>\n    </tr>\n  </tbody>\n</table>\n<p>493663 rows × 12 columns</p>\n</div>"
     },
     "metadata": {},
     "execution_count": 28
    }
   ],
   "source": [
    "apKaisaGames = apKaisaGames.loc[(apKaisaGames['isAPKaisaTeam'] == False) & (apKaisaGames['isSquishy'] == True)]\n",
    "apKaisaGames"
   ]
  },
  {
   "cell_type": "code",
   "execution_count": 29,
   "metadata": {},
   "outputs": [
    {
     "output_type": "execute_result",
     "data": {
      "text/plain": "           win isSquishy\n           sum       sum\ngameId                  \n2856437506   0         3\n2857259300   0         4\n2857364171   2         2\n2857791625   3         3\n2860305268   4         4\n...         ..       ...\n3587791787   0         3\n3587921963   3         3\n3587953458   0         2\n3587954814   2         2\n3588231162   0         2\n\n[157593 rows x 2 columns]",
      "text/html": "<div>\n<style scoped>\n    .dataframe tbody tr th:only-of-type {\n        vertical-align: middle;\n    }\n\n    .dataframe tbody tr th {\n        vertical-align: top;\n    }\n\n    .dataframe thead tr th {\n        text-align: left;\n    }\n\n    .dataframe thead tr:last-of-type th {\n        text-align: right;\n    }\n</style>\n<table border=\"1\" class=\"dataframe\">\n  <thead>\n    <tr>\n      <th></th>\n      <th>win</th>\n      <th>isSquishy</th>\n    </tr>\n    <tr>\n      <th></th>\n      <th>sum</th>\n      <th>sum</th>\n    </tr>\n    <tr>\n      <th>gameId</th>\n      <th></th>\n      <th></th>\n    </tr>\n  </thead>\n  <tbody>\n    <tr>\n      <th>2856437506</th>\n      <td>0</td>\n      <td>3</td>\n    </tr>\n    <tr>\n      <th>2857259300</th>\n      <td>0</td>\n      <td>4</td>\n    </tr>\n    <tr>\n      <th>2857364171</th>\n      <td>2</td>\n      <td>2</td>\n    </tr>\n    <tr>\n      <th>2857791625</th>\n      <td>3</td>\n      <td>3</td>\n    </tr>\n    <tr>\n      <th>2860305268</th>\n      <td>4</td>\n      <td>4</td>\n    </tr>\n    <tr>\n      <th>...</th>\n      <td>...</td>\n      <td>...</td>\n    </tr>\n    <tr>\n      <th>3587791787</th>\n      <td>0</td>\n      <td>3</td>\n    </tr>\n    <tr>\n      <th>3587921963</th>\n      <td>3</td>\n      <td>3</td>\n    </tr>\n    <tr>\n      <th>3587953458</th>\n      <td>0</td>\n      <td>2</td>\n    </tr>\n    <tr>\n      <th>3587954814</th>\n      <td>2</td>\n      <td>2</td>\n    </tr>\n    <tr>\n      <th>3588231162</th>\n      <td>0</td>\n      <td>2</td>\n    </tr>\n  </tbody>\n</table>\n<p>157593 rows × 2 columns</p>\n</div>"
     },
     "metadata": {},
     "execution_count": 29
    }
   ],
   "source": [
    "apKaisaGames = apKaisaGames[['gameId', 'win', 'isSquishy']].groupby(['gameId']).agg(['sum'])#[['win', 'isSupport']]\n",
    "apKaisaGames"
   ]
  },
  {
   "cell_type": "code",
   "execution_count": 30,
   "metadata": {
    "tags": []
   },
   "outputs": [],
   "source": [
    "noSquishies = noSquishiesGames[noSquishiesGames['isSquishy']['sum'] == 0]['win']\n",
    "oneSquishies = apKaisaGames[apKaisaGames['isSquishy']['sum'] == 1]['win']\n",
    "twoSquishies = apKaisaGames[apKaisaGames['isSquishy']['sum'] == 2]['win']\n",
    "threeSquishies = apKaisaGames[apKaisaGames['isSquishy']['sum'] == 3]['win']\n",
    "fourSquishies = apKaisaGames[apKaisaGames['isSquishy']['sum'] == 4]['win']\n",
    "fiveSquishies = apKaisaGames[apKaisaGames['isSquishy']['sum'] == 5]['win']\n",
    "\n",
    "noSquishiesWR = noSquishies['sum'].astype(bool).sum(axis=0)/len(noSquishiesGames.index)\n",
    "oneSquishiesWR = (~oneSquishies['sum'].astype(bool)).sum(axis=0)/len(oneSquishies.index)\n",
    "twoSquishiesWR = (~twoSquishies['sum'].astype(bool)).sum(axis=0)/len(twoSquishies.index)\n",
    "threeSquishiesWR = (~threeSquishies['sum'].astype(bool)).sum(axis=0)/len(threeSquishies.index)\n",
    "fourSquishiesWR = (~fourSquishies['sum'].astype(bool)).sum(axis=0)/len(fourSquishies.index)\n",
    "fiveSquishiesWR = (~fiveSquishies['sum'].astype(bool)).sum(axis=0)/len(fiveSquishies.index)"
   ]
  },
  {
   "cell_type": "code",
   "execution_count": 31,
   "metadata": {},
   "outputs": [],
   "source": [
    "from statsmodels.stats.proportion import proportion_confint"
   ]
  },
  {
   "cell_type": "code",
   "execution_count": 32,
   "metadata": {},
   "outputs": [],
   "source": [
    "kaisaCI = proportion_confint(allKaisaGames['sum'].astype(bool).sum(axis=0), len(allKaisaGames.index), method='binom_test', alpha=0.05)\n",
    "adKaisaCI = proportion_confint(allADKaisaGames['sum'].astype(bool).sum(axis=0), len(allADKaisaGames.index), method='binom_test', alpha=0.05)\n",
    "apKaisaCI = proportion_confint(allAPKaisaGames['sum'].astype(bool).sum(axis=0), len(allAPKaisaGames.index), method='binom_test', alpha=0.05)"
   ]
  },
  {
   "cell_type": "code",
   "execution_count": 33,
   "metadata": {},
   "outputs": [],
   "source": [
    "noSquishiesCI = proportion_confint(noSquishies['sum'].astype(bool).sum(axis=0), len(noSquishiesGames.index), method='binom_test', alpha=0.05)\n",
    "oneSquishiesCI = proportion_confint((~oneSquishies['sum'].astype(bool)).sum(axis=0), len(oneSquishies.index), method='binom_test', alpha=0.05)\n",
    "twoSquishiesCI = proportion_confint((~twoSquishies['sum'].astype(bool)).sum(axis=0), len(twoSquishies.index), method='binom_test', alpha=0.05)\n",
    "threeSquishiesCI = proportion_confint((~threeSquishies['sum'].astype(bool)).sum(axis=0), len(threeSquishies.index), method='binom_test', alpha=0.05)\n",
    "fourSquishiesCI = proportion_confint((~fourSquishies['sum'].astype(bool)).sum(axis=0), len(fourSquishies.index), method='binom_test', alpha=0.05)\n",
    "fiveSquishiesCI = proportion_confint((~fiveSquishies['sum'].astype(bool)).sum(axis=0), len(fiveSquishies.index), method='binom_test', alpha=0.05)"
   ]
  },
  {
   "cell_type": "code",
   "execution_count": 35,
   "metadata": {
    "tags": []
   },
   "outputs": [
    {
     "output_type": "stream",
     "name": "stdout",
     "text": "kaisaWR: 0.48011 [76160 / 158629]\nadKaisaWR: 0.43484 [3153 / 7251]\napKaisaWR: 0.48228 [73007 / 151378]\nnoSquishiesWR: 0.48316 [66380 / 137387]\noneSquishiesWR: 0.48603 [5130 / 10555]\ntwoSquishiesWR: 0.47304 [17168 / 36293]\nthreeSquishiesWR: 0.47588 [27067 / 56878]\nfourSquishiesWR: 0.48056 [18739 / 38994]\nfiveSquishiesWR: 0.44848 [4422 / 9860]\n"
    }
   ],
   "source": [
    "print(f\"kaisaWR: {kaisaWR:.5f} [{allKaisaGames['sum'].astype(bool).sum(axis=0)} / {len(allKaisaGames.index)}]\")\n",
    "print(f\"adKaisaWR: {adKaisaWR:.5f} [{allADKaisaGames['sum'].astype(bool).sum(axis=0)} / {len(allADKaisaGames.index)}]\")\n",
    "print(f\"apKaisaWR: {apKaisaWR:.5f} [{allAPKaisaGames['sum'].astype(bool).sum(axis=0)} / {len(allAPKaisaGames.index)}]\")\n",
    "print(f\"noSquishiesWR: {noSquishiesWR:.5f} [{noSquishies['sum'].astype(bool).sum(axis=0)} / {len(noSquishies.index)}]\")\n",
    "print(f\"oneSquishiesWR: {oneSquishiesWR:.5f} [{(~oneSquishies['sum'].astype(bool)).sum(axis=0)} / {len(oneSquishies.index)}]\")\n",
    "print(f\"twoSquishiesWR: {twoSquishiesWR:.5f} [{(~twoSquishies['sum'].astype(bool)).sum(axis=0)} / {len(twoSquishies.index)}]\")\n",
    "print(f\"threeSquishiesWR: {threeSquishiesWR:.5f} [{(~threeSquishies['sum'].astype(bool)).sum(axis=0)} / {len(threeSquishies.index)}]\")\n",
    "print(f\"fourSquishiesWR: {fourSquishiesWR:.5f} [{(~fourSquishies['sum'].astype(bool)).sum(axis=0)} / {len(fourSquishies.index)}]\")\n",
    "print(f\"fiveSquishiesWR: {fiveSquishiesWR:.5f} [{(~fiveSquishies['sum'].astype(bool)).sum(axis=0)} / {len(fiveSquishies.index)}]\")"
   ]
  },
  {
   "cell_type": "code",
   "execution_count": 36,
   "metadata": {
    "tags": []
   },
   "outputs": [
    {
     "output_type": "stream",
     "name": "stdout",
     "text": "95% CI: [0.477655, 0.482576]\n95% CI: [0.423456, 0.446281]\n95% CI: [0.479766, 0.484803]\n95% CI: [0.480518, 0.485806]\n95% CI: [0.476456, 0.495594]\n95% CI: [0.467900, 0.478191]\n95% CI: [0.471773, 0.479992]\n95% CI: [0.475599, 0.485523]\n95% CI: [0.438639, 0.458315]\n"
    }
   ],
   "source": [
    "print(f\"95% CI: [{kaisaCI[0]:.6f}, {kaisaCI[1]:.6f}]\")\n",
    "print(f\"95% CI: [{adKaisaCI[0]:.6f}, {adKaisaCI[1]:.6f}]\")\n",
    "print(f\"95% CI: [{apKaisaCI[0]:.6f}, {apKaisaCI[1]:.6f}]\")\n",
    "print(f\"95% CI: [{noSquishiesCI[0]:.6f}, {noSquishiesCI[1]:.6f}]\")\n",
    "print(f\"95% CI: [{oneSquishiesCI[0]:.6f}, {oneSquishiesCI[1]:.6f}]\")\n",
    "print(f\"95% CI: [{twoSquishiesCI[0]:.6f}, {twoSquishiesCI[1]:.6f}]\")\n",
    "print(f\"95% CI: [{threeSquishiesCI[0]:.6f}, {threeSquishiesCI[1]:.6f}]\")\n",
    "print(f\"95% CI: [{fourSquishiesCI[0]:.6f}, {fourSquishiesCI[1]:.6f}]\")\n",
    "print(f\"95% CI: [{fiveSquishiesCI[0]:.6f}, {fiveSquishiesCI[1]:.6f}]\")"
   ]
  },
  {
   "cell_type": "code",
   "execution_count": null,
   "metadata": {},
   "outputs": [],
   "source": []
  }
 ]
}