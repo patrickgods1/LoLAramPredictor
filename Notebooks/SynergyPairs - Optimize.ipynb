{
 "metadata": {
  "language_info": {
   "codemirror_mode": {
    "name": "ipython",
    "version": 3
   },
   "file_extension": ".py",
   "mimetype": "text/x-python",
   "name": "python",
   "nbconvert_exporter": "python",
   "pygments_lexer": "ipython3",
   "version": "3.6.10-final"
  },
  "orig_nbformat": 2,
  "kernelspec": {
   "name": "Python 3.6.10 64-bit ('Python36': conda)",
   "display_name": "Python 3.6.10 64-bit ('Python36': conda)",
   "metadata": {
    "interpreter": {
     "hash": "23508edb48211c585617c619e9f1b5e8d4b0a27eebe8bdb1b05c1cca5979f0c4"
    }
   }
  }
 },
 "nbformat": 4,
 "nbformat_minor": 2,
 "cells": [
  {
   "cell_type": "code",
   "execution_count": 1,
   "metadata": {},
   "outputs": [],
   "source": [
    "import pandas as pd\n",
    "import json\n",
    "filePath = r\"C:\\\\Users\\\\Pat\\\\Desktop\\\\Projects\\\\LoLAramPredictor\\\\Game Info\\\\\""
   ]
  },
  {
   "cell_type": "code",
   "execution_count": 2,
   "metadata": {
    "tags": []
   },
   "outputs": [
    {
     "output_type": "execute_result",
     "data": {
      "text/plain": "               name attack defense magic difficulty primaryClass  \\\nchampionId                                                         \n266          Aatrox      8       4     3          4      Fighter   \n103            Ahri      3       4     8          5         Mage   \n84            Akali      5       3     8          7     Assassin   \n12          Alistar      6       9     5          7         Tank   \n32            Amumu      2       6     8          3         Tank   \n...             ...    ...     ...   ...        ...          ...   \n238             Zed      9       2     1          7     Assassin   \n115           Ziggs      2       4     9          4         Mage   \n26           Zilean      2       5     8          6      Support   \n142             Zoe      1       7     8          5         Mage   \n143            Zyra      4       3     8          7         Mage   \n\n           secondaryClass     partype      hp hpperlevel  ... hpregen  \\\nchampionId                                                ...           \n266                  Tank  Blood Well     580         90  ...       3   \n103              Assassin        Mana     526         92  ...     5.5   \n84                   None      Energy     575         95  ...       8   \n12                Support        Mana     600        106  ...     8.5   \n32                   Mage        Mana  613.12         84  ...       9   \n...                   ...         ...     ...        ...  ...     ...   \n238                  None      Energy     584         85  ...       7   \n115                  None        Mana     536         92  ...     6.5   \n26                   Mage        Mana     504         82  ...     5.5   \n142               Support        Mana     560         92  ...     6.5   \n143               Support        Mana     504         79  ...     5.5   \n\n           hpregenperlevel mpregen mpregenperlevel  crit  critperlevel  \\\nchampionId                                                               \n266                      1       0               0     0             0   \n103                    0.6       8             0.8     0             0   \n84                     0.5      50               0     0             0   \n12                    0.85     8.5             0.8     0             0   \n32                    0.85   7.382           0.525     0             0   \n...                    ...     ...             ...   ...           ...   \n238                   0.65      50               0     0             0   \n115                    0.6       8             0.8     0             0   \n26                     0.5  11.335             0.8     0             0   \n142                    0.6       8            0.65     0             0   \n143                    0.5      13             0.4     0             0   \n\n            attackdamage attackdamageperlevel attackspeedperlevel attackspeed  \nchampionId                                                                     \n266                   60                    5               2.500       0.651  \n103                53.04                    3               2.000       0.668  \n84                  62.4                  3.3               3.200       0.625  \n12                    62                 3.75               2.125       0.625  \n32                 53.38                  3.8               2.180       0.736  \n...                  ...                  ...                 ...         ...  \n238                   63                  3.4               3.300       0.651  \n115               54.208                  3.1               2.000       0.656  \n26                 51.64                    3               2.130       0.625  \n142                   58                  3.3               2.500       0.625  \n143               53.376                  3.2               2.110       0.625  \n\n[151 rows x 28 columns]",
      "text/html": "<div>\n<style scoped>\n    .dataframe tbody tr th:only-of-type {\n        vertical-align: middle;\n    }\n\n    .dataframe tbody tr th {\n        vertical-align: top;\n    }\n\n    .dataframe thead th {\n        text-align: right;\n    }\n</style>\n<table border=\"1\" class=\"dataframe\">\n  <thead>\n    <tr style=\"text-align: right;\">\n      <th></th>\n      <th>name</th>\n      <th>attack</th>\n      <th>defense</th>\n      <th>magic</th>\n      <th>difficulty</th>\n      <th>primaryClass</th>\n      <th>secondaryClass</th>\n      <th>partype</th>\n      <th>hp</th>\n      <th>hpperlevel</th>\n      <th>...</th>\n      <th>hpregen</th>\n      <th>hpregenperlevel</th>\n      <th>mpregen</th>\n      <th>mpregenperlevel</th>\n      <th>crit</th>\n      <th>critperlevel</th>\n      <th>attackdamage</th>\n      <th>attackdamageperlevel</th>\n      <th>attackspeedperlevel</th>\n      <th>attackspeed</th>\n    </tr>\n    <tr>\n      <th>championId</th>\n      <th></th>\n      <th></th>\n      <th></th>\n      <th></th>\n      <th></th>\n      <th></th>\n      <th></th>\n      <th></th>\n      <th></th>\n      <th></th>\n      <th></th>\n      <th></th>\n      <th></th>\n      <th></th>\n      <th></th>\n      <th></th>\n      <th></th>\n      <th></th>\n      <th></th>\n      <th></th>\n      <th></th>\n    </tr>\n  </thead>\n  <tbody>\n    <tr>\n      <th>266</th>\n      <td>Aatrox</td>\n      <td>8</td>\n      <td>4</td>\n      <td>3</td>\n      <td>4</td>\n      <td>Fighter</td>\n      <td>Tank</td>\n      <td>Blood Well</td>\n      <td>580</td>\n      <td>90</td>\n      <td>...</td>\n      <td>3</td>\n      <td>1</td>\n      <td>0</td>\n      <td>0</td>\n      <td>0</td>\n      <td>0</td>\n      <td>60</td>\n      <td>5</td>\n      <td>2.500</td>\n      <td>0.651</td>\n    </tr>\n    <tr>\n      <th>103</th>\n      <td>Ahri</td>\n      <td>3</td>\n      <td>4</td>\n      <td>8</td>\n      <td>5</td>\n      <td>Mage</td>\n      <td>Assassin</td>\n      <td>Mana</td>\n      <td>526</td>\n      <td>92</td>\n      <td>...</td>\n      <td>5.5</td>\n      <td>0.6</td>\n      <td>8</td>\n      <td>0.8</td>\n      <td>0</td>\n      <td>0</td>\n      <td>53.04</td>\n      <td>3</td>\n      <td>2.000</td>\n      <td>0.668</td>\n    </tr>\n    <tr>\n      <th>84</th>\n      <td>Akali</td>\n      <td>5</td>\n      <td>3</td>\n      <td>8</td>\n      <td>7</td>\n      <td>Assassin</td>\n      <td>None</td>\n      <td>Energy</td>\n      <td>575</td>\n      <td>95</td>\n      <td>...</td>\n      <td>8</td>\n      <td>0.5</td>\n      <td>50</td>\n      <td>0</td>\n      <td>0</td>\n      <td>0</td>\n      <td>62.4</td>\n      <td>3.3</td>\n      <td>3.200</td>\n      <td>0.625</td>\n    </tr>\n    <tr>\n      <th>12</th>\n      <td>Alistar</td>\n      <td>6</td>\n      <td>9</td>\n      <td>5</td>\n      <td>7</td>\n      <td>Tank</td>\n      <td>Support</td>\n      <td>Mana</td>\n      <td>600</td>\n      <td>106</td>\n      <td>...</td>\n      <td>8.5</td>\n      <td>0.85</td>\n      <td>8.5</td>\n      <td>0.8</td>\n      <td>0</td>\n      <td>0</td>\n      <td>62</td>\n      <td>3.75</td>\n      <td>2.125</td>\n      <td>0.625</td>\n    </tr>\n    <tr>\n      <th>32</th>\n      <td>Amumu</td>\n      <td>2</td>\n      <td>6</td>\n      <td>8</td>\n      <td>3</td>\n      <td>Tank</td>\n      <td>Mage</td>\n      <td>Mana</td>\n      <td>613.12</td>\n      <td>84</td>\n      <td>...</td>\n      <td>9</td>\n      <td>0.85</td>\n      <td>7.382</td>\n      <td>0.525</td>\n      <td>0</td>\n      <td>0</td>\n      <td>53.38</td>\n      <td>3.8</td>\n      <td>2.180</td>\n      <td>0.736</td>\n    </tr>\n    <tr>\n      <th>...</th>\n      <td>...</td>\n      <td>...</td>\n      <td>...</td>\n      <td>...</td>\n      <td>...</td>\n      <td>...</td>\n      <td>...</td>\n      <td>...</td>\n      <td>...</td>\n      <td>...</td>\n      <td>...</td>\n      <td>...</td>\n      <td>...</td>\n      <td>...</td>\n      <td>...</td>\n      <td>...</td>\n      <td>...</td>\n      <td>...</td>\n      <td>...</td>\n      <td>...</td>\n      <td>...</td>\n    </tr>\n    <tr>\n      <th>238</th>\n      <td>Zed</td>\n      <td>9</td>\n      <td>2</td>\n      <td>1</td>\n      <td>7</td>\n      <td>Assassin</td>\n      <td>None</td>\n      <td>Energy</td>\n      <td>584</td>\n      <td>85</td>\n      <td>...</td>\n      <td>7</td>\n      <td>0.65</td>\n      <td>50</td>\n      <td>0</td>\n      <td>0</td>\n      <td>0</td>\n      <td>63</td>\n      <td>3.4</td>\n      <td>3.300</td>\n      <td>0.651</td>\n    </tr>\n    <tr>\n      <th>115</th>\n      <td>Ziggs</td>\n      <td>2</td>\n      <td>4</td>\n      <td>9</td>\n      <td>4</td>\n      <td>Mage</td>\n      <td>None</td>\n      <td>Mana</td>\n      <td>536</td>\n      <td>92</td>\n      <td>...</td>\n      <td>6.5</td>\n      <td>0.6</td>\n      <td>8</td>\n      <td>0.8</td>\n      <td>0</td>\n      <td>0</td>\n      <td>54.208</td>\n      <td>3.1</td>\n      <td>2.000</td>\n      <td>0.656</td>\n    </tr>\n    <tr>\n      <th>26</th>\n      <td>Zilean</td>\n      <td>2</td>\n      <td>5</td>\n      <td>8</td>\n      <td>6</td>\n      <td>Support</td>\n      <td>Mage</td>\n      <td>Mana</td>\n      <td>504</td>\n      <td>82</td>\n      <td>...</td>\n      <td>5.5</td>\n      <td>0.5</td>\n      <td>11.335</td>\n      <td>0.8</td>\n      <td>0</td>\n      <td>0</td>\n      <td>51.64</td>\n      <td>3</td>\n      <td>2.130</td>\n      <td>0.625</td>\n    </tr>\n    <tr>\n      <th>142</th>\n      <td>Zoe</td>\n      <td>1</td>\n      <td>7</td>\n      <td>8</td>\n      <td>5</td>\n      <td>Mage</td>\n      <td>Support</td>\n      <td>Mana</td>\n      <td>560</td>\n      <td>92</td>\n      <td>...</td>\n      <td>6.5</td>\n      <td>0.6</td>\n      <td>8</td>\n      <td>0.65</td>\n      <td>0</td>\n      <td>0</td>\n      <td>58</td>\n      <td>3.3</td>\n      <td>2.500</td>\n      <td>0.625</td>\n    </tr>\n    <tr>\n      <th>143</th>\n      <td>Zyra</td>\n      <td>4</td>\n      <td>3</td>\n      <td>8</td>\n      <td>7</td>\n      <td>Mage</td>\n      <td>Support</td>\n      <td>Mana</td>\n      <td>504</td>\n      <td>79</td>\n      <td>...</td>\n      <td>5.5</td>\n      <td>0.5</td>\n      <td>13</td>\n      <td>0.4</td>\n      <td>0</td>\n      <td>0</td>\n      <td>53.376</td>\n      <td>3.2</td>\n      <td>2.110</td>\n      <td>0.625</td>\n    </tr>\n  </tbody>\n</table>\n<p>151 rows × 28 columns</p>\n</div>"
     },
     "metadata": {},
     "execution_count": 2
    }
   ],
   "source": [
    "with open(filePath+'champion.json', encoding='utf8') as f:\n",
    "    championData = json.load(f)\n",
    "\n",
    "champions = pd.DataFrame(columns = ['championId', 'name', 'attack', 'defense', 'magic', 'difficulty', 'primaryClass', 'secondaryClass', 'partype', 'hp', 'hpperlevel', 'mp', 'mpperlevel', 'movespeed', 'armor', 'armorperlevel', 'spellblock', 'spellblockperlevel', 'attackrange', 'hpregen', 'hpregenperlevel', 'mpregen', 'mpregenperlevel', 'crit', 'critperlevel', 'attackdamage', 'attackdamageperlevel', 'attackspeedperlevel', 'attackspeed'])\n",
    "\n",
    "for k, v in championData['data'].items():\n",
    "    champions = champions.append({'championId': int(v['key']),\n",
    "                        'name': v['name'], \n",
    "                        'attack': v['info']['attack'], \n",
    "                        'defense': v['info']['defense'], \n",
    "                        'magic': v['info']['magic'], \n",
    "                        'difficulty': v['info']['difficulty'], \n",
    "                        'primaryClass': v['tags'][0], \n",
    "                        'secondaryClass': v['tags'][1] if len(v['tags']) > 1 else 'None', \n",
    "                        'partype': v['partype'], \n",
    "                        'hp': v['stats']['hp'], \n",
    "                        'hpperlevel': v['stats']['hpperlevel'], \n",
    "                        'mp': v['stats']['mp'], \n",
    "                        'mpperlevel': v['stats']['mpperlevel'], \n",
    "                        'movespeed': v['stats']['movespeed'], \n",
    "                        'armor': v['stats']['armor'], \n",
    "                        'armorperlevel': v['stats']['armorperlevel'], \n",
    "                        'spellblock': v['stats']['spellblock'], \n",
    "                        'spellblockperlevel': v['stats']['spellblockperlevel'], \n",
    "                        'attackrange': v['stats']['attackrange'], \n",
    "                        'hpregen': v['stats']['hpregen'], \n",
    "                        'hpregenperlevel': v['stats']['hpregenperlevel'], \n",
    "                        'mpregen': v['stats']['mpregen'], \n",
    "                        'mpregenperlevel': v['stats']['mpregenperlevel'], \n",
    "                        'crit': v['stats']['crit'], \n",
    "                        'critperlevel': v['stats']['critperlevel'], \n",
    "                        'attackdamage': v['stats']['attackdamage'], \n",
    "                        'attackdamageperlevel': v['stats']['attackdamageperlevel'], \n",
    "                        'attackspeedperlevel': v['stats']['attackspeedperlevel'], \n",
    "                        'attackspeed': v['stats']['attackspeed']}, ignore_index=True)\n",
    "\n",
    "champions.set_index('championId', inplace=True)\n",
    "champions"
   ]
  },
  {
   "cell_type": "code",
   "execution_count": 3,
   "metadata": {
    "tags": []
   },
   "outputs": [],
   "source": [
    "import asyncpg\n",
    "import nest_asyncio\n",
    "import asyncio\n",
    "from config import dbConfig\n",
    "\n",
    "nest_asyncio.apply()\n",
    "loop = asyncio.get_event_loop()"
   ]
  },
  {
   "cell_type": "code",
   "execution_count": 4,
   "metadata": {
    "tags": []
   },
   "outputs": [
    {
     "output_type": "stream",
     "name": "stdout",
     "text": "('Aatrox', 'Ahri')\n"
    }
   ],
   "source": [
    "import itertools\n",
    "champNameCombo = list(itertools.combinations(champions['name'], 2))\n",
    "print(champNameCombo[0])\n",
    "\n",
    "# champIdCombinations = list(itertools.combinations(champions['championId'], 2))\n",
    "# champIdCombinations"
   ]
  },
  {
   "cell_type": "code",
   "execution_count": 5,
   "metadata": {},
   "outputs": [],
   "source": [
    "# async def fetch_as_dataframe(con: asyncpg.Connection, query: str, *args):\n",
    "#     stmt = await con.prepare(query)\n",
    "#     columns = [a.name for a in stmt.get_attributes()]\n",
    "#     data = await stmt.fetch()\n",
    "#     return pd.DataFrame(data, columns=columns)\n",
    "\n",
    "# async def run():\n",
    "#     connection = await asyncpg.connect(user=dbConfig['user'],\n",
    "#                                 password=dbConfig['password'],\n",
    "#                                 host=dbConfig['host'],\n",
    "#                                 port=dbConfig['port'],\n",
    "#                                 database=dbConfig['database'])\n",
    "#     async with connection.transaction():\n",
    "#         allGamesQuery = f'SELECT \"gameId\", \"championId\", \"teamColor\", \"win\" \\\n",
    "#                     FROM \"Participant_Stats\" \\\n",
    "#                     ORDER BY \"gameId\" ASC;'\n",
    "#         allGames_df = await fetch_as_dataframe(connection, allGamesQuery)\n",
    "\n",
    "#     return allGames_df\n",
    "\n",
    "# allGames_df = loop.run_until_complete(run())\n",
    "# allGames_df.head(10)"
   ]
  },
  {
   "cell_type": "code",
   "execution_count": 6,
   "metadata": {},
   "outputs": [],
   "source": [
    "# allGames_df['championId'] = pd.to_numeric(allGames_df['championId'], downcast='unsigned')\n",
    "# # allGames_df['teamColor'] = allGames_df['teamColor'] == 'Red'\n",
    "# allGames_df.memory_usage(deep=True)"
   ]
  },
  {
   "cell_type": "code",
   "execution_count": 7,
   "metadata": {},
   "outputs": [
    {
     "output_type": "execute_result",
     "data": {
      "text/plain": "       gameId teamColor                 champions    win\n0  2855142709      Blue     [20, 21, 22, 75, 122]  False\n1  2855142709       Red   [29, 57, 117, 267, 498]   True\n2  2856401827      Blue        [1, 2, 11, 15, 37]   True\n3  2856401827       Red      [6, 10, 30, 31, 106]  False\n4  2856437506      Blue     [14, 31, 67, 91, 107]  False\n5  2856437506       Red    [22, 29, 85, 145, 268]   True\n6  2856474922      Blue  [15, 114, 117, 157, 516]   True\n7  2856474922       Red     [12, 31, 43, 53, 136]  False\n8  2856481325      Blue     [13, 17, 64, 91, 254]  False\n9  2856481325       Red     [38, 57, 78, 82, 110]   True",
      "text/html": "<div>\n<style scoped>\n    .dataframe tbody tr th:only-of-type {\n        vertical-align: middle;\n    }\n\n    .dataframe tbody tr th {\n        vertical-align: top;\n    }\n\n    .dataframe thead th {\n        text-align: right;\n    }\n</style>\n<table border=\"1\" class=\"dataframe\">\n  <thead>\n    <tr style=\"text-align: right;\">\n      <th></th>\n      <th>gameId</th>\n      <th>teamColor</th>\n      <th>champions</th>\n      <th>win</th>\n    </tr>\n  </thead>\n  <tbody>\n    <tr>\n      <th>0</th>\n      <td>2855142709</td>\n      <td>Blue</td>\n      <td>[20, 21, 22, 75, 122]</td>\n      <td>False</td>\n    </tr>\n    <tr>\n      <th>1</th>\n      <td>2855142709</td>\n      <td>Red</td>\n      <td>[29, 57, 117, 267, 498]</td>\n      <td>True</td>\n    </tr>\n    <tr>\n      <th>2</th>\n      <td>2856401827</td>\n      <td>Blue</td>\n      <td>[1, 2, 11, 15, 37]</td>\n      <td>True</td>\n    </tr>\n    <tr>\n      <th>3</th>\n      <td>2856401827</td>\n      <td>Red</td>\n      <td>[6, 10, 30, 31, 106]</td>\n      <td>False</td>\n    </tr>\n    <tr>\n      <th>4</th>\n      <td>2856437506</td>\n      <td>Blue</td>\n      <td>[14, 31, 67, 91, 107]</td>\n      <td>False</td>\n    </tr>\n    <tr>\n      <th>5</th>\n      <td>2856437506</td>\n      <td>Red</td>\n      <td>[22, 29, 85, 145, 268]</td>\n      <td>True</td>\n    </tr>\n    <tr>\n      <th>6</th>\n      <td>2856474922</td>\n      <td>Blue</td>\n      <td>[15, 114, 117, 157, 516]</td>\n      <td>True</td>\n    </tr>\n    <tr>\n      <th>7</th>\n      <td>2856474922</td>\n      <td>Red</td>\n      <td>[12, 31, 43, 53, 136]</td>\n      <td>False</td>\n    </tr>\n    <tr>\n      <th>8</th>\n      <td>2856481325</td>\n      <td>Blue</td>\n      <td>[13, 17, 64, 91, 254]</td>\n      <td>False</td>\n    </tr>\n    <tr>\n      <th>9</th>\n      <td>2856481325</td>\n      <td>Red</td>\n      <td>[38, 57, 78, 82, 110]</td>\n      <td>True</td>\n    </tr>\n  </tbody>\n</table>\n</div>"
     },
     "metadata": {},
     "execution_count": 7
    }
   ],
   "source": [
    "async def fetch_as_dataframe(con: asyncpg.Connection, query: str, *args):\n",
    "    stmt = await con.prepare(query)\n",
    "    columns = [a.name for a in stmt.get_attributes()]\n",
    "    data = await stmt.fetch()\n",
    "    return pd.DataFrame(data, columns=columns)\n",
    "\n",
    "async def run():\n",
    "    connection = await asyncpg.connect(user=dbConfig['user'],\n",
    "                                password=dbConfig['password'],\n",
    "                                host=dbConfig['host'],\n",
    "                                port=dbConfig['port'],\n",
    "                                database=dbConfig['database'])\n",
    "    async with connection.transaction():\n",
    "        allGamesQuery = f'SELECT \"gameId\", \"teamColor\", array_agg(DISTINCT \"championId\") as champions, bool_or(\"win\") as win \\\n",
    "                        FROM \"Participant_Stats\" \\\n",
    "                        GROUP BY \"gameId\", \"teamColor\"\\\n",
    "                        ORDER BY \"gameId\" ASC;'\n",
    "        groupGames_df = await fetch_as_dataframe(connection, allGamesQuery)\n",
    "\n",
    "    return groupGames_df\n",
    "\n",
    "groupGames_df = loop.run_until_complete(run())\n",
    "groupGames_df.head(10)"
   ]
  },
  {
   "cell_type": "code",
   "execution_count": 8,
   "metadata": {},
   "outputs": [],
   "source": [
    "# groupGames_df['champions'] = groupGames_df['champions'].apply(lambda x: [champions.loc[c, 'name'] for c in x])"
   ]
  },
  {
   "cell_type": "code",
   "execution_count": 9,
   "metadata": {},
   "outputs": [],
   "source": [
    "from collections import Counter"
   ]
  },
  {
   "cell_type": "code",
   "execution_count": 10,
   "metadata": {},
   "outputs": [],
   "source": [
    "# wins = Counter([str(k) for l in groupGames_df[groupGames_df['win'] == True].apply(lambda x: [c for i in range(2, 3) for c in itertools.combinations(x['champions'], i)], axis=1).values for k in l])\n",
    "# wins"
   ]
  },
  {
   "cell_type": "code",
   "execution_count": 11,
   "metadata": {},
   "outputs": [],
   "source": [
    "wins = Counter([str(k) for l in groupGames_df[groupGames_df['win'] == True].apply(lambda x: [c for c in itertools.combinations(x['champions'], 2)], axis=1).values for k in l])\n",
    "# wins"
   ]
  },
  {
   "cell_type": "code",
   "execution_count": 12,
   "metadata": {},
   "outputs": [],
   "source": [
    "loses = Counter([str(k) for l in groupGames_df[groupGames_df['win'] == False].apply(lambda x: [c for i in range(2, 3) for c in itertools.combinations(x['champions'], i)], axis=1).values for k in l])\n",
    "# loses"
   ]
  },
  {
   "cell_type": "code",
   "execution_count": 13,
   "metadata": {
    "tags": []
   },
   "outputs": [],
   "source": [
    "import ast\n",
    "import numpy as np\n",
    "from statsmodels.stats.proportion import proportion_confint"
   ]
  },
  {
   "cell_type": "code",
   "execution_count": 14,
   "metadata": {},
   "outputs": [],
   "source": [
    "from multiprocessing.pool import ThreadPool as Pool"
   ]
  },
  {
   "cell_type": "code",
   "execution_count": 15,
   "metadata": {},
   "outputs": [],
   "source": [
    "def calcCI(w, t):\n",
    "    CI = proportion_confint(w, t, method='binom_test', alpha=0.05)\n",
    "    return f\"[{CI[0]:.6f}, {CI[1]:.6f}]\""
   ]
  },
  {
   "cell_type": "code",
   "execution_count": 16,
   "metadata": {},
   "outputs": [],
   "source": [
    "# @njit(parallel=True)\n",
    "# def calcCI(w, t):\n",
    "#     res = np.empty(w.shape)\n",
    "#     for i in range(len(w)):\n",
    "#         # CI = proportion_confint(w, t, method='binom_test', alpha=0.05)\n",
    "#         # res[i] = f\"[{CI[0]:.6f}, {CI[1]:.6f}]\"\n",
    "#         res[i] = proportion_confint(w, t, method='binom_test', alpha=0.05)\n",
    "#     return res"
   ]
  },
  {
   "cell_type": "code",
   "execution_count": 19,
   "metadata": {
    "tags": []
   },
   "outputs": [
    {
     "output_type": "stream",
     "name": "stdout",
     "text": "0.49881874184523345 0.5264649531577528\n"
    }
   ],
   "source": [
    "import math\n",
    "p = 2575/5023.0\n",
    "z = 1.96\n",
    "n = 5023.0\n",
    "ciL = p - z*((p*(1-p))/n)**(1.0/2)\n",
    "ciH = p + z*((p*(1-p))/n)**(1.0/2)\n",
    "print(f'{ciL} {ciH}')"
   ]
  },
  {
   "cell_type": "code",
   "execution_count": 22,
   "metadata": {
    "tags": []
   },
   "outputs": [
    {
     "output_type": "execute_result",
     "data": {
      "text/plain": "       champion1  champion2  wins   loses   Total   winRate  95% CI Lower  \\\n0              1          2   823   804.0  1627.0  0.505839      0.481545   \n1              1          3  1640  1320.0  2960.0  0.554054      0.536147   \n2              1          4  2575  2448.0  5023.0  0.512642      0.498819   \n3              1          5   751   856.0  1607.0  0.467330      0.442936   \n4              1          6  1405  1213.0  2618.0  0.536669      0.517568   \n...          ...        ...   ...     ...     ...       ...           ...   \n11306        555        875  1807  2135.0  3942.0  0.458397      0.442842   \n11307        555        876  1175  1687.0  2862.0  0.410552      0.392529   \n11308        777        875   653   947.0  1600.0  0.408125      0.384042   \n11309        777        876   665  1055.0  1720.0  0.386628      0.363613   \n11310        875        876   902   993.0  1895.0  0.475989      0.453503   \n\n       95% CI Upper  \n0          0.530133  \n1          0.571961  \n2          0.526465  \n3          0.491725  \n4          0.555771  \n...             ...  \n11306      0.473951  \n11307      0.428575  \n11308      0.432208  \n11309      0.409642  \n11310      0.498476  \n\n[11306 rows x 8 columns]",
      "text/html": "<div>\n<style scoped>\n    .dataframe tbody tr th:only-of-type {\n        vertical-align: middle;\n    }\n\n    .dataframe tbody tr th {\n        vertical-align: top;\n    }\n\n    .dataframe thead th {\n        text-align: right;\n    }\n</style>\n<table border=\"1\" class=\"dataframe\">\n  <thead>\n    <tr style=\"text-align: right;\">\n      <th></th>\n      <th>champion1</th>\n      <th>champion2</th>\n      <th>wins</th>\n      <th>loses</th>\n      <th>Total</th>\n      <th>winRate</th>\n      <th>95% CI Lower</th>\n      <th>95% CI Upper</th>\n    </tr>\n  </thead>\n  <tbody>\n    <tr>\n      <th>0</th>\n      <td>1</td>\n      <td>2</td>\n      <td>823</td>\n      <td>804.0</td>\n      <td>1627.0</td>\n      <td>0.505839</td>\n      <td>0.481545</td>\n      <td>0.530133</td>\n    </tr>\n    <tr>\n      <th>1</th>\n      <td>1</td>\n      <td>3</td>\n      <td>1640</td>\n      <td>1320.0</td>\n      <td>2960.0</td>\n      <td>0.554054</td>\n      <td>0.536147</td>\n      <td>0.571961</td>\n    </tr>\n    <tr>\n      <th>2</th>\n      <td>1</td>\n      <td>4</td>\n      <td>2575</td>\n      <td>2448.0</td>\n      <td>5023.0</td>\n      <td>0.512642</td>\n      <td>0.498819</td>\n      <td>0.526465</td>\n    </tr>\n    <tr>\n      <th>3</th>\n      <td>1</td>\n      <td>5</td>\n      <td>751</td>\n      <td>856.0</td>\n      <td>1607.0</td>\n      <td>0.467330</td>\n      <td>0.442936</td>\n      <td>0.491725</td>\n    </tr>\n    <tr>\n      <th>4</th>\n      <td>1</td>\n      <td>6</td>\n      <td>1405</td>\n      <td>1213.0</td>\n      <td>2618.0</td>\n      <td>0.536669</td>\n      <td>0.517568</td>\n      <td>0.555771</td>\n    </tr>\n    <tr>\n      <th>...</th>\n      <td>...</td>\n      <td>...</td>\n      <td>...</td>\n      <td>...</td>\n      <td>...</td>\n      <td>...</td>\n      <td>...</td>\n      <td>...</td>\n    </tr>\n    <tr>\n      <th>11306</th>\n      <td>555</td>\n      <td>875</td>\n      <td>1807</td>\n      <td>2135.0</td>\n      <td>3942.0</td>\n      <td>0.458397</td>\n      <td>0.442842</td>\n      <td>0.473951</td>\n    </tr>\n    <tr>\n      <th>11307</th>\n      <td>555</td>\n      <td>876</td>\n      <td>1175</td>\n      <td>1687.0</td>\n      <td>2862.0</td>\n      <td>0.410552</td>\n      <td>0.392529</td>\n      <td>0.428575</td>\n    </tr>\n    <tr>\n      <th>11308</th>\n      <td>777</td>\n      <td>875</td>\n      <td>653</td>\n      <td>947.0</td>\n      <td>1600.0</td>\n      <td>0.408125</td>\n      <td>0.384042</td>\n      <td>0.432208</td>\n    </tr>\n    <tr>\n      <th>11309</th>\n      <td>777</td>\n      <td>876</td>\n      <td>665</td>\n      <td>1055.0</td>\n      <td>1720.0</td>\n      <td>0.386628</td>\n      <td>0.363613</td>\n      <td>0.409642</td>\n    </tr>\n    <tr>\n      <th>11310</th>\n      <td>875</td>\n      <td>876</td>\n      <td>902</td>\n      <td>993.0</td>\n      <td>1895.0</td>\n      <td>0.475989</td>\n      <td>0.453503</td>\n      <td>0.498476</td>\n    </tr>\n  </tbody>\n</table>\n<p>11306 rows × 8 columns</p>\n</div>"
     },
     "metadata": {},
     "execution_count": 22
    }
   ],
   "source": [
    "wl_df = pd.DataFrame([(*ast.literal_eval(keyPair), val) for keyPair, val in wins.items()], columns=['champion1', 'champion2', 'wins'])\n",
    "wl_df = wl_df.merge(pd.DataFrame([(*ast.literal_eval(keyPair), val) for keyPair, val in loses.items()], columns=['champion1', 'champion2', 'loses']), how='left', on=['champion1', 'champion2'], sort=['champion1', 'champion2'])\n",
    "wl_df['Total'] = wl_df['wins'] + wl_df['loses']\n",
    "wl_df.dropna(how='any', inplace=True)\n",
    "wl_df['winRate'] = wl_df['wins'] / wl_df['Total']\n",
    "\n",
    "# wl_df['95% CI Lower'] = (wl_df['wins'] / wl_df['Total']) - 1.96*((wl_df['wins'] / wl_df['Total'] *(1-wl_df['wins'] / wl_df['Total'] ))/wl_df['Total'])**(1.0/2)\n",
    "# wl_df['95% CI Upper'] = (wl_df['wins'] / wl_df['Total']) + 1.96*((wl_df['wins'] / wl_df['Total'] *(1-wl_df['wins'] / wl_df['Total'] ))/wl_df['Total'])**(1.0/2)\n",
    "\n",
    "# wl_df['95% CI'] = calcCI(wl_df['wins'].values, wl_df['Total'].values)\n",
    "\n",
    "# wl_df['95% CI'] = list(map(calcCI, wl_df['wins'], wl_df['Total']))\n",
    "# wl_df['95% CI'] = np.vectorize(calcCI)(wl_df.loc[wl_df['Total'].notnull(), 'wins'], wl_df.loc[wl_df['Total'].notnull(), 'Total'])\n",
    "\n",
    "# wl_df['95% CI'] = wl_df[wl_df['Total'].notnull()].apply(lambda x: proportion_confint(x['wins'], x['Total'], method='binom_test', alpha=0.05), axis=1)\n",
    "# wl_df\n",
    "wl_df"
   ]
  },
  {
   "cell_type": "code",
   "execution_count": 20,
   "metadata": {
    "tags": []
   },
   "outputs": [],
   "source": [
    "def calcWR(champ):\n",
    "    allGames_df['isSynergy'] = allGames_df['championId'].isin(champ)\n",
    "    synergyGames_df = allGames_df.loc[allGames_df['isSynergy'] == True, ['gameId', 'teamColor', 'win']]\n",
    "    synergyGames_df = synergyGames_df.groupby(['gameId', 'teamColor']).agg(['sum', 'count'])\n",
    "    synergyGames_df = synergyGames_df.loc[synergyGames_df['win']['count'] == 2, 'win']\n",
    "    CI = proportion_confint(synergyGames_df['sum'].astype(bool).sum(axis=0), len(synergyGames_df.index), method='binom_test', alpha=0.05)\n",
    "    return {'champion1': champions.loc[champions[\"championId\"] == champ[0], \"name\"].values[0],\n",
    "                                            'champion2': champions.loc[champions[\"championId\"] == champ[1], \"name\"].values[0], \n",
    "                                            'winRate': synergyGames_df['sum'].astype(bool).sum(axis=0)/len(synergyGames_df.index),\n",
    "                                            '95% CI': f\"[{CI[0]:.6f}, {CI[1]:.6f}]\",\n",
    "                                            'numWins': synergyGames_df['sum'].astype(bool).sum(axis=0),\n",
    "                                            'numGames': len(synergyGames_df.index)\n",
    "                                            }\n",
    "\n",
    "if __name__ == '__main__':\n",
    "    pool = Pool(6)\n",
    "    res = pool.map(calcWR, champIdCombinations)\n",
    "    twoSynergy_df = pd.DataFrame.from_dict(res)\n",
    "    twoSynergy_df\n"
   ]
  },
  {
   "cell_type": "code",
   "execution_count": 21,
   "metadata": {
    "tags": []
   },
   "outputs": [
    {
     "output_type": "execute_result",
     "data": {
      "text/plain": "          champion1     champion2   winRate                95% CI  numWins  \\\n3501          Elise          Sett  0.678261  [0.587196, 0.758075]       78   \n5058   Heimerdinger        Xerath  0.658537  [0.613160, 0.701927]      297   \n10702         Taric        Yorick  0.658537  [0.500000, 0.794812]       27   \n7681      Lissandra        Yorick  0.657534  [0.541280, 0.761771]       48   \n5066   Heimerdinger         Ziggs  0.653030  [0.615958, 0.688722]      431   \n7127           Kled          Sion  0.652174  [0.529154, 0.755782]       45   \n11150        Yorick         Ziggs  0.651429  [0.577283, 0.720456]      114   \n8282   Miss Fortune          Sion  0.649485  [0.612714, 0.684915]      441   \n6391        Karthus         Teemo  0.648956  [0.619577, 0.677470]      684   \n1883          Brand  Heimerdinger  0.648190  [0.615989, 0.679361]      573   \n\n       numGames  \n3501        115  \n5058        451  \n10702        41  \n7681         73  \n5066        660  \n7127         69  \n11150       175  \n8282        679  \n6391       1054  \n1883        884  ",
      "text/html": "<div>\n<style scoped>\n    .dataframe tbody tr th:only-of-type {\n        vertical-align: middle;\n    }\n\n    .dataframe tbody tr th {\n        vertical-align: top;\n    }\n\n    .dataframe thead th {\n        text-align: right;\n    }\n</style>\n<table border=\"1\" class=\"dataframe\">\n  <thead>\n    <tr style=\"text-align: right;\">\n      <th></th>\n      <th>champion1</th>\n      <th>champion2</th>\n      <th>winRate</th>\n      <th>95% CI</th>\n      <th>numWins</th>\n      <th>numGames</th>\n    </tr>\n  </thead>\n  <tbody>\n    <tr>\n      <th>3501</th>\n      <td>Elise</td>\n      <td>Sett</td>\n      <td>0.678261</td>\n      <td>[0.587196, 0.758075]</td>\n      <td>78</td>\n      <td>115</td>\n    </tr>\n    <tr>\n      <th>5058</th>\n      <td>Heimerdinger</td>\n      <td>Xerath</td>\n      <td>0.658537</td>\n      <td>[0.613160, 0.701927]</td>\n      <td>297</td>\n      <td>451</td>\n    </tr>\n    <tr>\n      <th>10702</th>\n      <td>Taric</td>\n      <td>Yorick</td>\n      <td>0.658537</td>\n      <td>[0.500000, 0.794812]</td>\n      <td>27</td>\n      <td>41</td>\n    </tr>\n    <tr>\n      <th>7681</th>\n      <td>Lissandra</td>\n      <td>Yorick</td>\n      <td>0.657534</td>\n      <td>[0.541280, 0.761771]</td>\n      <td>48</td>\n      <td>73</td>\n    </tr>\n    <tr>\n      <th>5066</th>\n      <td>Heimerdinger</td>\n      <td>Ziggs</td>\n      <td>0.653030</td>\n      <td>[0.615958, 0.688722]</td>\n      <td>431</td>\n      <td>660</td>\n    </tr>\n    <tr>\n      <th>7127</th>\n      <td>Kled</td>\n      <td>Sion</td>\n      <td>0.652174</td>\n      <td>[0.529154, 0.755782]</td>\n      <td>45</td>\n      <td>69</td>\n    </tr>\n    <tr>\n      <th>11150</th>\n      <td>Yorick</td>\n      <td>Ziggs</td>\n      <td>0.651429</td>\n      <td>[0.577283, 0.720456]</td>\n      <td>114</td>\n      <td>175</td>\n    </tr>\n    <tr>\n      <th>8282</th>\n      <td>Miss Fortune</td>\n      <td>Sion</td>\n      <td>0.649485</td>\n      <td>[0.612714, 0.684915]</td>\n      <td>441</td>\n      <td>679</td>\n    </tr>\n    <tr>\n      <th>6391</th>\n      <td>Karthus</td>\n      <td>Teemo</td>\n      <td>0.648956</td>\n      <td>[0.619577, 0.677470]</td>\n      <td>684</td>\n      <td>1054</td>\n    </tr>\n    <tr>\n      <th>1883</th>\n      <td>Brand</td>\n      <td>Heimerdinger</td>\n      <td>0.648190</td>\n      <td>[0.615989, 0.679361]</td>\n      <td>573</td>\n      <td>884</td>\n    </tr>\n  </tbody>\n</table>\n</div>"
     },
     "metadata": {},
     "execution_count": 21
    }
   ],
   "source": [
    "twoSynergy_df.sort_values(axis=0, ascending=False, by='winRate', inplace=True)\n",
    "twoSynergy_df.head(10)"
   ]
  },
  {
   "cell_type": "code",
   "execution_count": 22,
   "metadata": {
    "tags": []
   },
   "outputs": [
    {
     "output_type": "stream",
     "name": "stdout",
     "text": "<class 'pandas.core.frame.DataFrame'>\nInt64Index: 11175 entries, 3501 to 11030\nData columns (total 6 columns):\n #   Column     Non-Null Count  Dtype  \n---  ------     --------------  -----  \n 0   champion1  11175 non-null  object \n 1   champion2  11175 non-null  object \n 2   winRate    11175 non-null  float64\n 3   95% CI     11175 non-null  object \n 4   numWins    11175 non-null  int64  \n 5   numGames   11175 non-null  int64  \ndtypes: float64(1), int64(2), object(3)\nmemory usage: 611.1+ KB\n"
    }
   ],
   "source": [
    "twoSynergy_df.info()"
   ]
  },
  {
   "cell_type": "code",
   "execution_count": 24,
   "metadata": {},
   "outputs": [],
   "source": [
    "twoSynergy_df.to_csv('twoSynergy.csv', sep=',')"
   ]
  },
  {
   "cell_type": "code",
   "execution_count": null,
   "metadata": {},
   "outputs": [],
   "source": []
  }
 ]
}