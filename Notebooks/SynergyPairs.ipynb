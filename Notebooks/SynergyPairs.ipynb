{
 "metadata": {
  "language_info": {
   "codemirror_mode": {
    "name": "ipython",
    "version": 3
   },
   "file_extension": ".py",
   "mimetype": "text/x-python",
   "name": "python",
   "nbconvert_exporter": "python",
   "pygments_lexer": "ipython3",
   "version": "3.6.10-final"
  },
  "orig_nbformat": 2,
  "kernelspec": {
   "name": "python_defaultSpec_1600579891097",
   "display_name": "Python 3.6.10 64-bit ('Python36': conda)"
  }
 },
 "nbformat": 4,
 "nbformat_minor": 2,
 "cells": [
  {
   "cell_type": "code",
   "execution_count": 1,
   "metadata": {},
   "outputs": [],
   "source": [
    "import pandas as pd\n",
    "import json\n",
    "filePath = r\"C:\\\\Users\\\\Pat\\\\Desktop\\\\Projects\\\\LoLAramPredictor\\\\Game Info\\\\\""
   ]
  },
  {
   "cell_type": "code",
   "execution_count": 2,
   "metadata": {
    "tags": []
   },
   "outputs": [
    {
     "output_type": "execute_result",
     "data": {
      "text/plain": "    championId     name attack defense magic difficulty primaryClass  \\\n0          266   Aatrox      8       4     3          4      Fighter   \n1          103     Ahri      3       4     8          5         Mage   \n2           84    Akali      5       3     8          7     Assassin   \n3           12  Alistar      6       9     5          7         Tank   \n4           32    Amumu      2       6     8          3         Tank   \n..         ...      ...    ...     ...   ...        ...          ...   \n145        238      Zed      9       2     1          7     Assassin   \n146        115    Ziggs      2       4     9          4         Mage   \n147         26   Zilean      2       5     8          6      Support   \n148        142      Zoe      1       7     8          5         Mage   \n149        143     Zyra      4       3     8          7         Mage   \n\n    secondaryClass     partype      hp  ... hpregen hpregenperlevel mpregen  \\\n0             Tank  Blood Well     580  ...       3               1       0   \n1         Assassin        Mana     526  ...     6.5             0.6       8   \n2             None      Energy     575  ...       8             0.5      50   \n3          Support        Mana     600  ...     8.5            0.85     8.5   \n4             Mage        Mana  613.12  ...       9            0.85   7.382   \n..             ...         ...     ...  ...     ...             ...     ...   \n145           None      Energy     584  ...       7            0.65      50   \n146           None        Mana     536  ...     6.5             0.6       8   \n147           Mage        Mana     504  ...     5.5             0.5  11.335   \n148        Support        Mana     560  ...     6.5             0.6       8   \n149        Support        Mana     504  ...     5.5             0.5      13   \n\n    mpregenperlevel crit  critperlevel  attackdamage  attackdamageperlevel  \\\n0                 0    0             0            60                     5   \n1               0.8    0             0         53.04                     3   \n2                 0    0             0          62.4                   3.3   \n3               0.8    0             0            62                  3.75   \n4             0.525    0             0         53.38                   3.8   \n..              ...  ...           ...           ...                   ...   \n145               0    0             0            63                   3.4   \n146             0.8    0             0        54.208                   3.1   \n147             0.8    0             0         51.64                     3   \n148            0.65    0             0            58                   3.3   \n149             0.4    0             0        53.376                   3.2   \n\n    attackspeedperlevel attackspeed  \n0                 2.500       0.651  \n1                 2.000       0.668  \n2                 3.200       0.625  \n3                 2.125       0.625  \n4                 2.180       0.736  \n..                  ...         ...  \n145               3.300       0.651  \n146               2.000       0.656  \n147               2.130       0.625  \n148               2.500       0.625  \n149               2.110       0.625  \n\n[150 rows x 29 columns]",
      "text/html": "<div>\n<style scoped>\n    .dataframe tbody tr th:only-of-type {\n        vertical-align: middle;\n    }\n\n    .dataframe tbody tr th {\n        vertical-align: top;\n    }\n\n    .dataframe thead th {\n        text-align: right;\n    }\n</style>\n<table border=\"1\" class=\"dataframe\">\n  <thead>\n    <tr style=\"text-align: right;\">\n      <th></th>\n      <th>championId</th>\n      <th>name</th>\n      <th>attack</th>\n      <th>defense</th>\n      <th>magic</th>\n      <th>difficulty</th>\n      <th>primaryClass</th>\n      <th>secondaryClass</th>\n      <th>partype</th>\n      <th>hp</th>\n      <th>...</th>\n      <th>hpregen</th>\n      <th>hpregenperlevel</th>\n      <th>mpregen</th>\n      <th>mpregenperlevel</th>\n      <th>crit</th>\n      <th>critperlevel</th>\n      <th>attackdamage</th>\n      <th>attackdamageperlevel</th>\n      <th>attackspeedperlevel</th>\n      <th>attackspeed</th>\n    </tr>\n  </thead>\n  <tbody>\n    <tr>\n      <th>0</th>\n      <td>266</td>\n      <td>Aatrox</td>\n      <td>8</td>\n      <td>4</td>\n      <td>3</td>\n      <td>4</td>\n      <td>Fighter</td>\n      <td>Tank</td>\n      <td>Blood Well</td>\n      <td>580</td>\n      <td>...</td>\n      <td>3</td>\n      <td>1</td>\n      <td>0</td>\n      <td>0</td>\n      <td>0</td>\n      <td>0</td>\n      <td>60</td>\n      <td>5</td>\n      <td>2.500</td>\n      <td>0.651</td>\n    </tr>\n    <tr>\n      <th>1</th>\n      <td>103</td>\n      <td>Ahri</td>\n      <td>3</td>\n      <td>4</td>\n      <td>8</td>\n      <td>5</td>\n      <td>Mage</td>\n      <td>Assassin</td>\n      <td>Mana</td>\n      <td>526</td>\n      <td>...</td>\n      <td>6.5</td>\n      <td>0.6</td>\n      <td>8</td>\n      <td>0.8</td>\n      <td>0</td>\n      <td>0</td>\n      <td>53.04</td>\n      <td>3</td>\n      <td>2.000</td>\n      <td>0.668</td>\n    </tr>\n    <tr>\n      <th>2</th>\n      <td>84</td>\n      <td>Akali</td>\n      <td>5</td>\n      <td>3</td>\n      <td>8</td>\n      <td>7</td>\n      <td>Assassin</td>\n      <td>None</td>\n      <td>Energy</td>\n      <td>575</td>\n      <td>...</td>\n      <td>8</td>\n      <td>0.5</td>\n      <td>50</td>\n      <td>0</td>\n      <td>0</td>\n      <td>0</td>\n      <td>62.4</td>\n      <td>3.3</td>\n      <td>3.200</td>\n      <td>0.625</td>\n    </tr>\n    <tr>\n      <th>3</th>\n      <td>12</td>\n      <td>Alistar</td>\n      <td>6</td>\n      <td>9</td>\n      <td>5</td>\n      <td>7</td>\n      <td>Tank</td>\n      <td>Support</td>\n      <td>Mana</td>\n      <td>600</td>\n      <td>...</td>\n      <td>8.5</td>\n      <td>0.85</td>\n      <td>8.5</td>\n      <td>0.8</td>\n      <td>0</td>\n      <td>0</td>\n      <td>62</td>\n      <td>3.75</td>\n      <td>2.125</td>\n      <td>0.625</td>\n    </tr>\n    <tr>\n      <th>4</th>\n      <td>32</td>\n      <td>Amumu</td>\n      <td>2</td>\n      <td>6</td>\n      <td>8</td>\n      <td>3</td>\n      <td>Tank</td>\n      <td>Mage</td>\n      <td>Mana</td>\n      <td>613.12</td>\n      <td>...</td>\n      <td>9</td>\n      <td>0.85</td>\n      <td>7.382</td>\n      <td>0.525</td>\n      <td>0</td>\n      <td>0</td>\n      <td>53.38</td>\n      <td>3.8</td>\n      <td>2.180</td>\n      <td>0.736</td>\n    </tr>\n    <tr>\n      <th>...</th>\n      <td>...</td>\n      <td>...</td>\n      <td>...</td>\n      <td>...</td>\n      <td>...</td>\n      <td>...</td>\n      <td>...</td>\n      <td>...</td>\n      <td>...</td>\n      <td>...</td>\n      <td>...</td>\n      <td>...</td>\n      <td>...</td>\n      <td>...</td>\n      <td>...</td>\n      <td>...</td>\n      <td>...</td>\n      <td>...</td>\n      <td>...</td>\n      <td>...</td>\n      <td>...</td>\n    </tr>\n    <tr>\n      <th>145</th>\n      <td>238</td>\n      <td>Zed</td>\n      <td>9</td>\n      <td>2</td>\n      <td>1</td>\n      <td>7</td>\n      <td>Assassin</td>\n      <td>None</td>\n      <td>Energy</td>\n      <td>584</td>\n      <td>...</td>\n      <td>7</td>\n      <td>0.65</td>\n      <td>50</td>\n      <td>0</td>\n      <td>0</td>\n      <td>0</td>\n      <td>63</td>\n      <td>3.4</td>\n      <td>3.300</td>\n      <td>0.651</td>\n    </tr>\n    <tr>\n      <th>146</th>\n      <td>115</td>\n      <td>Ziggs</td>\n      <td>2</td>\n      <td>4</td>\n      <td>9</td>\n      <td>4</td>\n      <td>Mage</td>\n      <td>None</td>\n      <td>Mana</td>\n      <td>536</td>\n      <td>...</td>\n      <td>6.5</td>\n      <td>0.6</td>\n      <td>8</td>\n      <td>0.8</td>\n      <td>0</td>\n      <td>0</td>\n      <td>54.208</td>\n      <td>3.1</td>\n      <td>2.000</td>\n      <td>0.656</td>\n    </tr>\n    <tr>\n      <th>147</th>\n      <td>26</td>\n      <td>Zilean</td>\n      <td>2</td>\n      <td>5</td>\n      <td>8</td>\n      <td>6</td>\n      <td>Support</td>\n      <td>Mage</td>\n      <td>Mana</td>\n      <td>504</td>\n      <td>...</td>\n      <td>5.5</td>\n      <td>0.5</td>\n      <td>11.335</td>\n      <td>0.8</td>\n      <td>0</td>\n      <td>0</td>\n      <td>51.64</td>\n      <td>3</td>\n      <td>2.130</td>\n      <td>0.625</td>\n    </tr>\n    <tr>\n      <th>148</th>\n      <td>142</td>\n      <td>Zoe</td>\n      <td>1</td>\n      <td>7</td>\n      <td>8</td>\n      <td>5</td>\n      <td>Mage</td>\n      <td>Support</td>\n      <td>Mana</td>\n      <td>560</td>\n      <td>...</td>\n      <td>6.5</td>\n      <td>0.6</td>\n      <td>8</td>\n      <td>0.65</td>\n      <td>0</td>\n      <td>0</td>\n      <td>58</td>\n      <td>3.3</td>\n      <td>2.500</td>\n      <td>0.625</td>\n    </tr>\n    <tr>\n      <th>149</th>\n      <td>143</td>\n      <td>Zyra</td>\n      <td>4</td>\n      <td>3</td>\n      <td>8</td>\n      <td>7</td>\n      <td>Mage</td>\n      <td>Support</td>\n      <td>Mana</td>\n      <td>504</td>\n      <td>...</td>\n      <td>5.5</td>\n      <td>0.5</td>\n      <td>13</td>\n      <td>0.4</td>\n      <td>0</td>\n      <td>0</td>\n      <td>53.376</td>\n      <td>3.2</td>\n      <td>2.110</td>\n      <td>0.625</td>\n    </tr>\n  </tbody>\n</table>\n<p>150 rows × 29 columns</p>\n</div>"
     },
     "metadata": {},
     "execution_count": 2
    }
   ],
   "source": [
    "with open(filePath+'champion.json', encoding='utf8') as f:\n",
    "    championData = json.load(f)\n",
    "\n",
    "champions = pd.DataFrame(columns = ['championId', 'name', 'attack', 'defense', 'magic', 'difficulty', 'primaryClass', 'secondaryClass', 'partype', 'hp', 'hpperlevel', 'mp', 'mpperlevel', 'movespeed', 'armor', 'armorperlevel', 'spellblock', 'spellblockperlevel', 'attackrange', 'hpregen', 'hpregenperlevel', 'mpregen', 'mpregenperlevel', 'crit', 'critperlevel', 'attackdamage', 'attackdamageperlevel', 'attackspeedperlevel', 'attackspeed'])\n",
    "\n",
    "for k, v in championData['data'].items():\n",
    "    champions = champions.append({'championId': int(v['key']),\n",
    "                        'name': v['name'], \n",
    "                        'attack': v['info']['attack'], \n",
    "                        'defense': v['info']['defense'], \n",
    "                        'magic': v['info']['magic'], \n",
    "                        'difficulty': v['info']['difficulty'], \n",
    "                        'primaryClass': v['tags'][0], \n",
    "                        'secondaryClass': v['tags'][1] if len(v['tags']) > 1 else 'None', \n",
    "                        'partype': v['partype'], \n",
    "                        'hp': v['stats']['hp'], \n",
    "                        'hpperlevel': v['stats']['hpperlevel'], \n",
    "                        'mp': v['stats']['mp'], \n",
    "                        'mpperlevel': v['stats']['mpperlevel'], \n",
    "                        'movespeed': v['stats']['movespeed'], \n",
    "                        'armor': v['stats']['armor'], \n",
    "                        'armorperlevel': v['stats']['armorperlevel'], \n",
    "                        'spellblock': v['stats']['spellblock'], \n",
    "                        'spellblockperlevel': v['stats']['spellblockperlevel'], \n",
    "                        'attackrange': v['stats']['attackrange'], \n",
    "                        'hpregen': v['stats']['hpregen'], \n",
    "                        'hpregenperlevel': v['stats']['hpregenperlevel'], \n",
    "                        'mpregen': v['stats']['mpregen'], \n",
    "                        'mpregenperlevel': v['stats']['mpregenperlevel'], \n",
    "                        'crit': v['stats']['crit'], \n",
    "                        'critperlevel': v['stats']['critperlevel'], \n",
    "                        'attackdamage': v['stats']['attackdamage'], \n",
    "                        'attackdamageperlevel': v['stats']['attackdamageperlevel'], \n",
    "                        'attackspeedperlevel': v['stats']['attackspeedperlevel'], \n",
    "                        'attackspeed': v['stats']['attackspeed']}, ignore_index=True)\n",
    "\n",
    "champions"
   ]
  },
  {
   "cell_type": "code",
   "execution_count": 3,
   "metadata": {
    "tags": []
   },
   "outputs": [],
   "source": [
    "import asyncpg\n",
    "import nest_asyncio\n",
    "import asyncio\n",
    "from config import dbConfig\n",
    "\n",
    "nest_asyncio.apply()\n",
    "loop = asyncio.get_event_loop()"
   ]
  },
  {
   "cell_type": "code",
   "execution_count": 4,
   "metadata": {
    "tags": []
   },
   "outputs": [
    {
     "output_type": "stream",
     "name": "stdout",
     "text": "('Aatrox', 'Ahri')\n"
    }
   ],
   "source": [
    "import itertools\n",
    "champNameCombo = list(itertools.combinations(champions['name'], 2))\n",
    "print(champNameCombo[0])\n",
    "\n",
    "champIdCombinations = list(itertools.combinations(champions['championId'], 2))\n",
    "# champIdCombinations"
   ]
  },
  {
   "cell_type": "code",
   "execution_count": 5,
   "metadata": {},
   "outputs": [
    {
     "output_type": "execute_result",
     "data": {
      "text/plain": "       gameId  championId teamColor    win\n0  2855142709          22      Blue  False\n1  2855142709         498       Red   True\n2  2855142709          21      Blue  False\n3  2855142709         122      Blue  False\n4  2855142709          75      Blue  False\n5  2855142709          20      Blue  False\n6  2855142709          57       Red   True\n7  2855142709         117       Red   True\n8  2855142709         267       Red   True\n9  2855142709          29       Red   True",
      "text/html": "<div>\n<style scoped>\n    .dataframe tbody tr th:only-of-type {\n        vertical-align: middle;\n    }\n\n    .dataframe tbody tr th {\n        vertical-align: top;\n    }\n\n    .dataframe thead th {\n        text-align: right;\n    }\n</style>\n<table border=\"1\" class=\"dataframe\">\n  <thead>\n    <tr style=\"text-align: right;\">\n      <th></th>\n      <th>gameId</th>\n      <th>championId</th>\n      <th>teamColor</th>\n      <th>win</th>\n    </tr>\n  </thead>\n  <tbody>\n    <tr>\n      <th>0</th>\n      <td>2855142709</td>\n      <td>22</td>\n      <td>Blue</td>\n      <td>False</td>\n    </tr>\n    <tr>\n      <th>1</th>\n      <td>2855142709</td>\n      <td>498</td>\n      <td>Red</td>\n      <td>True</td>\n    </tr>\n    <tr>\n      <th>2</th>\n      <td>2855142709</td>\n      <td>21</td>\n      <td>Blue</td>\n      <td>False</td>\n    </tr>\n    <tr>\n      <th>3</th>\n      <td>2855142709</td>\n      <td>122</td>\n      <td>Blue</td>\n      <td>False</td>\n    </tr>\n    <tr>\n      <th>4</th>\n      <td>2855142709</td>\n      <td>75</td>\n      <td>Blue</td>\n      <td>False</td>\n    </tr>\n    <tr>\n      <th>5</th>\n      <td>2855142709</td>\n      <td>20</td>\n      <td>Blue</td>\n      <td>False</td>\n    </tr>\n    <tr>\n      <th>6</th>\n      <td>2855142709</td>\n      <td>57</td>\n      <td>Red</td>\n      <td>True</td>\n    </tr>\n    <tr>\n      <th>7</th>\n      <td>2855142709</td>\n      <td>117</td>\n      <td>Red</td>\n      <td>True</td>\n    </tr>\n    <tr>\n      <th>8</th>\n      <td>2855142709</td>\n      <td>267</td>\n      <td>Red</td>\n      <td>True</td>\n    </tr>\n    <tr>\n      <th>9</th>\n      <td>2855142709</td>\n      <td>29</td>\n      <td>Red</td>\n      <td>True</td>\n    </tr>\n  </tbody>\n</table>\n</div>"
     },
     "metadata": {},
     "execution_count": 5
    }
   ],
   "source": [
    "async def fetch_as_dataframe(con: asyncpg.Connection, query: str, *args):\n",
    "    stmt = await con.prepare(query)\n",
    "    columns = [a.name for a in stmt.get_attributes()]\n",
    "    data = await stmt.fetch()\n",
    "    return pd.DataFrame(data, columns=columns)\n",
    "\n",
    "async def run():\n",
    "    connection = await asyncpg.connect(user=dbConfig['user'],\n",
    "                                password=dbConfig['password'],\n",
    "                                host=dbConfig['host'],\n",
    "                                port=dbConfig['port'],\n",
    "                                database=dbConfig['database'])\n",
    "    async with connection.transaction():\n",
    "        allGamesQuery = f'SELECT \"gameId\", \"championId\", \"teamColor\", \"win\" \\\n",
    "                    FROM \"Participant_Stats\" \\\n",
    "                    ORDER BY \"gameId\" ASC;'\n",
    "        allGames_df = await fetch_as_dataframe(connection, allGamesQuery)\n",
    "\n",
    "    return allGames_df\n",
    "\n",
    "allGames_df = loop.run_until_complete(run())\n",
    "allGames_df.head(10)"
   ]
  },
  {
   "cell_type": "code",
   "execution_count": 6,
   "metadata": {},
   "outputs": [
    {
     "output_type": "execute_result",
     "data": {
      "text/plain": "Index              128\ngameId        19764920\nchampionId     4941230\nteamColor      2470615\nwin            2470615\ndtype: int64"
     },
     "metadata": {},
     "execution_count": 6
    }
   ],
   "source": [
    "allGames_df['championId'] = pd.to_numeric(allGames_df['championId'], downcast='unsigned')\n",
    "allGames_df['teamColor'] = allGames_df['teamColor'] == 'Red'\n",
    "allGames_df.memory_usage(deep=True)"
   ]
  },
  {
   "cell_type": "code",
   "execution_count": 7,
   "metadata": {},
   "outputs": [],
   "source": [
    "from multiprocessing.pool import ThreadPool as Pool\n",
    "from statsmodels.stats.proportion import proportion_confint"
   ]
  },
  {
   "cell_type": "code",
   "execution_count": 20,
   "metadata": {
    "tags": []
   },
   "outputs": [],
   "source": [
    "def calcWR(champ):\n",
    "    allGames_df['isSynergy'] = allGames_df['championId'].isin(champ)\n",
    "    synergyGames_df = allGames_df.loc[allGames_df['isSynergy'] == True, ['gameId', 'teamColor', 'win']]\n",
    "    synergyGames_df = synergyGames_df.groupby(['gameId', 'teamColor']).agg(['sum', 'count'])\n",
    "    synergyGames_df = synergyGames_df.loc[synergyGames_df['win']['count'] == 2, 'win']\n",
    "    CI = proportion_confint(synergyGames_df['sum'].astype(bool).sum(axis=0), len(synergyGames_df.index), method='binom_test', alpha=0.05)\n",
    "    return {'champion1': champions.loc[champions[\"championId\"] == champ[0], \"name\"].values[0],\n",
    "                                            'champion2': champions.loc[champions[\"championId\"] == champ[1], \"name\"].values[0], \n",
    "                                            'winRate': synergyGames_df['sum'].astype(bool).sum(axis=0)/len(synergyGames_df.index),\n",
    "                                            '95% CI': f\"[{CI[0]:.6f}, {CI[1]:.6f}]\",\n",
    "                                            'numWins': synergyGames_df['sum'].astype(bool).sum(axis=0),\n",
    "                                            'numGames': len(synergyGames_df.index)\n",
    "                                            }\n",
    "\n",
    "if __name__ == '__main__':\n",
    "    pool = Pool(6)\n",
    "    res = pool.map(calcWR, champIdCombinations)\n",
    "    twoSynergy_df = pd.DataFrame.from_dict(res)\n",
    "    twoSynergy_df\n"
   ]
  },
  {
   "cell_type": "code",
   "execution_count": 21,
   "metadata": {
    "tags": []
   },
   "outputs": [
    {
     "output_type": "execute_result",
     "data": {
      "text/plain": "          champion1     champion2   winRate                95% CI  numWins  \\\n3501          Elise          Sett  0.678261  [0.587196, 0.758075]       78   \n5058   Heimerdinger        Xerath  0.658537  [0.613160, 0.701927]      297   \n10702         Taric        Yorick  0.658537  [0.500000, 0.794812]       27   \n7681      Lissandra        Yorick  0.657534  [0.541280, 0.761771]       48   \n5066   Heimerdinger         Ziggs  0.653030  [0.615958, 0.688722]      431   \n7127           Kled          Sion  0.652174  [0.529154, 0.755782]       45   \n11150        Yorick         Ziggs  0.651429  [0.577283, 0.720456]      114   \n8282   Miss Fortune          Sion  0.649485  [0.612714, 0.684915]      441   \n6391        Karthus         Teemo  0.648956  [0.619577, 0.677470]      684   \n1883          Brand  Heimerdinger  0.648190  [0.615989, 0.679361]      573   \n\n       numGames  \n3501        115  \n5058        451  \n10702        41  \n7681         73  \n5066        660  \n7127         69  \n11150       175  \n8282        679  \n6391       1054  \n1883        884  ",
      "text/html": "<div>\n<style scoped>\n    .dataframe tbody tr th:only-of-type {\n        vertical-align: middle;\n    }\n\n    .dataframe tbody tr th {\n        vertical-align: top;\n    }\n\n    .dataframe thead th {\n        text-align: right;\n    }\n</style>\n<table border=\"1\" class=\"dataframe\">\n  <thead>\n    <tr style=\"text-align: right;\">\n      <th></th>\n      <th>champion1</th>\n      <th>champion2</th>\n      <th>winRate</th>\n      <th>95% CI</th>\n      <th>numWins</th>\n      <th>numGames</th>\n    </tr>\n  </thead>\n  <tbody>\n    <tr>\n      <th>3501</th>\n      <td>Elise</td>\n      <td>Sett</td>\n      <td>0.678261</td>\n      <td>[0.587196, 0.758075]</td>\n      <td>78</td>\n      <td>115</td>\n    </tr>\n    <tr>\n      <th>5058</th>\n      <td>Heimerdinger</td>\n      <td>Xerath</td>\n      <td>0.658537</td>\n      <td>[0.613160, 0.701927]</td>\n      <td>297</td>\n      <td>451</td>\n    </tr>\n    <tr>\n      <th>10702</th>\n      <td>Taric</td>\n      <td>Yorick</td>\n      <td>0.658537</td>\n      <td>[0.500000, 0.794812]</td>\n      <td>27</td>\n      <td>41</td>\n    </tr>\n    <tr>\n      <th>7681</th>\n      <td>Lissandra</td>\n      <td>Yorick</td>\n      <td>0.657534</td>\n      <td>[0.541280, 0.761771]</td>\n      <td>48</td>\n      <td>73</td>\n    </tr>\n    <tr>\n      <th>5066</th>\n      <td>Heimerdinger</td>\n      <td>Ziggs</td>\n      <td>0.653030</td>\n      <td>[0.615958, 0.688722]</td>\n      <td>431</td>\n      <td>660</td>\n    </tr>\n    <tr>\n      <th>7127</th>\n      <td>Kled</td>\n      <td>Sion</td>\n      <td>0.652174</td>\n      <td>[0.529154, 0.755782]</td>\n      <td>45</td>\n      <td>69</td>\n    </tr>\n    <tr>\n      <th>11150</th>\n      <td>Yorick</td>\n      <td>Ziggs</td>\n      <td>0.651429</td>\n      <td>[0.577283, 0.720456]</td>\n      <td>114</td>\n      <td>175</td>\n    </tr>\n    <tr>\n      <th>8282</th>\n      <td>Miss Fortune</td>\n      <td>Sion</td>\n      <td>0.649485</td>\n      <td>[0.612714, 0.684915]</td>\n      <td>441</td>\n      <td>679</td>\n    </tr>\n    <tr>\n      <th>6391</th>\n      <td>Karthus</td>\n      <td>Teemo</td>\n      <td>0.648956</td>\n      <td>[0.619577, 0.677470]</td>\n      <td>684</td>\n      <td>1054</td>\n    </tr>\n    <tr>\n      <th>1883</th>\n      <td>Brand</td>\n      <td>Heimerdinger</td>\n      <td>0.648190</td>\n      <td>[0.615989, 0.679361]</td>\n      <td>573</td>\n      <td>884</td>\n    </tr>\n  </tbody>\n</table>\n</div>"
     },
     "metadata": {},
     "execution_count": 21
    }
   ],
   "source": [
    "twoSynergy_df.sort_values(axis=0, ascending=False, by='winRate', inplace=True)\n",
    "twoSynergy_df.head(10)"
   ]
  },
  {
   "cell_type": "code",
   "execution_count": 22,
   "metadata": {
    "tags": []
   },
   "outputs": [
    {
     "output_type": "stream",
     "name": "stdout",
     "text": "<class 'pandas.core.frame.DataFrame'>\nInt64Index: 11175 entries, 3501 to 11030\nData columns (total 6 columns):\n #   Column     Non-Null Count  Dtype  \n---  ------     --------------  -----  \n 0   champion1  11175 non-null  object \n 1   champion2  11175 non-null  object \n 2   winRate    11175 non-null  float64\n 3   95% CI     11175 non-null  object \n 4   numWins    11175 non-null  int64  \n 5   numGames   11175 non-null  int64  \ndtypes: float64(1), int64(2), object(3)\nmemory usage: 611.1+ KB\n"
    }
   ],
   "source": [
    "twoSynergy_df.info()"
   ]
  },
  {
   "cell_type": "code",
   "execution_count": 24,
   "metadata": {},
   "outputs": [],
   "source": [
    "twoSynergy_df.to_csv('twoSynergy.csv', sep=',')"
   ]
  },
  {
   "cell_type": "code",
   "execution_count": null,
   "metadata": {},
   "outputs": [],
   "source": []
  }
 ]
}