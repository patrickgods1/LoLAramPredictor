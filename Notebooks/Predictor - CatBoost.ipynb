{
 "metadata": {
  "language_info": {
   "codemirror_mode": {
    "name": "ipython",
    "version": 3
   },
   "file_extension": ".py",
   "mimetype": "text/x-python",
   "name": "python",
   "nbconvert_exporter": "python",
   "pygments_lexer": "ipython3",
   "version": "3.6.10-final"
  },
  "orig_nbformat": 2,
  "kernelspec": {
   "name": "python3",
   "display_name": "Python 3.6.10 64-bit ('Python36': conda)",
   "metadata": {
    "interpreter": {
     "hash": "23508edb48211c585617c619e9f1b5e8d4b0a27eebe8bdb1b05c1cca5979f0c4"
    }
   }
  }
 },
 "nbformat": 4,
 "nbformat_minor": 2,
 "cells": [
  {
   "cell_type": "code",
   "execution_count": 1,
   "metadata": {},
   "outputs": [],
   "source": [
    "import pandas as pd"
   ]
  },
  {
   "cell_type": "code",
   "execution_count": null,
   "metadata": {},
   "outputs": [],
   "source": [
    "# import json\n",
    "# filePath = r\"C:\\\\Users\\\\Pat\\\\Desktop\\\\Projects\\\\LoLAramPredictor\\\\Game Info\\\\\""
   ]
  },
  {
   "cell_type": "code",
   "execution_count": 2,
   "metadata": {},
   "outputs": [],
   "source": [
    "import json\n",
    "import requests\n",
    "versions = requests.get('https://ddragon.leagueoflegends.com/realms/na.json').json()"
   ]
  },
  {
   "cell_type": "code",
   "execution_count": 3,
   "metadata": {
    "tags": []
   },
   "outputs": [
    {
     "output_type": "execute_result",
     "data": {
      "text/plain": [
       "mpregen mpregenperlevel  crit  critperlevel  \\\n",
       "championId                                                               \n",
       "266                      1       0               0     0             0   \n",
       "103                    0.6       8             0.8     0             0   \n",
       "84                     0.5      50               0     0             0   \n",
       "12                    0.85     8.5             0.8     0             0   \n",
       "32                    0.85   7.382           0.525     0             0   \n",
       "...                    ...     ...             ...   ...           ...   \n",
       "238                   0.65      50               0     0             0   \n",
       "115                    0.6       8             0.8     0             0   \n",
       "26                     0.5  11.335             0.8     0             0   \n",
       "142                    0.6       8            0.65     0             0   \n",
       "143                    0.5      13             0.4     0             0   \n",
       "\n",
       "            attackdamage attackdamageperlevel attackspeedperlevel attackspeed  \n",
       "championId                                                                     \n",
       "266                   60                    5               2.500       0.651  \n",
       "103                53.04                    3               2.000       0.668  \n",
       "84                  62.4                  3.3               3.200       0.625  \n",
       "12                    62                 3.75               2.125       0.625  \n",
       "32                 53.38                  3.8               2.180       0.736  \n",
       "...                  ...                  ...                 ...         ...  \n",
       "238                   63                  3.4               3.300       0.651  \n",
       "115               54.208                  3.1               2.000       0.656  \n",
       "26                 51.64                    3               2.130       0.625  \n",
       "142                   58                  3.3               2.500       0.625  \n",
       "143               53.376                  3.2               2.110       0.625  \n",
       "\n",
       "[153 rows x 28 columns]"
      ],
      "text/html": "<div>\n<style scoped>\n    .dataframe tbody tr th:only-of-type {\n        vertical-align: middle;\n    }\n\n    .dataframe tbody tr th {\n        vertical-align: top;\n    }\n\n    .dataframe thead th {\n        text-align: right;\n    }\n</style>\n<table border=\"1\" class=\"dataframe\">\n  <thead>\n    <tr style=\"text-align: right;\">\n      <th></th>\n      <th>name</th>\n      <th>attack</th>\n      <th>defense</th>\n      <th>magic</th>\n      <th>difficulty</th>\n      <th>primaryClass</th>\n      <th>secondaryClass</th>\n      <th>partype</th>\n      <th>hp</th>\n      <th>hpperlevel</th>\n      <th>...</th>\n      <th>hpregen</th>\n      <th>hpregenperlevel</th>\n      <th>mpregen</th>\n      <th>mpregenperlevel</th>\n      <th>crit</th>\n      <th>critperlevel</th>\n      <th>attackdamage</th>\n      <th>attackdamageperlevel</th>\n      <th>attackspeedperlevel</th>\n      <th>attackspeed</th>\n    </tr>\n    <tr>\n      <th>championId</th>\n      <th></th>\n      <th></th>\n      <th></th>\n      <th></th>\n      <th></th>\n      <th></th>\n      <th></th>\n      <th></th>\n      <th></th>\n      <th></th>\n      <th></th>\n      <th></th>\n      <th></th>\n      <th></th>\n      <th></th>\n      <th></th>\n      <th></th>\n      <th></th>\n      <th></th>\n      <th></th>\n      <th></th>\n    </tr>\n  </thead>\n  <tbody>\n    <tr>\n      <th>266</th>\n      <td>Aatrox</td>\n      <td>8</td>\n      <td>4</td>\n      <td>3</td>\n      <td>4</td>\n      <td>Fighter</td>\n      <td>Tank</td>\n      <td>Blood Well</td>\n      <td>580</td>\n      <td>90</td>\n      <td>...</td>\n      <td>3</td>\n      <td>1</td>\n      <td>0</td>\n      <td>0</td>\n      <td>0</td>\n      <td>0</td>\n      <td>60</td>\n      <td>5</td>\n      <td>2.500</td>\n      <td>0.651</td>\n    </tr>\n    <tr>\n      <th>103</th>\n      <td>Ahri</td>\n      <td>3</td>\n      <td>4</td>\n      <td>8</td>\n      <td>5</td>\n      <td>Mage</td>\n      <td>Assassin</td>\n      <td>Mana</td>\n      <td>526</td>\n      <td>92</td>\n      <td>...</td>\n      <td>5.5</td>\n      <td>0.6</td>\n      <td>8</td>\n      <td>0.8</td>\n      <td>0</td>\n      <td>0</td>\n      <td>53.04</td>\n      <td>3</td>\n      <td>2.000</td>\n      <td>0.668</td>\n    </tr>\n    <tr>\n      <th>84</th>\n      <td>Akali</td>\n      <td>5</td>\n      <td>3</td>\n      <td>8</td>\n      <td>7</td>\n      <td>Assassin</td>\n      <td>None</td>\n      <td>Energy</td>\n      <td>575</td>\n      <td>95</td>\n      <td>...</td>\n      <td>8</td>\n      <td>0.5</td>\n      <td>50</td>\n      <td>0</td>\n      <td>0</td>\n      <td>0</td>\n      <td>62.4</td>\n      <td>3.3</td>\n      <td>3.200</td>\n      <td>0.625</td>\n    </tr>\n    <tr>\n      <th>12</th>\n      <td>Alistar</td>\n      <td>6</td>\n      <td>9</td>\n      <td>5</td>\n      <td>7</td>\n      <td>Tank</td>\n      <td>Support</td>\n      <td>Mana</td>\n      <td>600</td>\n      <td>106</td>\n      <td>...</td>\n      <td>8.5</td>\n      <td>0.85</td>\n      <td>8.5</td>\n      <td>0.8</td>\n      <td>0</td>\n      <td>0</td>\n      <td>62</td>\n      <td>3.75</td>\n      <td>2.125</td>\n      <td>0.625</td>\n    </tr>\n    <tr>\n      <th>32</th>\n      <td>Amumu</td>\n      <td>2</td>\n      <td>6</td>\n      <td>8</td>\n      <td>3</td>\n      <td>Tank</td>\n      <td>Mage</td>\n      <td>Mana</td>\n      <td>615</td>\n      <td>80</td>\n      <td>...</td>\n      <td>9</td>\n      <td>0.85</td>\n      <td>7.382</td>\n      <td>0.525</td>\n      <td>0</td>\n      <td>0</td>\n      <td>53.38</td>\n      <td>3.8</td>\n      <td>2.180</td>\n      <td>0.736</td>\n    </tr>\n    <tr>\n      <th>...</th>\n      <td>...</td>\n      <td>...</td>\n      <td>...</td>\n      <td>...</td>\n      <td>...</td>\n      <td>...</td>\n      <td>...</td>\n      <td>...</td>\n      <td>...</td>\n      <td>...</td>\n      <td>...</td>\n      <td>...</td>\n      <td>...</td>\n      <td>...</td>\n      <td>...</td>\n      <td>...</td>\n      <td>...</td>\n      <td>...</td>\n      <td>...</td>\n      <td>...</td>\n      <td>...</td>\n    </tr>\n    <tr>\n      <th>238</th>\n      <td>Zed</td>\n      <td>9</td>\n      <td>2</td>\n      <td>1</td>\n      <td>7</td>\n      <td>Assassin</td>\n      <td>None</td>\n      <td>Energy</td>\n      <td>584</td>\n      <td>85</td>\n      <td>...</td>\n      <td>7</td>\n      <td>0.65</td>\n      <td>50</td>\n      <td>0</td>\n      <td>0</td>\n      <td>0</td>\n      <td>63</td>\n      <td>3.4</td>\n      <td>3.300</td>\n      <td>0.651</td>\n    </tr>\n    <tr>\n      <th>115</th>\n      <td>Ziggs</td>\n      <td>2</td>\n      <td>4</td>\n      <td>9</td>\n      <td>4</td>\n      <td>Mage</td>\n      <td>None</td>\n      <td>Mana</td>\n      <td>536</td>\n      <td>92</td>\n      <td>...</td>\n      <td>6.5</td>\n      <td>0.6</td>\n      <td>8</td>\n      <td>0.8</td>\n      <td>0</td>\n      <td>0</td>\n      <td>54.208</td>\n      <td>3.1</td>\n      <td>2.000</td>\n      <td>0.656</td>\n    </tr>\n    <tr>\n      <th>26</th>\n      <td>Zilean</td>\n      <td>2</td>\n      <td>5</td>\n      <td>8</td>\n      <td>6</td>\n      <td>Support</td>\n      <td>Mage</td>\n      <td>Mana</td>\n      <td>504</td>\n      <td>82</td>\n      <td>...</td>\n      <td>5.5</td>\n      <td>0.5</td>\n      <td>11.335</td>\n      <td>0.8</td>\n      <td>0</td>\n      <td>0</td>\n      <td>51.64</td>\n      <td>3</td>\n      <td>2.130</td>\n      <td>0.625</td>\n    </tr>\n    <tr>\n      <th>142</th>\n      <td>Zoe</td>\n      <td>1</td>\n      <td>7</td>\n      <td>8</td>\n      <td>5</td>\n      <td>Mage</td>\n      <td>Support</td>\n      <td>Mana</td>\n      <td>560</td>\n      <td>92</td>\n      <td>...</td>\n      <td>6.5</td>\n      <td>0.6</td>\n      <td>8</td>\n      <td>0.65</td>\n      <td>0</td>\n      <td>0</td>\n      <td>58</td>\n      <td>3.3</td>\n      <td>2.500</td>\n      <td>0.625</td>\n    </tr>\n    <tr>\n      <th>143</th>\n      <td>Zyra</td>\n      <td>4</td>\n      <td>3</td>\n      <td>8</td>\n      <td>7</td>\n      <td>Mage</td>\n      <td>Support</td>\n      <td>Mana</td>\n      <td>504</td>\n      <td>79</td>\n      <td>...</td>\n      <td>5.5</td>\n      <td>0.5</td>\n      <td>13</td>\n      <td>0.4</td>\n      <td>0</td>\n      <td>0</td>\n      <td>53.376</td>\n      <td>3.2</td>\n      <td>2.110</td>\n      <td>0.625</td>\n    </tr>\n  </tbody>\n</table>\n<p>153 rows × 28 columns</p>\n</div>"
     },
     "metadata": {},
     "execution_count": 3
    }
   ],
   "source": [
    "# with open(filePath+'champion.json', encoding='utf8') as f:\n",
    "#     championData = json.load(f)\n",
    "championData = requests.get(f\"http://ddragon.leagueoflegends.com/cdn/{versions['n']['champion']}/data/en_US/champion.json\").json()\n",
    "\n",
    "champions = pd.DataFrame(columns = ['championId', 'name', 'attack', 'defense', 'magic', 'difficulty', 'primaryClass', 'secondaryClass', 'partype', 'hp', 'hpperlevel', 'mp', 'mpperlevel', 'movespeed', 'armor', 'armorperlevel', 'spellblock', 'spellblockperlevel', 'attackrange', 'hpregen', 'hpregenperlevel', 'mpregen', 'mpregenperlevel', 'crit', 'critperlevel', 'attackdamage', 'attackdamageperlevel', 'attackspeedperlevel', 'attackspeed'])\n",
    "\n",
    "for k, v in championData['data'].items():\n",
    "    champions = champions.append({'championId': int(v['key']),\n",
    "                        'name': v['name'], \n",
    "                        'attack': v['info']['attack'], \n",
    "                        'defense': v['info']['defense'], \n",
    "                        'magic': v['info']['magic'], \n",
    "                        'difficulty': v['info']['difficulty'], \n",
    "                        'primaryClass': v['tags'][0], \n",
    "                        'secondaryClass': v['tags'][1] if len(v['tags']) > 1 else 'None', \n",
    "                        'partype': v['partype'], \n",
    "                        'hp': v['stats']['hp'], \n",
    "                        'hpperlevel': v['stats']['hpperlevel'], \n",
    "                        'mp': v['stats']['mp'], \n",
    "                        'mpperlevel': v['stats']['mpperlevel'], \n",
    "                        'movespeed': v['stats']['movespeed'], \n",
    "                        'armor': v['stats']['armor'], \n",
    "                        'armorperlevel': v['stats']['armorperlevel'], \n",
    "                        'spellblock': v['stats']['spellblock'], \n",
    "                        'spellblockperlevel': v['stats']['spellblockperlevel'], \n",
    "                        'attackrange': v['stats']['attackrange'], \n",
    "                        'hpregen': v['stats']['hpregen'], \n",
    "                        'hpregenperlevel': v['stats']['hpregenperlevel'], \n",
    "                        'mpregen': v['stats']['mpregen'], \n",
    "                        'mpregenperlevel': v['stats']['mpregenperlevel'], \n",
    "                        'crit': v['stats']['crit'], \n",
    "                        'critperlevel': v['stats']['critperlevel'], \n",
    "                        'attackdamage': v['stats']['attackdamage'], \n",
    "                        'attackdamageperlevel': v['stats']['attackdamageperlevel'], \n",
    "                        'attackspeedperlevel': v['stats']['attackspeedperlevel'], \n",
    "                        'attackspeed': v['stats']['attackspeed']}, ignore_index=True)\n",
    "\n",
    "champions.set_index('championId', inplace=True)\n",
    "# champions.index = champions.index.astype(str)\n",
    "champions"
   ]
  },
  {
   "cell_type": "code",
   "execution_count": 4,
   "metadata": {
    "tags": []
   },
   "outputs": [
    {
     "output_type": "execute_result",
     "data": {
      "text/plain": [
       "     championId rank   wins   total gameVersion   winRate\n",
       "0            17    1  63548  108588        10.1  0.585221\n",
       "1            19   69  24584   49248        10.1  0.499188\n",
       "2           246  131  17425   38625        10.1  0.451133\n",
       "3            16   50  56979  110317        10.1  0.516502\n",
       "4           412  127  55817  123430        10.1  0.452216\n",
       "...         ...  ...    ...     ...         ...       ...\n",
       "3728        102   43  18811   36164       10.25  0.520158\n",
       "3729         98  116  19596   41470       10.25  0.472534\n",
       "3730        429   85  17746   36607       10.25  0.484771\n",
       "3731         72   52   6510   12757       10.25  0.510308\n",
       "3732        526   51  12580   24563       10.25  0.512152\n",
       "\n",
       "[3733 rows x 6 columns]"
      ],
      "text/html": "<div>\n<style scoped>\n    .dataframe tbody tr th:only-of-type {\n        vertical-align: middle;\n    }\n\n    .dataframe tbody tr th {\n        vertical-align: top;\n    }\n\n    .dataframe thead th {\n        text-align: right;\n    }\n</style>\n<table border=\"1\" class=\"dataframe\">\n  <thead>\n    <tr style=\"text-align: right;\">\n      <th></th>\n      <th>championId</th>\n      <th>rank</th>\n      <th>wins</th>\n      <th>total</th>\n      <th>gameVersion</th>\n      <th>winRate</th>\n    </tr>\n  </thead>\n  <tbody>\n    <tr>\n      <th>0</th>\n      <td>17</td>\n      <td>1</td>\n      <td>63548</td>\n      <td>108588</td>\n      <td>10.1</td>\n      <td>0.585221</td>\n    </tr>\n    <tr>\n      <th>1</th>\n      <td>19</td>\n      <td>69</td>\n      <td>24584</td>\n      <td>49248</td>\n      <td>10.1</td>\n      <td>0.499188</td>\n    </tr>\n    <tr>\n      <th>2</th>\n      <td>246</td>\n      <td>131</td>\n      <td>17425</td>\n      <td>38625</td>\n      <td>10.1</td>\n      <td>0.451133</td>\n    </tr>\n    <tr>\n      <th>3</th>\n      <td>16</td>\n      <td>50</td>\n      <td>56979</td>\n      <td>110317</td>\n      <td>10.1</td>\n      <td>0.516502</td>\n    </tr>\n    <tr>\n      <th>4</th>\n      <td>412</td>\n      <td>127</td>\n      <td>55817</td>\n      <td>123430</td>\n      <td>10.1</td>\n      <td>0.452216</td>\n    </tr>\n    <tr>\n      <th>...</th>\n      <td>...</td>\n      <td>...</td>\n      <td>...</td>\n      <td>...</td>\n      <td>...</td>\n      <td>...</td>\n    </tr>\n    <tr>\n      <th>3728</th>\n      <td>102</td>\n      <td>43</td>\n      <td>18811</td>\n      <td>36164</td>\n      <td>10.25</td>\n      <td>0.520158</td>\n    </tr>\n    <tr>\n      <th>3729</th>\n      <td>98</td>\n      <td>116</td>\n      <td>19596</td>\n      <td>41470</td>\n      <td>10.25</td>\n      <td>0.472534</td>\n    </tr>\n    <tr>\n      <th>3730</th>\n      <td>429</td>\n      <td>85</td>\n      <td>17746</td>\n      <td>36607</td>\n      <td>10.25</td>\n      <td>0.484771</td>\n    </tr>\n    <tr>\n      <th>3731</th>\n      <td>72</td>\n      <td>52</td>\n      <td>6510</td>\n      <td>12757</td>\n      <td>10.25</td>\n      <td>0.510308</td>\n    </tr>\n    <tr>\n      <th>3732</th>\n      <td>526</td>\n      <td>51</td>\n      <td>12580</td>\n      <td>24563</td>\n      <td>10.25</td>\n      <td>0.512152</td>\n    </tr>\n  </tbody>\n</table>\n<p>3733 rows × 6 columns</p>\n</div>"
     },
     "metadata": {},
     "execution_count": 4
    }
   ],
   "source": [
    "winRates = pd.DataFrame(columns = ['championId', 'rank', 'wins', 'total', 'gameVersion'])\n",
    "for i in [f'10.{x}' for x in range(1,26)]:\n",
    "    patchWRData = requests.get(f\"https://apix1.op.lol/tierlist/7/?lane=middle&patch={i}&tier=all&queue=450&region=na\").json()\n",
    "    for k, v in patchWRData['cid'].items():\n",
    "        winRates = winRates.append({'championId': int(k),\n",
    "                    'rank': v[0], \n",
    "                    'wins': v[3],\n",
    "                    'total': v[4],\n",
    "                    'gameVersion': i\n",
    "                    }, ignore_index=True )\n",
    "    winRates['winRate'] = winRates['wins'] / winRates['total']\n",
    "    # winRates['gameVersion'] = i\n",
    "#     champions = pd.merge(champions, winRates[['championId', 'winRate']], how='left', left_on=['championId'], right_on=['championId'], left_index=True, right_index=False)\n",
    "#     champions.rename(columns={'winRate': f'winRate_{i}'}, inplace=True)\n",
    "#     champions.set_index('championId', inplace=True)\n",
    "\n",
    "# champions\n",
    "winRates"
   ]
  },
  {
   "cell_type": "code",
   "execution_count": 5,
   "metadata": {},
   "outputs": [
    {
     "output_type": "execute_result",
     "data": {
      "text/plain": [
       "      id             name slot        tree\n",
       "0   8112      Electrocute    0  Domination\n",
       "1   8124         Predator    0  Domination\n",
       "2   8128     Dark Harvest    0  Domination\n",
       "3   9923   Hail of Blades    0  Domination\n",
       "4   8126       Cheap Shot    1  Domination\n",
       "..   ...              ...  ...         ...\n",
       "58  8234         Celerity    2     Sorcery\n",
       "59  8233   Absolute Focus    2     Sorcery\n",
       "60  8237           Scorch    3     Sorcery\n",
       "61  8232     Waterwalking    3     Sorcery\n",
       "62  8236  Gathering Storm    3     Sorcery\n",
       "\n",
       "[63 rows x 4 columns]"
      ],
      "text/html": "<div>\n<style scoped>\n    .dataframe tbody tr th:only-of-type {\n        vertical-align: middle;\n    }\n\n    .dataframe tbody tr th {\n        vertical-align: top;\n    }\n\n    .dataframe thead th {\n        text-align: right;\n    }\n</style>\n<table border=\"1\" class=\"dataframe\">\n  <thead>\n    <tr style=\"text-align: right;\">\n      <th></th>\n      <th>id</th>\n      <th>name</th>\n      <th>slot</th>\n      <th>tree</th>\n    </tr>\n  </thead>\n  <tbody>\n    <tr>\n      <th>0</th>\n      <td>8112</td>\n      <td>Electrocute</td>\n      <td>0</td>\n      <td>Domination</td>\n    </tr>\n    <tr>\n      <th>1</th>\n      <td>8124</td>\n      <td>Predator</td>\n      <td>0</td>\n      <td>Domination</td>\n    </tr>\n    <tr>\n      <th>2</th>\n      <td>8128</td>\n      <td>Dark Harvest</td>\n      <td>0</td>\n      <td>Domination</td>\n    </tr>\n    <tr>\n      <th>3</th>\n      <td>9923</td>\n      <td>Hail of Blades</td>\n      <td>0</td>\n      <td>Domination</td>\n    </tr>\n    <tr>\n      <th>4</th>\n      <td>8126</td>\n      <td>Cheap Shot</td>\n      <td>1</td>\n      <td>Domination</td>\n    </tr>\n    <tr>\n      <th>...</th>\n      <td>...</td>\n      <td>...</td>\n      <td>...</td>\n      <td>...</td>\n    </tr>\n    <tr>\n      <th>58</th>\n      <td>8234</td>\n      <td>Celerity</td>\n      <td>2</td>\n      <td>Sorcery</td>\n    </tr>\n    <tr>\n      <th>59</th>\n      <td>8233</td>\n      <td>Absolute Focus</td>\n      <td>2</td>\n      <td>Sorcery</td>\n    </tr>\n    <tr>\n      <th>60</th>\n      <td>8237</td>\n      <td>Scorch</td>\n      <td>3</td>\n      <td>Sorcery</td>\n    </tr>\n    <tr>\n      <th>61</th>\n      <td>8232</td>\n      <td>Waterwalking</td>\n      <td>3</td>\n      <td>Sorcery</td>\n    </tr>\n    <tr>\n      <th>62</th>\n      <td>8236</td>\n      <td>Gathering Storm</td>\n      <td>3</td>\n      <td>Sorcery</td>\n    </tr>\n  </tbody>\n</table>\n<p>63 rows × 4 columns</p>\n</div>"
     },
     "metadata": {},
     "execution_count": 5
    }
   ],
   "source": [
    "# with open(filePath+'runesReforged.json', encoding='utf8') as f:\n",
    "#     runeData = json.load(f)\n",
    "\n",
    "runeData = requests.get(f\"http://ddragon.leagueoflegends.com/cdn/{versions['v']}/data/en_US/runesReforged.json\").json()\n",
    "\n",
    "runes = pd.DataFrame(columns = ['id', 'name', 'slot', 'tree'])\n",
    "\n",
    "for v1 in runeData:\n",
    "    tree = v1['name']\n",
    "    for i in range(len(v1['slots'])):\n",
    "        slot = i\n",
    "        for v2 in v1['slots'][i]['runes']:\n",
    "            # print(v2['name'])\n",
    "            runes = runes.append({'id': v2['id'],\n",
    "                            'name': v2['name'], \n",
    "                            'slot': slot,\n",
    "                            'tree': tree\n",
    "                            }, ignore_index=True )\n",
    "\n",
    "runes"
   ]
  },
  {
   "cell_type": "code",
   "execution_count": 6,
   "metadata": {},
   "outputs": [
    {
     "output_type": "execute_result",
     "data": {
      "text/plain": [
       "gnite   \n",
       "3                SummonerExhaust       Exhaust   \n",
       "4                  SummonerFlash         Flash   \n",
       "5                  SummonerHaste         Ghost   \n",
       "6                   SummonerHeal          Heal   \n",
       "7                   SummonerMana       Clarity   \n",
       "8             SummonerPoroRecall  To the King!   \n",
       "9              SummonerPoroThrow     Poro Toss   \n",
       "10                 SummonerSmite         Smite   \n",
       "11  SummonerSnowURFSnowball_Mark          Mark   \n",
       "12              SummonerSnowball          Mark   \n",
       "13              SummonerTeleport      Teleport   \n",
       "\n",
       "                                          description cooldown key  \\\n",
       "0   Shields your champion from 115-455 damage (dep...      180  21   \n",
       "1   Removes all disables (excluding suppression an...      210   1   \n",
       "2   Ignites target enemy champion, dealing 70-410 ...      180  14   \n",
       "3   Exhausts target enemy champion, reducing their...      210   3   \n",
       "4   Teleports your champion a short distance towar...      300   4   \n",
       "5   For 10 seconds, your champion can move through...      210   6   \n",
       "6   Restores 90-345 Health (depending on champion ...      240   7   \n",
       "7   Restores 50% of your champion's maximum Mana. ...      240  13   \n",
       "8             Quickly travel to the Poro King's side.       10  30   \n",
       "9   Toss a Poro at your enemies. If it hits, you c...       20  31   \n",
       "10  Deals 390-1000 true damage (depending on champ...       15  11   \n",
       "11  Throw a snowball in a straight line at your en...       80  39   \n",
       "12  Throw a snowball in a straight line at your en...       80  32   \n",
       "13  After channeling for 4 seconds, teleports your...        0  12   \n",
       "\n",
       "   summonerLevel  range  \n",
       "0              4   1200  \n",
       "1              9    200  \n",
       "2              9    600  \n",
       "3              4    650  \n",
       "4              7    425  \n",
       "5              1    200  \n",
       "6              1    850  \n",
       "7              6    600  \n",
       "8              1    200  \n",
       "9              1   2500  \n",
       "10             9    500  \n",
       "11             6   8000  \n",
       "12             6   1600  \n",
       "13             7  25000  "
      ],
      "text/html": "<div>\n<style scoped>\n    .dataframe tbody tr th:only-of-type {\n        vertical-align: middle;\n    }\n\n    .dataframe tbody tr th {\n        vertical-align: top;\n    }\n\n    .dataframe thead th {\n        text-align: right;\n    }\n</style>\n<table border=\"1\" class=\"dataframe\">\n  <thead>\n    <tr style=\"text-align: right;\">\n      <th></th>\n      <th>id</th>\n      <th>name</th>\n      <th>description</th>\n      <th>cooldown</th>\n      <th>key</th>\n      <th>summonerLevel</th>\n      <th>range</th>\n    </tr>\n  </thead>\n  <tbody>\n    <tr>\n      <th>0</th>\n      <td>SummonerBarrier</td>\n      <td>Barrier</td>\n      <td>Shields your champion from 115-455 damage (dep...</td>\n      <td>180</td>\n      <td>21</td>\n      <td>4</td>\n      <td>1200</td>\n    </tr>\n    <tr>\n      <th>1</th>\n      <td>SummonerBoost</td>\n      <td>Cleanse</td>\n      <td>Removes all disables (excluding suppression an...</td>\n      <td>210</td>\n      <td>1</td>\n      <td>9</td>\n      <td>200</td>\n    </tr>\n    <tr>\n      <th>2</th>\n      <td>SummonerDot</td>\n      <td>Ignite</td>\n      <td>Ignites target enemy champion, dealing 70-410 ...</td>\n      <td>180</td>\n      <td>14</td>\n      <td>9</td>\n      <td>600</td>\n    </tr>\n    <tr>\n      <th>3</th>\n      <td>SummonerExhaust</td>\n      <td>Exhaust</td>\n      <td>Exhausts target enemy champion, reducing their...</td>\n      <td>210</td>\n      <td>3</td>\n      <td>4</td>\n      <td>650</td>\n    </tr>\n    <tr>\n      <th>4</th>\n      <td>SummonerFlash</td>\n      <td>Flash</td>\n      <td>Teleports your champion a short distance towar...</td>\n      <td>300</td>\n      <td>4</td>\n      <td>7</td>\n      <td>425</td>\n    </tr>\n    <tr>\n      <th>5</th>\n      <td>SummonerHaste</td>\n      <td>Ghost</td>\n      <td>For 10 seconds, your champion can move through...</td>\n      <td>210</td>\n      <td>6</td>\n      <td>1</td>\n      <td>200</td>\n    </tr>\n    <tr>\n      <th>6</th>\n      <td>SummonerHeal</td>\n      <td>Heal</td>\n      <td>Restores 90-345 Health (depending on champion ...</td>\n      <td>240</td>\n      <td>7</td>\n      <td>1</td>\n      <td>850</td>\n    </tr>\n    <tr>\n      <th>7</th>\n      <td>SummonerMana</td>\n      <td>Clarity</td>\n      <td>Restores 50% of your champion's maximum Mana. ...</td>\n      <td>240</td>\n      <td>13</td>\n      <td>6</td>\n      <td>600</td>\n    </tr>\n    <tr>\n      <th>8</th>\n      <td>SummonerPoroRecall</td>\n      <td>To the King!</td>\n      <td>Quickly travel to the Poro King's side.</td>\n      <td>10</td>\n      <td>30</td>\n      <td>1</td>\n      <td>200</td>\n    </tr>\n    <tr>\n      <th>9</th>\n      <td>SummonerPoroThrow</td>\n      <td>Poro Toss</td>\n      <td>Toss a Poro at your enemies. If it hits, you c...</td>\n      <td>20</td>\n      <td>31</td>\n      <td>1</td>\n      <td>2500</td>\n    </tr>\n    <tr>\n      <th>10</th>\n      <td>SummonerSmite</td>\n      <td>Smite</td>\n      <td>Deals 390-1000 true damage (depending on champ...</td>\n      <td>15</td>\n      <td>11</td>\n      <td>9</td>\n      <td>500</td>\n    </tr>\n    <tr>\n      <th>11</th>\n      <td>SummonerSnowURFSnowball_Mark</td>\n      <td>Mark</td>\n      <td>Throw a snowball in a straight line at your en...</td>\n      <td>80</td>\n      <td>39</td>\n      <td>6</td>\n      <td>8000</td>\n    </tr>\n    <tr>\n      <th>12</th>\n      <td>SummonerSnowball</td>\n      <td>Mark</td>\n      <td>Throw a snowball in a straight line at your en...</td>\n      <td>80</td>\n      <td>32</td>\n      <td>6</td>\n      <td>1600</td>\n    </tr>\n    <tr>\n      <th>13</th>\n      <td>SummonerTeleport</td>\n      <td>Teleport</td>\n      <td>After channeling for 4 seconds, teleports your...</td>\n      <td>0</td>\n      <td>12</td>\n      <td>7</td>\n      <td>25000</td>\n    </tr>\n  </tbody>\n</table>\n</div>"
     },
     "metadata": {},
     "execution_count": 6
    }
   ],
   "source": [
    "summonerData = requests.get(f\"http://ddragon.leagueoflegends.com/cdn/{versions['n']['summoner']}/data/en_US/summoner.json\").json()\n",
    "\n",
    "summoners = pd.DataFrame(columns = ['id', 'name', 'description', 'cooldown', 'key', 'summonerLevel', 'range'])\n",
    "\n",
    "for k, v in summonerData['data'].items():\n",
    "    summoners = summoners.append({'id': v['id'],\n",
    "                                'name': v['name'], \n",
    "                                'description': v['description'],\n",
    "                                'cooldown': v['cooldown'][0],\n",
    "                                'key': v['key'],\n",
    "                                'summonerLevel': v['summonerLevel'],\n",
    "                                'range': v['range'][0]\n",
    "                                }, ignore_index=True )\n",
    "\n",
    "summoners"
   ]
  },
  {
   "cell_type": "code",
   "execution_count": null,
   "metadata": {
    "tags": []
   },
   "outputs": [],
   "source": [
    "import asyncpg\n",
    "import nest_asyncio\n",
    "import asyncio\n",
    "from config import dbConfig\n",
    "\n",
    "nest_asyncio.apply()\n",
    "loop = asyncio.get_event_loop()"
   ]
  },
  {
   "cell_type": "code",
   "execution_count": null,
   "metadata": {},
   "outputs": [],
   "source": [
    "async def fetch_as_dataframe(con: asyncpg.Connection, query: str, *args):\n",
    "    stmt = await con.prepare(query)\n",
    "    columns = [a.name for a in stmt.get_attributes()]\n",
    "    data = await stmt.fetch()\n",
    "    return pd.DataFrame(data, columns=columns)\n",
    "\n",
    "async def run():\n",
    "    connection = await asyncpg.connect(user=dbConfig['user'],\n",
    "                                password=dbConfig['password'],\n",
    "                                host=dbConfig['host'],\n",
    "                                port=dbConfig['port'],\n",
    "                                database=dbConfig['database'])\n",
    "    async with connection.transaction():\n",
    "        # allGamesQuery = f'SELECT \"gameVersion\", \"gameMode\", COUNT(1) \\\n",
    "        #                 FROM \"Matches\" \\\n",
    "        #                 GROUP BY \"gameVersion\", \"gameMode\"\\\n",
    "        #                 ORDER BY \"gameVersion\" ASC;'\n",
    "        patchCountQuery = f'SELECT (string_to_array(\"gameVersion\", \\'.\\'))[1] || \\'.\\' || (string_to_array(\"gameVersion\", \\'.\\'))[2] AS patch, \"gameMode\" , COUNT(1) \\\n",
    "                        FROM \"Matches\" \\\n",
    "                        GROUP BY patch, \"gameMode\" \\\n",
    "                        ORDER BY \"gameMode\", patch;'\n",
    "        patchCount_df = await fetch_as_dataframe(connection, patchCountQuery)\n",
    "\n",
    "    return patchCount_df\n",
    "\n",
    "patchCount_df = loop.run_until_complete(run())\n",
    "patchCount_df.head(25)"
   ]
  },
  {
   "cell_type": "code",
   "execution_count": null,
   "metadata": {},
   "outputs": [],
   "source": [
    "async def fetch_as_dataframe(con: asyncpg.Connection, query: str, *args):\n",
    "    stmt = await con.prepare(query)\n",
    "    columns = [a.name for a in stmt.get_attributes()]\n",
    "    data = await stmt.fetch()\n",
    "    return pd.DataFrame(data, columns=columns)\n",
    "\n",
    "async def run():\n",
    "    connection = await asyncpg.connect(user=dbConfig['user'],\n",
    "                                password=dbConfig['password'],\n",
    "                                host=dbConfig['host'],\n",
    "                                port=dbConfig['port'],\n",
    "                                database=dbConfig['database'])\n",
    "    async with connection.transaction():\n",
    "        rankQuery = f'SELECT \"highestAchievedSeasonTier\", COUNT(1) \\\n",
    "                        FROM \"Participant_Stats\"\\\n",
    "                        GROUP BY \"highestAchievedSeasonTier\" \\\n",
    "                        ORDER BY \"highestAchievedSeasonTier\" ASC;'\n",
    "        rank_df = await fetch_as_dataframe(connection, rankQuery)\n",
    "\n",
    "    return rank_df\n",
    "\n",
    "rank_df = loop.run_until_complete(run())\n",
    "rank_df.head(10)"
   ]
  },
  {
   "cell_type": "code",
   "execution_count": null,
   "metadata": {},
   "outputs": [],
   "source": [
    "# async def fetch_as_dataframe(con: asyncpg.Connection, query: str, *args):\n",
    "#     stmt = await con.prepare(query)\n",
    "#     columns = [a.name for a in stmt.get_attributes()]\n",
    "#     data = await stmt.fetch()\n",
    "#     return pd.DataFrame(data, columns=columns)\n",
    "\n",
    "# async def run():\n",
    "#     connection = await asyncpg.connect(user=dbConfig['user'],\n",
    "#                                 password=dbConfig['password'],\n",
    "#                                 host=dbConfig['host'],\n",
    "#                                 port=dbConfig['port'],\n",
    "#                                 database=dbConfig['database'])\n",
    "#     async with connection.transaction():\n",
    "#         allGamesQuery = f'SELECT p1.\"gameId\"\\\n",
    "#         , MAX(CASE p2.Ranking WHEN 1 THEN p2.\"championId\" END) AS champ_1 \\\n",
    "#         , MAX(CASE p2.Ranking WHEN 2 THEN p2.\"championId\" END) AS champ_2 \\\n",
    "#         , MAX(CASE p2.Ranking WHEN 3 THEN p2.\"championId\" END) AS champ_3 \\\n",
    "#         , MAX(CASE p2.Ranking WHEN 4 THEN p2.\"championId\" END) AS champ_4 \\\n",
    "#         , MAX(CASE p2.Ranking WHEN 5 THEN p2.\"championId\" END) AS champ_5 \\\n",
    "#         , MAX(CASE p2.Ranking WHEN 6 THEN p2.\"championId\" END) AS champ_6 \\\n",
    "#         , MAX(CASE p2.Ranking WHEN 7 THEN p2.\"championId\" END) AS champ_7 \\\n",
    "#         , MAX(CASE p2.Ranking WHEN 8 THEN p2.\"championId\" END) AS champ_8 \\\n",
    "#         , MAX(CASE p2.Ranking WHEN 9 THEN p2.\"championId\" END) AS champ_9 \\\n",
    "#         , MAX(CASE p2.Ranking WHEN 10 THEN p2.\"championId\" END) AS champ_10 \\\n",
    "#         , MAX(CASE p2.Ranking WHEN 1 THEN p1.\"tier\" END) AS \"tier_1\" \\\n",
    "#         , MAX(CASE p2.Ranking WHEN 2 THEN p1.\"tier\" END) AS \"tier_2\" \\\n",
    "#         , MAX(CASE p2.Ranking WHEN 3 THEN p1.\"tier\" END) AS \"tier_3\" \\\n",
    "#         , MAX(CASE p2.Ranking WHEN 4 THEN p1.\"tier\" END) AS \"tier_4\" \\\n",
    "#         , MAX(CASE p2.Ranking WHEN 5 THEN p1.\"tier\" END) AS \"tier_5\" \\\n",
    "#         , MAX(CASE p2.Ranking WHEN 6 THEN p1.\"tier\" END) AS \"tier_6\" \\\n",
    "#         , MAX(CASE p2.Ranking WHEN 7 THEN p1.\"tier\" END) AS \"tier_7\" \\\n",
    "#         , MAX(CASE p2.Ranking WHEN 8 THEN p1.\"tier\" END) AS \"tier_8\" \\\n",
    "#         , MAX(CASE p2.Ranking WHEN 9 THEN p1.\"tier\" END) AS \"tier_9\" \\\n",
    "#         , MAX(CASE p2.Ranking WHEN 10 THEN p1.\"tier\" END) AS \"tier_10\" \\\n",
    "#         , MAX(CASE p2.Ranking WHEN 1 THEN p1.\"rank\" END) AS \"rank_1\" \\\n",
    "#         , MAX(CASE p2.Ranking WHEN 2 THEN p1.\"rank\" END) AS \"rank_2\" \\\n",
    "#         , MAX(CASE p2.Ranking WHEN 3 THEN p1.\"rank\" END) AS \"rank_3\" \\\n",
    "#         , MAX(CASE p2.Ranking WHEN 4 THEN p1.\"rank\" END) AS \"rank_4\" \\\n",
    "#         , MAX(CASE p2.Ranking WHEN 5 THEN p1.\"rank\" END) AS \"rank_5\" \\\n",
    "#         , MAX(CASE p2.Ranking WHEN 6 THEN p1.\"rank\" END) AS \"rank_6\" \\\n",
    "#         , MAX(CASE p2.Ranking WHEN 7 THEN p1.\"rank\" END) AS \"rank_7\" \\\n",
    "#         , MAX(CASE p2.Ranking WHEN 8 THEN p1.\"rank\" END) AS \"rank_8\" \\\n",
    "#         , MAX(CASE p2.Ranking WHEN 9 THEN p1.\"rank\" END) AS \"rank_9\" \\\n",
    "#         , MAX(CASE p2.Ranking WHEN 10 THEN p1.\"rank\" END) AS \"rank_10\" \\\n",
    "#         , MAX(CASE p2.Ranking WHEN 1 THEN p1.\"rankWins\" END) AS \"rankWins_1\" \\\n",
    "#         , MAX(CASE p2.Ranking WHEN 2 THEN p1.\"rankWins\" END) AS \"rankWins_2\" \\\n",
    "#         , MAX(CASE p2.Ranking WHEN 3 THEN p1.\"rankWins\" END) AS \"rankWins_3\" \\\n",
    "#         , MAX(CASE p2.Ranking WHEN 4 THEN p1.\"rankWins\" END) AS \"rankWins_4\" \\\n",
    "#         , MAX(CASE p2.Ranking WHEN 5 THEN p1.\"rankWins\" END) AS \"rankWins_5\" \\\n",
    "#         , MAX(CASE p2.Ranking WHEN 6 THEN p1.\"rankWins\" END) AS \"rankWins_6\" \\\n",
    "#         , MAX(CASE p2.Ranking WHEN 7 THEN p1.\"rankWins\" END) AS \"rankWins_7\" \\\n",
    "#         , MAX(CASE p2.Ranking WHEN 8 THEN p1.\"rankWins\" END) AS \"rankWins_8\" \\\n",
    "#         , MAX(CASE p2.Ranking WHEN 9 THEN p1.\"rankWins\" END) AS \"rankWins_9\" \\\n",
    "#         , MAX(CASE p2.Ranking WHEN 10 THEN p1.\"rankWins\" END) AS \"rankWins_10\" \\\n",
    "#         , MAX(CASE p2.Ranking WHEN 1 THEN p1.\"rankLosses\" END) AS \"rankLosses_1\" \\\n",
    "#         , MAX(CASE p2.Ranking WHEN 2 THEN p1.\"rankLosses\" END) AS \"rankLosses_2\" \\\n",
    "#         , MAX(CASE p2.Ranking WHEN 3 THEN p1.\"rankLosses\" END) AS \"rankLosses_3\" \\\n",
    "#         , MAX(CASE p2.Ranking WHEN 4 THEN p1.\"rankLosses\" END) AS \"rankLosses_4\" \\\n",
    "#         , MAX(CASE p2.Ranking WHEN 5 THEN p1.\"rankLosses\" END) AS \"rankLosses_5\" \\\n",
    "#         , MAX(CASE p2.Ranking WHEN 6 THEN p1.\"rankLosses\" END) AS \"rankLosses_6\" \\\n",
    "#         , MAX(CASE p2.Ranking WHEN 7 THEN p1.\"rankLosses\" END) AS \"rankLosses_7\" \\\n",
    "#         , MAX(CASE p2.Ranking WHEN 8 THEN p1.\"rankLosses\" END) AS \"rankLosses_8\" \\\n",
    "#         , MAX(CASE p2.Ranking WHEN 9 THEN p1.\"rankLosses\" END) AS \"rankLosses_9\" \\\n",
    "#         , MAX(CASE p2.Ranking WHEN 10 THEN p1.\"rankLosses\" END) AS \"rankLosses_10\" \\\n",
    "#         , MAX(CASE p2.Ranking WHEN 1 THEN p1.\"championPoints\" END) AS \"champPts_1\" \\\n",
    "#         , MAX(CASE p2.Ranking WHEN 2 THEN p1.\"championPoints\" END) AS \"champPts_2\" \\\n",
    "#         , MAX(CASE p2.Ranking WHEN 3 THEN p1.\"championPoints\" END) AS \"champPts_3\" \\\n",
    "#         , MAX(CASE p2.Ranking WHEN 4 THEN p1.\"championPoints\" END) AS \"champPts_4\" \\\n",
    "#         , MAX(CASE p2.Ranking WHEN 5 THEN p1.\"championPoints\" END) AS \"champPts_5\" \\\n",
    "#         , MAX(CASE p2.Ranking WHEN 6 THEN p1.\"championPoints\" END) AS \"champPts_6\" \\\n",
    "#         , MAX(CASE p2.Ranking WHEN 7 THEN p1.\"championPoints\" END) AS \"champPts_7\" \\\n",
    "#         , MAX(CASE p2.Ranking WHEN 8 THEN p1.\"championPoints\" END) AS \"champPts_8\" \\\n",
    "#         , MAX(CASE p2.Ranking WHEN 9 THEN p1.\"championPoints\" END) AS \"champPts_9\" \\\n",
    "#         , MAX(CASE p2.Ranking WHEN 10 THEN p1.\"championPoints\" END) AS \"champPts_10\" \\\n",
    "#         , MAX(CASE p2.Ranking WHEN 1 THEN p2.\"spell1Id\" END) AS \"spell1Id_1\" \\\n",
    "#         , MAX(CASE p2.Ranking WHEN 2 THEN p2.\"spell1Id\" END) AS \"spell1Id_2\" \\\n",
    "#         , MAX(CASE p2.Ranking WHEN 3 THEN p2.\"spell1Id\" END) AS \"spell1Id_3\" \\\n",
    "#         , MAX(CASE p2.Ranking WHEN 4 THEN p2.\"spell1Id\" END) AS \"spell1Id_4\" \\\n",
    "#         , MAX(CASE p2.Ranking WHEN 5 THEN p2.\"spell1Id\" END) AS \"spell1Id_5\" \\\n",
    "#         , MAX(CASE p2.Ranking WHEN 6 THEN p2.\"spell1Id\" END) AS \"spell1Id_6\" \\\n",
    "#         , MAX(CASE p2.Ranking WHEN 7 THEN p2.\"spell1Id\" END) AS \"spell1Id_7\" \\\n",
    "#         , MAX(CASE p2.Ranking WHEN 8 THEN p2.\"spell1Id\" END) AS \"spell1Id_8\" \\\n",
    "#         , MAX(CASE p2.Ranking WHEN 9 THEN p2.\"spell1Id\" END) AS \"spell1Id_9\" \\\n",
    "#         , MAX(CASE p2.Ranking WHEN 10 THEN p2.\"spell1Id\" END) AS \"spell1Id_10\" \\\n",
    "#         , MAX(CASE p2.Ranking WHEN 1 THEN p2.\"spell2Id\" END) AS \"spell2Id_1\" \\\n",
    "#         , MAX(CASE p2.Ranking WHEN 2 THEN p2.\"spell2Id\" END) AS \"spell2Id_2\" \\\n",
    "#         , MAX(CASE p2.Ranking WHEN 3 THEN p2.\"spell2Id\" END) AS \"spell2Id_3\" \\\n",
    "#         , MAX(CASE p2.Ranking WHEN 4 THEN p2.\"spell2Id\" END) AS \"spell2Id_4\" \\\n",
    "#         , MAX(CASE p2.Ranking WHEN 5 THEN p2.\"spell2Id\" END) AS \"spell2Id_5\" \\\n",
    "#         , MAX(CASE p2.Ranking WHEN 6 THEN p2.\"spell2Id\" END) AS \"spell2Id_6\" \\\n",
    "#         , MAX(CASE p2.Ranking WHEN 7 THEN p2.\"spell2Id\" END) AS \"spell2Id_7\" \\\n",
    "#         , MAX(CASE p2.Ranking WHEN 8 THEN p2.\"spell2Id\" END) AS \"spell2Id_8\" \\\n",
    "#         , MAX(CASE p2.Ranking WHEN 9 THEN p2.\"spell2Id\" END) AS \"spell2Id_9\" \\\n",
    "#         , MAX(CASE p2.Ranking WHEN 10 THEN p2.\"spell2Id\" END) AS \"spell2Id_10\" \\\n",
    "#         , MAX(CASE p2.Ranking WHEN 1 THEN p2.\"perk0\" END) AS perk0_1 \\\n",
    "#         , MAX(CASE p2.Ranking WHEN 2 THEN p2.\"perk0\" END) AS perk0_2 \\\n",
    "#         , MAX(CASE p2.Ranking WHEN 3 THEN p2.\"perk0\" END) AS perk0_3 \\\n",
    "#         , MAX(CASE p2.Ranking WHEN 4 THEN p2.\"perk0\" END) AS perk0_4 \\\n",
    "#         , MAX(CASE p2.Ranking WHEN 5 THEN p2.\"perk0\" END) AS perk0_5 \\\n",
    "#         , MAX(CASE p2.Ranking WHEN 6 THEN p2.\"perk0\" END) AS perk0_6 \\\n",
    "#         , MAX(CASE p2.Ranking WHEN 7 THEN p2.\"perk0\" END) AS perk0_7 \\\n",
    "#         , MAX(CASE p2.Ranking WHEN 8 THEN p2.\"perk0\" END) AS perk0_8 \\\n",
    "#         , MAX(CASE p2.Ranking WHEN 9 THEN p2.\"perk0\" END) AS perk0_9 \\\n",
    "#         , MAX(CASE p2.Ranking WHEN 10 THEN p2.\"perk0\" END) AS perk0_10 \\\n",
    "#         , MAX(CASE p2.Ranking WHEN 1 THEN p2.\"perk1\" END) AS perk1_1 \\\n",
    "#         , MAX(CASE p2.Ranking WHEN 2 THEN p2.\"perk1\" END) AS perk1_2 \\\n",
    "#         , MAX(CASE p2.Ranking WHEN 3 THEN p2.\"perk1\" END) AS perk1_3 \\\n",
    "#         , MAX(CASE p2.Ranking WHEN 4 THEN p2.\"perk1\" END) AS perk1_4 \\\n",
    "#         , MAX(CASE p2.Ranking WHEN 5 THEN p2.\"perk1\" END) AS perk1_5 \\\n",
    "#         , MAX(CASE p2.Ranking WHEN 6 THEN p2.\"perk1\" END) AS perk1_6 \\\n",
    "#         , MAX(CASE p2.Ranking WHEN 7 THEN p2.\"perk1\" END) AS perk1_7 \\\n",
    "#         , MAX(CASE p2.Ranking WHEN 8 THEN p2.\"perk1\" END) AS perk1_8 \\\n",
    "#         , MAX(CASE p2.Ranking WHEN 9 THEN p2.\"perk1\" END) AS perk1_9 \\\n",
    "#         , MAX(CASE p2.Ranking WHEN 10 THEN p2.\"perk1\" END) AS perk1_10 \\\n",
    "#         , MAX(CASE p2.Ranking WHEN 1 THEN p2.\"perk2\" END) AS perk2_1 \\\n",
    "#         , MAX(CASE p2.Ranking WHEN 2 THEN p2.\"perk2\" END) AS perk2_2 \\\n",
    "#         , MAX(CASE p2.Ranking WHEN 3 THEN p2.\"perk2\" END) AS perk2_3 \\\n",
    "#         , MAX(CASE p2.Ranking WHEN 4 THEN p2.\"perk2\" END) AS perk2_4 \\\n",
    "#         , MAX(CASE p2.Ranking WHEN 5 THEN p2.\"perk2\" END) AS perk2_5 \\\n",
    "#         , MAX(CASE p2.Ranking WHEN 6 THEN p2.\"perk2\" END) AS perk2_6 \\\n",
    "#         , MAX(CASE p2.Ranking WHEN 7 THEN p2.\"perk2\" END) AS perk2_7 \\\n",
    "#         , MAX(CASE p2.Ranking WHEN 8 THEN p2.\"perk2\" END) AS perk2_8 \\\n",
    "#         , MAX(CASE p2.Ranking WHEN 9 THEN p2.\"perk2\" END) AS perk2_9 \\\n",
    "#         , MAX(CASE p2.Ranking WHEN 10 THEN p2.\"perk2\" END) AS perk2_10 \\\n",
    "#         , MAX(CASE p2.Ranking WHEN 1 THEN p2.\"perk3\" END) AS perk3_1 \\\n",
    "#         , MAX(CASE p2.Ranking WHEN 2 THEN p2.\"perk3\" END) AS perk3_2 \\\n",
    "#         , MAX(CASE p2.Ranking WHEN 3 THEN p2.\"perk3\" END) AS perk3_3 \\\n",
    "#         , MAX(CASE p2.Ranking WHEN 4 THEN p2.\"perk3\" END) AS perk3_4 \\\n",
    "#         , MAX(CASE p2.Ranking WHEN 5 THEN p2.\"perk3\" END) AS perk3_5 \\\n",
    "#         , MAX(CASE p2.Ranking WHEN 6 THEN p2.\"perk3\" END) AS perk3_6 \\\n",
    "#         , MAX(CASE p2.Ranking WHEN 7 THEN p2.\"perk3\" END) AS perk3_7 \\\n",
    "#         , MAX(CASE p2.Ranking WHEN 8 THEN p2.\"perk3\" END) AS perk3_8 \\\n",
    "#         , MAX(CASE p2.Ranking WHEN 9 THEN p2.\"perk3\" END) AS perk3_9 \\\n",
    "#         , MAX(CASE p2.Ranking WHEN 10 THEN p2.\"perk3\" END) AS perk3_10 \\\n",
    "#         , MAX(CASE p2.Ranking WHEN 1 THEN p2.\"perk4\" END) AS perk4_1 \\\n",
    "#         , MAX(CASE p2.Ranking WHEN 2 THEN p2.\"perk4\" END) AS perk4_2 \\\n",
    "#         , MAX(CASE p2.Ranking WHEN 3 THEN p2.\"perk4\" END) AS perk4_3 \\\n",
    "#         , MAX(CASE p2.Ranking WHEN 4 THEN p2.\"perk4\" END) AS perk4_4 \\\n",
    "#         , MAX(CASE p2.Ranking WHEN 5 THEN p2.\"perk4\" END) AS perk4_5 \\\n",
    "#         , MAX(CASE p2.Ranking WHEN 6 THEN p2.\"perk4\" END) AS perk4_6 \\\n",
    "#         , MAX(CASE p2.Ranking WHEN 7 THEN p2.\"perk4\" END) AS perk4_7 \\\n",
    "#         , MAX(CASE p2.Ranking WHEN 8 THEN p2.\"perk4\" END) AS perk4_8 \\\n",
    "#         , MAX(CASE p2.Ranking WHEN 9 THEN p2.\"perk4\" END) AS perk4_9 \\\n",
    "#         , MAX(CASE p2.Ranking WHEN 10 THEN p2.\"perk4\" END) AS perk4_10 \\\n",
    "#         , MAX(CASE p2.Ranking WHEN 1 THEN p2.\"perk5\" END) AS perk5_1 \\\n",
    "#         , MAX(CASE p2.Ranking WHEN 2 THEN p2.\"perk5\" END) AS perk5_2 \\\n",
    "#         , MAX(CASE p2.Ranking WHEN 3 THEN p2.\"perk5\" END) AS perk5_3 \\\n",
    "#         , MAX(CASE p2.Ranking WHEN 4 THEN p2.\"perk5\" END) AS perk5_4 \\\n",
    "#         , MAX(CASE p2.Ranking WHEN 5 THEN p2.\"perk5\" END) AS perk5_5 \\\n",
    "#         , MAX(CASE p2.Ranking WHEN 6 THEN p2.\"perk5\" END) AS perk5_6 \\\n",
    "#         , MAX(CASE p2.Ranking WHEN 7 THEN p2.\"perk5\" END) AS perk5_7 \\\n",
    "#         , MAX(CASE p2.Ranking WHEN 8 THEN p2.\"perk5\" END) AS perk5_8 \\\n",
    "#         , MAX(CASE p2.Ranking WHEN 9 THEN p2.\"perk5\" END) AS perk5_9 \\\n",
    "#         , MAX(CASE p2.Ranking WHEN 10 THEN p2.\"perk5\" END) AS perk5_10 \\\n",
    "#         , MAX(p1.\"gameMode\") AS \"gameMode\" \\\n",
    "#         , MAX(p1.\"gameVersion\") AS \"gameVersion\" \\\n",
    "#         , BOOL_OR(CASE p2.Ranking WHEN 1 THEN p2.\"win\" END) AS \"blueTeamWin\" \\\n",
    "#     FROM (SELECT p.\"gameId\", p.\"teamColor\", p.\"championId\", c.\"championPoints\", r.\"tier\", r.\"rank\", r.\"wins\" AS \"rankWins\", r.\"losses\" AS \"rankLosses\", p.\"spell1Id\", p.\"spell2Id\", p.\"perk0\", p.\"perk1\", p.\"perk2\", p.\"perk3\", p.\"perk4\", p.\"perk5\", m.\"gameMode\", m.\"gameVersion\", p.\"win\" \\\n",
    "#                         FROM \"Participant_Stats\" AS p \\\n",
    "#                         LEFT JOIN \"Matches\" AS m \\\n",
    "#                         ON p.\"gameId\" = m.\"gameId\" \\\n",
    "#                         LEFT JOIN \"Champion_Mastery\" AS c \\\n",
    "#                         ON p.\"summonerName\" = c.\"summonerName\" AND p.\"championId\" = c.\"championId\" \\\n",
    "#                         LEFT JOIN (SELECT \"summonerName\", \"queueType\", \"tier\", \"rank\", \"wins\", losses \\\n",
    "#                             FROM \"Rank\" \\\n",
    "#                             WHERE \"queueType\" = \\'RANKED_SOLO_5x5\\') AS r \\\n",
    "#                         ON p.\"summonerName\" = r.\"summonerName\") AS p1 \\\n",
    "#     LEFT JOIN ( \\\n",
    "#         SELECT *, ROW_NUMBER() OVER (PARTITION by \"gameId\" ORDER BY \"teamColor\", \"championId\") AS Ranking \\\n",
    "#         FROM \"Participant_Stats\" \\\n",
    "#     ) AS p2 ON p2.\"gameId\"= p1.\"gameId\" AND p2.\"championId\" = p1.\"championId\"\\\n",
    "#     WHERE \"gameMode\" = \\'ARAM\\' \\\n",
    "#     GROUP BY p1.\"gameId\";'\n",
    "#         groupGames_df = await fetch_as_dataframe(connection, allGamesQuery)\n",
    "\n",
    "#     return groupGames_df\n",
    "\n",
    "# groupGames_df = loop.run_until_complete(run())\n",
    "# groupGames_df.head(10)"
   ]
  },
  {
   "cell_type": "code",
   "execution_count": null,
   "metadata": {
    "tags": []
   },
   "outputs": [],
   "source": [
    "# print(groupGames_df[['gameId', 'champ_1', 'tier_1', 'rank_1', 'rankWins_1', 'rankLosses_1', 'champPts_1', 'spell1Id_1', 'spell2Id_1', 'perk0_1', 'perk1_1', 'perk2_1', 'perk3_1', 'perk4_1', 'perk5_1', 'gameMode', 'gameVersion', 'blueTeamWin']].head(50))"
   ]
  },
  {
   "cell_type": "code",
   "execution_count": null,
   "metadata": {
    "tags": []
   },
   "outputs": [],
   "source": [
    "# print(groupGames_df[['gameId', 'champ_1', 'tier_1', 'rank_1', 'rankWins_1', 'rankLosses_1', 'champPts_1', 'spell1Id_1', 'spell2Id_1', 'perk0_1', 'perk1_1', 'perk2_1', 'perk3_1', 'perk4_1', 'perk5_1', 'gameMode', 'gameVersion', 'blueTeamWin']].tail(50))"
   ]
  },
  {
   "cell_type": "code",
   "execution_count": null,
   "metadata": {},
   "outputs": [],
   "source": [
    "async def run():\n",
    "    connection = await asyncpg.connect(user=dbConfig['user'],\n",
    "                                password=dbConfig['password'],\n",
    "                                host=dbConfig['host'],\n",
    "                                port=dbConfig['port'],\n",
    "                                database=dbConfig['database'])\n",
    "    async with connection.transaction():\n",
    "        refreshQuery = f'REFRESH MATERIALIZED VIEW \"games_mat_view\";'\n",
    "        status = await connection.execute(refreshQuery)\n",
    "    return status\n",
    "\n",
    "status = loop.run_until_complete(run())\n",
    "print(status)"
   ]
  },
  {
   "cell_type": "code",
   "execution_count": null,
   "metadata": {},
   "outputs": [],
   "source": [
    "async def fetch_as_dataframe(con: asyncpg.Connection, query: str, *args):\n",
    "    stmt = await con.prepare(query)\n",
    "    columns = [a.name for a in stmt.get_attributes()]\n",
    "    data = await stmt.fetch()\n",
    "    return pd.DataFrame(data, columns=columns)\n",
    "\n",
    "async def run():\n",
    "    connection = await asyncpg.connect(user=dbConfig['user'],\n",
    "                                password=dbConfig['password'],\n",
    "                                host=dbConfig['host'],\n",
    "                                port=dbConfig['port'],\n",
    "                                database=dbConfig['database'])\n",
    "    async with connection.transaction():\n",
    "        matViewQuery = f'SELECT * FROM \"games_mat_view\" ORDER BY \"gameId\" ASC'\n",
    "        df = await fetch_as_dataframe(connection, matViewQuery)\n",
    "\n",
    "    return df.drop(columns=['gameMode'])\n",
    "\n",
    "df = loop.run_until_complete(run())\n",
    "df.head(10)"
   ]
  },
  {
   "cell_type": "code",
   "execution_count": null,
   "metadata": {},
   "outputs": [],
   "source": [
    "print(df.head(10))\n",
    "print(df.columns.to_list())"
   ]
  },
  {
   "cell_type": "code",
   "execution_count": null,
   "metadata": {},
   "outputs": [],
   "source": [
    "df.info(verbose=True, null_counts=True)"
   ]
  },
  {
   "cell_type": "code",
   "execution_count": null,
   "metadata": {},
   "outputs": [],
   "source": [
    "df1 = df\n",
    "df1 = df1.dropna(axis=0, subset=['gameId', 'champ_1', 'champ_2', 'champ_3', 'champ_4', 'champ_5', 'champ_6', 'champ_7', 'champ_8', 'champ_9', 'champ_10', 'spell1Id_1', 'spell1Id_2', 'spell1Id_3', 'spell1Id_4', 'spell1Id_5', 'spell1Id_6', 'spell1Id_7', 'spell1Id_8', 'spell1Id_9', 'spell1Id_10', 'spell2Id_1', 'spell2Id_2', 'spell2Id_3', 'spell2Id_4', 'spell2Id_5', 'spell2Id_6', 'spell2Id_7', 'spell2Id_8', 'spell2Id_9', 'spell2Id_10', 'perk0_1', 'perk0_2', 'perk0_3', 'perk0_4', 'perk0_5', 'perk0_6', 'perk0_7', 'perk0_8', 'perk0_9', 'perk0_10', 'perk1_1', 'perk1_2', 'perk1_3', 'perk1_4', 'perk1_5', 'perk1_6', 'perk1_7', 'perk1_8', 'perk1_9', 'perk1_10', 'perk2_1', 'perk2_2', 'perk2_3', 'perk2_4', 'perk2_5', 'perk2_6', 'perk2_7', 'perk2_8', 'perk2_9', 'perk2_10', 'perk3_1', 'perk3_2', 'perk3_3', 'perk3_4', 'perk3_5', 'perk3_6', 'perk3_7', 'perk3_8', 'perk3_9', 'perk3_10', 'perk4_1', 'perk4_2', 'perk4_3', 'perk4_4', 'perk4_5', 'perk4_6', 'perk4_7', 'perk4_8', 'perk4_9', 'perk4_10', 'perk5_1', 'perk5_2', 'perk5_3', 'perk5_4', 'perk5_5', 'perk5_6', 'perk5_7', 'perk5_8', 'perk5_9', 'perk5_10', 'gameVersion', 'blueTeamWin'], how='any')"
   ]
  },
  {
   "cell_type": "code",
   "execution_count": null,
   "metadata": {},
   "outputs": [],
   "source": [
    "df1.fillna(value={'tier_1': 'UNRANKED', 'tier_2': 'UNRANKED', 'tier_3': 'UNRANKED', 'tier_4': 'UNRANKED', 'tier_5': 'UNRANKED', 'tier_6': 'UNRANKED', 'tier_7': 'UNRANKED', 'tier_8': 'UNRANKED', 'tier_9': 'UNRANKED', 'tier_10': 'UNRANKED', 'rank_1': 'UNRANKED', 'rank_2': 'UNRANKED', 'rank_3': 'UNRANKED', 'rank_4': 'UNRANKED', 'rank_5': 'UNRANKED', 'rank_6': 'UNRANKED', 'rank_7': 'UNRANKED', 'rank_8': 'UNRANKED', 'rank_9': 'UNRANKED', 'rank_10': 'UNRANKED', 'rankWins_1': -9999999, 'rankWins_2': -9999999, 'rankWins_3': -9999999, 'rankWins_4': -9999999, 'rankWins_5': -9999999, 'rankWins_6': -9999999, 'rankWins_7': -9999999, 'rankWins_8': -9999999, 'rankWins_9': -9999999, 'rankWins_10': -9999999, 'rankLosses_1': -9999999, 'rankLosses_2': -9999999, 'rankLosses_3': -9999999, 'rankLosses_4': -9999999, 'rankLosses_5': -9999999, 'rankLosses_6': -9999999, 'rankLosses_7': -9999999, 'rankLosses_8': -9999999, 'rankLosses_9': -9999999, 'rankLosses_10': -9999999, 'champPts_1': 0, 'champPts_2': 0, 'champPts_3': 0, 'champPts_4': 0, 'champPts_5': 0, 'champPts_6': 0, 'champPts_7': 0, 'champPts_8': 0, 'champPts_9': 0, 'champPts_10': 0}, inplace=True)"
   ]
  },
  {
   "cell_type": "code",
   "execution_count": null,
   "metadata": {},
   "outputs": [],
   "source": [
    "df1 = df1.astype({'gameId': 'uint64', 'champ_1': 'uint16', 'champ_2': 'uint16', 'champ_3': 'uint16', 'champ_4': 'uint16', 'champ_5': 'uint16', 'champ_6': 'uint16', 'champ_7': 'uint16', 'champ_8': 'uint16', 'champ_9': 'uint16', 'champ_10': 'uint16', 'tier_1': 'str', 'tier_2': 'str', 'tier_3': 'str', 'tier_4': 'str', 'tier_5': 'str', 'tier_6': 'str', 'tier_7': 'str', 'tier_8': 'str', 'tier_9': 'str', 'tier_10': 'str', 'rank_1': 'str', 'rank_2': 'str', 'rank_3': 'str', 'rank_4': 'str', 'rank_5': 'str', 'rank_6': 'str', 'rank_7': 'str', 'rank_8': 'str', 'rank_9': 'str', 'rank_10': 'str', 'rankWins_1': 'uint32', 'rankWins_2': 'uint32', 'rankWins_3': 'uint32', 'rankWins_4': 'uint32', 'rankWins_5': 'uint32', 'rankWins_6': 'uint32', 'rankWins_7': 'uint32', 'rankWins_8': 'uint32', 'rankWins_9': 'uint32', 'rankWins_10': 'uint32', 'rankLosses_1': 'uint32', 'rankLosses_2': 'uint32', 'rankLosses_3': 'uint32', 'rankLosses_4': 'uint32', 'rankLosses_5': 'uint32', 'rankLosses_6': 'uint32', 'rankLosses_7': 'uint32', 'rankLosses_8': 'uint32', 'rankLosses_9': 'uint32', 'rankLosses_10': 'uint32', 'champPts_1': 'uint64', 'champPts_2': 'uint64', 'champPts_3': 'uint64', 'champPts_4': 'uint64', 'champPts_5': 'uint64', 'champPts_6': 'uint64', 'champPts_7': 'uint64', 'champPts_8': 'uint64', 'champPts_9': 'uint64', 'champPts_10': 'uint64', 'spell1Id_1': 'uint8', 'spell1Id_2': 'uint8', 'spell1Id_3': 'uint8', 'spell1Id_4': 'uint8', 'spell1Id_5': 'uint8', 'spell1Id_6': 'uint8', 'spell1Id_7': 'uint8', 'spell1Id_8': 'uint8', 'spell1Id_9': 'uint8', 'spell1Id_10': 'uint8', 'spell2Id_1': 'uint8', 'spell2Id_2': 'uint8', 'spell2Id_3': 'uint8', 'spell2Id_4': 'uint8', 'spell2Id_5': 'uint8', 'spell2Id_6': 'uint8', 'spell2Id_7': 'uint8', 'spell2Id_8': 'uint8', 'spell2Id_9': 'uint8', 'spell2Id_10': 'uint8', 'perk0_1': 'uint16', 'perk0_2': 'uint16', 'perk0_3': 'uint16', 'perk0_4': 'uint16', 'perk0_5': 'uint16', 'perk0_6': 'uint16', 'perk0_7': 'uint16', 'perk0_8': 'uint16', 'perk0_9': 'uint16', 'perk0_10': 'uint16', 'perk1_1': 'uint16', 'perk1_2': 'uint16', 'perk1_3': 'uint16', 'perk1_4': 'uint16', 'perk1_5': 'uint16', 'perk1_6': 'uint16', 'perk1_7': 'uint16', 'perk1_8': 'uint16', 'perk1_9': 'uint16', 'perk1_10': 'uint16', 'perk2_1': 'uint16', 'perk2_2': 'uint16', 'perk2_3': 'uint16', 'perk2_4': 'uint16', 'perk2_5': 'uint16', 'perk2_6': 'uint16', 'perk2_7': 'uint16', 'perk2_8': 'uint16', 'perk2_9': 'uint16', 'perk2_10': 'uint16', 'perk3_1': 'uint16', 'perk3_2': 'uint16', 'perk3_3': 'uint16', 'perk3_4': 'uint16', 'perk3_5': 'uint16', 'perk3_6': 'uint16', 'perk3_7': 'uint16', 'perk3_8': 'uint16', 'perk3_9': 'uint16', 'perk3_10': 'uint16', 'perk4_1': 'uint16', 'perk4_2': 'uint16', 'perk4_3': 'uint16', 'perk4_4': 'uint16', 'perk4_5': 'uint16', 'perk4_6': 'uint16', 'perk4_7': 'uint16', 'perk4_8': 'uint16', 'perk4_9': 'uint16', 'perk4_10': 'uint16', 'perk5_1': 'uint16', 'perk5_2': 'uint16', 'perk5_3': 'uint16', 'perk5_4': 'uint16', 'perk5_5': 'uint16', 'perk5_6': 'uint16', 'perk5_7': 'uint16', 'perk5_8': 'uint16', 'perk5_9': 'uint16', 'perk5_10': 'uint16', 'gameVersion': 'category', 'blueTeamWin': 'bool'})"
   ]
  },
  {
   "cell_type": "code",
   "execution_count": null,
   "metadata": {},
   "outputs": [],
   "source": [
    "for r in ['rank_1', 'rank_2', 'rank_3', 'rank_4', 'rank_5', 'rank_6', 'rank_7', 'rank_8', 'rank_9', 'rank_10']:\n",
    "    if r == 'rank_10':\n",
    "        df1.loc[df1[r] != 'UNRANKED', r] = df1.loc[df1[r] != 'UNRANKED', f'tier_10'].astype(str) + ' ' + df1.loc[df1[r] != 'UNRANKED', r].astype(str)\n",
    "    else:\n",
    "        df1.loc[df1[r] != 'UNRANKED', r] = df1.loc[df1[r] != 'UNRANKED', f'tier_{r[-1]}'].astype(str) + ' ' + df1.loc[df1[r] != 'UNRANKED', r].astype(str)\n",
    "    df1[r] = pd.Categorical(df1[r], ['UNRANKED', 'IRON IV', 'IRON III', 'IRON II', 'IRON I', 'BRONZE IV', 'BRONZE III', 'BRONZE II', 'BRONZE I', 'SILVER IV', 'SILVER III', 'SILVER II', 'SILVER I', 'GOLD IV', 'GOLD III', 'GOLD II', 'GOLD I', 'PLATINUM IV', 'PLATINUM III', 'PLATINUM II', 'PLATINUM I', 'DIAMOND IV', 'DIAMOND III', 'DIAMOND II', 'DIAMOND I', 'MASTER I', 'GRANDMASTER I', 'CHALLENGER I'], ordered=True)"
   ]
  },
  {
   "cell_type": "code",
   "execution_count": null,
   "metadata": {},
   "outputs": [],
   "source": [
    "df1 = df1.drop(['tier_1', 'tier_2', 'tier_3', 'tier_4', 'tier_5', 'tier_6', 'tier_7', 'tier_8', 'tier_9', 'tier_10'], axis=1)"
   ]
  },
  {
   "cell_type": "code",
   "execution_count": null,
   "metadata": {
    "tags": [
     "outputPrepend"
    ]
   },
   "outputs": [],
   "source": [
    "df1.info(verbose=True, null_counts=True)"
   ]
  },
  {
   "cell_type": "code",
   "execution_count": null,
   "metadata": {},
   "outputs": [],
   "source": [
    "# df1.to_pickle('game_data_clean.pkl')"
   ]
  },
  {
   "cell_type": "code",
   "execution_count": 7,
   "metadata": {},
   "outputs": [],
   "source": [
    "import pandas as pd\n",
    "df1 = pd.read_pickle('game_data_clean.pkl')"
   ]
  },
  {
   "cell_type": "code",
   "execution_count": 8,
   "metadata": {},
   "outputs": [],
   "source": [
    "catList = sorted(champions.index.tolist())\n",
    "catList.insert(0, 'Other')\n",
    "# champions['primaryClass'] = pd.Categorical(champions['primaryClass'], catList, ordered=True)\n",
    "for i in range(1, 11):\n",
    "    df1[f'champ_{i}'] = pd.Categorical(df1[f'champ_{i}'], catList, ordered=True)"
   ]
  },
  {
   "cell_type": "code",
   "execution_count": null,
   "metadata": {},
   "outputs": [],
   "source": [
    "# {v: k for k, v in dict(enumerate(df1['champ_1'].cat.categories)).items()}"
   ]
  },
  {
   "cell_type": "code",
   "execution_count": 9,
   "metadata": {},
   "outputs": [],
   "source": [
    "df1['gameVersion'] = df1['gameVersion'].str.split('.', n=2).str[:2].str.join('.')"
   ]
  },
  {
   "cell_type": "code",
   "execution_count": 10,
   "metadata": {},
   "outputs": [],
   "source": [
    "catList = df1['gameVersion'].astype('category').cat.categories.tolist()\n",
    "catList = sorted(catList, key=lambda x: [int(i) if i.isdigit() else i for i in x.split('.')])\n",
    "catList.insert(0, 'Other')\n",
    "df1['gameVersion'] = pd.Categorical(df1['gameVersion'], catList, ordered=True)"
   ]
  },
  {
   "cell_type": "code",
   "execution_count": null,
   "metadata": {},
   "outputs": [],
   "source": [
    "# dict(enumerate(df1['gameVersion'].cat.categories))\n",
    "# {v: k for k, v in dict(enumerate(df1['gameVersion'].cat.categories)).items()}"
   ]
  },
  {
   "cell_type": "code",
   "execution_count": 11,
   "metadata": {},
   "outputs": [],
   "source": [
    "catList = sorted(pd.unique(champions[['primaryClass', 'secondaryClass']].values.ravel('K')).tolist()[:-1])\n",
    "catList.insert(0, 'None')\n",
    "champions['primaryClass'] = pd.Categorical(champions['primaryClass'], catList, ordered=False)\n",
    "champions['secondaryClass'] = pd.Categorical(champions['secondaryClass'], catList, ordered=False)"
   ]
  },
  {
   "cell_type": "code",
   "execution_count": null,
   "metadata": {},
   "outputs": [],
   "source": [
    "# {v: k for k, v in dict(enumerate(champions['primaryClass'].cat.categories)).items()}"
   ]
  },
  {
   "cell_type": "code",
   "execution_count": 12,
   "metadata": {},
   "outputs": [],
   "source": [
    "# for c in ['champ_1', 'champ_2', 'champ_3', 'champ_4', 'champ_5', 'champ_6', 'champ_7', 'champ_8', 'champ_9', 'champ_10']:\n",
    "#     if c == 'champ_10':\n",
    "#         suffix = f'_10'\n",
    "#     else:\n",
    "#         suffix = f'_{c[-1]}'\n",
    "for i in range(1,11):\n",
    "    df1 = pd.merge(df1, champions[['primaryClass', 'secondaryClass']].add_suffix(f'_{i}'), how='left', left_on=[f'champ_{i}'], right_on=['championId'], left_index=False, right_index=True)\n",
    "    df1 = pd.merge(df1, winRates[['championId', 'gameVersion', 'winRate']].rename({'championId': f'champ_{i}'}, axis=1), how='left', left_on=[f'champ_{i}', 'gameVersion'], right_on=[f'champ_{i}', 'gameVersion'], left_index=False, right_index=False)\n",
    "    df1.rename(columns={'winRate': f'champWR_{i}'}, inplace=True)"
   ]
  },
  {
   "cell_type": "code",
   "execution_count": 13,
   "metadata": {},
   "outputs": [],
   "source": [
    "catList = df1['gameVersion'].astype('category').cat.categories.tolist()\n",
    "catList = sorted(catList, key=lambda x: [int(i) if i.isdigit() else i for i in x.split('.')])\n",
    "catList.insert(0, 'Other')\n",
    "df1['gameVersion'] = pd.Categorical(df1['gameVersion'], catList, ordered=True)"
   ]
  },
  {
   "cell_type": "code",
   "execution_count": 14,
   "metadata": {},
   "outputs": [],
   "source": [
    "df1['avgChampWR1'] = (df1['champWR_1'] + df1['champWR_2'] + df1['champWR_3'] + df1['champWR_4'] + df1['champWR_5']) / 5 \n",
    "df1['avgChampWR2'] = (df1['champWR_6'] + df1['champWR_7'] + df1['champWR_8'] + df1['champWR_9'] + df1['champWR_10']) / 5"
   ]
  },
  {
   "cell_type": "code",
   "execution_count": 15,
   "metadata": {},
   "outputs": [],
   "source": [
    "catList = runes['id'].astype('category').cat.categories.astype(int).tolist()\n",
    "catList.insert(0, 'Other')\n",
    "# runes['id'] = pd.Categorical(runes['id'], catList, ordered=True)\n",
    "for i in range(1, 11):\n",
    "    for j in range(0, 6):\n",
    "        df1[f'perk{j}_{i}'] = pd.Categorical(df1[f'perk{j}_{i}'], catList, ordered=False)"
   ]
  },
  {
   "cell_type": "code",
   "execution_count": null,
   "metadata": {},
   "outputs": [],
   "source": [
    "# dict(enumerate(runes['id'].cat.categories))\n",
    "# {v: k for k, v in dict(enumerate(df1['perk0_1'].cat.categories)).items()}"
   ]
  },
  {
   "cell_type": "code",
   "execution_count": 16,
   "metadata": {},
   "outputs": [],
   "source": [
    "catList = summoners['key'].astype('category').cat.categories.astype('int').tolist()\n",
    "catList = sorted(catList, key=int)\n",
    "catList.insert(0, 'Other')\n",
    "# summoners['key'] = pd.Categorical(summoners['key'], catList, ordered=True)\n",
    "for i in range(1, 11):\n",
    "    df1[f'spell1Id_{i}'] = pd.Categorical(df1[f'spell1Id_{i}'], catList, ordered=False)\n",
    "    df1[f'spell2Id_{i}'] = pd.Categorical(df1[f'spell2Id_{i}'], catList, ordered=False)"
   ]
  },
  {
   "cell_type": "code",
   "execution_count": null,
   "metadata": {},
   "outputs": [],
   "source": [
    "# dict(enumerate(summoners['key'].cat.categories))\n",
    "# {v: k for k, v in dict(enumerate(df1['spell1Id_1'].cat.categories)).items()}"
   ]
  },
  {
   "cell_type": "code",
   "execution_count": 17,
   "metadata": {},
   "outputs": [],
   "source": [
    "df1 = df1.astype({'gameId': 'uint64', 'champ_1': 'category', 'champ_2': 'category', 'champ_3': 'category', 'champ_4': 'category', 'champ_5': 'category', 'champ_6': 'category', 'champ_7': 'category', 'champ_8': 'category', 'champ_9': 'category', 'champ_10': 'category', 'rank_1': 'category', 'rank_2': 'category', 'rank_3': 'category', 'rank_4': 'category', 'rank_5': 'category', 'rank_6': 'category', 'rank_7': 'category', 'rank_8': 'category', 'rank_9': 'category', 'rank_10': 'category', 'rankWins_1': 'int32', 'rankWins_2': 'int32', 'rankWins_3': 'int32', 'rankWins_4': 'int32', 'rankWins_5': 'int32', 'rankWins_6': 'int32', 'rankWins_7': 'int32', 'rankWins_8': 'int32', 'rankWins_9': 'int32', 'rankWins_10': 'int32', 'rankLosses_1': 'int32', 'rankLosses_2': 'int32', 'rankLosses_3': 'int32', 'rankLosses_4': 'int32', 'rankLosses_5': 'int32', 'rankLosses_6': 'int32', 'rankLosses_7': 'int32', 'rankLosses_8': 'int32', 'rankLosses_9': 'int32', 'rankLosses_10': 'int32', 'champPts_1': 'int64', 'champPts_2': 'int64', 'champPts_3': 'int64', 'champPts_4': 'int64', 'champPts_5': 'int64', 'champPts_6': 'int64', 'champPts_7': 'int64', 'champPts_8': 'int64', 'champPts_9': 'int64', 'champPts_10': 'int64', 'spell1Id_1': 'category', 'spell1Id_2': 'category', 'spell1Id_3': 'category', 'spell1Id_4': 'category', 'spell1Id_5': 'category', 'spell1Id_6': 'category', 'spell1Id_7': 'category', 'spell1Id_8': 'category', 'spell1Id_9': 'category', 'spell1Id_10': 'category', 'spell2Id_1': 'category', 'spell2Id_2': 'category', 'spell2Id_3': 'category', 'spell2Id_4': 'category', 'spell2Id_5': 'category', 'spell2Id_6': 'category', 'spell2Id_7': 'category', 'spell2Id_8': 'category', 'spell2Id_9': 'category', 'spell2Id_10': 'category', 'perk0_1': 'category', 'perk0_2': 'category', 'perk0_3': 'category', 'perk0_4': 'category', 'perk0_5': 'category', 'perk0_6': 'category', 'perk0_7': 'category', 'perk0_8': 'category', 'perk0_9': 'category', 'perk0_10': 'category', 'perk1_1': 'category', 'perk1_2': 'category', 'perk1_3': 'category', 'perk1_4': 'category', 'perk1_5': 'category', 'perk1_6': 'category', 'perk1_7': 'category', 'perk1_8': 'category', 'perk1_9': 'category', 'perk1_10': 'category', 'perk2_1': 'category', 'perk2_2': 'category', 'perk2_3': 'category', 'perk2_4': 'category', 'perk2_5': 'category', 'perk2_6': 'category', 'perk2_7': 'category', 'perk2_8': 'category', 'perk2_9': 'category', 'perk2_10': 'category', 'perk3_1': 'category', 'perk3_2': 'category', 'perk3_3': 'category', 'perk3_4': 'category', 'perk3_5': 'category', 'perk3_6': 'category', 'perk3_7': 'category', 'perk3_8': 'category', 'perk3_9': 'category', 'perk3_10': 'category', 'perk4_1': 'category', 'perk4_2': 'category', 'perk4_3': 'category', 'perk4_4': 'category', 'perk4_5': 'category', 'perk4_6': 'category', 'perk4_7': 'category', 'perk4_8': 'category', 'perk4_9': 'category', 'perk4_10': 'category', 'perk5_1': 'category', 'perk5_2': 'category', 'perk5_3': 'category', 'perk5_4': 'category', 'perk5_5': 'category', 'perk5_6': 'category', 'perk5_7': 'category', 'perk5_8': 'category', 'perk5_9': 'category', 'perk5_10': 'category', 'gameVersion': 'category', 'blueTeamWin': 'bool', 'primaryClass_1': 'category', 'secondaryClass_1': 'category', 'primaryClass_2': 'category', 'secondaryClass_2': 'category', 'primaryClass_3': 'category', 'secondaryClass_3': 'category',  'primaryClass_4': 'category', 'secondaryClass_4': 'category', 'primaryClass_5': 'category', 'secondaryClass_5': 'category', 'primaryClass_6': 'category', 'secondaryClass_6': 'category', 'primaryClass_7': 'category', 'secondaryClass_7': 'category','primaryClass_8': 'category', 'secondaryClass_8': 'category', 'primaryClass_9': 'category', 'secondaryClass_9': 'category', 'primaryClass_10': 'category', 'secondaryClass_10': 'category', 'champWR_1': 'float32', 'champWR_2': 'float32', 'champWR_3': 'float32', 'champWR_4': 'float32', 'champWR_5': 'float32', 'champWR_6': 'float32', 'champWR_7': 'float32', 'champWR_8': 'float32', 'champWR_9': 'float32', 'champWR_10': 'float32', 'avgChampWR1': 'float32', 'avgChampWR2': 'float32'})"
   ]
  },
  {
   "cell_type": "code",
   "execution_count": null,
   "metadata": {},
   "outputs": [],
   "source": [
    "# df1.info(verbose=True, null_counts=True)"
   ]
  },
  {
   "cell_type": "code",
   "execution_count": null,
   "metadata": {},
   "outputs": [],
   "source": [
    "# {v: k for k, v in dict(enumerate(df1['rank_1'].cat.categories)).items()}"
   ]
  },
  {
   "cell_type": "code",
   "execution_count": 18,
   "metadata": {},
   "outputs": [],
   "source": [
    "for i in range(1, 11):\n",
    "    df1[f'rankWinRatio_{i}'] = df1[f'rankWins_{i}'] / (df1[f'rankWins_{i}'] + df1[f'rankLosses_{i}'])\n",
    "    # df1[f'rankWinRate_{i}'] = df1[f'rankWinRate_{i}'].astype({f'rankWinRate_{i}': 'int64'})"
   ]
  },
  {
   "cell_type": "code",
   "execution_count": 19,
   "metadata": {},
   "outputs": [],
   "source": [
    "rankMap = dict(enumerate(df1['rank_1'].cat.categories))"
   ]
  },
  {
   "cell_type": "code",
   "execution_count": null,
   "metadata": {},
   "outputs": [],
   "source": [
    "# rankMap"
   ]
  },
  {
   "cell_type": "code",
   "execution_count": 20,
   "metadata": {},
   "outputs": [],
   "source": [
    "df1['avgRank1'] = ((df1['rank_1'].cat.codes.astype(int) + df1['rank_2'].cat.codes.astype(int) + df1['rank_3'].cat.codes.astype(int) + df1['rank_4'].cat.codes.astype(int) + df1['rank_5'].cat.codes.astype(int)) // (df1['rank_1'].cat.codes.astype(bool).astype(int) + df1['rank_2'].cat.codes.astype(bool).astype(int) + df1['rank_3'].cat.codes.astype(bool).astype(int) + df1['rank_4'].cat.codes.astype(bool).astype(int) + df1['rank_5'].cat.codes.astype(bool).astype(int))).replace(rankMap)\n",
    "df1['avgRank2'] = ((df1['rank_6'].cat.codes.astype(int) + df1['rank_7'].cat.codes.astype(int) + df1['rank_8'].cat.codes.astype(int) + df1['rank_9'].cat.codes.astype(int) + df1['rank_10'].cat.codes.astype(int)) // (df1['rank_6'].cat.codes.astype(bool).astype(int) + df1['rank_7'].cat.codes.astype(bool).astype(int) + df1['rank_8'].cat.codes.astype(bool).astype(int) + df1['rank_9'].cat.codes.astype(bool).astype(int) + df1['rank_10'].cat.codes.astype(bool).astype(int))).replace(rankMap)"
   ]
  },
  {
   "cell_type": "code",
   "execution_count": 21,
   "metadata": {},
   "outputs": [],
   "source": [
    "df1['avgRank1'] = pd.Categorical(df1['avgRank1'], ['UNRANKED', 'IRON IV', 'IRON III', 'IRON II', 'IRON I', 'BRONZE IV', 'BRONZE III', 'BRONZE II', 'BRONZE I', 'SILVER IV', 'SILVER III', 'SILVER II', 'SILVER I', 'GOLD IV', 'GOLD III', 'GOLD II', 'GOLD I', 'PLATINUM IV', 'PLATINUM III', 'PLATINUM II', 'PLATINUM I', 'DIAMOND IV', 'DIAMOND III', 'DIAMOND II', 'DIAMOND I', 'MASTER I', 'GRANDMASTER I', 'CHALLENGER I'], ordered=True)\n",
    "df1['avgRank2'] = pd.Categorical(df1['avgRank2'], ['UNRANKED', 'IRON IV', 'IRON III', 'IRON II', 'IRON I', 'BRONZE IV', 'BRONZE III', 'BRONZE II', 'BRONZE I', 'SILVER IV', 'SILVER III', 'SILVER II', 'SILVER I', 'GOLD IV', 'GOLD III', 'GOLD II', 'GOLD I', 'PLATINUM IV', 'PLATINUM III', 'PLATINUM II', 'PLATINUM I', 'DIAMOND IV', 'DIAMOND III', 'DIAMOND II', 'DIAMOND I', 'MASTER I', 'GRANDMASTER I', 'CHALLENGER I'], ordered=True)"
   ]
  },
  {
   "cell_type": "code",
   "execution_count": 22,
   "metadata": {},
   "outputs": [],
   "source": [
    "df1.fillna(value={'avgRank1': 'UNRANKED', 'avgRank2': 'UNRANKED'}, inplace=True)"
   ]
  },
  {
   "cell_type": "code",
   "execution_count": 23,
   "metadata": {},
   "outputs": [],
   "source": [
    "for r in ['rank_1', 'rank_2', 'rank_3', 'rank_4', 'rank_5']:\n",
    "    df1.loc[df1[r] == 'UNRANKED', r] = df1.loc[df1[r] == 'UNRANKED', 'avgRank1']\n",
    "for r in ['rank_6', 'rank_7', 'rank_8', 'rank_9', 'rank_10']:\n",
    "    df1.loc[df1[r] == 'UNRANKED', r] = df1.loc[df1[r] == 'UNRANKED', 'avgRank2']"
   ]
  },
  {
   "cell_type": "code",
   "execution_count": 24,
   "metadata": {},
   "outputs": [],
   "source": [
    "df1['avgRankWR1'] = (df1['rankWinRatio_1'] + df1['rankWinRatio_2'] + df1['rankWinRatio_3'] + df1['rankWinRatio_4'] + df1['rankWinRatio_5']) / 5 \n",
    "df1['avgRankWR2'] = (df1['rankWinRatio_6'] + df1['rankWinRatio_7'] + df1['rankWinRatio_8'] + df1['rankWinRatio_9'] + df1['rankWinRatio_10']) / 5"
   ]
  },
  {
   "cell_type": "code",
   "execution_count": 25,
   "metadata": {},
   "outputs": [],
   "source": [
    "df1['avgChampMastery1'] = (df1['champPts_1'] + df1['champPts_2'] + df1['champPts_3'] + df1['champPts_4'] + df1['champPts_5']) / 5 \n",
    "df1['avgChampMastery2'] = (df1['champPts_6'] + df1['champPts_7'] + df1['champPts_8'] + df1['champPts_9'] + df1['champPts_10']) / 5"
   ]
  },
  {
   "cell_type": "code",
   "execution_count": 26,
   "metadata": {},
   "outputs": [],
   "source": [
    "for i in range(1, 11):\n",
    "    df1[f'champPts_rank_{i}'] = df1[f'champPts_{i}'] * df1[f'rank_{i}'].cat.codes\n",
    "    df1[f'champPts_rank_{i}'] = df1[f'champPts_rank_{i}'].astype({f'champPts_rank_{i}': 'int64'})"
   ]
  },
  {
   "cell_type": "code",
   "execution_count": 27,
   "metadata": {},
   "outputs": [],
   "source": [
    "df1 = df1.dropna(axis=0, subset=['gameId', 'champ_1', 'champ_2', 'champ_3', 'champ_4', 'champ_5', 'champ_6', 'champ_7', 'champ_8', 'champ_9', 'champ_10', 'spell1Id_1', 'spell1Id_2', 'spell1Id_3', 'spell1Id_4', 'spell1Id_5', 'spell1Id_6', 'spell1Id_7', 'spell1Id_8', 'spell1Id_9', 'spell1Id_10', 'spell2Id_1', 'spell2Id_2', 'spell2Id_3', 'spell2Id_4', 'spell2Id_5', 'spell2Id_6', 'spell2Id_7', 'spell2Id_8', 'spell2Id_9', 'spell2Id_10', 'perk0_1', 'perk0_2', 'perk0_3', 'perk0_4', 'perk0_5', 'perk0_6', 'perk0_7', 'perk0_8', 'perk0_9', 'perk0_10', 'perk1_1', 'perk1_2', 'perk1_3', 'perk1_4', 'perk1_5', 'perk1_6', 'perk1_7', 'perk1_8', 'perk1_9', 'perk1_10', 'perk2_1', 'perk2_2', 'perk2_3', 'perk2_4', 'perk2_5', 'perk2_6', 'perk2_7', 'perk2_8', 'perk2_9', 'perk2_10', 'perk3_1', 'perk3_2', 'perk3_3', 'perk3_4', 'perk3_5', 'perk3_6', 'perk3_7', 'perk3_8', 'perk3_9', 'perk3_10', 'perk4_1', 'perk4_2', 'perk4_3', 'perk4_4', 'perk4_5', 'perk4_6', 'perk4_7', 'perk4_8', 'perk4_9', 'perk4_10', 'perk5_1', 'perk5_2', 'perk5_3', 'perk5_4', 'perk5_5', 'perk5_6', 'perk5_7', 'perk5_8', 'perk5_9', 'perk5_10', 'gameVersion', 'blueTeamWin'], how='any')"
   ]
  },
  {
   "cell_type": "code",
   "execution_count": null,
   "metadata": {
    "tags": []
   },
   "outputs": [],
   "source": [
    "# columns = ['champ_1', 'champ_2', 'champ_3', 'champ_4', 'champ_5', 'champ_6', 'champ_7', 'champ_8', 'champ_9', 'champ_10', 'rank_1', 'rank_2', 'rank_3', 'rank_4', 'rank_5', 'rank_6', 'rank_7', 'rank_8', 'rank_9', 'rank_10', 'rankWins_1', 'rankWins_2', 'rankWins_3', 'rankWins_4', 'rankWins_5', 'rankWins_6', 'rankWins_7', 'rankWins_8', 'rankWins_9', 'rankWins_10', 'rankLosses_1', 'rankLosses_2', 'rankLosses_3', 'rankLosses_4', 'rankLosses_5', 'rankLosses_6', 'rankLosses_7', 'rankLosses_8', 'rankLosses_9', 'rankLosses_10', 'champPts_1', 'champPts_2', 'champPts_3', 'champPts_4', 'champPts_5', 'champPts_6', 'champPts_7', 'champPts_8', 'champPts_9', 'champPts_10', 'spell1Id_1', 'spell1Id_2', 'spell1Id_3', 'spell1Id_4', 'spell1Id_5', 'spell1Id_6', 'spell1Id_7', 'spell1Id_8', 'spell1Id_9', 'spell1Id_10', 'spell2Id_1', 'spell2Id_2', 'spell2Id_3', 'spell2Id_4', 'spell2Id_5', 'spell2Id_6', 'spell2Id_7', 'spell2Id_8', 'spell2Id_9', 'spell2Id_10', 'perk0_1', 'perk0_2', 'perk0_3', 'perk0_4', 'perk0_5', 'perk0_6', 'perk0_7', 'perk0_8', 'perk0_9', 'perk0_10', 'perk1_1', 'perk1_2', 'perk1_3', 'perk1_4', 'perk1_5', 'perk1_6', 'perk1_7', 'perk1_8', 'perk1_9', 'perk1_10', 'perk2_1', 'perk2_2', 'perk2_3', 'perk2_4', 'perk2_5', 'perk2_6', 'perk2_7', 'perk2_8', 'perk2_9', 'perk2_10', 'perk3_1', 'perk3_2', 'perk3_3', 'perk3_4', 'perk3_5', 'perk3_6', 'perk3_7', 'perk3_8', 'perk3_9', 'perk3_10', 'perk4_1', 'perk4_2', 'perk4_3', 'perk4_4', 'perk4_5', 'perk4_6', 'perk4_7', 'perk4_8', 'perk4_9', 'perk4_10', 'perk5_1', 'perk5_2', 'perk5_3', 'perk5_4', 'perk5_5', 'perk5_6', 'perk5_7', 'perk5_8', 'perk5_9', 'perk5_10', 'gameVersion', 'blueTeamWin']\n",
    "# for c in columns:\n",
    "#     print(f\"---- {c} ---\")\n",
    "#     print(df1[c].value_counts())"
   ]
  },
  {
   "cell_type": "code",
   "execution_count": null,
   "metadata": {},
   "outputs": [],
   "source": [
    "# for c in df1.columns:\n",
    "#     if len(df1[df1[c].isnull()].index) > 0:\n",
    "#         print(c)"
   ]
  },
  {
   "cell_type": "code",
   "execution_count": 28,
   "metadata": {},
   "outputs": [],
   "source": [
    "from sklearn.model_selection import train_test_split\n",
    "# from sklearn.preprocessing import LabelEncoder\n",
    "# from sklearn.ensemble import RandomForestClassifier\n",
    "from sklearn.metrics import accuracy_score\n",
    "from sklearn.model_selection import StratifiedKFold"
   ]
  },
  {
   "cell_type": "code",
   "execution_count": null,
   "metadata": {},
   "outputs": [],
   "source": [
    "# le = LabelEncoder()\n",
    "# for column in categorical_col:\n",
    "#     df1[column] = le.fit_transform(df1[column])"
   ]
  },
  {
   "cell_type": "code",
   "execution_count": null,
   "metadata": {},
   "outputs": [],
   "source": [
    "# for c in ['rank_1', 'rank_2', 'rank_3', 'rank_4', 'rank_5', 'rank_6', 'rank_7', 'rank_8', 'rank_9', 'rank_10', 'gameVersion', 'avgRank1', 'avgRank2']:\n",
    "for c in ['champ_1', 'champ_2', 'champ_3', 'champ_4', 'champ_5', 'champ_6', 'champ_7', 'champ_8', 'champ_9', 'champ_10', 'rank_1', 'rank_2', 'rank_3', 'rank_4', 'rank_5', 'rank_6', 'rank_7', 'rank_8', 'rank_9', 'rank_10', 'spell1Id_1', 'spell1Id_2', 'spell1Id_3', 'spell1Id_4', 'spell1Id_5', 'spell1Id_6', 'spell1Id_7', 'spell1Id_8', 'spell1Id_9', 'spell1Id_10', 'spell2Id_1', 'spell2Id_2', 'spell2Id_3', 'spell2Id_4', 'spell2Id_5', 'spell2Id_6', 'spell2Id_7', 'spell2Id_8', 'spell2Id_9', 'spell2Id_10', 'perk0_1', 'perk0_2', 'perk0_3', 'perk0_4', 'perk0_5', 'perk0_6', 'perk0_7', 'perk0_8', 'perk0_9', 'perk0_10', 'perk1_1', 'perk1_2', 'perk1_3', 'perk1_4', 'perk1_5', 'perk1_6', 'perk1_7', 'perk1_8', 'perk1_9', 'perk1_10', 'perk2_1', 'perk2_2', 'perk2_3', 'perk2_4', 'perk2_5', 'perk2_6', 'perk2_7', 'perk2_8', 'perk2_9', 'perk2_10', 'perk3_1', 'perk3_2', 'perk3_3', 'perk3_4', 'perk3_5', 'perk3_6', 'perk3_7', 'perk3_8', 'perk3_9', 'perk3_10', 'perk4_1', 'perk4_2', 'perk4_3', 'perk4_4', 'perk4_5', 'perk4_6', 'perk4_7', 'perk4_8', 'perk4_9', 'perk4_10', 'perk5_1', 'perk5_2', 'perk5_3', 'perk5_4', 'perk5_5', 'perk5_6', 'perk5_7', 'perk5_8', 'perk5_9', 'perk5_10', 'gameVersion', 'avgRank1', 'avgRank2', 'primaryClass_1', 'secondaryClass_1', 'primaryClass_2', 'secondaryClass_2', 'primaryClass_3', 'secondaryClass_3',  'primaryClass_4', 'secondaryClass_4', 'primaryClass_5', 'secondaryClass_5', 'primaryClass_6', 'secondaryClass_6', 'primaryClass_7', 'secondaryClass_7','primaryClass_8', 'secondaryClass_8', 'primaryClass_9', 'secondaryClass_9', 'primaryClass_10', 'secondaryClass_10']:\n",
    "    df1[c] = df1[c].cat.codes\n",
    "df1['blueTeamWin'] = df1['blueTeamWin'].astype(int)"
   ]
  },
  {
   "cell_type": "code",
   "execution_count": null,
   "metadata": {},
   "outputs": [],
   "source": [
    "X = df1.drop(['gameId', 'blueTeamWin', 'spell1Id_1', 'spell1Id_2', 'spell1Id_3', 'spell1Id_4', 'spell1Id_5', 'spell1Id_6', 'spell1Id_7', 'spell1Id_8', 'spell1Id_9', 'spell1Id_10', 'spell2Id_1', 'spell2Id_2', 'spell2Id_3', 'spell2Id_4', 'spell2Id_5', 'spell2Id_6', 'spell2Id_7', 'spell2Id_8', 'spell2Id_9', 'spell2Id_10', 'perk0_1', 'perk0_2', 'perk0_3', 'perk0_4', 'perk0_5', 'perk0_6', 'perk0_7', 'perk0_8', 'perk0_9', 'perk0_10', 'perk1_1', 'perk1_2', 'perk1_3', 'perk1_4', 'perk1_5', 'perk1_6', 'perk1_7', 'perk1_8', 'perk1_9', 'perk1_10', 'perk2_1', 'perk2_2', 'perk2_3', 'perk2_4', 'perk2_5', 'perk2_6', 'perk2_7', 'perk2_8', 'perk2_9', 'perk2_10', 'perk3_1', 'perk3_2', 'perk3_3', 'perk3_4', 'perk3_5', 'perk3_6', 'perk3_7', 'perk3_8', 'perk3_9', 'perk3_10', 'perk4_1', 'perk4_2', 'perk4_3', 'perk4_4', 'perk4_5', 'perk4_6', 'perk4_7', 'perk4_8', 'perk4_9', 'perk4_10', 'perk5_1', 'perk5_2', 'perk5_3', 'perk5_4', 'perk5_5', 'perk5_6', 'perk5_7', 'perk5_8', 'perk5_9', 'perk5_10', 'primaryClass_1', 'secondaryClass_1', 'primaryClass_2', 'secondaryClass_2', 'primaryClass_3', 'secondaryClass_3',  'primaryClass_4', 'secondaryClass_4', 'primaryClass_5', 'secondaryClass_5', 'primaryClass_6', 'secondaryClass_6', 'primaryClass_7', 'secondaryClass_7','primaryClass_8', 'secondaryClass_8', 'primaryClass_9', 'secondaryClass_9', 'primaryClass_10', 'secondaryClass_10', 'champPts_rank_1', 'champPts_rank_2', 'champPts_rank_3', 'champPts_rank_4', 'champPts_rank_5', 'champPts_rank_6', 'champPts_rank_7', 'champPts_rank_8', 'champPts_rank_9', 'champPts_rank_10',  'rank_1', 'rank_2', 'rank_3', 'rank_4', 'rank_5', 'rank_6', 'rank_7', 'rank_8', 'rank_9', 'rank_10', 'rankWins_1', 'rankWins_2', 'rankWins_3', 'rankWins_4', 'rankWins_5', 'rankWins_6', 'rankWins_7', 'rankWins_8', 'rankWins_9', 'rankWins_10', 'rankLosses_1', 'rankLosses_2', 'rankLosses_3', 'rankLosses_4', 'rankLosses_5', 'rankLosses_6', 'rankLosses_7', 'rankLosses_8', 'rankLosses_9', 'rankLosses_10', 'rankWinRatio_1', 'rankWinRatio_2', 'rankWinRatio_3', 'rankWinRatio_4', 'rankWinRatio_5', 'rankWinRatio_6', 'rankWinRatio_7', 'rankWinRatio_8', 'rankWinRatio_9', 'rankWinRatio_10', 'avgRank1', 'avgRank2', 'avgRankWR1', 'avgRankWR2'], axis=1)\n",
    "y = df1['blueTeamWin']"
   ]
  },
  {
   "cell_type": "code",
   "execution_count": 29,
   "metadata": {},
   "outputs": [],
   "source": [
    "df1 = df1[df1['gameVersion'] >= '10.23']"
   ]
  },
  {
   "cell_type": "code",
   "execution_count": null,
   "metadata": {},
   "outputs": [],
   "source": [
    "X = df1.drop(['gameId', 'blueTeamWin'], axis=1)\n",
    "y = df1['blueTeamWin'].astype(int)"
   ]
  },
  {
   "cell_type": "code",
   "execution_count": 30,
   "metadata": {},
   "outputs": [],
   "source": [
    "X = df1.drop(['gameId', 'blueTeamWin'], axis=1).iloc[:-10000]\n",
    "y = df1['blueTeamWin'].astype(int).iloc[:-10000]"
   ]
  },
  {
   "cell_type": "code",
   "execution_count": 37,
   "metadata": {},
   "outputs": [],
   "source": [
    "X_test1 = df1.drop(['gameId', 'blueTeamWin'], axis=1).iloc[-10000:]\n",
    "y_test1 = df1['blueTeamWin'].astype(int).iloc[-10000:]\n",
    "# X = df1.drop(['gameId', 'blueTeamWin'], axis=1).iloc[30000:]\n",
    "# y = df1['blueTeamWin'].astype(int).iloc[30000:]"
   ]
  },
  {
   "cell_type": "code",
   "execution_count": null,
   "metadata": {},
   "outputs": [],
   "source": [
    "X_train = df1.drop(['gameId', 'blueTeamWin'], axis=1).iloc[:-108000]\n",
    "X_test = df1.drop(['gameId', 'blueTeamWin'], axis=1).iloc[-108000:-54000]\n",
    "y_train = df1['blueTeamWin'].astype(int).iloc[:-108000]\n",
    "y_test = df1['blueTeamWin'].astype(int).iloc[-108000:-54000]"
   ]
  },
  {
   "cell_type": "code",
   "execution_count": 43,
   "metadata": {},
   "outputs": [],
   "source": [
    "X_train, X_test, y_train, y_test = train_test_split(X, y, stratify=pd.concat([X[\"gameVersion\"], y], axis=1), test_size=0.05, random_state=42)"
   ]
  },
  {
   "cell_type": "code",
   "execution_count": null,
   "metadata": {},
   "outputs": [],
   "source": [
    "# del c\n",
    "# del columns\n",
    "# del categorical_col\n",
    "# del column\n",
    "del df1\n",
    "del champions\n",
    "del runes\n",
    "del summoners\n",
    "del winRates\n",
    "# del X\n",
    "# del y"
   ]
  },
  {
   "cell_type": "code",
   "execution_count": null,
   "metadata": {},
   "outputs": [],
   "source": [
    "import gc\n",
    "gc.collect()\n",
    "# gc.collect()"
   ]
  },
  {
   "cell_type": "code",
   "execution_count": null,
   "metadata": {},
   "outputs": [],
   "source": [
    "# rfc = RandomForestClassifier(n_estimators=100, random_state=42, n_jobs=4)\n",
    "# rfc.fit(X_train, y_train)\n",
    "# y_pred1 = rfc.predict(X_train)\n",
    "# print('Model accuracy score with 100 decision-trees : {0:0.4f}'. format(accuracy_score(y_train, y_pred1)))\n",
    "# y_pred2 = rfc.predict(X_test)\n",
    "# print('Model accuracy score with 100 decision-trees : {0:0.4f}'. format(accuracy_score(y_test, y_pred2)))"
   ]
  },
  {
   "cell_type": "code",
   "execution_count": 32,
   "metadata": {},
   "outputs": [],
   "source": [
    "from catboost import CatBoostClassifier, Pool"
   ]
  },
  {
   "cell_type": "code",
   "execution_count": null,
   "metadata": {},
   "outputs": [],
   "source": [
    "from skopt import BayesSearchCV\n",
    "from skopt.callbacks import DeadlineStopper, VerboseCallback\n",
    "from skopt.space import Real, Integer\n",
    "from time import time\n",
    "import pprint"
   ]
  },
  {
   "cell_type": "code",
   "execution_count": 33,
   "metadata": {},
   "outputs": [],
   "source": [
    "categorical_features_indices = ['champ_1', 'champ_2', 'champ_3', 'champ_4', 'champ_5', 'champ_6', 'champ_7', 'champ_8', 'champ_9', 'champ_10', 'rank_1', 'rank_2', 'rank_3', 'rank_4', 'rank_5', 'rank_6', 'rank_7', 'rank_8', 'rank_9', 'rank_10', 'spell1Id_1', 'spell1Id_2', 'spell1Id_3', 'spell1Id_4', 'spell1Id_5', 'spell1Id_6', 'spell1Id_7', 'spell1Id_8', 'spell1Id_9', 'spell1Id_10', 'spell2Id_1', 'spell2Id_2', 'spell2Id_3', 'spell2Id_4', 'spell2Id_5', 'spell2Id_6', 'spell2Id_7', 'spell2Id_8', 'spell2Id_9', 'spell2Id_10', 'perk0_1', 'perk0_2', 'perk0_3', 'perk0_4', 'perk0_5', 'perk0_6', 'perk0_7', 'perk0_8', 'perk0_9', 'perk0_10', 'perk1_1', 'perk1_2', 'perk1_3', 'perk1_4', 'perk1_5', 'perk1_6', 'perk1_7', 'perk1_8', 'perk1_9', 'perk1_10', 'perk2_1', 'perk2_2', 'perk2_3', 'perk2_4', 'perk2_5', 'perk2_6', 'perk2_7', 'perk2_8', 'perk2_9', 'perk2_10', 'perk3_1', 'perk3_2', 'perk3_3', 'perk3_4', 'perk3_5', 'perk3_6', 'perk3_7', 'perk3_8', 'perk3_9', 'perk3_10', 'perk4_1', 'perk4_2', 'perk4_3', 'perk4_4', 'perk4_5', 'perk4_6', 'perk4_7', 'perk4_8', 'perk4_9', 'perk4_10', 'perk5_1', 'perk5_2', 'perk5_3', 'perk5_4', 'perk5_5', 'perk5_6', 'perk5_7', 'perk5_8', 'perk5_9', 'perk5_10', 'avgRank1', 'avgRank2', 'gameVersion', 'primaryClass_1', 'secondaryClass_1', 'primaryClass_2', 'secondaryClass_2', 'primaryClass_3', 'secondaryClass_3', 'primaryClass_4', 'secondaryClass_4', 'primaryClass_5',  'secondaryClass_5', 'primaryClass_6', 'secondaryClass_6', 'primaryClass_7', 'secondaryClass_7', 'primaryClass_8', 'secondaryClass_8', 'primaryClass_9', 'secondaryClass_9', 'primaryClass_10',  'secondaryClass_10']"
   ]
  },
  {
   "cell_type": "code",
   "execution_count": null,
   "metadata": {},
   "outputs": [],
   "source": [
    "categorical_features_indices = ['champ_1', 'champ_2', 'champ_3', 'champ_4', 'champ_5', 'champ_6', 'champ_7', 'champ_8', 'champ_9', 'champ_10', 'gameVersion']"
   ]
  },
  {
   "cell_type": "code",
   "execution_count": null,
   "metadata": {},
   "outputs": [],
   "source": [
    "from catboost.utils import get_gpu_device_count\n",
    "print('I see %i GPU devices' % get_gpu_device_count())"
   ]
  },
  {
   "cell_type": "code",
   "execution_count": null,
   "metadata": {},
   "outputs": [],
   "source": [
    "def report_perf(optimizer, X, y, title, callbacks=None):\n",
    "    \"\"\"\n",
    "    A wrapper for measuring time and performances of different optmizers\n",
    "    \n",
    "    optimizer = a sklearn or a skopt optimizer\n",
    "    X = the training set \n",
    "    y = our target\n",
    "    title = a string label for the experiment\n",
    "    \"\"\"\n",
    "    start = time()\n",
    "    if callbacks:\n",
    "        optimizer.fit(X, y, callback=callbacks)\n",
    "    else:\n",
    "        optimizer.fit(X, y)\n",
    "    d=pd.DataFrame(optimizer.cv_results_)\n",
    "    best_score = optimizer.best_score_\n",
    "    best_score_std = d.iloc[optimizer.best_index_].std_test_score\n",
    "    best_params = optimizer.best_params_\n",
    "    print((title + \" took %.2f seconds,  candidates checked: %d, best CV score: %.3f \"\n",
    "           +u\"\\u00B1\"+\" %.3f\") % (time() - start, \n",
    "                                  len(optimizer.cv_results_['params']),\n",
    "                                  best_score,\n",
    "                                  best_score_std))    \n",
    "    print('Best parameters:')\n",
    "    pprint.pprint(best_params)\n",
    "    print()\n",
    "    return best_params"
   ]
  },
  {
   "cell_type": "code",
   "execution_count": null,
   "metadata": {},
   "outputs": [],
   "source": [
    "# 5-fold StratifiedCV\n",
    "skf = StratifiedKFold(n_splits=5, shuffle=True, random_state=42)"
   ]
  },
  {
   "cell_type": "code",
   "execution_count": null,
   "metadata": {},
   "outputs": [],
   "source": [
    "clf = CatBoostClassifier(loss_function='Logloss',\n",
    "                         od_type='Iter',\n",
    "                        #  iterations=1000,\n",
    "                         learning_rate=0.3,\n",
    "                         eval_metric='BrierScore',\n",
    "                         metric_period=50,\n",
    "                         task_type='GPU',\n",
    "                         verbose=False,\n",
    "                         cat_features=categorical_features_indices,\n",
    "                         max_ctr_complexity=2\n",
    "                         )"
   ]
  },
  {
   "cell_type": "code",
   "execution_count": null,
   "metadata": {},
   "outputs": [],
   "source": [
    "# Defining your search space\n",
    "search_spaces = {'iterations': Integer(10, 1000),\n",
    "    'depth': Integer(1, 16),\n",
    "    # 'learning_rate': Real(0.01, 1.0, 'log-uniform'),\n",
    "    'random_strength': Real(1e-9, 10, 'log-uniform'),\n",
    "    'bagging_temperature': Real(0.1, 1.0),\n",
    "    'border_count': Integer(1, 255),\n",
    "    # 'min_data_in_leaf': Integer(5, 1000), #gpu only\n",
    "    'l2_leaf_reg': Integer(1, 30),\n",
    "    'scale_pos_weight':Real(0.01, 1.0, 'uniform')\n",
    "}"
   ]
  },
  {
   "cell_type": "code",
   "execution_count": null,
   "metadata": {},
   "outputs": [],
   "source": [
    "# Setting up BayesSearchCV\n",
    "opt = BayesSearchCV(clf,\n",
    "                    search_spaces,\n",
    "                    # scoring='neg_log_loss',\n",
    "                    cv=skf,\n",
    "                    n_iter=35,\n",
    "                    n_jobs=1,  # use just 1 job with CatBoost in order to avoid segmentation fault\n",
    "                    return_train_score=False,\n",
    "                    refit=True,\n",
    "                    optimizer_kwargs={'base_estimator': 'GP'},\n",
    "                    random_state=42)"
   ]
  },
  {
   "cell_type": "code",
   "execution_count": null,
   "metadata": {},
   "outputs": [],
   "source": [
    "best_params = report_perf(opt, X, y,'CatBoost', \n",
    "                          callbacks=[VerboseCallback(100), \n",
    "                                     DeadlineStopper(60*60*12)])"
   ]
  },
  {
   "cell_type": "code",
   "execution_count": null,
   "metadata": {},
   "outputs": [],
   "source": [
    "# best_params = [('bagging_temperature', 1.272450781154401),\n",
    "#              ('border_count', 198),\n",
    "#              ('depth', 6),\n",
    "#              ('iterations', 876),\n",
    "#              ('l2_leaf_reg', 888930),\n",
    "#              ('learning_rate', 0.15461088645165447),\n",
    "#              ('random_strength', 19463326),\n",
    "#              ('scale_pos_weight', 4.226605033647466)]"
   ]
  },
  {
   "cell_type": "code",
   "execution_count": null,
   "metadata": {},
   "outputs": [],
   "source": [
    "# best_params =[('bagging_temperature', 0.5003492610710367),\n",
    "#              ('border_count', 234),\n",
    "#              ('depth', 3),\n",
    "#              ('iterations', 439),\n",
    "#              ('l2_leaf_reg', 6),\n",
    "#              ('learning_rate', 0.08078499224286771),\n",
    "#              ('random_strength', 3.584928848750432e-08),\n",
    "#              ('scale_pos_weight', 0.7540370060270916)]"
   ]
  },
  {
   "cell_type": "code",
   "execution_count": null,
   "metadata": {},
   "outputs": [],
   "source": [
    "# best_params = [('bagging_temperature', 0.1464616713375613),\n",
    "#              ('border_count', 252),\n",
    "#              ('depth', 1),\n",
    "#              ('iterations', 980),\n",
    "#              ('l2_leaf_reg', 14),\n",
    "#              ('random_strength', 1.4541705032238753e-09),\n",
    "#              ('scale_pos_weight', 1.0)]"
   ]
  },
  {
   "cell_type": "code",
   "execution_count": null,
   "metadata": {},
   "outputs": [],
   "source": [
    "# Tuned Model\n",
    "cbc = CatBoostClassifier(**best_params,task_type = \"GPU\",od_type='Iter', cat_features=categorical_features_indices, loss_function='Logloss', max_ctr_complexity=2, eval_metric='BrierScore', use_best_model=True, random_seed=42)\n",
    "cbc.fit(X_train,y_train, eval_set=(X_test,y_test))"
   ]
  },
  {
   "cell_type": "code",
   "execution_count": 44,
   "metadata": {
    "tags": [
     "outputPrepend"
    ]
   },
   "outputs": [
    {
     "output_type": "stream",
     "name": "stderr",
     "text": [
      "aining: 986ms\n",
      "11980:\tlearn: 0.1402815\ttest: 0.1561159\tbest: 0.1561149 (11973)\ttotal: 9m 50s\tremaining: 937ms\n",
      "11981:\tlearn: 0.1402796\ttest: 0.1561163\tbest: 0.1561149 (11973)\ttotal: 9m 50s\tremaining: 887ms\n",
      "11982:\tlearn: 0.1402780\ttest: 0.1561158\tbest: 0.1561149 (11973)\ttotal: 9m 50s\tremaining: 838ms\n",
      "11983:\tlearn: 0.1402766\ttest: 0.1561157\tbest: 0.1561149 (11973)\ttotal: 9m 50s\tremaining: 789ms\n",
      "11984:\tlearn: 0.1402749\ttest: 0.1561166\tbest: 0.1561149 (11973)\ttotal: 9m 50s\tremaining: 739ms\n",
      "11985:\tlearn: 0.1402731\ttest: 0.1561164\tbest: 0.1561149 (11973)\ttotal: 9m 50s\tremaining: 690ms\n",
      "11986:\tlearn: 0.1402719\ttest: 0.1561163\tbest: 0.1561149 (11973)\ttotal: 9m 50s\tremaining: 641ms\n",
      "11987:\tlearn: 0.1402709\ttest: 0.1561167\tbest: 0.1561149 (11973)\ttotal: 9m 50s\tremaining: 592ms\n",
      "11988:\tlearn: 0.1402696\ttest: 0.1561152\tbest: 0.1561149 (11973)\ttotal: 9m 51s\tremaining: 542ms\n",
      "11989:\tlearn: 0.1402690\ttest: 0.1561152\tbest: 0.1561149 (11973)\ttotal: 9m 51s\tremaining: 493ms\n",
      "11990:\tlearn: 0.1402682\ttest: 0.1561144\tbest: 0.1561144 (11990)\ttotal: 9m 51s\tremaining: 444ms\n",
      "11991:\tlearn: 0.1402669\ttest: 0.1561151\tbest: 0.1561144 (11990)\ttotal: 9m 51s\tremaining: 394ms\n",
      "11992:\tlearn: 0.1402657\ttest: 0.1561149\tbest: 0.1561144 (11990)\ttotal: 9m 51s\tremaining: 345ms\n",
      "11993:\tlearn: 0.1402645\ttest: 0.1561159\tbest: 0.1561144 (11990)\ttotal: 9m 51s\tremaining: 296ms\n",
      "11994:\tlearn: 0.1402628\ttest: 0.1561152\tbest: 0.1561144 (11990)\ttotal: 9m 51s\tremaining: 246ms\n",
      "11995:\tlearn: 0.1402617\ttest: 0.1561149\tbest: 0.1561144 (11990)\ttotal: 9m 51s\tremaining: 197ms\n",
      "11996:\tlearn: 0.1402608\ttest: 0.1561152\tbest: 0.1561144 (11990)\ttotal: 9m 51s\tremaining: 148ms\n",
      "11997:\tlearn: 0.1402597\ttest: 0.1561155\tbest: 0.1561144 (11990)\ttotal: 9m 51s\tremaining: 98.6ms\n",
      "11998:\tlearn: 0.1402581\ttest: 0.1561171\tbest: 0.1561144 (11990)\ttotal: 9m 51s\tremaining: 49.3ms\n",
      "11999:\tlearn: 0.1402572\ttest: 0.1561173\tbest: 0.1561144 (11990)\ttotal: 9m 51s\tremaining: 0us\n",
      "bestTest = 0.1561144433\n",
      "bestIteration = 11990\n",
      "Shrink model to first 11991 iterations.\n"
     ]
    },
    {
     "output_type": "execute_result",
     "data": {
      "text/plain": [
       "<catboost.core.CatBoostClassifier at 0x18ef37c7710>"
      ]
     },
     "metadata": {},
     "execution_count": 44
    }
   ],
   "source": [
    "cbc = CatBoostClassifier(iterations=12000, learning_rate=0.03, loss_function='Logloss', eval_metric='BrierScore', boosting_type='Plain', use_best_model=True, task_type='GPU', early_stopping_rounds=2000,  random_seed=42, max_ctr_complexity=1)\n",
    "cbc.fit(X_train,y_train,cat_features=categorical_features_indices,eval_set=(X_test,y_test))"
   ]
  },
  {
   "cell_type": "code",
   "execution_count": null,
   "metadata": {},
   "outputs": [],
   "source": [
    "#stratified split: 0.1832993075"
   ]
  },
  {
   "cell_type": "code",
   "execution_count": null,
   "metadata": {},
   "outputs": [],
   "source": [
    "# cbc.save_model('OptimizeBrierMaxCat01821125476')"
   ]
  },
  {
   "cell_type": "code",
   "execution_count": null,
   "metadata": {},
   "outputs": [],
   "source": [
    "cbc = CatBoostClassifier()\n",
    "cbc.load_model('OptimizeLoglossMin')"
   ]
  },
  {
   "cell_type": "code",
   "execution_count": null,
   "metadata": {},
   "outputs": [],
   "source": [
    "y_prob = cbc.predict_proba(X_test)"
   ]
  },
  {
   "cell_type": "code",
   "execution_count": null,
   "metadata": {},
   "outputs": [],
   "source": [
    "y_pred = cbc.predict(X_test)"
   ]
  },
  {
   "cell_type": "code",
   "execution_count": null,
   "metadata": {},
   "outputs": [],
   "source": [
    "y_pred"
   ]
  },
  {
   "cell_type": "code",
   "execution_count": 45,
   "metadata": {},
   "outputs": [
    {
     "output_type": "stream",
     "name": "stdout",
     "text": [
      "Model accuracy score with 100 decision-trees : 0.7900\n",
      "Model accuracy score with 100 decision-trees : 0.7495\n"
     ]
    }
   ],
   "source": [
    "y_pred1 = cbc.predict(X_train)\n",
    "print('Model accuracy score with 100 decision-trees : {0:0.4f}'. format(accuracy_score(y_train, y_pred1)))\n",
    "y_pred2 = cbc.predict(X_test)\n",
    "print('Model accuracy score with 100 decision-trees : {0:0.4f}'. format(accuracy_score(y_test, y_pred2)))"
   ]
  },
  {
   "cell_type": "code",
   "execution_count": 46,
   "metadata": {},
   "outputs": [
    {
     "output_type": "stream",
     "name": "stdout",
     "text": [
      "Model accuracy score with 100 decision-trees : 0.7349\n"
     ]
    }
   ],
   "source": [
    "# y_pred1 = cbc.predict(X_train)\n",
    "# print('Model accuracy score with 100 decision-trees : {0:0.4f}'. format(accuracy_score(y_train, y_pred1)))\n",
    "y_pred2 = cbc.predict(X_test1)\n",
    "print('Model accuracy score with 100 decision-trees : {0:0.4f}'. format(accuracy_score(y_test1, y_pred2)))"
   ]
  },
  {
   "cell_type": "code",
   "execution_count": null,
   "metadata": {},
   "outputs": [],
   "source": [
    "import matplotlib.pyplot as plt\n",
    "import numpy as np\n",
    "%matplotlib inline"
   ]
  },
  {
   "cell_type": "code",
   "execution_count": null,
   "metadata": {},
   "outputs": [],
   "source": [
    "data1 = y_prob[y_test==0][:,1]\n",
    "bins = np.linspace(0, 1, 50)\n",
    "digitized1 = np.digitize(data1, bins)\n",
    "counts1 = np.bincount(digitized1)"
   ]
  },
  {
   "cell_type": "code",
   "execution_count": null,
   "metadata": {},
   "outputs": [],
   "source": [
    "data2 = y_prob[y_test==1][:,1]\n",
    "digitized2 = np.digitize(data2, bins)\n",
    "counts2 = np.bincount(digitized2)"
   ]
  },
  {
   "cell_type": "code",
   "execution_count": null,
   "metadata": {},
   "outputs": [],
   "source": [
    "counts1"
   ]
  },
  {
   "cell_type": "code",
   "execution_count": null,
   "metadata": {},
   "outputs": [],
   "source": [
    "counts2"
   ]
  },
  {
   "cell_type": "code",
   "execution_count": null,
   "metadata": {},
   "outputs": [],
   "source": [
    "np.linspace(0, 1, 50)"
   ]
  },
  {
   "cell_type": "code",
   "execution_count": null,
   "metadata": {},
   "outputs": [],
   "source": [
    "total = counts1 + counts2"
   ]
  },
  {
   "cell_type": "code",
   "execution_count": null,
   "metadata": {},
   "outputs": [],
   "source": [
    "prob_dist1 = counts1/total\n",
    "prob_dist2 = counts2/total"
   ]
  },
  {
   "cell_type": "code",
   "execution_count": null,
   "metadata": {},
   "outputs": [],
   "source": [
    "plt.figure(figsize=(15,7))\n",
    "plt.bar(bins, counts1, width=0.022, bottom=None, align='center', color='r', alpha=0.7)\n",
    "plt.xlabel('Predicted Probability of Blue Team Losing', fontsize=24)\n",
    "plt.ylabel('Count of Losses', fontsize=24)\n",
    "plt.xticks(np.linspace(0,1,11))\n",
    "# for p in ax.patches:\n",
    "#     ax.annotate(str(p.get_height()), (p.get_x() * 1.005, p.get_height() * 1.005))\n",
    "for i, v in enumerate(counts1):\n",
    "    plt.text(bins[i] - 0.02, v + 1000, str(v))\n",
    "plt.show()"
   ]
  },
  {
   "cell_type": "code",
   "execution_count": null,
   "metadata": {},
   "outputs": [],
   "source": [
    "plt.figure(figsize=(15,7))\n",
    "plt.bar(bins, counts2, width=0.022, bottom=None, align='center', color='b', alpha=0.7)\n",
    "plt.xlabel('Predicted Probability of Blue Team Winning', fontsize=24)\n",
    "plt.ylabel('Actual Percentage of Winning', fontsize=24)\n",
    "plt.xticks(np.linspace(0,1,11))\n",
    "plt.show()"
   ]
  },
  {
   "cell_type": "code",
   "execution_count": null,
   "metadata": {},
   "outputs": [],
   "source": [
    "plt.figure(figsize=(15,7))\n",
    "plt.bar(bins, prob_dist1, width=0.022, bottom=None, align='center', color='r', alpha=0.7)\n",
    "plt.xlabel('Predicted Probability of Blue Team Losing', fontsize=24)\n",
    "plt.ylabel('Actual Percentage of Losing', fontsize=24)\n",
    "plt.xticks(np.linspace(0,1,11))\n",
    "plt.yticks(np.linspace(0,1,11))\n",
    "for i, v in enumerate(prob_dist1):\n",
    "    plt.text(bins[i] - 0.02, v+0.02, str(f'{v:0.2f}'))\n",
    "plt.show()"
   ]
  },
  {
   "cell_type": "code",
   "execution_count": null,
   "metadata": {},
   "outputs": [],
   "source": [
    "plt.figure(figsize=(15,7))\n",
    "plt.bar(bins, prob_dist2, width=0.022, bottom=None, align='center', color='b', alpha=0.7)\n",
    "plt.xlabel('Predicted Probability of Blue Team Winning', fontsize=24)\n",
    "plt.ylabel('Actual Percentage of Winning', fontsize=24)\n",
    "plt.xticks(np.linspace(0,1,11))\n",
    "plt.yticks(np.linspace(0,1,11))\n",
    "plt.show()"
   ]
  },
  {
   "cell_type": "code",
   "execution_count": null,
   "metadata": {},
   "outputs": [],
   "source": [
    "plt.figure(figsize=(15,7))\n",
    "plt.hist(y_prob[y_test==0][:,1], bins=50, label='Actual Loss', alpha=0.7, color='r')\n",
    "plt.hist(y_prob[y_test==1][:,1], bins=50, label='Actual Win', alpha=0.7, color='b')\n",
    "plt.xlabel('Predicted Probability of Blue Team Winning', fontsize=24)\n",
    "plt.ylabel('Number of records in each bucket', fontsize=24)\n",
    "plt.legend(fontsize=16)\n",
    "plt.tick_params(axis='both', labelsize=18, pad=5)\n",
    "plt.show()"
   ]
  },
  {
   "cell_type": "code",
   "execution_count": null,
   "metadata": {},
   "outputs": [],
   "source": [
    "plt.figure(figsize=(15,7))\n",
    "plt.hist(y_prob[:,1], bins=50, label='Blue Win', alpha=0.7, color='b')\n",
    "plt.xlabel('Predicted Probability of Blue Team Winning', fontsize=24)\n",
    "plt.ylabel('Number of records in each bucket', fontsize=24)\n",
    "plt.legend(fontsize=16)\n",
    "plt.tick_params(axis='both', labelsize=18, pad=5)\n",
    "plt.show() "
   ]
  },
  {
   "cell_type": "code",
   "execution_count": null,
   "metadata": {},
   "outputs": [],
   "source": [
    "plt.figure(figsize=(15,7))\n",
    "plt.hist(y_prob[:,0], bins=50, label='Red Win', alpha=0.7, color='r')\n",
    "plt.xlabel('Probability of Red Team Winning', fontsize=24)\n",
    "plt.ylabel('Number of records in each bucket', fontsize=24)\n",
    "plt.legend(fontsize=16)\n",
    "plt.tick_params(axis='both', labelsize=18, pad=5)\n",
    "plt.show() "
   ]
  },
  {
   "cell_type": "code",
   "execution_count": null,
   "metadata": {},
   "outputs": [],
   "source": [
    "feature_score = pd.DataFrame(list(zip(X.dtypes.index, cbc.get_feature_importance(Pool(X, label=y, cat_features=categorical_features_indices)))),\n",
    "                columns=['Feature','Score'])\n",
    "feature_score = feature_score.sort_values(by='Score', ascending=False, inplace=False, kind='quicksort', na_position='last')"
   ]
  },
  {
   "cell_type": "code",
   "execution_count": null,
   "metadata": {},
   "outputs": [],
   "source": [
    "feature_score.head(60)"
   ]
  },
  {
   "cell_type": "code",
   "execution_count": null,
   "metadata": {},
   "outputs": [],
   "source": [
    "feature_score.tail(50)"
   ]
  },
  {
   "cell_type": "code",
   "execution_count": null,
   "metadata": {},
   "outputs": [],
   "source": [
    "plt.rcParams[\"figure.figsize\"] = (20,20)\n",
    "ax = feature_score.head(50).plot('Feature', 'Score', kind='bar', color='b')\n",
    "ax.set_title(\"Catboost Feature Importance Ranking\", fontsize = 14)\n",
    "ax.set_xlabel('')\n",
    "\n",
    "rects = ax.patches\n",
    "\n",
    "labels = feature_score['Score'].round(2)\n",
    "\n",
    "for rect, label in zip(rects, labels):\n",
    "    height = rect.get_height()\n",
    "    ax.text(rect.get_x() + rect.get_width()/2, height + 0.35, label, ha='center', va='bottom')\n",
    "\n",
    "plt.show()"
   ]
  },
  {
   "cell_type": "code",
   "execution_count": null,
   "metadata": {},
   "outputs": [],
   "source": []
  }
 ]
}